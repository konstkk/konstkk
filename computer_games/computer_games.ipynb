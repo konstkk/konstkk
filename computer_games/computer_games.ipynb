{
 "cells": [
  {
   "cell_type": "markdown",
   "metadata": {},
   "source": [
    "# Исследование успешности видеоигр"
   ]
  },
  {
   "cell_type": "markdown",
   "metadata": {},
   "source": [
    "## План проекта\n",
    "\n",
    "1. Изучение данных\n",
    "2. Предобработка данных\n",
    "3. Исследовательский анализ данных\n",
    "4. Портрет пользователя каждого региона\n",
    "5. Проверка гипотез\n",
    "6. Общий вывод"
   ]
  },
  {
   "cell_type": "markdown",
   "metadata": {},
   "source": [
    "Описание проекта\n",
    "Для интернет-магазина «Стримчик», который продаёт по всему миру компьютерные игры нужно выявить определяющие успешность игры закономерности. На основе полученных данных будет определен потенциально популярный продукт и спланирована рекламная кампания."
   ]
  },
  {
   "cell_type": "markdown",
   "metadata": {},
   "source": [
    "## 1. Изучение данных"
   ]
  },
  {
   "cell_type": "code",
   "execution_count": 1,
   "metadata": {},
   "outputs": [
    {
     "name": "stdout",
     "output_type": "stream",
     "text": [
      "<class 'pandas.core.frame.DataFrame'>\n",
      "RangeIndex: 16715 entries, 0 to 16714\n",
      "Data columns (total 11 columns):\n",
      "Name               16713 non-null object\n",
      "Platform           16715 non-null object\n",
      "Year_of_Release    16446 non-null float64\n",
      "Genre              16713 non-null object\n",
      "NA_sales           16715 non-null float64\n",
      "EU_sales           16715 non-null float64\n",
      "JP_sales           16715 non-null float64\n",
      "Other_sales        16715 non-null float64\n",
      "Critic_Score       8137 non-null float64\n",
      "User_Score         10014 non-null object\n",
      "Rating             9949 non-null object\n",
      "dtypes: float64(6), object(5)\n",
      "memory usage: 1.4+ MB\n"
     ]
    },
    {
     "data": {
      "text/html": [
       "<div>\n",
       "<style scoped>\n",
       "    .dataframe tbody tr th:only-of-type {\n",
       "        vertical-align: middle;\n",
       "    }\n",
       "\n",
       "    .dataframe tbody tr th {\n",
       "        vertical-align: top;\n",
       "    }\n",
       "\n",
       "    .dataframe thead th {\n",
       "        text-align: right;\n",
       "    }\n",
       "</style>\n",
       "<table border=\"1\" class=\"dataframe\">\n",
       "  <thead>\n",
       "    <tr style=\"text-align: right;\">\n",
       "      <th></th>\n",
       "      <th>Name</th>\n",
       "      <th>Platform</th>\n",
       "      <th>Year_of_Release</th>\n",
       "      <th>Genre</th>\n",
       "      <th>NA_sales</th>\n",
       "      <th>EU_sales</th>\n",
       "      <th>JP_sales</th>\n",
       "      <th>Other_sales</th>\n",
       "      <th>Critic_Score</th>\n",
       "      <th>User_Score</th>\n",
       "      <th>Rating</th>\n",
       "    </tr>\n",
       "  </thead>\n",
       "  <tbody>\n",
       "    <tr>\n",
       "      <td>0</td>\n",
       "      <td>Wii Sports</td>\n",
       "      <td>Wii</td>\n",
       "      <td>2006.0</td>\n",
       "      <td>Sports</td>\n",
       "      <td>41.36</td>\n",
       "      <td>28.96</td>\n",
       "      <td>3.77</td>\n",
       "      <td>8.45</td>\n",
       "      <td>76.0</td>\n",
       "      <td>8</td>\n",
       "      <td>E</td>\n",
       "    </tr>\n",
       "    <tr>\n",
       "      <td>1</td>\n",
       "      <td>Super Mario Bros.</td>\n",
       "      <td>NES</td>\n",
       "      <td>1985.0</td>\n",
       "      <td>Platform</td>\n",
       "      <td>29.08</td>\n",
       "      <td>3.58</td>\n",
       "      <td>6.81</td>\n",
       "      <td>0.77</td>\n",
       "      <td>NaN</td>\n",
       "      <td>NaN</td>\n",
       "      <td>NaN</td>\n",
       "    </tr>\n",
       "    <tr>\n",
       "      <td>2</td>\n",
       "      <td>Mario Kart Wii</td>\n",
       "      <td>Wii</td>\n",
       "      <td>2008.0</td>\n",
       "      <td>Racing</td>\n",
       "      <td>15.68</td>\n",
       "      <td>12.76</td>\n",
       "      <td>3.79</td>\n",
       "      <td>3.29</td>\n",
       "      <td>82.0</td>\n",
       "      <td>8.3</td>\n",
       "      <td>E</td>\n",
       "    </tr>\n",
       "    <tr>\n",
       "      <td>3</td>\n",
       "      <td>Wii Sports Resort</td>\n",
       "      <td>Wii</td>\n",
       "      <td>2009.0</td>\n",
       "      <td>Sports</td>\n",
       "      <td>15.61</td>\n",
       "      <td>10.93</td>\n",
       "      <td>3.28</td>\n",
       "      <td>2.95</td>\n",
       "      <td>80.0</td>\n",
       "      <td>8</td>\n",
       "      <td>E</td>\n",
       "    </tr>\n",
       "    <tr>\n",
       "      <td>4</td>\n",
       "      <td>Pokemon Red/Pokemon Blue</td>\n",
       "      <td>GB</td>\n",
       "      <td>1996.0</td>\n",
       "      <td>Role-Playing</td>\n",
       "      <td>11.27</td>\n",
       "      <td>8.89</td>\n",
       "      <td>10.22</td>\n",
       "      <td>1.00</td>\n",
       "      <td>NaN</td>\n",
       "      <td>NaN</td>\n",
       "      <td>NaN</td>\n",
       "    </tr>\n",
       "  </tbody>\n",
       "</table>\n",
       "</div>"
      ],
      "text/plain": [
       "                       Name Platform  Year_of_Release         Genre  NA_sales  \\\n",
       "0                Wii Sports      Wii           2006.0        Sports     41.36   \n",
       "1         Super Mario Bros.      NES           1985.0      Platform     29.08   \n",
       "2            Mario Kart Wii      Wii           2008.0        Racing     15.68   \n",
       "3         Wii Sports Resort      Wii           2009.0        Sports     15.61   \n",
       "4  Pokemon Red/Pokemon Blue       GB           1996.0  Role-Playing     11.27   \n",
       "\n",
       "   EU_sales  JP_sales  Other_sales  Critic_Score User_Score Rating  \n",
       "0     28.96      3.77         8.45          76.0          8      E  \n",
       "1      3.58      6.81         0.77           NaN        NaN    NaN  \n",
       "2     12.76      3.79         3.29          82.0        8.3      E  \n",
       "3     10.93      3.28         2.95          80.0          8      E  \n",
       "4      8.89     10.22         1.00           NaN        NaN    NaN  "
      ]
     },
     "execution_count": 1,
     "metadata": {},
     "output_type": "execute_result"
    }
   ],
   "source": [
    "import pandas as pd\n",
    "import numpy as np\n",
    "import matplotlib.pyplot as plt\n",
    "games = pd.read_csv('/datasets/games.csv') \n",
    "games.info()\n",
    "games.head()"
   ]
  },
  {
   "cell_type": "markdown",
   "metadata": {},
   "source": [
    "Вывод\n",
    "\n",
    "Выведена информация о данных. Выведены первые 5 значений переменных. В данных есть пропуски, об этом свидетельствует количество значений в переменных Name, Year_of_Release, Genre, Critic_Score, User_Score, Rating. Несколько переменных нуждаются в изменении типа: Year_of_Release и Critic_Score с float64 на integer, т.к. в обоих случаях значения переменных - целые числа (годы, которые не могут быть дробными, и целые баллы) ; User_Score с object на float, т.к. оценка пользователей - это рейтинг, измеряемый от 0 до 10.\n"
   ]
  },
  {
   "cell_type": "markdown",
   "metadata": {},
   "source": [
    "## 2. Предобработка данных"
   ]
  },
  {
   "cell_type": "code",
   "execution_count": 2,
   "metadata": {},
   "outputs": [
    {
     "data": {
      "text/html": [
       "<div>\n",
       "<style scoped>\n",
       "    .dataframe tbody tr th:only-of-type {\n",
       "        vertical-align: middle;\n",
       "    }\n",
       "\n",
       "    .dataframe tbody tr th {\n",
       "        vertical-align: top;\n",
       "    }\n",
       "\n",
       "    .dataframe thead th {\n",
       "        text-align: right;\n",
       "    }\n",
       "</style>\n",
       "<table border=\"1\" class=\"dataframe\">\n",
       "  <thead>\n",
       "    <tr style=\"text-align: right;\">\n",
       "      <th></th>\n",
       "      <th>name</th>\n",
       "      <th>platform</th>\n",
       "      <th>year_of_release</th>\n",
       "      <th>genre</th>\n",
       "      <th>na_sales</th>\n",
       "      <th>eu_sales</th>\n",
       "      <th>jp_sales</th>\n",
       "      <th>other_sales</th>\n",
       "      <th>critic_score</th>\n",
       "      <th>user_score</th>\n",
       "      <th>rating</th>\n",
       "    </tr>\n",
       "  </thead>\n",
       "  <tbody>\n",
       "    <tr>\n",
       "      <td>0</td>\n",
       "      <td>Wii Sports</td>\n",
       "      <td>Wii</td>\n",
       "      <td>2006.0</td>\n",
       "      <td>Sports</td>\n",
       "      <td>41.36</td>\n",
       "      <td>28.96</td>\n",
       "      <td>3.77</td>\n",
       "      <td>8.45</td>\n",
       "      <td>76.0</td>\n",
       "      <td>8</td>\n",
       "      <td>E</td>\n",
       "    </tr>\n",
       "    <tr>\n",
       "      <td>1</td>\n",
       "      <td>Super Mario Bros.</td>\n",
       "      <td>NES</td>\n",
       "      <td>1985.0</td>\n",
       "      <td>Platform</td>\n",
       "      <td>29.08</td>\n",
       "      <td>3.58</td>\n",
       "      <td>6.81</td>\n",
       "      <td>0.77</td>\n",
       "      <td>NaN</td>\n",
       "      <td>NaN</td>\n",
       "      <td>NaN</td>\n",
       "    </tr>\n",
       "    <tr>\n",
       "      <td>2</td>\n",
       "      <td>Mario Kart Wii</td>\n",
       "      <td>Wii</td>\n",
       "      <td>2008.0</td>\n",
       "      <td>Racing</td>\n",
       "      <td>15.68</td>\n",
       "      <td>12.76</td>\n",
       "      <td>3.79</td>\n",
       "      <td>3.29</td>\n",
       "      <td>82.0</td>\n",
       "      <td>8.3</td>\n",
       "      <td>E</td>\n",
       "    </tr>\n",
       "    <tr>\n",
       "      <td>3</td>\n",
       "      <td>Wii Sports Resort</td>\n",
       "      <td>Wii</td>\n",
       "      <td>2009.0</td>\n",
       "      <td>Sports</td>\n",
       "      <td>15.61</td>\n",
       "      <td>10.93</td>\n",
       "      <td>3.28</td>\n",
       "      <td>2.95</td>\n",
       "      <td>80.0</td>\n",
       "      <td>8</td>\n",
       "      <td>E</td>\n",
       "    </tr>\n",
       "    <tr>\n",
       "      <td>4</td>\n",
       "      <td>Pokemon Red/Pokemon Blue</td>\n",
       "      <td>GB</td>\n",
       "      <td>1996.0</td>\n",
       "      <td>Role-Playing</td>\n",
       "      <td>11.27</td>\n",
       "      <td>8.89</td>\n",
       "      <td>10.22</td>\n",
       "      <td>1.00</td>\n",
       "      <td>NaN</td>\n",
       "      <td>NaN</td>\n",
       "      <td>NaN</td>\n",
       "    </tr>\n",
       "  </tbody>\n",
       "</table>\n",
       "</div>"
      ],
      "text/plain": [
       "                       name platform  year_of_release         genre  na_sales  \\\n",
       "0                Wii Sports      Wii           2006.0        Sports     41.36   \n",
       "1         Super Mario Bros.      NES           1985.0      Platform     29.08   \n",
       "2            Mario Kart Wii      Wii           2008.0        Racing     15.68   \n",
       "3         Wii Sports Resort      Wii           2009.0        Sports     15.61   \n",
       "4  Pokemon Red/Pokemon Blue       GB           1996.0  Role-Playing     11.27   \n",
       "\n",
       "   eu_sales  jp_sales  other_sales  critic_score user_score rating  \n",
       "0     28.96      3.77         8.45          76.0          8      E  \n",
       "1      3.58      6.81         0.77           NaN        NaN    NaN  \n",
       "2     12.76      3.79         3.29          82.0        8.3      E  \n",
       "3     10.93      3.28         2.95          80.0          8      E  \n",
       "4      8.89     10.22         1.00           NaN        NaN    NaN  "
      ]
     },
     "execution_count": 2,
     "metadata": {},
     "output_type": "execute_result"
    }
   ],
   "source": [
    "games = games.rename({'Name': 'name', 'Platform': 'platform', 'Year_of_Release': 'year_of_release', 'Genre': 'genre', \n",
    "                         'NA_sales': 'na_sales', 'EU_sales': 'eu_sales', 'JP_sales': 'jp_sales', 'Other_sales': 'other_sales',\n",
    "                         'Critic_Score': 'critic_score', 'User_Score': 'user_score', 'Rating': 'rating'}, axis = 1)\n",
    "#games.columns = ['name', 'platform', 'year_of_release', 'genre', 'na_sales', 'eu_sales', 'jp_sales', 'other_sales', 'critic_score', 'user_score', 'rating']\n",
    "games.head()"
   ]
  },
  {
   "cell_type": "markdown",
   "metadata": {},
   "source": [
    "Приводим все буквы названий столбцов к строчным. Проверяем."
   ]
  },
  {
   "cell_type": "code",
   "execution_count": 3,
   "metadata": {},
   "outputs": [
    {
     "name": "stdout",
     "output_type": "stream",
     "text": [
      "0\n"
     ]
    }
   ],
   "source": [
    "print(games.duplicated().sum())# проверка на дубли"
   ]
  },
  {
   "cell_type": "markdown",
   "metadata": {},
   "source": [
    "Проверяем таблицу на дубли, дублей нет."
   ]
  },
  {
   "cell_type": "code",
   "execution_count": 4,
   "metadata": {},
   "outputs": [
    {
     "data": {
      "text/html": [
       "<div>\n",
       "<style scoped>\n",
       "    .dataframe tbody tr th:only-of-type {\n",
       "        vertical-align: middle;\n",
       "    }\n",
       "\n",
       "    .dataframe tbody tr th {\n",
       "        vertical-align: top;\n",
       "    }\n",
       "\n",
       "    .dataframe thead th {\n",
       "        text-align: right;\n",
       "    }\n",
       "</style>\n",
       "<table border=\"1\" class=\"dataframe\">\n",
       "  <thead>\n",
       "    <tr style=\"text-align: right;\">\n",
       "      <th></th>\n",
       "      <th>name</th>\n",
       "      <th>platform</th>\n",
       "      <th>year_of_release</th>\n",
       "      <th>genre</th>\n",
       "      <th>na_sales</th>\n",
       "      <th>eu_sales</th>\n",
       "      <th>jp_sales</th>\n",
       "      <th>other_sales</th>\n",
       "      <th>critic_score</th>\n",
       "      <th>user_score</th>\n",
       "      <th>rating</th>\n",
       "    </tr>\n",
       "  </thead>\n",
       "  <tbody>\n",
       "    <tr>\n",
       "      <td>659</td>\n",
       "      <td>NaN</td>\n",
       "      <td>GEN</td>\n",
       "      <td>1993.0</td>\n",
       "      <td>NaN</td>\n",
       "      <td>1.78</td>\n",
       "      <td>0.53</td>\n",
       "      <td>0.00</td>\n",
       "      <td>0.08</td>\n",
       "      <td>NaN</td>\n",
       "      <td>NaN</td>\n",
       "      <td>NaN</td>\n",
       "    </tr>\n",
       "    <tr>\n",
       "      <td>14244</td>\n",
       "      <td>NaN</td>\n",
       "      <td>GEN</td>\n",
       "      <td>1993.0</td>\n",
       "      <td>NaN</td>\n",
       "      <td>0.00</td>\n",
       "      <td>0.00</td>\n",
       "      <td>0.03</td>\n",
       "      <td>0.00</td>\n",
       "      <td>NaN</td>\n",
       "      <td>NaN</td>\n",
       "      <td>NaN</td>\n",
       "    </tr>\n",
       "  </tbody>\n",
       "</table>\n",
       "</div>"
      ],
      "text/plain": [
       "      name platform  year_of_release genre  na_sales  eu_sales  jp_sales  \\\n",
       "659    NaN      GEN           1993.0   NaN      1.78      0.53      0.00   \n",
       "14244  NaN      GEN           1993.0   NaN      0.00      0.00      0.03   \n",
       "\n",
       "       other_sales  critic_score user_score rating  \n",
       "659           0.08           NaN        NaN    NaN  \n",
       "14244         0.00           NaN        NaN    NaN  "
      ]
     },
     "execution_count": 4,
     "metadata": {},
     "output_type": "execute_result"
    }
   ],
   "source": [
    "empty_names = games.drop(list(games['name'].dropna().index))\n",
    "empty_names"
   ]
  },
  {
   "cell_type": "code",
   "execution_count": 5,
   "metadata": {},
   "outputs": [
    {
     "name": "stdout",
     "output_type": "stream",
     "text": [
      "<class 'pandas.core.frame.DataFrame'>\n",
      "Int64Index: 16713 entries, 0 to 16714\n",
      "Data columns (total 11 columns):\n",
      "name               16713 non-null object\n",
      "platform           16713 non-null object\n",
      "year_of_release    16444 non-null float64\n",
      "genre              16713 non-null object\n",
      "na_sales           16713 non-null float64\n",
      "eu_sales           16713 non-null float64\n",
      "jp_sales           16713 non-null float64\n",
      "other_sales        16713 non-null float64\n",
      "critic_score       8137 non-null float64\n",
      "user_score         10014 non-null object\n",
      "rating             9949 non-null object\n",
      "dtypes: float64(6), object(5)\n",
      "memory usage: 1.5+ MB\n"
     ]
    }
   ],
   "source": [
    "games = games.dropna(subset = ['name'])# удаление строк с пропусками в переменной name\n",
    "games.info()"
   ]
  },
  {
   "cell_type": "markdown",
   "metadata": {},
   "source": [
    "В переменной name есть пропущенные значения (2 шт.). Это игры платформы GEN, 1993 г. выхода. Т.к. имена игр нам восстановить не удастся, а также исходя из того, что игры старые, удаляем соответствующие строки из базы. Возможно, это были тестовые строки при заполнении информации об играх. Проверяем удаление."
   ]
  },
  {
   "cell_type": "code",
   "execution_count": 6,
   "metadata": {},
   "outputs": [
    {
     "data": {
      "text/html": [
       "<div>\n",
       "<style scoped>\n",
       "    .dataframe tbody tr th:only-of-type {\n",
       "        vertical-align: middle;\n",
       "    }\n",
       "\n",
       "    .dataframe tbody tr th {\n",
       "        vertical-align: top;\n",
       "    }\n",
       "\n",
       "    .dataframe thead th {\n",
       "        text-align: right;\n",
       "    }\n",
       "</style>\n",
       "<table border=\"1\" class=\"dataframe\">\n",
       "  <thead>\n",
       "    <tr style=\"text-align: right;\">\n",
       "      <th></th>\n",
       "      <th>name</th>\n",
       "      <th>platform</th>\n",
       "      <th>year_of_release</th>\n",
       "      <th>genre</th>\n",
       "      <th>na_sales</th>\n",
       "      <th>eu_sales</th>\n",
       "      <th>jp_sales</th>\n",
       "      <th>other_sales</th>\n",
       "      <th>critic_score</th>\n",
       "      <th>user_score</th>\n",
       "      <th>rating</th>\n",
       "    </tr>\n",
       "  </thead>\n",
       "  <tbody>\n",
       "    <tr>\n",
       "      <td>14126</td>\n",
       "      <td>Housekeeping</td>\n",
       "      <td>DS</td>\n",
       "      <td>NaN</td>\n",
       "      <td>Action</td>\n",
       "      <td>0.00</td>\n",
       "      <td>0.00</td>\n",
       "      <td>0.04</td>\n",
       "      <td>0.00</td>\n",
       "      <td>NaN</td>\n",
       "      <td>NaN</td>\n",
       "      <td>NaN</td>\n",
       "    </tr>\n",
       "    <tr>\n",
       "      <td>4127</td>\n",
       "      <td>Sonic the Hedgehog</td>\n",
       "      <td>PS3</td>\n",
       "      <td>NaN</td>\n",
       "      <td>Platform</td>\n",
       "      <td>0.00</td>\n",
       "      <td>0.48</td>\n",
       "      <td>0.00</td>\n",
       "      <td>0.00</td>\n",
       "      <td>43.0</td>\n",
       "      <td>4.1</td>\n",
       "      <td>E10+</td>\n",
       "    </tr>\n",
       "    <tr>\n",
       "      <td>16157</td>\n",
       "      <td>Aquaman: Battle for Atlantis</td>\n",
       "      <td>XB</td>\n",
       "      <td>NaN</td>\n",
       "      <td>Action</td>\n",
       "      <td>0.01</td>\n",
       "      <td>0.00</td>\n",
       "      <td>0.00</td>\n",
       "      <td>0.00</td>\n",
       "      <td>26.0</td>\n",
       "      <td>2.7</td>\n",
       "      <td>T</td>\n",
       "    </tr>\n",
       "    <tr>\n",
       "      <td>7387</td>\n",
       "      <td>Move Fitness</td>\n",
       "      <td>PS3</td>\n",
       "      <td>NaN</td>\n",
       "      <td>Sports</td>\n",
       "      <td>0.00</td>\n",
       "      <td>0.16</td>\n",
       "      <td>0.00</td>\n",
       "      <td>0.05</td>\n",
       "      <td>NaN</td>\n",
       "      <td>NaN</td>\n",
       "      <td>NaN</td>\n",
       "    </tr>\n",
       "    <tr>\n",
       "      <td>6773</td>\n",
       "      <td>Mega Man X Collection</td>\n",
       "      <td>PS2</td>\n",
       "      <td>NaN</td>\n",
       "      <td>Misc</td>\n",
       "      <td>0.12</td>\n",
       "      <td>0.09</td>\n",
       "      <td>0.00</td>\n",
       "      <td>0.03</td>\n",
       "      <td>73.0</td>\n",
       "      <td>8.8</td>\n",
       "      <td>E</td>\n",
       "    </tr>\n",
       "  </tbody>\n",
       "</table>\n",
       "</div>"
      ],
      "text/plain": [
       "                               name platform  year_of_release     genre  \\\n",
       "14126                  Housekeeping       DS              NaN    Action   \n",
       "4127             Sonic the Hedgehog      PS3              NaN  Platform   \n",
       "16157  Aquaman: Battle for Atlantis       XB              NaN    Action   \n",
       "7387                   Move Fitness      PS3              NaN    Sports   \n",
       "6773          Mega Man X Collection      PS2              NaN      Misc   \n",
       "\n",
       "       na_sales  eu_sales  jp_sales  other_sales  critic_score user_score  \\\n",
       "14126      0.00      0.00      0.04         0.00           NaN        NaN   \n",
       "4127       0.00      0.48      0.00         0.00          43.0        4.1   \n",
       "16157      0.01      0.00      0.00         0.00          26.0        2.7   \n",
       "7387       0.00      0.16      0.00         0.05           NaN        NaN   \n",
       "6773       0.12      0.09      0.00         0.03          73.0        8.8   \n",
       "\n",
       "      rating  \n",
       "14126    NaN  \n",
       "4127    E10+  \n",
       "16157      T  \n",
       "7387     NaN  \n",
       "6773       E  "
      ]
     },
     "execution_count": 6,
     "metadata": {},
     "output_type": "execute_result"
    }
   ],
   "source": [
    "empty_years = games.drop(list(games['year_of_release'].dropna().index))\n",
    "empty_years.sample(5)"
   ]
  },
  {
   "cell_type": "code",
   "execution_count": 7,
   "metadata": {},
   "outputs": [
    {
     "name": "stderr",
     "output_type": "stream",
     "text": [
      "/opt/conda/lib/python3.7/site-packages/numpy/lib/nanfunctions.py:1111: RuntimeWarning: Mean of empty slice\n",
      "  return np.nanmean(a, axis, out=out, keepdims=keepdims)\n"
     ]
    },
    {
     "name": "stdout",
     "output_type": "stream",
     "text": [
      "<class 'pandas.core.frame.DataFrame'>\n",
      "Int64Index: 16713 entries, 0 to 16714\n",
      "Data columns (total 11 columns):\n",
      "name               16713 non-null object\n",
      "platform           16713 non-null object\n",
      "year_of_release    16567 non-null float64\n",
      "genre              16713 non-null object\n",
      "na_sales           16713 non-null float64\n",
      "eu_sales           16713 non-null float64\n",
      "jp_sales           16713 non-null float64\n",
      "other_sales        16713 non-null float64\n",
      "critic_score       8137 non-null float64\n",
      "user_score         10014 non-null object\n",
      "rating             9949 non-null object\n",
      "dtypes: float64(6), object(5)\n",
      "memory usage: 2.2+ MB\n"
     ]
    }
   ],
   "source": [
    "games['year_of_release'] = games.groupby('name')['year_of_release'].apply(lambda x: x.fillna(x.median()))\n",
    "#games = games.dropna(subset = ['year_of_release'])# удаление строк с пропусками в переменной year_of_release\n",
    "games.info()"
   ]
  },
  {
   "cell_type": "code",
   "execution_count": 8,
   "metadata": {},
   "outputs": [
    {
     "name": "stdout",
     "output_type": "stream",
     "text": [
      "                name platform  year_of_release    genre  na_sales  eu_sales  \\\n",
      "557   Call of Duty 3     X360           2006.0  Shooter      1.49      0.92   \n",
      "719   Call of Duty 3      Wii           2006.0  Shooter      1.17      0.84   \n",
      "1255  Call of Duty 3      PS3           2006.0  Shooter      0.60      0.62   \n",
      "1915  Call of Duty 3      PS2           2006.0  Shooter      0.89      0.03   \n",
      "\n",
      "      jp_sales  other_sales  critic_score user_score rating  \n",
      "557       0.02         0.27          82.0        6.5      T  \n",
      "719       0.00         0.23          69.0        6.7      T  \n",
      "1255      0.03         0.26          80.0        6.9      T  \n",
      "1915      0.00         0.15          82.0        7.4      T  \n"
     ]
    }
   ],
   "source": [
    "print(games.loc[games['name']=='Call of Duty 3'])"
   ]
  },
  {
   "cell_type": "markdown",
   "metadata": {},
   "source": [
    "В переменной year_of_release есть пропущенные значения (269 шт.). Попытаемся найти аналогичные игры на других платформах и заполнить пропущенные значения годами выхода указанных игр. Проверяем, осталось 146 незаполненных значений."
   ]
  },
  {
   "cell_type": "code",
   "execution_count": 9,
   "metadata": {},
   "outputs": [
    {
     "name": "stdout",
     "output_type": "stream",
     "text": [
      "<class 'pandas.core.frame.DataFrame'>\n",
      "Int64Index: 16713 entries, 0 to 16714\n",
      "Data columns (total 11 columns):\n",
      "name               16713 non-null object\n",
      "platform           16713 non-null object\n",
      "year_of_release    16713 non-null float64\n",
      "genre              16713 non-null object\n",
      "na_sales           16713 non-null float64\n",
      "eu_sales           16713 non-null float64\n",
      "jp_sales           16713 non-null float64\n",
      "other_sales        16713 non-null float64\n",
      "critic_score       8137 non-null float64\n",
      "user_score         10014 non-null object\n",
      "rating             9949 non-null object\n",
      "dtypes: float64(6), object(5)\n",
      "memory usage: 2.2+ MB\n"
     ]
    }
   ],
   "source": [
    "games['year_of_release'] = games.groupby('platform')['year_of_release'].apply(lambda x: x.fillna(x.median()))\n",
    "games.info()"
   ]
  },
  {
   "cell_type": "markdown",
   "metadata": {},
   "source": [
    "Оставшиеся 146 пропущенных значений в переменной year_of_release заполним медианными значениями выхода игр для соответствующих платформ. Проверяем."
   ]
  },
  {
   "cell_type": "code",
   "execution_count": 10,
   "metadata": {},
   "outputs": [
    {
     "name": "stdout",
     "output_type": "stream",
     "text": [
      "<class 'pandas.core.frame.DataFrame'>\n",
      "Int64Index: 16713 entries, 0 to 16714\n",
      "Data columns (total 11 columns):\n",
      "name               16713 non-null object\n",
      "platform           16713 non-null object\n",
      "year_of_release    16713 non-null int64\n",
      "genre              16713 non-null object\n",
      "na_sales           16713 non-null float64\n",
      "eu_sales           16713 non-null float64\n",
      "jp_sales           16713 non-null float64\n",
      "other_sales        16713 non-null float64\n",
      "critic_score       8137 non-null float64\n",
      "user_score         10014 non-null object\n",
      "rating             9949 non-null object\n",
      "dtypes: float64(5), int64(1), object(5)\n",
      "memory usage: 2.2+ MB\n"
     ]
    }
   ],
   "source": [
    "games['year_of_release'] = games['year_of_release'].astype(int)\n",
    "games.info()"
   ]
  },
  {
   "cell_type": "markdown",
   "metadata": {},
   "source": [
    "Переводим переменную year_of_release из дробных в целочисленные. Проверяем."
   ]
  },
  {
   "cell_type": "code",
   "execution_count": 11,
   "metadata": {},
   "outputs": [
    {
     "name": "stdout",
     "output_type": "stream",
     "text": [
      "<class 'pandas.core.frame.DataFrame'>\n",
      "Int64Index: 16713 entries, 0 to 16714\n",
      "Data columns (total 11 columns):\n",
      "name               16713 non-null object\n",
      "platform           16713 non-null object\n",
      "year_of_release    16713 non-null int64\n",
      "genre              16713 non-null object\n",
      "na_sales           16713 non-null float64\n",
      "eu_sales           16713 non-null float64\n",
      "jp_sales           16713 non-null float64\n",
      "other_sales        16713 non-null float64\n",
      "critic_score       8137 non-null float64\n",
      "user_score         7590 non-null float64\n",
      "rating             9949 non-null object\n",
      "dtypes: float64(6), int64(1), object(4)\n",
      "memory usage: 2.2+ MB\n"
     ]
    }
   ],
   "source": [
    "games.loc[games['user_score']=='tbd', 'user_score'] = np.nan\n",
    "games['user_score'] = games['user_score'].astype(float)\n",
    "games.info()"
   ]
  },
  {
   "cell_type": "markdown",
   "metadata": {},
   "source": [
    "Переменная user_score имеет тип object, но это рейтинг, который может быть дробным. Тип object присвоен из-за наличия в переменной значений tbd. Данное значение означает \"to be determined\", т.е. \"подлежит определению\". Для нас это означает, что рейтинга нет. Таким образом, заменяем значения tbd на NaN. Переменную user_score переводим в тип float (дробное число). Проверяем.\n",
    "Переменную critic_score в тип целочисленных перевести не можем из-за наличия пропущенных данных."
   ]
  },
  {
   "cell_type": "code",
   "execution_count": 12,
   "metadata": {},
   "outputs": [
    {
     "name": "stdout",
     "output_type": "stream",
     "text": [
      "E       3990\n",
      "T       2961\n",
      "M       1563\n",
      "E10+    1420\n",
      "EC         8\n",
      "RP         3\n",
      "K-A        3\n",
      "AO         1\n",
      "Name: rating, dtype: int64\n"
     ]
    }
   ],
   "source": [
    "print(games['rating'].value_counts())"
   ]
  },
  {
   "cell_type": "code",
   "execution_count": 13,
   "metadata": {},
   "outputs": [
    {
     "name": "stdout",
     "output_type": "stream",
     "text": [
      "E       3993\n",
      "T       2961\n",
      "M       1563\n",
      "E10+    1420\n",
      "EC         8\n",
      "AO         1\n",
      "Name: rating, dtype: int64\n"
     ]
    }
   ],
   "source": [
    "games.loc[games['rating']=='RP', 'rating'] = np.nan\n",
    "games.loc[games['rating']=='K-A', 'rating'] = 'E'\n",
    "print(games['rating'].value_counts())"
   ]
  },
  {
   "cell_type": "code",
   "execution_count": 14,
   "metadata": {},
   "outputs": [
    {
     "name": "stdout",
     "output_type": "stream",
     "text": [
      "NR      6767\n",
      "E       3993\n",
      "T       2961\n",
      "M       1563\n",
      "E10+    1420\n",
      "EC         8\n",
      "AO         1\n",
      "Name: rating, dtype: int64\n"
     ]
    }
   ],
   "source": [
    "games['rating'] = games['rating'].fillna('NR')\n",
    "print(games['rating'].value_counts())"
   ]
  },
  {
   "cell_type": "markdown",
   "metadata": {},
   "source": [
    "Изучим переменную rating. Наряду с действующими редакциями возрастных категорий организации ESRB, она содержит устаревшие значения (K-A) и значение RP (рейтинг ожидается). В первом случае присваиваем устаревшим значениям актуальные значения (Е), во втором случае, считаем, что рейтинга нет и заменяем RP на NaN.\n",
    "Для дальнейшего иссмледования вводим новое значение переменной rating - NR (без рейтинга).Проверяем."
   ]
  },
  {
   "cell_type": "code",
   "execution_count": 15,
   "metadata": {},
   "outputs": [
    {
     "data": {
      "text/html": [
       "<div>\n",
       "<style scoped>\n",
       "    .dataframe tbody tr th:only-of-type {\n",
       "        vertical-align: middle;\n",
       "    }\n",
       "\n",
       "    .dataframe tbody tr th {\n",
       "        vertical-align: top;\n",
       "    }\n",
       "\n",
       "    .dataframe thead th {\n",
       "        text-align: right;\n",
       "    }\n",
       "</style>\n",
       "<table border=\"1\" class=\"dataframe\">\n",
       "  <thead>\n",
       "    <tr style=\"text-align: right;\">\n",
       "      <th></th>\n",
       "      <th>name</th>\n",
       "      <th>platform</th>\n",
       "      <th>year_of_release</th>\n",
       "      <th>genre</th>\n",
       "      <th>na_sales</th>\n",
       "      <th>eu_sales</th>\n",
       "      <th>jp_sales</th>\n",
       "      <th>other_sales</th>\n",
       "      <th>critic_score</th>\n",
       "      <th>user_score</th>\n",
       "      <th>rating</th>\n",
       "      <th>sum_sales</th>\n",
       "    </tr>\n",
       "  </thead>\n",
       "  <tbody>\n",
       "    <tr>\n",
       "      <td>0</td>\n",
       "      <td>Wii Sports</td>\n",
       "      <td>Wii</td>\n",
       "      <td>2006</td>\n",
       "      <td>Sports</td>\n",
       "      <td>41.36</td>\n",
       "      <td>28.96</td>\n",
       "      <td>3.77</td>\n",
       "      <td>8.45</td>\n",
       "      <td>76.0</td>\n",
       "      <td>8.0</td>\n",
       "      <td>E</td>\n",
       "      <td>82.54</td>\n",
       "    </tr>\n",
       "    <tr>\n",
       "      <td>1</td>\n",
       "      <td>Super Mario Bros.</td>\n",
       "      <td>NES</td>\n",
       "      <td>1985</td>\n",
       "      <td>Platform</td>\n",
       "      <td>29.08</td>\n",
       "      <td>3.58</td>\n",
       "      <td>6.81</td>\n",
       "      <td>0.77</td>\n",
       "      <td>NaN</td>\n",
       "      <td>NaN</td>\n",
       "      <td>NR</td>\n",
       "      <td>40.24</td>\n",
       "    </tr>\n",
       "    <tr>\n",
       "      <td>2</td>\n",
       "      <td>Mario Kart Wii</td>\n",
       "      <td>Wii</td>\n",
       "      <td>2008</td>\n",
       "      <td>Racing</td>\n",
       "      <td>15.68</td>\n",
       "      <td>12.76</td>\n",
       "      <td>3.79</td>\n",
       "      <td>3.29</td>\n",
       "      <td>82.0</td>\n",
       "      <td>8.3</td>\n",
       "      <td>E</td>\n",
       "      <td>35.52</td>\n",
       "    </tr>\n",
       "    <tr>\n",
       "      <td>3</td>\n",
       "      <td>Wii Sports Resort</td>\n",
       "      <td>Wii</td>\n",
       "      <td>2009</td>\n",
       "      <td>Sports</td>\n",
       "      <td>15.61</td>\n",
       "      <td>10.93</td>\n",
       "      <td>3.28</td>\n",
       "      <td>2.95</td>\n",
       "      <td>80.0</td>\n",
       "      <td>8.0</td>\n",
       "      <td>E</td>\n",
       "      <td>32.77</td>\n",
       "    </tr>\n",
       "    <tr>\n",
       "      <td>4</td>\n",
       "      <td>Pokemon Red/Pokemon Blue</td>\n",
       "      <td>GB</td>\n",
       "      <td>1996</td>\n",
       "      <td>Role-Playing</td>\n",
       "      <td>11.27</td>\n",
       "      <td>8.89</td>\n",
       "      <td>10.22</td>\n",
       "      <td>1.00</td>\n",
       "      <td>NaN</td>\n",
       "      <td>NaN</td>\n",
       "      <td>NR</td>\n",
       "      <td>31.38</td>\n",
       "    </tr>\n",
       "  </tbody>\n",
       "</table>\n",
       "</div>"
      ],
      "text/plain": [
       "                       name platform  year_of_release         genre  na_sales  \\\n",
       "0                Wii Sports      Wii             2006        Sports     41.36   \n",
       "1         Super Mario Bros.      NES             1985      Platform     29.08   \n",
       "2            Mario Kart Wii      Wii             2008        Racing     15.68   \n",
       "3         Wii Sports Resort      Wii             2009        Sports     15.61   \n",
       "4  Pokemon Red/Pokemon Blue       GB             1996  Role-Playing     11.27   \n",
       "\n",
       "   eu_sales  jp_sales  other_sales  critic_score  user_score rating  sum_sales  \n",
       "0     28.96      3.77         8.45          76.0         8.0      E      82.54  \n",
       "1      3.58      6.81         0.77           NaN         NaN     NR      40.24  \n",
       "2     12.76      3.79         3.29          82.0         8.3      E      35.52  \n",
       "3     10.93      3.28         2.95          80.0         8.0      E      32.77  \n",
       "4      8.89     10.22         1.00           NaN         NaN     NR      31.38  "
      ]
     },
     "execution_count": 15,
     "metadata": {},
     "output_type": "execute_result"
    }
   ],
   "source": [
    "games['sum_sales'] = games['na_sales'] + games['eu_sales'] + games['jp_sales'] + games['other_sales']\n",
    "games.head()"
   ]
  },
  {
   "cell_type": "markdown",
   "metadata": {},
   "source": [
    "Рассчитаем столбец суммарных продаж игр в мире как сумму продаж по каждому из имеющихся регионов. Проверяем."
   ]
  },
  {
   "cell_type": "markdown",
   "metadata": {},
   "source": [
    "Вывод\n",
    "\n",
    "Была произведена чистка данных. Удалены данные, которые невозможно было восстановить. Изменены типы переменных. Рассчитан новый столбец суммарных продаж в мире. Указанный столбец является наиболее объективным показателем успешности игр: чем больше игра продается, тем она популярнее, несмотря на остальные рейтинги.\n",
    "Пропуски в переменных critic_score, user_score и rating обусловлены тем, что не все игры становятся объектом внимания СМИ, экспертов и пользователей. Это происходят по разным причинам: отсутствие рекламы, игра ориентирована на маленький регион, игра является ремейком более популярной игры и т.п. \n",
    "Считаю, что заполнять переменные critic_score и user_score не имеет смысла, т.к. данные рейтинги достаточно субъективны, а мы получили более объективный рейтинг (суммарные продажи игр). \n",
    "Переменную rating заполнить корректно не возможно, т.к. для этого надо знать нюансы каждой игры. Поэтому ее тоже заполнять не будем."
   ]
  },
  {
   "cell_type": "markdown",
   "metadata": {},
   "source": [
    "## 3. Исследовательский анализ данных"
   ]
  },
  {
   "cell_type": "code",
   "execution_count": 16,
   "metadata": {},
   "outputs": [
    {
     "data": {
      "text/plain": [
       "Text(0, 0.5, 'Кол-во игр, шт.')"
      ]
     },
     "execution_count": 16,
     "metadata": {},
     "output_type": "execute_result"
    },
    {
     "data": {
      "image/png": "[encoded data removed]",
      "text/plain": [
       "<Figure size 432x288 with 1 Axes>"
      ]
     },
     "metadata": {
      "needs_background": "light"
     },
     "output_type": "display_data"
    }
   ],
   "source": [
    "#games['year_of_release'].hist(bins=37, xlabel ='годы', ylabel='кол-во игр (шт.)')\n",
    "games.plot(y='year_of_release', kind = 'hist', title = 'Распределение выхода игр по годам', bins=37)\n",
    "plt.xlabel(\"годы\")\n",
    "plt.ylabel(\"Кол-во игр, шт.\")"
   ]
  },
  {
   "cell_type": "markdown",
   "metadata": {},
   "source": [
    "Рассмотрим распределение выхода игр по годам. Из построенной гистограммы видно, что основной \"рывок\" в производстве игр начался с 1995 г., когда годой выпуск игр превысил 200 шт."
   ]
  },
  {
   "cell_type": "markdown",
   "metadata": {},
   "source": [
    "Производство видеоигр с 2009 г. имеет тенденцию к снижению. С одной стороны, снижается конкуренция, с другой - за внимание пользователей в основном борятся крупные компании. Снижение продаж игр, скорее всего, обусловлено экономическим кризисом, начавшимся в 2008 г. В условиях кризиса многие потребители отказываются от излишеств (в данном случае это игры) или переходят на бесплатный или пиратский контент. Немаловажным фактором снижения спроса на видеоигры стали игры на телефонах и планшетах, которые также вытеснили значительный процент игр с рынка."
   ]
  },
  {
   "cell_type": "code",
   "execution_count": 17,
   "metadata": {
    "scrolled": true
   },
   "outputs": [
    {
     "name": "stdout",
     "output_type": "stream",
     "text": [
      "platform\n",
      "PS2     1255.77\n",
      "X360     971.42\n",
      "PS3      939.65\n",
      "Wii      907.51\n",
      "DS       806.12\n",
      "PS       730.86\n",
      "GBA      317.85\n",
      "PS4      314.14\n",
      "PSP      294.05\n",
      "PC       259.52\n",
      "3DS      259.00\n",
      "XB       257.74\n",
      "GB       255.46\n",
      "NES      251.05\n",
      "N64      218.68\n",
      "SNES     200.04\n",
      "GC       198.93\n",
      "XOne     159.32\n",
      "2600      96.98\n",
      "WiiU      82.19\n",
      "PSV       54.07\n",
      "SAT       33.59\n",
      "GEN       28.35\n",
      "DC        15.95\n",
      "SCD        1.86\n",
      "NG         1.44\n",
      "WS         1.42\n",
      "TG16       0.16\n",
      "3DO        0.10\n",
      "GG         0.04\n",
      "PCFX       0.03\n",
      "Name: sum_sales, dtype: float64\n"
     ]
    }
   ],
   "source": [
    "print(games.groupby('platform')['sum_sales'].sum().sort_values(ascending = False))"
   ]
  },
  {
   "cell_type": "markdown",
   "metadata": {},
   "source": [
    "Рассмотрим продажи игр а зависимости от игровой платформы. Наиболее крупные продажи игр за рассматриваемый период наблюдались у 6 платформ: PS2, X360, PS3, Wii, DS и PS. "
   ]
  },
  {
   "cell_type": "code",
   "execution_count": 18,
   "metadata": {},
   "outputs": [
    {
     "data": {
      "image/png": "[encoded data removed]",
      "text/plain": [
       "<Figure size 432x288 with 1 Axes>"
      ]
     },
     "metadata": {
      "needs_background": "light"
     },
     "output_type": "display_data"
    },
    {
     "data": {
      "image/png": "[encoded data removed]",
      "text/plain": [
       "<Figure size 432x288 with 1 Axes>"
      ]
     },
     "metadata": {
      "needs_background": "light"
     },
     "output_type": "display_data"
    },
    {
     "data": {
      "image/png": "[encoded data removed]",
      "text/plain": [
       "<Figure size 432x288 with 1 Axes>"
      ]
     },
     "metadata": {
      "needs_background": "light"
     },
     "output_type": "display_data"
    },
    {
     "data": {
      "image/png": "[encoded data removed]",
      "text/plain": [
       "<Figure size 432x288 with 1 Axes>"
      ]
     },
     "metadata": {
      "needs_background": "light"
     },
     "output_type": "display_data"
    },
    {
     "data": {
      "image/png": "[encoded data removed]",
      "text/plain": [
       "<Figure size 432x288 with 1 Axes>"
      ]
     },
     "metadata": {
      "needs_background": "light"
     },
     "output_type": "display_data"
    },
    {
     "data": {
      "image/png": "[encoded data removed]",
      "text/plain": [
       "<Figure size 432x288 with 1 Axes>"
      ]
     },
     "metadata": {
      "needs_background": "light"
     },
     "output_type": "display_data"
    }
   ],
   "source": [
    "main_platf = ['PS2', 'X360', 'PS3', 'Wii', 'DS', 'PS']\n",
    "for name in main_platf:\n",
    "    pl = games[games['platform'] == name]\n",
    "    pl.plot(y='year_of_release', kind = 'hist', title = name, bins=36)\n",
    "    plt.xlabel(\"годы\")\n",
    "    plt.ylabel(\"Кол-во игр, шт.\")\n",
    "    plt.show()\n"
   ]
  },
  {
   "cell_type": "markdown",
   "metadata": {},
   "source": [
    "Построим гистограммы продаж игр по наиболее популярным платформам. Исходя из полученных графиков, можно увидеть, что жизненный цикл платформы, как источника дохода производителей игр, длится от 10 до 12 лет. После этого срока платформы морально устаревают и их должны сменить платформы нового поколения."
   ]
  },
  {
   "cell_type": "code",
   "execution_count": 19,
   "metadata": {},
   "outputs": [
    {
     "name": "stdout",
     "output_type": "stream",
     "text": [
      "11.333333333333334\n"
     ]
    }
   ],
   "source": [
    "pl_games = games.query('platform in [\"PS2\", \"X360\", \"PS3\", \"Wii\", \"DS\", \"PS\"]')\n",
    "platf_years = pl_games.groupby('platform')['year_of_release'].nunique().mean()\n",
    "print(platf_years)"
   ]
  },
  {
   "cell_type": "markdown",
   "metadata": {},
   "source": [
    "Рассчитаем среднюю продолжительность существования платформы. Для этого возьмем ранее выделенные наиболее популярные платформы. В пользу этого выбора говорит то, что указанные платформы набрали большой вес на рынке и при этом закончили свой жизненный цикл. Новые платформы брать нельзя, т.к. они только в начале своего пути. Платформы, которые существовали до 90-х годов 20 века также не показательны, т.к. уровень продаж тогда был достаточно низок.\n",
    "Отдельно стоит сказать про персональные компьютеры. Это особая платформа. Компьютеры развиваются давно и сами по себе. Их нельзя сравнивать с приставками, т.к их жизненный цикл начался давно и закончится еще не скоро, что может исказить результат расчетов. \n",
    "Средняя продолжительность \"жизни\" платформы составила 11,3 года."
   ]
  },
  {
   "cell_type": "code",
   "execution_count": 20,
   "metadata": {},
   "outputs": [
    {
     "data": {
      "text/html": [
       "<div>\n",
       "<style scoped>\n",
       "    .dataframe tbody tr th:only-of-type {\n",
       "        vertical-align: middle;\n",
       "    }\n",
       "\n",
       "    .dataframe tbody tr th {\n",
       "        vertical-align: top;\n",
       "    }\n",
       "\n",
       "    .dataframe thead th {\n",
       "        text-align: right;\n",
       "    }\n",
       "</style>\n",
       "<table border=\"1\" class=\"dataframe\">\n",
       "  <thead>\n",
       "    <tr style=\"text-align: right;\">\n",
       "      <th></th>\n",
       "      <th>year_of_release</th>\n",
       "      <th>na_sales</th>\n",
       "      <th>eu_sales</th>\n",
       "      <th>jp_sales</th>\n",
       "      <th>other_sales</th>\n",
       "      <th>critic_score</th>\n",
       "      <th>user_score</th>\n",
       "      <th>sum_sales</th>\n",
       "    </tr>\n",
       "  </thead>\n",
       "  <tbody>\n",
       "    <tr>\n",
       "      <td>count</td>\n",
       "      <td>2905.000000</td>\n",
       "      <td>2905.000000</td>\n",
       "      <td>2905.000000</td>\n",
       "      <td>2905.000000</td>\n",
       "      <td>2905.000000</td>\n",
       "      <td>1324.000000</td>\n",
       "      <td>1543.000000</td>\n",
       "      <td>2905.000000</td>\n",
       "    </tr>\n",
       "    <tr>\n",
       "      <td>mean</td>\n",
       "      <td>2013.908090</td>\n",
       "      <td>0.204403</td>\n",
       "      <td>0.175301</td>\n",
       "      <td>0.066410</td>\n",
       "      <td>0.053993</td>\n",
       "      <td>72.256798</td>\n",
       "      <td>6.639145</td>\n",
       "      <td>0.500107</td>\n",
       "    </tr>\n",
       "    <tr>\n",
       "      <td>std</td>\n",
       "      <td>1.412076</td>\n",
       "      <td>0.565062</td>\n",
       "      <td>0.503840</td>\n",
       "      <td>0.240857</td>\n",
       "      <td>0.164141</td>\n",
       "      <td>12.659704</td>\n",
       "      <td>1.567156</td>\n",
       "      <td>1.245457</td>\n",
       "    </tr>\n",
       "    <tr>\n",
       "      <td>min</td>\n",
       "      <td>2012.000000</td>\n",
       "      <td>0.000000</td>\n",
       "      <td>0.000000</td>\n",
       "      <td>0.000000</td>\n",
       "      <td>0.000000</td>\n",
       "      <td>13.000000</td>\n",
       "      <td>0.200000</td>\n",
       "      <td>0.010000</td>\n",
       "    </tr>\n",
       "    <tr>\n",
       "      <td>25%</td>\n",
       "      <td>2013.000000</td>\n",
       "      <td>0.000000</td>\n",
       "      <td>0.000000</td>\n",
       "      <td>0.000000</td>\n",
       "      <td>0.000000</td>\n",
       "      <td>66.000000</td>\n",
       "      <td>5.800000</td>\n",
       "      <td>0.040000</td>\n",
       "    </tr>\n",
       "    <tr>\n",
       "      <td>50%</td>\n",
       "      <td>2014.000000</td>\n",
       "      <td>0.030000</td>\n",
       "      <td>0.030000</td>\n",
       "      <td>0.010000</td>\n",
       "      <td>0.010000</td>\n",
       "      <td>74.000000</td>\n",
       "      <td>7.000000</td>\n",
       "      <td>0.120000</td>\n",
       "    </tr>\n",
       "    <tr>\n",
       "      <td>75%</td>\n",
       "      <td>2015.000000</td>\n",
       "      <td>0.170000</td>\n",
       "      <td>0.140000</td>\n",
       "      <td>0.050000</td>\n",
       "      <td>0.040000</td>\n",
       "      <td>81.000000</td>\n",
       "      <td>7.800000</td>\n",
       "      <td>0.430000</td>\n",
       "    </tr>\n",
       "    <tr>\n",
       "      <td>max</td>\n",
       "      <td>2016.000000</td>\n",
       "      <td>9.660000</td>\n",
       "      <td>9.090000</td>\n",
       "      <td>4.390000</td>\n",
       "      <td>3.960000</td>\n",
       "      <td>97.000000</td>\n",
       "      <td>9.300000</td>\n",
       "      <td>21.050000</td>\n",
       "    </tr>\n",
       "  </tbody>\n",
       "</table>\n",
       "</div>"
      ],
      "text/plain": [
       "       year_of_release     na_sales     eu_sales     jp_sales  other_sales  \\\n",
       "count      2905.000000  2905.000000  2905.000000  2905.000000  2905.000000   \n",
       "mean       2013.908090     0.204403     0.175301     0.066410     0.053993   \n",
       "std           1.412076     0.565062     0.503840     0.240857     0.164141   \n",
       "min        2012.000000     0.000000     0.000000     0.000000     0.000000   \n",
       "25%        2013.000000     0.000000     0.000000     0.000000     0.000000   \n",
       "50%        2014.000000     0.030000     0.030000     0.010000     0.010000   \n",
       "75%        2015.000000     0.170000     0.140000     0.050000     0.040000   \n",
       "max        2016.000000     9.660000     9.090000     4.390000     3.960000   \n",
       "\n",
       "       critic_score   user_score    sum_sales  \n",
       "count   1324.000000  1543.000000  2905.000000  \n",
       "mean      72.256798     6.639145     0.500107  \n",
       "std       12.659704     1.567156     1.245457  \n",
       "min       13.000000     0.200000     0.010000  \n",
       "25%       66.000000     5.800000     0.040000  \n",
       "50%       74.000000     7.000000     0.120000  \n",
       "75%       81.000000     7.800000     0.430000  \n",
       "max       97.000000     9.300000    21.050000  "
      ]
     },
     "execution_count": 20,
     "metadata": {},
     "output_type": "execute_result"
    }
   ],
   "source": [
    "games = games[games.year_of_release >= 2012] # исключение строк со значениями year_of_release меньше 2012 года\n",
    "games.describe()"
   ]
  },
  {
   "cell_type": "code",
   "execution_count": 21,
   "metadata": {},
   "outputs": [
    {
     "name": "stdout",
     "output_type": "stream",
     "text": [
      "<class 'pandas.core.frame.DataFrame'>\n",
      "Int64Index: 2905 entries, 16 to 16714\n",
      "Data columns (total 12 columns):\n",
      "name               2905 non-null object\n",
      "platform           2905 non-null object\n",
      "year_of_release    2905 non-null int64\n",
      "genre              2905 non-null object\n",
      "na_sales           2905 non-null float64\n",
      "eu_sales           2905 non-null float64\n",
      "jp_sales           2905 non-null float64\n",
      "other_sales        2905 non-null float64\n",
      "critic_score       1324 non-null float64\n",
      "user_score         1543 non-null float64\n",
      "rating             2905 non-null object\n",
      "sum_sales          2905 non-null float64\n",
      "dtypes: float64(7), int64(1), object(4)\n",
      "memory usage: 295.0+ KB\n"
     ]
    }
   ],
   "source": [
    "games.info()"
   ]
  },
  {
   "cell_type": "markdown",
   "metadata": {},
   "source": [
    "Для дальнейшей работы с данными исключаем из массива данных строки с годами меньше 2012 г., как малоинформативные. Проверяем."
   ]
  },
  {
   "cell_type": "code",
   "execution_count": 22,
   "metadata": {},
   "outputs": [
    {
     "data": {
      "text/html": [
       "<div>\n",
       "<style scoped>\n",
       "    .dataframe tbody tr th:only-of-type {\n",
       "        vertical-align: middle;\n",
       "    }\n",
       "\n",
       "    .dataframe tbody tr th {\n",
       "        vertical-align: top;\n",
       "    }\n",
       "\n",
       "    .dataframe thead th {\n",
       "        text-align: right;\n",
       "    }\n",
       "</style>\n",
       "<table border=\"1\" class=\"dataframe\">\n",
       "  <thead>\n",
       "    <tr style=\"text-align: right;\">\n",
       "      <th></th>\n",
       "      <th></th>\n",
       "      <th>last_sales</th>\n",
       "    </tr>\n",
       "    <tr>\n",
       "      <th>platform</th>\n",
       "      <th>year_of_release</th>\n",
       "      <th></th>\n",
       "    </tr>\n",
       "  </thead>\n",
       "  <tbody>\n",
       "    <tr>\n",
       "      <td>3DS</td>\n",
       "      <td>2016.0</td>\n",
       "      <td>15.14</td>\n",
       "    </tr>\n",
       "    <tr>\n",
       "      <td>PC</td>\n",
       "      <td>2016.0</td>\n",
       "      <td>5.25</td>\n",
       "    </tr>\n",
       "    <tr>\n",
       "      <td>PS3</td>\n",
       "      <td>2016.0</td>\n",
       "      <td>3.60</td>\n",
       "    </tr>\n",
       "    <tr>\n",
       "      <td>PS4</td>\n",
       "      <td>2016.0</td>\n",
       "      <td>69.25</td>\n",
       "    </tr>\n",
       "    <tr>\n",
       "      <td>PSV</td>\n",
       "      <td>2016.0</td>\n",
       "      <td>4.25</td>\n",
       "    </tr>\n",
       "    <tr>\n",
       "      <td>Wii</td>\n",
       "      <td>2016.0</td>\n",
       "      <td>0.18</td>\n",
       "    </tr>\n",
       "    <tr>\n",
       "      <td>WiiU</td>\n",
       "      <td>2016.0</td>\n",
       "      <td>4.60</td>\n",
       "    </tr>\n",
       "    <tr>\n",
       "      <td>X360</td>\n",
       "      <td>2016.0</td>\n",
       "      <td>1.52</td>\n",
       "    </tr>\n",
       "    <tr>\n",
       "      <td>XOne</td>\n",
       "      <td>2016.0</td>\n",
       "      <td>26.15</td>\n",
       "    </tr>\n",
       "  </tbody>\n",
       "</table>\n",
       "</div>"
      ],
      "text/plain": [
       "                          last_sales\n",
       "platform year_of_release            \n",
       "3DS      2016.0                15.14\n",
       "PC       2016.0                 5.25\n",
       "PS3      2016.0                 3.60\n",
       "PS4      2016.0                69.25\n",
       "PSV      2016.0                 4.25\n",
       "Wii      2016.0                 0.18\n",
       "WiiU     2016.0                 4.60\n",
       "X360     2016.0                 1.52\n",
       "XOne     2016.0                26.15"
      ]
     },
     "execution_count": 22,
     "metadata": {},
     "output_type": "execute_result"
    }
   ],
   "source": [
    "last_sales = games.groupby(['platform', games.loc[games['year_of_release']==2016, 'year_of_release']]).agg({'sum_sales': 'sum'})\n",
    "last_sales.set_axis(['last_sales'],axis = 'columns',inplace = True)\n",
    "last_sales"
   ]
  },
  {
   "cell_type": "markdown",
   "metadata": {},
   "source": [
    "Для определения тенденций продаж игр по платформам выделим суммы продаж игр по платформам, игры которых выходили в 2016 г. Таких оказалось всего 9."
   ]
  },
  {
   "cell_type": "code",
   "execution_count": 23,
   "metadata": {},
   "outputs": [
    {
     "data": {
      "text/html": [
       "<div>\n",
       "<style scoped>\n",
       "    .dataframe tbody tr th:only-of-type {\n",
       "        vertical-align: middle;\n",
       "    }\n",
       "\n",
       "    .dataframe tbody tr th {\n",
       "        vertical-align: top;\n",
       "    }\n",
       "\n",
       "    .dataframe thead th {\n",
       "        text-align: right;\n",
       "    }\n",
       "</style>\n",
       "<table border=\"1\" class=\"dataframe\">\n",
       "  <thead>\n",
       "    <tr style=\"text-align: right;\">\n",
       "      <th></th>\n",
       "      <th>max</th>\n",
       "      <th>min</th>\n",
       "    </tr>\n",
       "    <tr>\n",
       "      <th>platform</th>\n",
       "      <th></th>\n",
       "      <th></th>\n",
       "    </tr>\n",
       "  </thead>\n",
       "  <tbody>\n",
       "    <tr>\n",
       "      <td>3DS</td>\n",
       "      <td>57.04</td>\n",
       "      <td>15.14</td>\n",
       "    </tr>\n",
       "    <tr>\n",
       "      <td>DS</td>\n",
       "      <td>11.67</td>\n",
       "      <td>1.54</td>\n",
       "    </tr>\n",
       "    <tr>\n",
       "      <td>PC</td>\n",
       "      <td>23.45</td>\n",
       "      <td>5.25</td>\n",
       "    </tr>\n",
       "    <tr>\n",
       "      <td>PS3</td>\n",
       "      <td>113.25</td>\n",
       "      <td>3.60</td>\n",
       "    </tr>\n",
       "    <tr>\n",
       "      <td>PS4</td>\n",
       "      <td>118.90</td>\n",
       "      <td>25.99</td>\n",
       "    </tr>\n",
       "    <tr>\n",
       "      <td>PSP</td>\n",
       "      <td>7.95</td>\n",
       "      <td>0.12</td>\n",
       "    </tr>\n",
       "    <tr>\n",
       "      <td>PSV</td>\n",
       "      <td>16.19</td>\n",
       "      <td>4.25</td>\n",
       "    </tr>\n",
       "    <tr>\n",
       "      <td>Wii</td>\n",
       "      <td>22.94</td>\n",
       "      <td>0.18</td>\n",
       "    </tr>\n",
       "    <tr>\n",
       "      <td>WiiU</td>\n",
       "      <td>22.03</td>\n",
       "      <td>4.60</td>\n",
       "    </tr>\n",
       "    <tr>\n",
       "      <td>X360</td>\n",
       "      <td>100.72</td>\n",
       "      <td>1.52</td>\n",
       "    </tr>\n",
       "    <tr>\n",
       "      <td>XOne</td>\n",
       "      <td>60.14</td>\n",
       "      <td>18.96</td>\n",
       "    </tr>\n",
       "  </tbody>\n",
       "</table>\n",
       "</div>"
      ],
      "text/plain": [
       "             max    min\n",
       "platform               \n",
       "3DS        57.04  15.14\n",
       "DS         11.67   1.54\n",
       "PC         23.45   5.25\n",
       "PS3       113.25   3.60\n",
       "PS4       118.90  25.99\n",
       "PSP         7.95   0.12\n",
       "PSV        16.19   4.25\n",
       "Wii        22.94   0.18\n",
       "WiiU       22.03   4.60\n",
       "X360      100.72   1.52\n",
       "XOne       60.14  18.96"
      ]
     },
     "execution_count": 23,
     "metadata": {},
     "output_type": "execute_result"
    }
   ],
   "source": [
    "result = games.groupby(['platform', 'year_of_release']).agg({'sum_sales': 'sum'}).reset_index() # определение суммарных продаж игр по годам в разбивке по платформам\n",
    "res_games = result.groupby(['platform']).agg({'sum_sales': ['max', 'min']})\n",
    "res_games.set_axis(['max', 'min'],axis = 'columns',inplace = True)\n",
    "res_games"
   ]
  },
  {
   "cell_type": "markdown",
   "metadata": {},
   "source": [
    "Определим максимальные и минимальные суммы продаж игр по всем платформам в разбивке по годам выхода игр."
   ]
  },
  {
   "cell_type": "code",
   "execution_count": 24,
   "metadata": {},
   "outputs": [
    {
     "data": {
      "text/html": [
       "<div>\n",
       "<style scoped>\n",
       "    .dataframe tbody tr th:only-of-type {\n",
       "        vertical-align: middle;\n",
       "    }\n",
       "\n",
       "    .dataframe tbody tr th {\n",
       "        vertical-align: top;\n",
       "    }\n",
       "\n",
       "    .dataframe thead th {\n",
       "        text-align: right;\n",
       "    }\n",
       "</style>\n",
       "<table border=\"1\" class=\"dataframe\">\n",
       "  <thead>\n",
       "    <tr style=\"text-align: right;\">\n",
       "      <th></th>\n",
       "      <th>max</th>\n",
       "      <th>min</th>\n",
       "      <th>last_sales</th>\n",
       "    </tr>\n",
       "    <tr>\n",
       "      <th>platform</th>\n",
       "      <th></th>\n",
       "      <th></th>\n",
       "      <th></th>\n",
       "    </tr>\n",
       "  </thead>\n",
       "  <tbody>\n",
       "    <tr>\n",
       "      <td>3DS</td>\n",
       "      <td>57.04</td>\n",
       "      <td>15.14</td>\n",
       "      <td>15.14</td>\n",
       "    </tr>\n",
       "    <tr>\n",
       "      <td>DS</td>\n",
       "      <td>11.67</td>\n",
       "      <td>1.54</td>\n",
       "      <td>NaN</td>\n",
       "    </tr>\n",
       "    <tr>\n",
       "      <td>PC</td>\n",
       "      <td>23.45</td>\n",
       "      <td>5.25</td>\n",
       "      <td>5.25</td>\n",
       "    </tr>\n",
       "    <tr>\n",
       "      <td>PS3</td>\n",
       "      <td>113.25</td>\n",
       "      <td>3.60</td>\n",
       "      <td>3.60</td>\n",
       "    </tr>\n",
       "    <tr>\n",
       "      <td>PS4</td>\n",
       "      <td>118.90</td>\n",
       "      <td>25.99</td>\n",
       "      <td>69.25</td>\n",
       "    </tr>\n",
       "    <tr>\n",
       "      <td>PSP</td>\n",
       "      <td>7.95</td>\n",
       "      <td>0.12</td>\n",
       "      <td>NaN</td>\n",
       "    </tr>\n",
       "    <tr>\n",
       "      <td>PSV</td>\n",
       "      <td>16.19</td>\n",
       "      <td>4.25</td>\n",
       "      <td>4.25</td>\n",
       "    </tr>\n",
       "    <tr>\n",
       "      <td>Wii</td>\n",
       "      <td>22.94</td>\n",
       "      <td>0.18</td>\n",
       "      <td>0.18</td>\n",
       "    </tr>\n",
       "    <tr>\n",
       "      <td>WiiU</td>\n",
       "      <td>22.03</td>\n",
       "      <td>4.60</td>\n",
       "      <td>4.60</td>\n",
       "    </tr>\n",
       "    <tr>\n",
       "      <td>X360</td>\n",
       "      <td>100.72</td>\n",
       "      <td>1.52</td>\n",
       "      <td>1.52</td>\n",
       "    </tr>\n",
       "    <tr>\n",
       "      <td>XOne</td>\n",
       "      <td>60.14</td>\n",
       "      <td>18.96</td>\n",
       "      <td>26.15</td>\n",
       "    </tr>\n",
       "  </tbody>\n",
       "</table>\n",
       "</div>"
      ],
      "text/plain": [
       "             max    min  last_sales\n",
       "platform                           \n",
       "3DS        57.04  15.14       15.14\n",
       "DS         11.67   1.54         NaN\n",
       "PC         23.45   5.25        5.25\n",
       "PS3       113.25   3.60        3.60\n",
       "PS4       118.90  25.99       69.25\n",
       "PSP         7.95   0.12         NaN\n",
       "PSV        16.19   4.25        4.25\n",
       "Wii        22.94   0.18        0.18\n",
       "WiiU       22.03   4.60        4.60\n",
       "X360      100.72   1.52        1.52\n",
       "XOne       60.14  18.96       26.15"
      ]
     },
     "execution_count": 24,
     "metadata": {},
     "output_type": "execute_result"
    }
   ],
   "source": [
    "res_games = res_games.merge(last_sales, how='left', on = ['platform'])\n",
    "res_games"
   ]
  },
  {
   "cell_type": "markdown",
   "metadata": {},
   "source": [
    "Объединим 2 вышеуказанные таблицы (res_games и last_sales(продажи игр, вышедших в 2016 г.)). \n",
    "Как видно из получившейся таблицы, по части платформ игры в 2016 г. не выходили, что указывает на моральное устаревание соответствующих платформ и уход их с рынка."
   ]
  },
  {
   "cell_type": "code",
   "execution_count": 25,
   "metadata": {},
   "outputs": [
    {
     "data": {
      "image/png": "[encoded data removed]",
      "text/plain": [
       "<Figure size 432x288 with 1 Axes>"
      ]
     },
     "metadata": {
      "needs_background": "light"
     },
     "output_type": "display_data"
    },
    {
     "data": {
      "image/png": "[encoded data removed]",
      "text/plain": [
       "<Figure size 432x288 with 1 Axes>"
      ]
     },
     "metadata": {
      "needs_background": "light"
     },
     "output_type": "display_data"
    },
    {
     "data": {
      "image/png": "[encoded data removed]",
      "text/plain": [
       "<Figure size 432x288 with 1 Axes>"
      ]
     },
     "metadata": {
      "needs_background": "light"
     },
     "output_type": "display_data"
    },
    {
     "data": {
      "image/png": "[encoded data removed]",
      "text/plain": [
       "<Figure size 432x288 with 1 Axes>"
      ]
     },
     "metadata": {
      "needs_background": "light"
     },
     "output_type": "display_data"
    },
    {
     "data": {
      "image/png": "[encoded data removed]",
      "text/plain": [
       "<Figure size 432x288 with 1 Axes>"
      ]
     },
     "metadata": {
      "needs_background": "light"
     },
     "output_type": "display_data"
    },
    {
     "data": {
      "image/png": "[encoded data removed]",
      "text/plain": [
       "<Figure size 432x288 with 1 Axes>"
      ]
     },
     "metadata": {
      "needs_background": "light"
     },
     "output_type": "display_data"
    },
    {
     "data": {
      "image/png": "[encoded data removed]",
      "text/plain": [
       "<Figure size 432x288 with 1 Axes>"
      ]
     },
     "metadata": {
      "needs_background": "light"
     },
     "output_type": "display_data"
    },
    {
     "data": {
      "image/png": "[encoded data removed]",
      "text/plain": [
       "<Figure size 432x288 with 1 Axes>"
      ]
     },
     "metadata": {
      "needs_background": "light"
     },
     "output_type": "display_data"
    },
    {
     "data": {
      "image/png": "[encoded data removed]",
      "text/plain": [
       "<Figure size 432x288 with 1 Axes>"
      ]
     },
     "metadata": {
      "needs_background": "light"
     },
     "output_type": "display_data"
    }
   ],
   "source": [
    "last_platf = ['PC', 'XOne', 'PS4', '3DS', 'PS3', 'PSV', 'Wii', 'WiiU', 'X360']\n",
    "for name in last_platf:\n",
    "    pl = result[result['platform'] == name]\n",
    "    pl.plot(x='year_of_release', y='sum_sales', kind = 'line', title = name)\n",
    "    plt.show()"
   ]
  },
  {
   "cell_type": "markdown",
   "metadata": {},
   "source": [
    "Построим распределения продаж по платформам в разбивке по годам.\n",
    "Из графиков видно, что ряд платформ также морально устаревают (спад продаж длится на протяжении 2-х и более лет). Продажи игр по ним падают до минимальных значений, о чем свидетельствует также ранее сформированная таблица: значения столбца last_sales (продажи игр по платформе, вышедших в 2016 г.) равны соответствующим значениям из столбца min (минимальные продажи игр в год по платформе за историю наблюдений). К таким платформам относятся: 3DS, PS3, PSV, Wii, WiiU, X360. Хотя по указанным платформам игры еще выпускаются, но данные указывают на спад спроса на игры этих платформ и постепенный уход платформ с рынка.\n",
    "\n",
    "В продажах игр платформ XOne и PS4 также наблюдается спад, но он однолетний и может объясняться тем, что игры указанных платформ еще не вышли на пик продаж в 2016 г. Данные платформы можно отнести к перспективным.\n",
    "\n",
    "Отдельно следует рассмотреть платформу PC (персональные компьютеры), она появилась раньше игровых приставок и будет существовать еще много лет. Игровые приставки прихолят и уходят, а компьютеры сейчас есть у большинства населения развитых стран и используются они не только для работы, но и для игр. По данной платформе наблюдается спад, однако из графика видно, что подобные спады уже имели место и были преодолены. Так что, PC также стоит признать перспективной платформой."
   ]
  },
  {
   "cell_type": "code",
   "execution_count": 26,
   "metadata": {},
   "outputs": [
    {
     "name": "stderr",
     "output_type": "stream",
     "text": [
      "/opt/conda/lib/python3.7/site-packages/numpy/core/_asarray.py:83: VisibleDeprecationWarning: Creating an ndarray from ragged nested sequences (which is a list-or-tuple of lists-or-tuples-or ndarrays with different lengths or shapes) is deprecated. If you meant to do this, you must specify 'dtype=object' when creating the ndarray\n",
      "  return array(a, dtype, copy=False, order=order)\n"
     ]
    },
    {
     "data": {
      "text/plain": [
       "(0, 2)"
      ]
     },
     "execution_count": 26,
     "metadata": {},
     "output_type": "execute_result"
    },
    {
     "data": {
      "image/png": "[encoded data removed]",
      "text/plain": [
       "<Figure size 1080x720 with 1 Axes>"
      ]
     },
     "metadata": {
      "needs_background": "light"
     },
     "output_type": "display_data"
    }
   ],
   "source": [
    "games_plt =games.query('platform in [\"PC\", \"XOne\", \"PS4\", \"3DS\", \"PS3\", \"PSV\", \"Wii\", \"WiiU\", \"X360\"]')\n",
    "games_bp= games_plt.pivot_table(index = 'name', columns = 'platform', values = 'sum_sales', aggfunc = 'sum')\n",
    "games_bp.boxplot(figsize = (15, 10))\n",
    "plt.ylim(0, 2)"
   ]
  },
  {
   "cell_type": "markdown",
   "metadata": {},
   "source": [
    "Построим диаграммы размаха для продаж игр по платформам, игры которых выпускались в 2016 г. Как видно из диаграмм, самые низкие сборы на и наименьший разброс сумм продаж наблюдаются у игр для PC и PSV, что, скорее всего, для PC обусловлено как возможностью скачать большинство игр для персональных компьютеров бесплатно (пиратские сайты, торренты и т.п.), так и более низкой ценой игр для PC по сравнению с конкурентами; для PSV - узким сегментом пользователей, т.к. PSV - это портатитвная приставка, в которую, в основном, играют тинэйджеры. \n",
    "У игровых приставок X360, XOne, PS3 и PS4 сборы и разброс доходов значительно выше по сравнению с остальными, также выше и разброс сумм продаж, что обусловлено мощными рекламными возможностями и более совершенной защитой игр указанных платформ от взлома."
   ]
  },
  {
   "cell_type": "code",
   "execution_count": 27,
   "metadata": {},
   "outputs": [
    {
     "data": {
      "text/html": [
       "<div>\n",
       "<style scoped>\n",
       "    .dataframe tbody tr th:only-of-type {\n",
       "        vertical-align: middle;\n",
       "    }\n",
       "\n",
       "    .dataframe tbody tr th {\n",
       "        vertical-align: top;\n",
       "    }\n",
       "\n",
       "    .dataframe thead th {\n",
       "        text-align: right;\n",
       "    }\n",
       "</style>\n",
       "<table border=\"1\" class=\"dataframe\">\n",
       "  <thead>\n",
       "    <tr style=\"text-align: right;\">\n",
       "      <th></th>\n",
       "      <th>name</th>\n",
       "      <th>platform</th>\n",
       "      <th>year_of_release</th>\n",
       "      <th>genre</th>\n",
       "      <th>na_sales</th>\n",
       "      <th>eu_sales</th>\n",
       "      <th>jp_sales</th>\n",
       "      <th>other_sales</th>\n",
       "      <th>critic_score</th>\n",
       "      <th>user_score</th>\n",
       "      <th>rating</th>\n",
       "      <th>sum_sales</th>\n",
       "    </tr>\n",
       "  </thead>\n",
       "  <tbody>\n",
       "    <tr>\n",
       "      <td>484</td>\n",
       "      <td>Titanfall</td>\n",
       "      <td>XOne</td>\n",
       "      <td>2014</td>\n",
       "      <td>Shooter</td>\n",
       "      <td>1.84</td>\n",
       "      <td>0.80</td>\n",
       "      <td>0.04</td>\n",
       "      <td>0.27</td>\n",
       "      <td>86.0</td>\n",
       "      <td>6.4</td>\n",
       "      <td>M</td>\n",
       "      <td>2.95</td>\n",
       "    </tr>\n",
       "    <tr>\n",
       "      <td>6758</td>\n",
       "      <td>F1 2015</td>\n",
       "      <td>XOne</td>\n",
       "      <td>2015</td>\n",
       "      <td>Racing</td>\n",
       "      <td>0.08</td>\n",
       "      <td>0.15</td>\n",
       "      <td>0.00</td>\n",
       "      <td>0.02</td>\n",
       "      <td>64.0</td>\n",
       "      <td>5.3</td>\n",
       "      <td>E</td>\n",
       "      <td>0.25</td>\n",
       "    </tr>\n",
       "    <tr>\n",
       "      <td>9685</td>\n",
       "      <td>F1 2016 (Codemasters)</td>\n",
       "      <td>XOne</td>\n",
       "      <td>2016</td>\n",
       "      <td>Racing</td>\n",
       "      <td>0.03</td>\n",
       "      <td>0.08</td>\n",
       "      <td>0.00</td>\n",
       "      <td>0.01</td>\n",
       "      <td>NaN</td>\n",
       "      <td>NaN</td>\n",
       "      <td>NR</td>\n",
       "      <td>0.12</td>\n",
       "    </tr>\n",
       "    <tr>\n",
       "      <td>9232</td>\n",
       "      <td>DmC: Devil May Cry</td>\n",
       "      <td>XOne</td>\n",
       "      <td>2015</td>\n",
       "      <td>Action</td>\n",
       "      <td>0.08</td>\n",
       "      <td>0.04</td>\n",
       "      <td>0.00</td>\n",
       "      <td>0.01</td>\n",
       "      <td>NaN</td>\n",
       "      <td>NaN</td>\n",
       "      <td>NR</td>\n",
       "      <td>0.13</td>\n",
       "    </tr>\n",
       "    <tr>\n",
       "      <td>1904</td>\n",
       "      <td>Forza Horizon 3</td>\n",
       "      <td>XOne</td>\n",
       "      <td>2016</td>\n",
       "      <td>Racing</td>\n",
       "      <td>0.42</td>\n",
       "      <td>0.58</td>\n",
       "      <td>0.00</td>\n",
       "      <td>0.08</td>\n",
       "      <td>91.0</td>\n",
       "      <td>7.4</td>\n",
       "      <td>E</td>\n",
       "      <td>1.08</td>\n",
       "    </tr>\n",
       "  </tbody>\n",
       "</table>\n",
       "</div>"
      ],
      "text/plain": [
       "                       name platform  year_of_release    genre  na_sales  \\\n",
       "484               Titanfall     XOne             2014  Shooter      1.84   \n",
       "6758                F1 2015     XOne             2015   Racing      0.08   \n",
       "9685  F1 2016 (Codemasters)     XOne             2016   Racing      0.03   \n",
       "9232     DmC: Devil May Cry     XOne             2015   Action      0.08   \n",
       "1904        Forza Horizon 3     XOne             2016   Racing      0.42   \n",
       "\n",
       "      eu_sales  jp_sales  other_sales  critic_score  user_score rating  \\\n",
       "484       0.80      0.04         0.27          86.0         6.4      M   \n",
       "6758      0.15      0.00         0.02          64.0         5.3      E   \n",
       "9685      0.08      0.00         0.01           NaN         NaN     NR   \n",
       "9232      0.04      0.00         0.01           NaN         NaN     NR   \n",
       "1904      0.58      0.00         0.08          91.0         7.4      E   \n",
       "\n",
       "      sum_sales  \n",
       "484        2.95  \n",
       "6758       0.25  \n",
       "9685       0.12  \n",
       "9232       0.13  \n",
       "1904       1.08  "
      ]
     },
     "execution_count": 27,
     "metadata": {},
     "output_type": "execute_result"
    }
   ],
   "source": [
    "xone_sales = games[games['platform'] == 'XOne']\n",
    "xone_sales.sample(5)"
   ]
  },
  {
   "cell_type": "markdown",
   "metadata": {},
   "source": [
    "Выделим из общей таблицы данные по платформе XOne. Проверяем."
   ]
  },
  {
   "cell_type": "code",
   "execution_count": 28,
   "metadata": {},
   "outputs": [
    {
     "data": {
      "text/html": [
       "<div>\n",
       "<style scoped>\n",
       "    .dataframe tbody tr th:only-of-type {\n",
       "        vertical-align: middle;\n",
       "    }\n",
       "\n",
       "    .dataframe tbody tr th {\n",
       "        vertical-align: top;\n",
       "    }\n",
       "\n",
       "    .dataframe thead th {\n",
       "        text-align: right;\n",
       "    }\n",
       "</style>\n",
       "<table border=\"1\" class=\"dataframe\">\n",
       "  <thead>\n",
       "    <tr style=\"text-align: right;\">\n",
       "      <th></th>\n",
       "      <th>sum_sales</th>\n",
       "      <th>critic_score</th>\n",
       "      <th>user_score</th>\n",
       "    </tr>\n",
       "  </thead>\n",
       "  <tbody>\n",
       "    <tr>\n",
       "      <td>sum_sales</td>\n",
       "      <td>1.000000</td>\n",
       "      <td>0.416998</td>\n",
       "      <td>-0.068925</td>\n",
       "    </tr>\n",
       "    <tr>\n",
       "      <td>critic_score</td>\n",
       "      <td>0.416998</td>\n",
       "      <td>1.000000</td>\n",
       "      <td>0.472462</td>\n",
       "    </tr>\n",
       "    <tr>\n",
       "      <td>user_score</td>\n",
       "      <td>-0.068925</td>\n",
       "      <td>0.472462</td>\n",
       "      <td>1.000000</td>\n",
       "    </tr>\n",
       "  </tbody>\n",
       "</table>\n",
       "</div>"
      ],
      "text/plain": [
       "              sum_sales  critic_score  user_score\n",
       "sum_sales      1.000000      0.416998   -0.068925\n",
       "critic_score   0.416998      1.000000    0.472462\n",
       "user_score    -0.068925      0.472462    1.000000"
      ]
     },
     "execution_count": 28,
     "metadata": {},
     "output_type": "execute_result"
    }
   ],
   "source": [
    "xone_sales[['sum_sales','critic_score', 'user_score']].corr() # построение матрицы корреляций"
   ]
  },
  {
   "cell_type": "code",
   "execution_count": 29,
   "metadata": {},
   "outputs": [
    {
     "name": "stdout",
     "output_type": "stream",
     "text": [
      "XOne\n"
     ]
    },
    {
     "data": {
      "image/png": "[encoded data removed]",
      "text/plain": [
       "<Figure size 432x288 with 1 Axes>"
      ]
     },
     "metadata": {
      "needs_background": "light"
     },
     "output_type": "display_data"
    },
    {
     "data": {
      "image/png": "[encoded data removed]",
      "text/plain": [
       "<Figure size 432x288 with 1 Axes>"
      ]
     },
     "metadata": {
      "needs_background": "light"
     },
     "output_type": "display_data"
    }
   ],
   "source": [
    "print('XOne')\n",
    "xone_sales.plot(x='critic_score', y='sum_sales', kind = 'scatter', title = 'critic_score')\n",
    "plt.show()\n",
    "xone_sales.plot(x='user_score', y='sum_sales', kind = 'scatter', title = 'user_score')\n",
    "plt.show()"
   ]
  },
  {
   "cell_type": "markdown",
   "metadata": {},
   "source": [
    "В целях изучения взаимосвязи между продажами игр для платформы XOne с одной стророны и отзывами критиков и пользователей с другой стороны рассчитаем матрицу корреляций между указанными показателями и построим соответствующие диаграммы рассеяния.\n",
    "Исходя из полученных результатов, видно, что между продажами игр и рейтингом критиков существует средняя по тесноте прямая зависимость (т.е. чем выше отзывы критиков, тем выше продажи), а между продажами игр и рейтингом взаимосвязь практически отсутствует. \n",
    "Полученные результаты свидетельствуют о том, что критики лучше разбираются в предпочтениях пользователей, чем сами пользователи. Видимо, значительная часть пользователей либо дают отзывы, не покупая игр (пиратский контент, обмен и т.п.), либо покупают игры не для себя (например: для детей). "
   ]
  },
  {
   "cell_type": "code",
   "execution_count": 30,
   "metadata": {},
   "outputs": [
    {
     "name": "stdout",
     "output_type": "stream",
     "text": [
      "PC\n",
      "              sum_sales  critic_score  user_score\n",
      "sum_sales      1.000000      0.240570   -0.120339\n",
      "critic_score   0.240570      1.000000    0.431879\n",
      "user_score    -0.120339      0.431879    1.000000\n"
     ]
    },
    {
     "data": {
      "image/png": "[encoded data removed]",
      "text/plain": [
       "<Figure size 432x288 with 1 Axes>"
      ]
     },
     "metadata": {
      "needs_background": "light"
     },
     "output_type": "display_data"
    },
    {
     "data": {
      "image/png": "[encoded data removed]",
      "text/plain": [
       "<Figure size 432x288 with 1 Axes>"
      ]
     },
     "metadata": {
      "needs_background": "light"
     },
     "output_type": "display_data"
    },
    {
     "name": "stdout",
     "output_type": "stream",
     "text": [
      "PS4\n",
      "              sum_sales  critic_score  user_score\n",
      "sum_sales      1.000000      0.406568   -0.031957\n",
      "critic_score   0.406568      1.000000    0.557654\n",
      "user_score    -0.031957      0.557654    1.000000\n"
     ]
    },
    {
     "data": {
      "image/png": "[encoded data removed]",
      "text/plain": [
       "<Figure size 432x288 with 1 Axes>"
      ]
     },
     "metadata": {
      "needs_background": "light"
     },
     "output_type": "display_data"
    },
    {
     "data": {
      "image/png": "[encoded data removed]",
      "text/plain": [
       "<Figure size 432x288 with 1 Axes>"
      ]
     },
     "metadata": {
      "needs_background": "light"
     },
     "output_type": "display_data"
    },
    {
     "name": "stdout",
     "output_type": "stream",
     "text": [
      "3DS\n",
      "              sum_sales  critic_score  user_score\n",
      "sum_sales      1.000000      0.323378    0.203735\n",
      "critic_score   0.323378      1.000000    0.722184\n",
      "user_score     0.203735      0.722184    1.000000\n"
     ]
    },
    {
     "data": {
      "image/png": "[encoded data removed]",
      "text/plain": [
       "<Figure size 432x288 with 1 Axes>"
      ]
     },
     "metadata": {
      "needs_background": "light"
     },
     "output_type": "display_data"
    },
    {
     "data": {
      "image/png": "[encoded data removed]",
      "text/plain": [
       "<Figure size 432x288 with 1 Axes>"
      ]
     },
     "metadata": {
      "needs_background": "light"
     },
     "output_type": "display_data"
    },
    {
     "name": "stdout",
     "output_type": "stream",
     "text": [
      "PS3\n",
      "              sum_sales  critic_score  user_score\n",
      "sum_sales      1.000000      0.331371   -0.005043\n",
      "critic_score   0.331371      1.000000    0.539525\n",
      "user_score    -0.005043      0.539525    1.000000\n"
     ]
    },
    {
     "data": {
      "image/png": "[encoded data removed]",
      "text/plain": [
       "<Figure size 432x288 with 1 Axes>"
      ]
     },
     "metadata": {
      "needs_background": "light"
     },
     "output_type": "display_data"
    },
    {
     "data": {
      "image/png": "[encoded data removed]",
      "text/plain": [
       "<Figure size 432x288 with 1 Axes>"
      ]
     },
     "metadata": {
      "needs_background": "light"
     },
     "output_type": "display_data"
    },
    {
     "name": "stdout",
     "output_type": "stream",
     "text": [
      "PSV\n",
      "              sum_sales  critic_score  user_score\n",
      "sum_sales      1.000000      0.094466   -0.004230\n",
      "critic_score   0.094466      1.000000    0.697889\n",
      "user_score    -0.004230      0.697889    1.000000\n"
     ]
    },
    {
     "data": {
      "image/png": "[encoded data removed]",
      "text/plain": [
       "<Figure size 432x288 with 1 Axes>"
      ]
     },
     "metadata": {
      "needs_background": "light"
     },
     "output_type": "display_data"
    },
    {
     "data": {
      "image/png": "[encoded data removed]",
      "text/plain": [
       "<Figure size 432x288 with 1 Axes>"
      ]
     },
     "metadata": {
      "needs_background": "light"
     },
     "output_type": "display_data"
    },
    {
     "name": "stdout",
     "output_type": "stream",
     "text": [
      "Wii\n",
      "              sum_sales  critic_score  user_score\n",
      "sum_sales      1.000000     -0.405997    0.277542\n",
      "critic_score  -0.405997      1.000000    0.780222\n",
      "user_score     0.277542      0.780222    1.000000\n"
     ]
    },
    {
     "data": {
      "image/png": "[encoded data removed]",
      "text/plain": [
       "<Figure size 432x288 with 1 Axes>"
      ]
     },
     "metadata": {
      "needs_background": "light"
     },
     "output_type": "display_data"
    },
    {
     "data": {
      "image/png": "[encoded data removed]",
      "text/plain": [
       "<Figure size 432x288 with 1 Axes>"
      ]
     },
     "metadata": {
      "needs_background": "light"
     },
     "output_type": "display_data"
    },
    {
     "name": "stdout",
     "output_type": "stream",
     "text": [
      "WiiU\n",
      "              sum_sales  critic_score  user_score\n",
      "sum_sales      1.000000       0.34838    0.400219\n",
      "critic_score   0.348380       1.00000    0.770080\n",
      "user_score     0.400219       0.77008    1.000000\n"
     ]
    },
    {
     "data": {
      "image/png": "[encoded data removed]",
      "text/plain": [
       "<Figure size 432x288 with 1 Axes>"
      ]
     },
     "metadata": {
      "needs_background": "light"
     },
     "output_type": "display_data"
    },
    {
     "data": {
      "image/png": "[encoded data removed]",
      "text/plain": [
       "<Figure size 432x288 with 1 Axes>"
      ]
     },
     "metadata": {
      "needs_background": "light"
     },
     "output_type": "display_data"
    },
    {
     "name": "stdout",
     "output_type": "stream",
     "text": [
      "X360\n",
      "              sum_sales  critic_score  user_score\n",
      "sum_sales      1.000000      0.360266    0.006315\n",
      "critic_score   0.360266      1.000000    0.557952\n",
      "user_score     0.006315      0.557952    1.000000\n"
     ]
    },
    {
     "data": {
      "image/png": "[encoded data removed]",
      "text/plain": [
       "<Figure size 432x288 with 1 Axes>"
      ]
     },
     "metadata": {
      "needs_background": "light"
     },
     "output_type": "display_data"
    },
    {
     "data": {
      "image/png": "[encoded data removed]",
      "text/plain": [
       "<Figure size 432x288 with 1 Axes>"
      ]
     },
     "metadata": {
      "needs_background": "light"
     },
     "output_type": "display_data"
    }
   ],
   "source": [
    "l_platf = ['PC', 'PS4', '3DS', 'PS3', 'PSV', 'Wii', 'WiiU', 'X360']\n",
    "for name in l_platf:\n",
    "    pc_sales = games[games['platform'] == name]\n",
    "    print(name)\n",
    "    print(pc_sales[['sum_sales','critic_score', 'user_score']].corr())\n",
    "    pc_sales.plot(x='critic_score', y='sum_sales', kind = 'scatter', title = 'critic_score')\n",
    "    pc_sales.plot(x='user_score', y='sum_sales', kind = 'scatter', title = 'user_score')\n",
    "    plt.show()"
   ]
  },
  {
   "cell_type": "markdown",
   "metadata": {},
   "source": [
    "Выделим из общей таблицы данные по платформам, игры которых выпускались в 2016 г.: PC, PS4, 3DS, PS3, PSV, Wii, WiiU, X360. Рассчитаем по ним матрицы корреляций и построим аналогичные диаграммы рассеяния. Выводы, сделанные по платформе XOne, подтверждаются. Критики разбираются в играх лучше пользователей. Исключение - только платформа WiiU. "
   ]
  },
  {
   "cell_type": "code",
   "execution_count": 31,
   "metadata": {},
   "outputs": [
    {
     "data": {
      "text/html": [
       "<div>\n",
       "<style scoped>\n",
       "    .dataframe tbody tr th:only-of-type {\n",
       "        vertical-align: middle;\n",
       "    }\n",
       "\n",
       "    .dataframe tbody tr th {\n",
       "        vertical-align: top;\n",
       "    }\n",
       "\n",
       "    .dataframe thead th {\n",
       "        text-align: right;\n",
       "    }\n",
       "</style>\n",
       "<table border=\"1\" class=\"dataframe\">\n",
       "  <thead>\n",
       "    <tr style=\"text-align: right;\">\n",
       "      <th></th>\n",
       "      <th>sum</th>\n",
       "      <th>count</th>\n",
       "      <th>mean</th>\n",
       "    </tr>\n",
       "    <tr>\n",
       "      <th>genre</th>\n",
       "      <th></th>\n",
       "      <th></th>\n",
       "      <th></th>\n",
       "    </tr>\n",
       "  </thead>\n",
       "  <tbody>\n",
       "    <tr>\n",
       "      <td>Action</td>\n",
       "      <td>446.41</td>\n",
       "      <td>1041</td>\n",
       "      <td>0.428828</td>\n",
       "    </tr>\n",
       "    <tr>\n",
       "      <td>Shooter</td>\n",
       "      <td>304.82</td>\n",
       "      <td>238</td>\n",
       "      <td>1.280756</td>\n",
       "    </tr>\n",
       "    <tr>\n",
       "      <td>Role-Playing</td>\n",
       "      <td>193.09</td>\n",
       "      <td>372</td>\n",
       "      <td>0.519059</td>\n",
       "    </tr>\n",
       "    <tr>\n",
       "      <td>Sports</td>\n",
       "      <td>181.07</td>\n",
       "      <td>268</td>\n",
       "      <td>0.675634</td>\n",
       "    </tr>\n",
       "    <tr>\n",
       "      <td>Misc</td>\n",
       "      <td>85.28</td>\n",
       "      <td>193</td>\n",
       "      <td>0.441865</td>\n",
       "    </tr>\n",
       "    <tr>\n",
       "      <td>Platform</td>\n",
       "      <td>61.00</td>\n",
       "      <td>85</td>\n",
       "      <td>0.717647</td>\n",
       "    </tr>\n",
       "    <tr>\n",
       "      <td>Racing</td>\n",
       "      <td>53.59</td>\n",
       "      <td>116</td>\n",
       "      <td>0.461983</td>\n",
       "    </tr>\n",
       "    <tr>\n",
       "      <td>Fighting</td>\n",
       "      <td>44.49</td>\n",
       "      <td>109</td>\n",
       "      <td>0.408165</td>\n",
       "    </tr>\n",
       "    <tr>\n",
       "      <td>Simulation</td>\n",
       "      <td>35.31</td>\n",
       "      <td>81</td>\n",
       "      <td>0.435926</td>\n",
       "    </tr>\n",
       "    <tr>\n",
       "      <td>Adventure</td>\n",
       "      <td>29.52</td>\n",
       "      <td>303</td>\n",
       "      <td>0.097426</td>\n",
       "    </tr>\n",
       "    <tr>\n",
       "      <td>Strategy</td>\n",
       "      <td>13.34</td>\n",
       "      <td>71</td>\n",
       "      <td>0.187887</td>\n",
       "    </tr>\n",
       "    <tr>\n",
       "      <td>Puzzle</td>\n",
       "      <td>4.89</td>\n",
       "      <td>28</td>\n",
       "      <td>0.174643</td>\n",
       "    </tr>\n",
       "  </tbody>\n",
       "</table>\n",
       "</div>"
      ],
      "text/plain": [
       "                 sum  count      mean\n",
       "genre                                \n",
       "Action        446.41   1041  0.428828\n",
       "Shooter       304.82    238  1.280756\n",
       "Role-Playing  193.09    372  0.519059\n",
       "Sports        181.07    268  0.675634\n",
       "Misc           85.28    193  0.441865\n",
       "Platform       61.00     85  0.717647\n",
       "Racing         53.59    116  0.461983\n",
       "Fighting       44.49    109  0.408165\n",
       "Simulation     35.31     81  0.435926\n",
       "Adventure      29.52    303  0.097426\n",
       "Strategy       13.34     71  0.187887\n",
       "Puzzle          4.89     28  0.174643"
      ]
     },
     "execution_count": 31,
     "metadata": {},
     "output_type": "execute_result"
    }
   ],
   "source": [
    "genres_games = games.groupby(['genre']).agg({'sum_sales': ['sum', 'count', 'mean']})\n",
    "genres_games.set_axis(['sum', 'count', 'mean'],axis = 'columns',inplace = True)\n",
    "genres_games = genres_games.sort_values(by = 'sum', ascending = False)\n",
    "genres_games"
   ]
  },
  {
   "cell_type": "markdown",
   "metadata": {},
   "source": [
    "Рассмотрим распределение игр по жанрам. Если брать общую сумму продаж, то лидерами являются жанры Action, Shooter и Role-Playing а аутсайдерами Adventure, Strategy, Puzzle."
   ]
  },
  {
   "cell_type": "code",
   "execution_count": 32,
   "metadata": {},
   "outputs": [
    {
     "data": {
      "text/html": [
       "<div>\n",
       "<style scoped>\n",
       "    .dataframe tbody tr th:only-of-type {\n",
       "        vertical-align: middle;\n",
       "    }\n",
       "\n",
       "    .dataframe tbody tr th {\n",
       "        vertical-align: top;\n",
       "    }\n",
       "\n",
       "    .dataframe thead th {\n",
       "        text-align: right;\n",
       "    }\n",
       "</style>\n",
       "<table border=\"1\" class=\"dataframe\">\n",
       "  <thead>\n",
       "    <tr style=\"text-align: right;\">\n",
       "      <th></th>\n",
       "      <th>sum</th>\n",
       "      <th>count</th>\n",
       "      <th>mean</th>\n",
       "    </tr>\n",
       "    <tr>\n",
       "      <th>genre</th>\n",
       "      <th></th>\n",
       "      <th></th>\n",
       "      <th></th>\n",
       "    </tr>\n",
       "  </thead>\n",
       "  <tbody>\n",
       "    <tr>\n",
       "      <td>Shooter</td>\n",
       "      <td>304.82</td>\n",
       "      <td>238</td>\n",
       "      <td>1.280756</td>\n",
       "    </tr>\n",
       "    <tr>\n",
       "      <td>Platform</td>\n",
       "      <td>61.00</td>\n",
       "      <td>85</td>\n",
       "      <td>0.717647</td>\n",
       "    </tr>\n",
       "    <tr>\n",
       "      <td>Sports</td>\n",
       "      <td>181.07</td>\n",
       "      <td>268</td>\n",
       "      <td>0.675634</td>\n",
       "    </tr>\n",
       "    <tr>\n",
       "      <td>Role-Playing</td>\n",
       "      <td>193.09</td>\n",
       "      <td>372</td>\n",
       "      <td>0.519059</td>\n",
       "    </tr>\n",
       "    <tr>\n",
       "      <td>Racing</td>\n",
       "      <td>53.59</td>\n",
       "      <td>116</td>\n",
       "      <td>0.461983</td>\n",
       "    </tr>\n",
       "    <tr>\n",
       "      <td>Misc</td>\n",
       "      <td>85.28</td>\n",
       "      <td>193</td>\n",
       "      <td>0.441865</td>\n",
       "    </tr>\n",
       "    <tr>\n",
       "      <td>Simulation</td>\n",
       "      <td>35.31</td>\n",
       "      <td>81</td>\n",
       "      <td>0.435926</td>\n",
       "    </tr>\n",
       "    <tr>\n",
       "      <td>Action</td>\n",
       "      <td>446.41</td>\n",
       "      <td>1041</td>\n",
       "      <td>0.428828</td>\n",
       "    </tr>\n",
       "    <tr>\n",
       "      <td>Fighting</td>\n",
       "      <td>44.49</td>\n",
       "      <td>109</td>\n",
       "      <td>0.408165</td>\n",
       "    </tr>\n",
       "    <tr>\n",
       "      <td>Strategy</td>\n",
       "      <td>13.34</td>\n",
       "      <td>71</td>\n",
       "      <td>0.187887</td>\n",
       "    </tr>\n",
       "    <tr>\n",
       "      <td>Puzzle</td>\n",
       "      <td>4.89</td>\n",
       "      <td>28</td>\n",
       "      <td>0.174643</td>\n",
       "    </tr>\n",
       "    <tr>\n",
       "      <td>Adventure</td>\n",
       "      <td>29.52</td>\n",
       "      <td>303</td>\n",
       "      <td>0.097426</td>\n",
       "    </tr>\n",
       "  </tbody>\n",
       "</table>\n",
       "</div>"
      ],
      "text/plain": [
       "                 sum  count      mean\n",
       "genre                                \n",
       "Shooter       304.82    238  1.280756\n",
       "Platform       61.00     85  0.717647\n",
       "Sports        181.07    268  0.675634\n",
       "Role-Playing  193.09    372  0.519059\n",
       "Racing         53.59    116  0.461983\n",
       "Misc           85.28    193  0.441865\n",
       "Simulation     35.31     81  0.435926\n",
       "Action        446.41   1041  0.428828\n",
       "Fighting       44.49    109  0.408165\n",
       "Strategy       13.34     71  0.187887\n",
       "Puzzle          4.89     28  0.174643\n",
       "Adventure      29.52    303  0.097426"
      ]
     },
     "execution_count": 32,
     "metadata": {},
     "output_type": "execute_result"
    }
   ],
   "source": [
    "genres_games = genres_games.sort_values(by = 'mean', ascending = False)\n",
    "genres_games"
   ]
  },
  {
   "cell_type": "markdown",
   "metadata": {},
   "source": [
    "Если рассматривать сумму продаж в расчете на 1 игру, ситуация с лидерами меняется. Лидеры здесь Shooter, Platform и Sports, а аутсайдеры остались прежними. Таким образом, можно сказать, что существуют жанры с высокими и низкими продажами.\n",
    "Очевидно, что игры жанров Action, Sports и Shooter ориентированы в основном на молодежь мужского пола, их разработка в основном ориентирована на зрелищности. Игры-платформеры (аркады) ориентированы, в основном на детей.\n",
    "Если мы поставим целью вложиться в создание успешной игры и получить быстрый результат, то лучше вкладываться в шутеры, игры про спорт или платформеры, где важна зрелищность, а сюжет не важен. "
   ]
  },
  {
   "cell_type": "markdown",
   "metadata": {},
   "source": [
    "## 4. Портрет пользователя каждого региона"
   ]
  },
  {
   "cell_type": "code",
   "execution_count": 33,
   "metadata": {},
   "outputs": [
    {
     "name": "stdout",
     "output_type": "stream",
     "text": [
      "na_sales\n",
      "platform\n",
      "X360    23.673353\n",
      "PS4     18.312872\n",
      "PS3     17.470823\n",
      "XOne    15.682312\n",
      "3DS      9.409050\n",
      "Name: na_sales, dtype: float64\n",
      "\n",
      "eu_sales\n",
      "platform\n",
      "PS4     27.705449\n",
      "PS3     21.064310\n",
      "X360    14.705940\n",
      "XOne    10.130584\n",
      "3DS      8.414335\n",
      "Name: eu_sales, dtype: float64\n",
      "\n",
      "jp_sales\n",
      "platform\n",
      "3DS     45.521460\n",
      "PS3     18.292557\n",
      "PSV     10.942360\n",
      "PS4      8.272859\n",
      "WiiU     6.743728\n",
      "Name: jp_sales, dtype: float64\n",
      "\n"
     ]
    }
   ],
   "source": [
    "sales = ['na_sales', 'eu_sales', 'jp_sales']\n",
    "for region in sales:\n",
    "    print(region)\n",
    "    print((games.groupby('platform')[region].sum() / games[region].sum()*100).sort_values(ascending = False).head())\n",
    "    print('')"
   ]
  },
  {
   "cell_type": "code",
   "execution_count": 34,
   "metadata": {},
   "outputs": [
    {
     "name": "stdout",
     "output_type": "stream",
     "text": [
      "na_sales\n"
     ]
    },
    {
     "data": {
      "image/png": "[encoded data removed]",
      "text/plain": [
       "<Figure size 432x288 with 1 Axes>"
      ]
     },
     "metadata": {
      "needs_background": "light"
     },
     "output_type": "display_data"
    },
    {
     "name": "stdout",
     "output_type": "stream",
     "text": [
      "eu_sales\n"
     ]
    },
    {
     "data": {
      "image/png": "[encoded data removed]",
      "text/plain": [
       "<Figure size 432x288 with 1 Axes>"
      ]
     },
     "metadata": {
      "needs_background": "light"
     },
     "output_type": "display_data"
    },
    {
     "name": "stdout",
     "output_type": "stream",
     "text": [
      "jp_sales\n"
     ]
    },
    {
     "data": {
      "image/png": "[encoded data removed]",
      "text/plain": [
       "<Figure size 432x288 with 1 Axes>"
      ]
     },
     "metadata": {
      "needs_background": "light"
     },
     "output_type": "display_data"
    }
   ],
   "source": [
    "sales = ['na_sales', 'eu_sales', 'jp_sales']\n",
    "for region in sales:\n",
    "    print(region)\n",
    "    (games.groupby('platform')[region].sum() / games[region].sum()*100).sort_values(ascending = False).head().plot(x='platform', kind = 'bar')\n",
    "    plt.show()"
   ]
  },
  {
   "cell_type": "markdown",
   "metadata": {},
   "source": [
    "Рассмотрим самые популярные платформы в каждом из регионов на основе доли доходов от продажи игр по кадой платформе. В Северной Америке наиболее популярные платформы X360 (Microsoft Xbox360 - производитель компания из США), PS4, PS3, XOne и 3DS. В Европейском Союзе в лидерах те же платформы, только на первых местах PS4 и PS3. В Японии в лидерах исключительно игры платформ японского производства 3DS, PS3, PSV, PS4, Wii.\n",
    "Интересно, что в каждом регионе есть явный лидер: в США - XBox360, в Европе - Sony PlayStation4, в Японии - портативная 3DS.\n",
    "Рассматривая каждиую платфрму в отдельности можно отметить следующие особенности:\n",
    "Явными лидерами в рассматриваемых регионах является PS4 и PS3 (доли в Севрной Америке - 18,3% и 17,5%, в Европе - 27,7% и 21,1%, в Японии - 8,3% и 18,3% соответственно). \n",
    "За ними следует 3DS (доли в Севрной Америке - 9,4%, в Европе - 8,4%, в Японии - 45,5%)\n",
    "Из оставшихся платформ больше ни одна не представлена в топ-5 во всех 3-х регионах.\n",
    "Стоит также отметить X360 и XOne, которые занимают ведущие места в Америке и Европе (X360 - 23,7% и 14,7%, XOne - 15.7% и 10,1% соответственно).\n",
    "Также можно сделать вывод о том, что Европа и Америка тяготеют к стационарным игровым платформам (т.е. люди играют только дома или в гостях), Япония - в большей степени, к портативными приставкам, т.е. люди играют везде (дома, в транспорте, на прогулках и т.п.)."
   ]
  },
  {
   "cell_type": "code",
   "execution_count": 35,
   "metadata": {},
   "outputs": [
    {
     "name": "stdout",
     "output_type": "stream",
     "text": [
      "na_sales\n",
      "genre\n",
      "Action          180.15\n",
      "Shooter         144.83\n",
      "Sports           81.53\n",
      "Role-Playing     64.11\n",
      "Misc             38.19\n",
      "Name: na_sales, dtype: float64\n",
      "\n",
      "eu_sales\n",
      "genre\n",
      "Action          161.70\n",
      "Shooter         113.49\n",
      "Sports           69.09\n",
      "Role-Playing     48.58\n",
      "Racing           27.29\n",
      "Name: eu_sales, dtype: float64\n",
      "\n",
      "jp_sales\n",
      "genre\n",
      "Role-Playing    65.54\n",
      "Action          52.80\n",
      "Misc            13.10\n",
      "Simulation      10.41\n",
      "Fighting         9.44\n",
      "Name: jp_sales, dtype: float64\n",
      "\n"
     ]
    }
   ],
   "source": [
    "for region in sales:\n",
    "    print(region)\n",
    "    print(games.groupby('genre')[region].sum().sort_values(ascending = False).head())\n",
    "    print('')"
   ]
  },
  {
   "cell_type": "code",
   "execution_count": 36,
   "metadata": {},
   "outputs": [
    {
     "name": "stdout",
     "output_type": "stream",
     "text": [
      "na_sales\n"
     ]
    },
    {
     "data": {
      "image/png": "[encoded data removed]",
      "text/plain": [
       "<Figure size 432x288 with 1 Axes>"
      ]
     },
     "metadata": {
      "needs_background": "light"
     },
     "output_type": "display_data"
    },
    {
     "name": "stdout",
     "output_type": "stream",
     "text": [
      "eu_sales\n"
     ]
    },
    {
     "data": {
      "image/png": "[encoded data removed]",
      "text/plain": [
       "<Figure size 432x288 with 1 Axes>"
      ]
     },
     "metadata": {
      "needs_background": "light"
     },
     "output_type": "display_data"
    },
    {
     "name": "stdout",
     "output_type": "stream",
     "text": [
      "jp_sales\n"
     ]
    },
    {
     "data": {
      "image/png": "[encoded data removed]",
      "text/plain": [
       "<Figure size 432x288 with 1 Axes>"
      ]
     },
     "metadata": {
      "needs_background": "light"
     },
     "output_type": "display_data"
    }
   ],
   "source": [
    "sales = ['na_sales', 'eu_sales', 'jp_sales']\n",
    "for region in sales:\n",
    "    print(region)\n",
    "    games.groupby('genre')[region].sum().sort_values(ascending = False).head().plot(x='genre', kind = 'bar')\n",
    "    plt.show()"
   ]
  },
  {
   "cell_type": "markdown",
   "metadata": {},
   "source": [
    "Рассмотрим самые популярные жанры игр в каждом из регионов. В Северной Америке и Европе наиболее популярны экшены, стрелялки, игры про спорт, ролевые и прочие в Америке, гонки - в Нвропе, в Японии в топе с большим отрывом ролевые игры, затем идут экшены, прочие, симуляторы и драки (файтинги).\n",
    "Разница между Америкой и Европой с одной стороны и Японией с другой обусловлена различием культур, а также средним возрастом населения. Европа и Америка - культуры сформированные европейцами (экстравертами), Япония - моноэтническая культура, замкнутая на себя (интроверты). \n",
    "Кроме того, на выбор жанров накладывает отпечаток возраст игроков. Судя по топу жанров, в Америке и Европе в игры играет, в основном подростки и молодежь: в избранных жанрах мало мысли, много действия и эффектов. В Японии, видимо, в игры играют и зрелые люди и молодежь: наряду с экшенами и спортом присутствуют ролевые игры, где надо думать. "
   ]
  },
  {
   "cell_type": "code",
   "execution_count": 37,
   "metadata": {},
   "outputs": [
    {
     "name": "stdout",
     "output_type": "stream",
     "text": [
      "na_sales\n",
      "rating\n",
      "M       39.015477\n",
      "E       19.281227\n",
      "NR      17.398407\n",
      "E10+    13.137641\n",
      "T       11.167248\n",
      "Name: na_sales, dtype: float64\n",
      "\n",
      "eu_sales\n",
      "rating\n",
      "M       38.181640\n",
      "E       22.199313\n",
      "NR      17.967599\n",
      "E10+    11.242023\n",
      "T       10.409426\n",
      "Name: eu_sales, dtype: float64\n",
      "\n",
      "jp_sales\n",
      "rating\n",
      "NR      56.557122\n",
      "E       14.684843\n",
      "T       13.523740\n",
      "M       10.989011\n",
      "E10+     4.245283\n",
      "Name: jp_sales, dtype: float64\n",
      "\n"
     ]
    }
   ],
   "source": [
    "for region in sales:\n",
    "    print(region)\n",
    "    print((games.groupby('rating')[region].sum()/ games[region].sum()*100).sort_values(ascending = False))\n",
    "    print('')"
   ]
  },
  {
   "cell_type": "code",
   "execution_count": 38,
   "metadata": {},
   "outputs": [
    {
     "name": "stdout",
     "output_type": "stream",
     "text": [
      "na_sales\n"
     ]
    },
    {
     "data": {
      "image/png": "[encoded data removed]",
      "text/plain": [
       "<Figure size 432x288 with 1 Axes>"
      ]
     },
     "metadata": {
      "needs_background": "light"
     },
     "output_type": "display_data"
    },
    {
     "name": "stdout",
     "output_type": "stream",
     "text": [
      "eu_sales\n"
     ]
    },
    {
     "data": {
      "image/png": "[encoded data removed]",
      "text/plain": [
       "<Figure size 432x288 with 1 Axes>"
      ]
     },
     "metadata": {
      "needs_background": "light"
     },
     "output_type": "display_data"
    },
    {
     "name": "stdout",
     "output_type": "stream",
     "text": [
      "jp_sales\n"
     ]
    },
    {
     "data": {
      "image/png": "[encoded data removed]",
      "text/plain": [
       "<Figure size 432x288 with 1 Axes>"
      ]
     },
     "metadata": {
      "needs_background": "light"
     },
     "output_type": "display_data"
    }
   ],
   "source": [
    "sales = ['na_sales', 'eu_sales', 'jp_sales']\n",
    "for region in sales:\n",
    "    print(region)\n",
    "    (games.groupby('rating')[region].sum()/ games[region].sum()*100).sort_values(ascending = False).plot(x='rating', kind = 'bar')\n",
    "    plt.show()"
   ]
  },
  {
   "cell_type": "markdown",
   "metadata": {},
   "source": [
    "Рассмотрим распределение продаж игр в зависимости от рейтингов игр ESRB в каждом из регионов. Если рассматривать присвоенные рейтинги, то можно заметить, что в лидерах продаж в каждом из регионов: игры для взрослых (М), игры для всех (Е), игры для тинэйджеров (Т)  и т.п. \n",
    "Тем не менее, нужно также рассмотреть всю совокупность игр, в том числе игры, которым рейтинг не присвоен. Продажи таких игр в Америке и Европе составляют 17.4% и 17.9%, а в Японии - 56.6%. \n",
    "Таким образом, можно сделать вывод о том, что рейтинг ESRB оказывает влияние на продажи игр в Европе и Северной Америке, а в Японии - нет."
   ]
  },
  {
   "cell_type": "markdown",
   "metadata": {},
   "source": [
    "## 5. Проверка гипотез"
   ]
  },
  {
   "cell_type": "markdown",
   "metadata": {},
   "source": [
    "Проверим гипотезу о равенстве средних пользовательских рейтингов платформ Xbox One и PC."
   ]
  },
  {
   "cell_type": "markdown",
   "metadata": {},
   "source": [
    "#### Нулевая гипотеза: средние пользовательские рейтинги платформ Xbox One и PC равны. Альтернативная гипотеза: средние пользовательские рейтинги платформ Xbox One и PC не равны."
   ]
  },
  {
   "cell_type": "code",
   "execution_count": 39,
   "metadata": {},
   "outputs": [
    {
     "data": {
      "text/html": [
       "<div>\n",
       "<style scoped>\n",
       "    .dataframe tbody tr th:only-of-type {\n",
       "        vertical-align: middle;\n",
       "    }\n",
       "\n",
       "    .dataframe tbody tr th {\n",
       "        vertical-align: top;\n",
       "    }\n",
       "\n",
       "    .dataframe thead th {\n",
       "        text-align: right;\n",
       "    }\n",
       "</style>\n",
       "<table border=\"1\" class=\"dataframe\">\n",
       "  <thead>\n",
       "    <tr style=\"text-align: right;\">\n",
       "      <th></th>\n",
       "      <th>name</th>\n",
       "      <th>platform</th>\n",
       "      <th>year_of_release</th>\n",
       "      <th>genre</th>\n",
       "      <th>na_sales</th>\n",
       "      <th>eu_sales</th>\n",
       "      <th>jp_sales</th>\n",
       "      <th>other_sales</th>\n",
       "      <th>critic_score</th>\n",
       "      <th>user_score</th>\n",
       "      <th>rating</th>\n",
       "      <th>sum_sales</th>\n",
       "    </tr>\n",
       "  </thead>\n",
       "  <tbody>\n",
       "    <tr>\n",
       "      <td>15456</td>\n",
       "      <td>Carmageddon: Max Damage</td>\n",
       "      <td>XOne</td>\n",
       "      <td>2016</td>\n",
       "      <td>Action</td>\n",
       "      <td>0.01</td>\n",
       "      <td>0.01</td>\n",
       "      <td>0.0</td>\n",
       "      <td>0.00</td>\n",
       "      <td>52.0</td>\n",
       "      <td>7.1</td>\n",
       "      <td>M</td>\n",
       "      <td>0.02</td>\n",
       "    </tr>\n",
       "    <tr>\n",
       "      <td>6492</td>\n",
       "      <td>Project CARS</td>\n",
       "      <td>XOne</td>\n",
       "      <td>2015</td>\n",
       "      <td>Racing</td>\n",
       "      <td>0.11</td>\n",
       "      <td>0.13</td>\n",
       "      <td>0.0</td>\n",
       "      <td>0.02</td>\n",
       "      <td>81.0</td>\n",
       "      <td>5.8</td>\n",
       "      <td>E</td>\n",
       "      <td>0.26</td>\n",
       "    </tr>\n",
       "    <tr>\n",
       "      <td>12061</td>\n",
       "      <td>Dynasty Warriors 8: Empires</td>\n",
       "      <td>XOne</td>\n",
       "      <td>2014</td>\n",
       "      <td>Action</td>\n",
       "      <td>0.04</td>\n",
       "      <td>0.02</td>\n",
       "      <td>0.0</td>\n",
       "      <td>0.01</td>\n",
       "      <td>58.0</td>\n",
       "      <td>6.8</td>\n",
       "      <td>T</td>\n",
       "      <td>0.07</td>\n",
       "    </tr>\n",
       "    <tr>\n",
       "      <td>493</td>\n",
       "      <td>Call of Duty: Ghosts</td>\n",
       "      <td>XOne</td>\n",
       "      <td>2013</td>\n",
       "      <td>Shooter</td>\n",
       "      <td>1.88</td>\n",
       "      <td>0.77</td>\n",
       "      <td>0.0</td>\n",
       "      <td>0.27</td>\n",
       "      <td>78.0</td>\n",
       "      <td>4.3</td>\n",
       "      <td>M</td>\n",
       "      <td>2.92</td>\n",
       "    </tr>\n",
       "    <tr>\n",
       "      <td>4481</td>\n",
       "      <td>Borderlands: The Handsome Collection</td>\n",
       "      <td>XOne</td>\n",
       "      <td>2015</td>\n",
       "      <td>Shooter</td>\n",
       "      <td>0.26</td>\n",
       "      <td>0.13</td>\n",
       "      <td>0.0</td>\n",
       "      <td>0.04</td>\n",
       "      <td>80.0</td>\n",
       "      <td>7.8</td>\n",
       "      <td>M</td>\n",
       "      <td>0.43</td>\n",
       "    </tr>\n",
       "  </tbody>\n",
       "</table>\n",
       "</div>"
      ],
      "text/plain": [
       "                                       name platform  year_of_release  \\\n",
       "15456               Carmageddon: Max Damage     XOne             2016   \n",
       "6492                           Project CARS     XOne             2015   \n",
       "12061           Dynasty Warriors 8: Empires     XOne             2014   \n",
       "493                    Call of Duty: Ghosts     XOne             2013   \n",
       "4481   Borderlands: The Handsome Collection     XOne             2015   \n",
       "\n",
       "         genre  na_sales  eu_sales  jp_sales  other_sales  critic_score  \\\n",
       "15456   Action      0.01      0.01       0.0         0.00          52.0   \n",
       "6492    Racing      0.11      0.13       0.0         0.02          81.0   \n",
       "12061   Action      0.04      0.02       0.0         0.01          58.0   \n",
       "493    Shooter      1.88      0.77       0.0         0.27          78.0   \n",
       "4481   Shooter      0.26      0.13       0.0         0.04          80.0   \n",
       "\n",
       "       user_score rating  sum_sales  \n",
       "15456         7.1      M       0.02  \n",
       "6492          5.8      E       0.26  \n",
       "12061         6.8      T       0.07  \n",
       "493           4.3      M       2.92  \n",
       "4481          7.8      M       0.43  "
      ]
     },
     "execution_count": 39,
     "metadata": {},
     "output_type": "execute_result"
    }
   ],
   "source": [
    "data_xone = games.query('platform == \"XOne\"')\n",
    "data_xone = data_xone.dropna(subset = ['user_score'])# удаление строк с пропусками в переменной user_score\n",
    "data_xone.sample(5)"
   ]
  },
  {
   "cell_type": "code",
   "execution_count": 40,
   "metadata": {},
   "outputs": [
    {
     "data": {
      "text/html": [
       "<div>\n",
       "<style scoped>\n",
       "    .dataframe tbody tr th:only-of-type {\n",
       "        vertical-align: middle;\n",
       "    }\n",
       "\n",
       "    .dataframe tbody tr th {\n",
       "        vertical-align: top;\n",
       "    }\n",
       "\n",
       "    .dataframe thead th {\n",
       "        text-align: right;\n",
       "    }\n",
       "</style>\n",
       "<table border=\"1\" class=\"dataframe\">\n",
       "  <thead>\n",
       "    <tr style=\"text-align: right;\">\n",
       "      <th></th>\n",
       "      <th>name</th>\n",
       "      <th>platform</th>\n",
       "      <th>year_of_release</th>\n",
       "      <th>genre</th>\n",
       "      <th>na_sales</th>\n",
       "      <th>eu_sales</th>\n",
       "      <th>jp_sales</th>\n",
       "      <th>other_sales</th>\n",
       "      <th>critic_score</th>\n",
       "      <th>user_score</th>\n",
       "      <th>rating</th>\n",
       "      <th>sum_sales</th>\n",
       "    </tr>\n",
       "  </thead>\n",
       "  <tbody>\n",
       "    <tr>\n",
       "      <td>15046</td>\n",
       "      <td>Final Fantasy XIV: Heavensward</td>\n",
       "      <td>PC</td>\n",
       "      <td>2015</td>\n",
       "      <td>Action</td>\n",
       "      <td>0.01</td>\n",
       "      <td>0.01</td>\n",
       "      <td>0.0</td>\n",
       "      <td>0.00</td>\n",
       "      <td>86.0</td>\n",
       "      <td>7.7</td>\n",
       "      <td>T</td>\n",
       "      <td>0.02</td>\n",
       "    </tr>\n",
       "    <tr>\n",
       "      <td>16518</td>\n",
       "      <td>Rugby World Cup 2015</td>\n",
       "      <td>PC</td>\n",
       "      <td>2015</td>\n",
       "      <td>Sports</td>\n",
       "      <td>0.00</td>\n",
       "      <td>0.01</td>\n",
       "      <td>0.0</td>\n",
       "      <td>0.00</td>\n",
       "      <td>NaN</td>\n",
       "      <td>1.4</td>\n",
       "      <td>E</td>\n",
       "      <td>0.01</td>\n",
       "    </tr>\n",
       "    <tr>\n",
       "      <td>4693</td>\n",
       "      <td>Tom Clancy's The Division</td>\n",
       "      <td>PC</td>\n",
       "      <td>2016</td>\n",
       "      <td>Shooter</td>\n",
       "      <td>0.22</td>\n",
       "      <td>0.15</td>\n",
       "      <td>0.0</td>\n",
       "      <td>0.04</td>\n",
       "      <td>79.0</td>\n",
       "      <td>5.8</td>\n",
       "      <td>M</td>\n",
       "      <td>0.41</td>\n",
       "    </tr>\n",
       "    <tr>\n",
       "      <td>15235</td>\n",
       "      <td>Street Fighter X Tekken</td>\n",
       "      <td>PC</td>\n",
       "      <td>2012</td>\n",
       "      <td>Fighting</td>\n",
       "      <td>0.00</td>\n",
       "      <td>0.02</td>\n",
       "      <td>0.0</td>\n",
       "      <td>0.00</td>\n",
       "      <td>79.0</td>\n",
       "      <td>6.4</td>\n",
       "      <td>T</td>\n",
       "      <td>0.02</td>\n",
       "    </tr>\n",
       "    <tr>\n",
       "      <td>8251</td>\n",
       "      <td>The Secret World</td>\n",
       "      <td>PC</td>\n",
       "      <td>2012</td>\n",
       "      <td>Role-Playing</td>\n",
       "      <td>0.07</td>\n",
       "      <td>0.08</td>\n",
       "      <td>0.0</td>\n",
       "      <td>0.02</td>\n",
       "      <td>74.0</td>\n",
       "      <td>8.2</td>\n",
       "      <td>M</td>\n",
       "      <td>0.17</td>\n",
       "    </tr>\n",
       "  </tbody>\n",
       "</table>\n",
       "</div>"
      ],
      "text/plain": [
       "                                 name platform  year_of_release         genre  \\\n",
       "15046  Final Fantasy XIV: Heavensward       PC             2015        Action   \n",
       "16518            Rugby World Cup 2015       PC             2015        Sports   \n",
       "4693        Tom Clancy's The Division       PC             2016       Shooter   \n",
       "15235         Street Fighter X Tekken       PC             2012      Fighting   \n",
       "8251                 The Secret World       PC             2012  Role-Playing   \n",
       "\n",
       "       na_sales  eu_sales  jp_sales  other_sales  critic_score  user_score  \\\n",
       "15046      0.01      0.01       0.0         0.00          86.0         7.7   \n",
       "16518      0.00      0.01       0.0         0.00           NaN         1.4   \n",
       "4693       0.22      0.15       0.0         0.04          79.0         5.8   \n",
       "15235      0.00      0.02       0.0         0.00          79.0         6.4   \n",
       "8251       0.07      0.08       0.0         0.02          74.0         8.2   \n",
       "\n",
       "      rating  sum_sales  \n",
       "15046      T       0.02  \n",
       "16518      E       0.01  \n",
       "4693       M       0.41  \n",
       "15235      T       0.02  \n",
       "8251       M       0.17  "
      ]
     },
     "execution_count": 40,
     "metadata": {},
     "output_type": "execute_result"
    }
   ],
   "source": [
    "data_pc = games.query('platform == \"PC\"')\n",
    "data_pc = data_pc.dropna(subset = ['user_score'])# удаление строк с пропусками в переменной user_score\n",
    "data_pc.sample(5)"
   ]
  },
  {
   "cell_type": "markdown",
   "metadata": {},
   "source": [
    "Выделяем массивы данных по платформам Xbox One и PC. Удаляем пропуски в пользовательских рейтингах. Проверяем."
   ]
  },
  {
   "cell_type": "code",
   "execution_count": 41,
   "metadata": {},
   "outputs": [
    {
     "name": "stdout",
     "output_type": "stream",
     "text": [
      "p-значение: 0.6252774522173157\n",
      "Не отвергаем нулевую гипотезу. Средние рейтинги платформ Xbox One и PC могут быть равны.\n"
     ]
    }
   ],
   "source": [
    "from scipy import stats as st\n",
    "import numpy as np\n",
    "alpha = 0.05 # задаем критический уровень статистической значимости\n",
    "results = st.ttest_ind(data_xone['user_score'], data_pc['user_score'])\n",
    "print('p-значение:', results.pvalue)\n",
    "if (results.pvalue < alpha):\n",
    "    print(\"Отвергаем нулевую гипотезу. Средние рейтинги платформ Xbox One и PC не равны.\")\n",
    "else:\n",
    "    print(\"Не отвергаем нулевую гипотезу. Средние рейтинги платформ Xbox One и PC могут быть равны.\")"
   ]
  },
  {
   "cell_type": "markdown",
   "metadata": {},
   "source": [
    "Исследование показало, что средние пользовательские рейтинги платформ Xbox One и PC могут быть равны. Нулевая гипотеза не отвергнута."
   ]
  },
  {
   "cell_type": "markdown",
   "metadata": {},
   "source": [
    "Проверим гипотезу о неравенстве средних пользовательских рейтингов жанров Action и Sports."
   ]
  },
  {
   "cell_type": "markdown",
   "metadata": {},
   "source": [
    "#### Нулевая гипотеза: средние пользовательские рейтинги жанров Action и Sports равны. Альтернативная гипотеза: средние пользовательские рейтинги жанров Action и Sports не равны."
   ]
  },
  {
   "cell_type": "code",
   "execution_count": 42,
   "metadata": {},
   "outputs": [
    {
     "data": {
      "text/html": [
       "<div>\n",
       "<style scoped>\n",
       "    .dataframe tbody tr th:only-of-type {\n",
       "        vertical-align: middle;\n",
       "    }\n",
       "\n",
       "    .dataframe tbody tr th {\n",
       "        vertical-align: top;\n",
       "    }\n",
       "\n",
       "    .dataframe thead th {\n",
       "        text-align: right;\n",
       "    }\n",
       "</style>\n",
       "<table border=\"1\" class=\"dataframe\">\n",
       "  <thead>\n",
       "    <tr style=\"text-align: right;\">\n",
       "      <th></th>\n",
       "      <th>name</th>\n",
       "      <th>platform</th>\n",
       "      <th>year_of_release</th>\n",
       "      <th>genre</th>\n",
       "      <th>na_sales</th>\n",
       "      <th>eu_sales</th>\n",
       "      <th>jp_sales</th>\n",
       "      <th>other_sales</th>\n",
       "      <th>critic_score</th>\n",
       "      <th>user_score</th>\n",
       "      <th>rating</th>\n",
       "      <th>sum_sales</th>\n",
       "    </tr>\n",
       "  </thead>\n",
       "  <tbody>\n",
       "    <tr>\n",
       "      <td>2451</td>\n",
       "      <td>Darksiders II</td>\n",
       "      <td>PS3</td>\n",
       "      <td>2012</td>\n",
       "      <td>Action</td>\n",
       "      <td>0.35</td>\n",
       "      <td>0.35</td>\n",
       "      <td>0.01</td>\n",
       "      <td>0.14</td>\n",
       "      <td>84.0</td>\n",
       "      <td>7.1</td>\n",
       "      <td>M</td>\n",
       "      <td>0.85</td>\n",
       "    </tr>\n",
       "    <tr>\n",
       "      <td>10026</td>\n",
       "      <td>Disney Art Academy</td>\n",
       "      <td>3DS</td>\n",
       "      <td>2016</td>\n",
       "      <td>Action</td>\n",
       "      <td>0.02</td>\n",
       "      <td>0.01</td>\n",
       "      <td>0.08</td>\n",
       "      <td>0.00</td>\n",
       "      <td>72.0</td>\n",
       "      <td>6.8</td>\n",
       "      <td>E</td>\n",
       "      <td>0.11</td>\n",
       "    </tr>\n",
       "    <tr>\n",
       "      <td>6275</td>\n",
       "      <td>The Evil Within</td>\n",
       "      <td>PC</td>\n",
       "      <td>2014</td>\n",
       "      <td>Action</td>\n",
       "      <td>0.10</td>\n",
       "      <td>0.16</td>\n",
       "      <td>0.00</td>\n",
       "      <td>0.02</td>\n",
       "      <td>68.0</td>\n",
       "      <td>5.9</td>\n",
       "      <td>M</td>\n",
       "      <td>0.28</td>\n",
       "    </tr>\n",
       "    <tr>\n",
       "      <td>915</td>\n",
       "      <td>Batman: Arkham Origins</td>\n",
       "      <td>X360</td>\n",
       "      <td>2013</td>\n",
       "      <td>Action</td>\n",
       "      <td>1.15</td>\n",
       "      <td>0.56</td>\n",
       "      <td>0.00</td>\n",
       "      <td>0.17</td>\n",
       "      <td>74.0</td>\n",
       "      <td>7.5</td>\n",
       "      <td>T</td>\n",
       "      <td>1.88</td>\n",
       "    </tr>\n",
       "    <tr>\n",
       "      <td>8763</td>\n",
       "      <td>Darksiders II</td>\n",
       "      <td>PC</td>\n",
       "      <td>2012</td>\n",
       "      <td>Action</td>\n",
       "      <td>0.03</td>\n",
       "      <td>0.10</td>\n",
       "      <td>0.00</td>\n",
       "      <td>0.02</td>\n",
       "      <td>81.0</td>\n",
       "      <td>7.8</td>\n",
       "      <td>M</td>\n",
       "      <td>0.15</td>\n",
       "    </tr>\n",
       "  </tbody>\n",
       "</table>\n",
       "</div>"
      ],
      "text/plain": [
       "                         name platform  year_of_release   genre  na_sales  \\\n",
       "2451            Darksiders II      PS3             2012  Action      0.35   \n",
       "10026      Disney Art Academy      3DS             2016  Action      0.02   \n",
       "6275          The Evil Within       PC             2014  Action      0.10   \n",
       "915    Batman: Arkham Origins     X360             2013  Action      1.15   \n",
       "8763            Darksiders II       PC             2012  Action      0.03   \n",
       "\n",
       "       eu_sales  jp_sales  other_sales  critic_score  user_score rating  \\\n",
       "2451       0.35      0.01         0.14          84.0         7.1      M   \n",
       "10026      0.01      0.08         0.00          72.0         6.8      E   \n",
       "6275       0.16      0.00         0.02          68.0         5.9      M   \n",
       "915        0.56      0.00         0.17          74.0         7.5      T   \n",
       "8763       0.10      0.00         0.02          81.0         7.8      M   \n",
       "\n",
       "       sum_sales  \n",
       "2451        0.85  \n",
       "10026       0.11  \n",
       "6275        0.28  \n",
       "915         1.88  \n",
       "8763        0.15  "
      ]
     },
     "execution_count": 42,
     "metadata": {},
     "output_type": "execute_result"
    }
   ],
   "source": [
    "data_action = games.query('genre == \"Action\"')\n",
    "data_action = data_action.dropna(subset = ['user_score'])# удаление строк с пропусками в переменной user_score\n",
    "data_action.sample(5)"
   ]
  },
  {
   "cell_type": "code",
   "execution_count": 43,
   "metadata": {},
   "outputs": [
    {
     "data": {
      "text/html": [
       "<div>\n",
       "<style scoped>\n",
       "    .dataframe tbody tr th:only-of-type {\n",
       "        vertical-align: middle;\n",
       "    }\n",
       "\n",
       "    .dataframe tbody tr th {\n",
       "        vertical-align: top;\n",
       "    }\n",
       "\n",
       "    .dataframe thead th {\n",
       "        text-align: right;\n",
       "    }\n",
       "</style>\n",
       "<table border=\"1\" class=\"dataframe\">\n",
       "  <thead>\n",
       "    <tr style=\"text-align: right;\">\n",
       "      <th></th>\n",
       "      <th>name</th>\n",
       "      <th>platform</th>\n",
       "      <th>year_of_release</th>\n",
       "      <th>genre</th>\n",
       "      <th>na_sales</th>\n",
       "      <th>eu_sales</th>\n",
       "      <th>jp_sales</th>\n",
       "      <th>other_sales</th>\n",
       "      <th>critic_score</th>\n",
       "      <th>user_score</th>\n",
       "      <th>rating</th>\n",
       "      <th>sum_sales</th>\n",
       "    </tr>\n",
       "  </thead>\n",
       "  <tbody>\n",
       "    <tr>\n",
       "      <td>6955</td>\n",
       "      <td>NBA Live 15</td>\n",
       "      <td>PS4</td>\n",
       "      <td>2014</td>\n",
       "      <td>Sports</td>\n",
       "      <td>0.16</td>\n",
       "      <td>0.04</td>\n",
       "      <td>0.0</td>\n",
       "      <td>0.04</td>\n",
       "      <td>59.0</td>\n",
       "      <td>5.6</td>\n",
       "      <td>E</td>\n",
       "      <td>0.24</td>\n",
       "    </tr>\n",
       "    <tr>\n",
       "      <td>3061</td>\n",
       "      <td>NHL 13</td>\n",
       "      <td>X360</td>\n",
       "      <td>2012</td>\n",
       "      <td>Sports</td>\n",
       "      <td>0.51</td>\n",
       "      <td>0.10</td>\n",
       "      <td>0.0</td>\n",
       "      <td>0.05</td>\n",
       "      <td>83.0</td>\n",
       "      <td>6.6</td>\n",
       "      <td>E10+</td>\n",
       "      <td>0.66</td>\n",
       "    </tr>\n",
       "    <tr>\n",
       "      <td>10358</td>\n",
       "      <td>MLB 14: The Show</td>\n",
       "      <td>PSV</td>\n",
       "      <td>2014</td>\n",
       "      <td>Sports</td>\n",
       "      <td>0.08</td>\n",
       "      <td>0.00</td>\n",
       "      <td>0.0</td>\n",
       "      <td>0.03</td>\n",
       "      <td>68.0</td>\n",
       "      <td>7.0</td>\n",
       "      <td>E</td>\n",
       "      <td>0.11</td>\n",
       "    </tr>\n",
       "    <tr>\n",
       "      <td>14162</td>\n",
       "      <td>Tour de France 2014</td>\n",
       "      <td>PS4</td>\n",
       "      <td>2014</td>\n",
       "      <td>Sports</td>\n",
       "      <td>0.00</td>\n",
       "      <td>0.03</td>\n",
       "      <td>0.0</td>\n",
       "      <td>0.00</td>\n",
       "      <td>53.0</td>\n",
       "      <td>5.1</td>\n",
       "      <td>E</td>\n",
       "      <td>0.03</td>\n",
       "    </tr>\n",
       "    <tr>\n",
       "      <td>3150</td>\n",
       "      <td>Football Manager 2014</td>\n",
       "      <td>PC</td>\n",
       "      <td>2013</td>\n",
       "      <td>Sports</td>\n",
       "      <td>0.00</td>\n",
       "      <td>0.60</td>\n",
       "      <td>0.0</td>\n",
       "      <td>0.03</td>\n",
       "      <td>85.0</td>\n",
       "      <td>5.5</td>\n",
       "      <td>E</td>\n",
       "      <td>0.63</td>\n",
       "    </tr>\n",
       "  </tbody>\n",
       "</table>\n",
       "</div>"
      ],
      "text/plain": [
       "                        name platform  year_of_release   genre  na_sales  \\\n",
       "6955             NBA Live 15      PS4             2014  Sports      0.16   \n",
       "3061                  NHL 13     X360             2012  Sports      0.51   \n",
       "10358       MLB 14: The Show      PSV             2014  Sports      0.08   \n",
       "14162    Tour de France 2014      PS4             2014  Sports      0.00   \n",
       "3150   Football Manager 2014       PC             2013  Sports      0.00   \n",
       "\n",
       "       eu_sales  jp_sales  other_sales  critic_score  user_score rating  \\\n",
       "6955       0.04       0.0         0.04          59.0         5.6      E   \n",
       "3061       0.10       0.0         0.05          83.0         6.6   E10+   \n",
       "10358      0.00       0.0         0.03          68.0         7.0      E   \n",
       "14162      0.03       0.0         0.00          53.0         5.1      E   \n",
       "3150       0.60       0.0         0.03          85.0         5.5      E   \n",
       "\n",
       "       sum_sales  \n",
       "6955        0.24  \n",
       "3061        0.66  \n",
       "10358       0.11  \n",
       "14162       0.03  \n",
       "3150        0.63  "
      ]
     },
     "execution_count": 43,
     "metadata": {},
     "output_type": "execute_result"
    }
   ],
   "source": [
    "data_sport = games.query('genre == \"Sports\"')\n",
    "data_sport = data_sport.dropna(subset = ['user_score'])# удаление строк с пропусками в переменной user_score\n",
    "data_sport.sample(5)"
   ]
  },
  {
   "cell_type": "markdown",
   "metadata": {},
   "source": [
    "Выделяем массивы данных по жанрам Action и Sports. Удаляем пропуски в пользовательских рейтингах. Проверяем."
   ]
  },
  {
   "cell_type": "code",
   "execution_count": 44,
   "metadata": {},
   "outputs": [
    {
     "name": "stdout",
     "output_type": "stream",
     "text": [
      "p-значение: 1.1405639632267916e-26\n",
      "Отвергаем нулевую гипотезу. Средние рейтинги жанров Action и Sports не равны.\n"
     ]
    }
   ],
   "source": [
    "from scipy import stats as st\n",
    "import numpy as np\n",
    "alpha = 0.05 # задаем критический уровень статистической значимости\n",
    "results = st.ttest_ind(data_action['user_score'], data_sport['user_score'])\n",
    "print('p-значение:', results.pvalue)\n",
    "if (results.pvalue < alpha):\n",
    "    print(\"Отвергаем нулевую гипотезу. Средние рейтинги жанров Action и Sports не равны.\")\n",
    "else:\n",
    "    print(\"Не отвергаем нулевую гипотезу. Средние рейтинги жанров Action и Sports могут быть равны.\")"
   ]
  },
  {
   "cell_type": "markdown",
   "metadata": {},
   "source": [
    "Исследование показало, что средние пользовательские рейтинги жанров Action и Sports не равны. Нулевая гипотеза отвергнута."
   ]
  },
  {
   "cell_type": "markdown",
   "metadata": {},
   "source": [
    "## 6. Общий вывод"
   ]
  },
  {
   "cell_type": "markdown",
   "metadata": {},
   "source": [
    "Исходя из проведенного исследования можно сделать следующте выводы:\n",
    "1. Производство видеоигр с 2009 г. имеет тенденцию к снижению. С одной стороны, снижается конкуренция, с другой - за внимание пользователей в основном борятся крупные компании. Снижение продаж игр, скорее всего, обусловлено экономическим кризисом, начавшимся в 2008 г. В условиях кризиса многие потребители отказываются от излишеств (в данном случае это игры) или переходят на бесплатный или пиратский контент. Немаловажным фактором снижения спроса на видеоигры стали игры на телефонах и планшетах, которые также вытеснили значительный процент игр с рынка. Скорее всего, тенденция к снижению спроса на видеоигры продолжится. \n",
    "2. Для успешной продажи видеоигр необходимо определить перспективные платформы, на которых игры будут выходить. Цикл жизни платформы для видеоигр колеблется от 10 до 12 лет. Соответственно, нужно определить современные платформы крупных фирм, которые были запущены в производство относительно недавно. Таким условиям соответствуют 2 платформы: XBox One и Sony PlayStation4. Продажи игр указанных платформ будут расти в ближайшие 2 года (исходя из цикла жизни платформ), т.к. на указнных платформах будут выходить самые современные и зрелищные игры, затем начнется постепенный спад продаж, связанный с моральным устареванием платформ. Отдельно стоит выделить платформу Персональных компьютеров, спрос на игры которой остается устойчивым на протяжении многих лет. Данный спрос обусловлен повсеместной распространенностью компьютеров. Персональные компьютеры также следует признать перспективной платформой.\n",
    "3. При прогнозировании продаж конкретных игр следует в большей степени полагаться на мнение профессиональных критиков, чем на мнение пользователей, которые сами не знают чего хотят.\n",
    "4. Также при продаже игр следует ориентироваться на жанры. Лучше всего продаются стрелялки, платформеры и игры про спорт.\n",
    "5. При рассмотрении продаж в регионах, следует отметить, что в Северной Америке и Европе популярны мощные стационарные игровые приставки, а в Японии рынок поделен между стационарными и портативными приставками.\n",
    "6. Исходя из жанровых предпочтений пользователей можно сделать вывод, что в Европе и Северной Америке в игры играет в основном молодежь, а в Японии - практически все возрастные группы.\n",
    "7. В Японии возрастной рейтинг игр не стльно влияет на объемы продаж, тогда как в остальных двух регионах влияние возрастного рейтинга существенно.\n",
    "\n",
    "Соответственно, при планировании рекламного бюджета нам нужно ориентироваться на игры платформ XOne, PS4 и PC с высокими рейтингами от профессиональных критиков с приоритетными жанрами стрелялки, платформеры и игры про спорт. В Европе и Северной Америке реклама должна быть нацелена на молодежную аудиторию, в Японии - на все возрастные группы. Также в рекламе игр в Европе и Северной Америке должна присутствовать информация о возрастном рейтинге, в Японии -нет."
   ]
  }
 ],
 "metadata": {
  "kernelspec": {
   "display_name": "Python 3",
   "language": "python",
   "name": "python3"
  },
  "language_info": {
   "codemirror_mode": {
    "name": "ipython",
    "version": 3
   },
   "file_extension": ".py",
   "mimetype": "text/x-python",
   "name": "python",
   "nbconvert_exporter": "python",
   "pygments_lexer": "ipython3",
   "version": "3.8.3"
  }
 },
 "nbformat": 4,
 "nbformat_minor": 2
}
