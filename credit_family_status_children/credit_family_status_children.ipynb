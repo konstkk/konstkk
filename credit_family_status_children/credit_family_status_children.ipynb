{
 "cells": [
  {
   "cell_type": "markdown",
   "metadata": {},
   "source": [
    "## Исследование надёжности заёмщиков\n",
    "\n",
    "Заказчик — кредитный отдел банка. Нужно разобраться, влияет ли семейное положение и количество детей клиента на факт погашения кредита в срок. Входные данные от банка — статистика о платёжеспособности клиентов.\n",
    "\n",
    "Результаты исследования будут учтены при построении модели **кредитного скоринга** — специальной системы, которая оценивает способность потенциального заёмщика вернуть кредит банку."
   ]
  },
  {
   "cell_type": "markdown",
   "metadata": {},
   "source": [
    "План проекта\n",
    "\n",
    "1. Исследование данных\n",
    "\n",
    "2. Предобработка данных\n",
    "\n",
    "3. Работа с данными в целях формулирования выводов\n",
    "3.1. Категоризация данных\n",
    "3.2. Ответы на вопросы проекта"
   ]
  },
  {
   "cell_type": "markdown",
   "metadata": {},
   "source": [
    "## 1. Исследование данных "
   ]
  },
  {
   "cell_type": "code",
   "execution_count": 48,
   "metadata": {},
   "outputs": [
    {
     "name": "stdout",
     "output_type": "stream",
     "text": [
      "<class 'pandas.core.frame.DataFrame'>\n",
      "RangeIndex: 21525 entries, 0 to 21524\n",
      "Data columns (total 12 columns):\n",
      "children            21525 non-null int64\n",
      "days_employed       19351 non-null float64\n",
      "dob_years           21525 non-null int64\n",
      "education           21525 non-null object\n",
      "education_id        21525 non-null int64\n",
      "family_status       21525 non-null object\n",
      "family_status_id    21525 non-null int64\n",
      "gender              21525 non-null object\n",
      "income_type         21525 non-null object\n",
      "debt                21525 non-null int64\n",
      "total_income        19351 non-null float64\n",
      "purpose             21525 non-null object\n",
      "dtypes: float64(2), int64(5), object(5)\n",
      "memory usage: 2.0+ MB\n"
     ]
    },
    {
     "data": {
      "text/html": [
       "<div>\n",
       "<style scoped>\n",
       "    .dataframe tbody tr th:only-of-type {\n",
       "        vertical-align: middle;\n",
       "    }\n",
       "\n",
       "    .dataframe tbody tr th {\n",
       "        vertical-align: top;\n",
       "    }\n",
       "\n",
       "    .dataframe thead th {\n",
       "        text-align: right;\n",
       "    }\n",
       "</style>\n",
       "<table border=\"1\" class=\"dataframe\">\n",
       "  <thead>\n",
       "    <tr style=\"text-align: right;\">\n",
       "      <th></th>\n",
       "      <th>children</th>\n",
       "      <th>days_employed</th>\n",
       "      <th>dob_years</th>\n",
       "      <th>education_id</th>\n",
       "      <th>family_status_id</th>\n",
       "      <th>debt</th>\n",
       "      <th>total_income</th>\n",
       "    </tr>\n",
       "  </thead>\n",
       "  <tbody>\n",
       "    <tr>\n",
       "      <td>count</td>\n",
       "      <td>21525.000000</td>\n",
       "      <td>19351.000000</td>\n",
       "      <td>21525.000000</td>\n",
       "      <td>21525.000000</td>\n",
       "      <td>21525.000000</td>\n",
       "      <td>21525.000000</td>\n",
       "      <td>1.935100e+04</td>\n",
       "    </tr>\n",
       "    <tr>\n",
       "      <td>mean</td>\n",
       "      <td>0.538908</td>\n",
       "      <td>63046.497661</td>\n",
       "      <td>43.293380</td>\n",
       "      <td>0.817236</td>\n",
       "      <td>0.972544</td>\n",
       "      <td>0.080883</td>\n",
       "      <td>1.674223e+05</td>\n",
       "    </tr>\n",
       "    <tr>\n",
       "      <td>std</td>\n",
       "      <td>1.381587</td>\n",
       "      <td>140827.311974</td>\n",
       "      <td>12.574584</td>\n",
       "      <td>0.548138</td>\n",
       "      <td>1.420324</td>\n",
       "      <td>0.272661</td>\n",
       "      <td>1.029716e+05</td>\n",
       "    </tr>\n",
       "    <tr>\n",
       "      <td>min</td>\n",
       "      <td>-1.000000</td>\n",
       "      <td>-18388.949901</td>\n",
       "      <td>0.000000</td>\n",
       "      <td>0.000000</td>\n",
       "      <td>0.000000</td>\n",
       "      <td>0.000000</td>\n",
       "      <td>2.066726e+04</td>\n",
       "    </tr>\n",
       "    <tr>\n",
       "      <td>25%</td>\n",
       "      <td>0.000000</td>\n",
       "      <td>-2747.423625</td>\n",
       "      <td>33.000000</td>\n",
       "      <td>1.000000</td>\n",
       "      <td>0.000000</td>\n",
       "      <td>0.000000</td>\n",
       "      <td>1.030532e+05</td>\n",
       "    </tr>\n",
       "    <tr>\n",
       "      <td>50%</td>\n",
       "      <td>0.000000</td>\n",
       "      <td>-1203.369529</td>\n",
       "      <td>42.000000</td>\n",
       "      <td>1.000000</td>\n",
       "      <td>0.000000</td>\n",
       "      <td>0.000000</td>\n",
       "      <td>1.450179e+05</td>\n",
       "    </tr>\n",
       "    <tr>\n",
       "      <td>75%</td>\n",
       "      <td>1.000000</td>\n",
       "      <td>-291.095954</td>\n",
       "      <td>53.000000</td>\n",
       "      <td>1.000000</td>\n",
       "      <td>1.000000</td>\n",
       "      <td>0.000000</td>\n",
       "      <td>2.034351e+05</td>\n",
       "    </tr>\n",
       "    <tr>\n",
       "      <td>max</td>\n",
       "      <td>20.000000</td>\n",
       "      <td>401755.400475</td>\n",
       "      <td>75.000000</td>\n",
       "      <td>4.000000</td>\n",
       "      <td>4.000000</td>\n",
       "      <td>1.000000</td>\n",
       "      <td>2.265604e+06</td>\n",
       "    </tr>\n",
       "  </tbody>\n",
       "</table>\n",
       "</div>"
      ],
      "text/plain": [
       "           children  days_employed     dob_years  education_id  \\\n",
       "count  21525.000000   19351.000000  21525.000000  21525.000000   \n",
       "mean       0.538908   63046.497661     43.293380      0.817236   \n",
       "std        1.381587  140827.311974     12.574584      0.548138   \n",
       "min       -1.000000  -18388.949901      0.000000      0.000000   \n",
       "25%        0.000000   -2747.423625     33.000000      1.000000   \n",
       "50%        0.000000   -1203.369529     42.000000      1.000000   \n",
       "75%        1.000000    -291.095954     53.000000      1.000000   \n",
       "max       20.000000  401755.400475     75.000000      4.000000   \n",
       "\n",
       "       family_status_id          debt  total_income  \n",
       "count      21525.000000  21525.000000  1.935100e+04  \n",
       "mean           0.972544      0.080883  1.674223e+05  \n",
       "std            1.420324      0.272661  1.029716e+05  \n",
       "min            0.000000      0.000000  2.066726e+04  \n",
       "25%            0.000000      0.000000  1.030532e+05  \n",
       "50%            0.000000      0.000000  1.450179e+05  \n",
       "75%            1.000000      0.000000  2.034351e+05  \n",
       "max            4.000000      1.000000  2.265604e+06  "
      ]
     },
     "execution_count": 48,
     "metadata": {},
     "output_type": "execute_result"
    }
   ],
   "source": [
    "import pandas as pd\n",
    "data = pd.read_csv('/datasets/data.csv')\n",
    "data.info() # информация о таблице\n",
    "data.describe()# вывод описательной статистики по переменным"
   ]
  },
  {
   "cell_type": "markdown",
   "metadata": {},
   "source": [
    "Выведена информация о данных.\n",
    "Выведена описательная статистика по переменным для поиска пропусков данных и аномалий.\n",
    "В данных есть пропуски, об этом свидетельствует количество значений в переменных days_employed и total_income.\n",
    "Присутствуют отрицательные значения в переменных days_employed и children.\n",
    "Присутствуют неправдоподобно большие значения в переменной days_employed."
   ]
  },
  {
   "cell_type": "code",
   "execution_count": 49,
   "metadata": {},
   "outputs": [
    {
     "name": "stdout",
     "output_type": "stream",
     "text": [
      "Минимальное количество детей: 0\n",
      "Минимальное количество дней занятости: 24.14163324048118\n"
     ]
    }
   ],
   "source": [
    "data['days_employed'] = abs(data['days_employed']) # избавляемся от отрицательных значений в days_employed\n",
    "data['children'] = abs(data['children'])# избавляемся от отрицательных значений в переменной children\n",
    "print('Минимальное количество детей:', data['children'].min())\n",
    "print('Минимальное количество дней занятости:', data['days_employed'].min())"
   ]
  },
  {
   "cell_type": "markdown",
   "metadata": {},
   "source": [
    "Убираем отрицательные значения в переменных days_employed и children с помощью abs() - модуль.\n",
    "Делаем проверку на наличие отрицательных значений."
   ]
  },
  {
   "cell_type": "code",
   "execution_count": 50,
   "metadata": {},
   "outputs": [
    {
     "name": "stdout",
     "output_type": "stream",
     "text": [
      "Максимальное значение дней занятости для типа занятости пенсионер : 401755.40047533\n",
      "Минимальное значение дней занятости для типа занятости пенсионер : 328728.72060451825\n",
      "Максимальное значение дней занятости для типа занятости госслужащий : 15193.032201443106\n",
      "Минимальное значение дней занятости для типа занятости госслужащий : 39.95417043834918\n",
      "Максимальное значение дней занятости для типа занятости компаньон : 17615.563265627912\n",
      "Минимальное значение дней занятости для типа занятости компаньон : 30.19533715555962\n",
      "Максимальное значение дней занятости для типа занятости сотрудник : 18388.949900568383\n",
      "Минимальное значение дней занятости для типа занятости сотрудник : 24.14163324048118\n"
     ]
    }
   ],
   "source": [
    "def days_emp(type):\n",
    "    days_emp_inc_type = data.loc[data.loc[:, 'income_type'] == type] # проверка длительности трудового стажа в зависимости от типов занятости\n",
    "    ind_min = days_emp_inc_type['days_employed'].min()\n",
    "    ind_max = days_emp_inc_type['days_employed'].max()\n",
    "    print('Максимальное значение дней занятости для типа занятости', type,':', ind_max)\n",
    "    print('Минимальное значение дней занятости для типа занятости', type,':', ind_min)\n",
    "days_emp('пенсионер')\n",
    "days_emp('госслужащий')\n",
    "days_emp('компаньон')\n",
    "days_emp('сотрудник')"
   ]
  },
  {
   "cell_type": "markdown",
   "metadata": {},
   "source": [
    "Проверяем к какому типу занятости относятся аномально высокие значения переменной days_employed.\n",
    "Убеждаемся, что это пенсионеры. Исправления не требуются, т.к. трудовой стаж пенсионера для банка значения не имеет."
   ]
  },
  {
   "cell_type": "code",
   "execution_count": 51,
   "metadata": {},
   "outputs": [
    {
     "name": "stdout",
     "output_type": "stream",
     "text": [
      "среднее                13750\n",
      "высшее                  4718\n",
      "СРЕДНЕЕ                  772\n",
      "Среднее                  711\n",
      "неоконченное высшее      668\n",
      "ВЫСШЕЕ                   274\n",
      "Высшее                   268\n",
      "начальное                250\n",
      "Неоконченное высшее       47\n",
      "НЕОКОНЧЕННОЕ ВЫСШЕЕ       29\n",
      "НАЧАЛЬНОЕ                 17\n",
      "Начальное                 15\n",
      "ученая степень             4\n",
      "Ученая степень             1\n",
      "УЧЕНАЯ СТЕПЕНЬ             1\n",
      "Name: education, dtype: int64\n",
      "женат / замужем          12380\n",
      "гражданский брак          4177\n",
      "Не женат / не замужем     2813\n",
      "в разводе                 1195\n",
      "вдовец / вдова             960\n",
      "Name: family_status, dtype: int64\n"
     ]
    }
   ],
   "source": [
    "print(data['education'].value_counts())\n",
    "print(data['family_status'].value_counts())"
   ]
  },
  {
   "cell_type": "markdown",
   "metadata": {},
   "source": [
    "Обнаруживаем, что в значениях переменных education и family_status присутствуют прописные буквы."
   ]
  },
  {
   "cell_type": "code",
   "execution_count": 52,
   "metadata": {},
   "outputs": [
    {
     "name": "stdout",
     "output_type": "stream",
     "text": [
      "среднее                15233\n",
      "высшее                  5260\n",
      "неоконченное высшее      744\n",
      "начальное                282\n",
      "ученая степень             6\n",
      "Name: education, dtype: int64\n",
      "женат / замужем          12380\n",
      "гражданский брак          4177\n",
      "не женат / не замужем     2813\n",
      "в разводе                 1195\n",
      "вдовец / вдова             960\n",
      "Name: family_status, dtype: int64\n"
     ]
    }
   ],
   "source": [
    "data['education'] = data['education'].str.lower()# делаем буквы строчными\n",
    "print(data['education'].value_counts())\n",
    "data['family_status'] = data['family_status'].str.lower()# делаем буквы строчными\n",
    "print(data['family_status'].value_counts())"
   ]
  },
  {
   "cell_type": "markdown",
   "metadata": {},
   "source": [
    "Делаем все буквы в переменных education и family_status строчными, что позволит упростить обработку данных и уменьшает количество значений переменной education."
   ]
  },
  {
   "cell_type": "code",
   "execution_count": 53,
   "metadata": {},
   "outputs": [
    {
     "name": "stdout",
     "output_type": "stream",
     "text": [
      "F      14236\n",
      "M       7288\n",
      "XNA        1\n",
      "Name: gender, dtype: int64\n",
      "gender\n",
      "F      154097.529734\n",
      "M      193169.652274\n",
      "XNA    203905.157261\n",
      "Name: total_income, dtype: float64\n"
     ]
    }
   ],
   "source": [
    "print(data['gender'].value_counts())\n",
    "print(data.groupby('gender')['total_income'].mean())# расчет среднего дохода в зависимости от пола клиента"
   ]
  },
  {
   "cell_type": "markdown",
   "metadata": {},
   "source": [
    "Обнаруживаем в переменной gender значение XNA. Рассчитываем средние значения дохода для каждого пола для определения, к какому полу относится человек с ошибочным значением."
   ]
  },
  {
   "cell_type": "code",
   "execution_count": 54,
   "metadata": {},
   "outputs": [
    {
     "name": "stdout",
     "output_type": "stream",
     "text": [
      "F    14236\n",
      "M     7289\n",
      "Name: gender, dtype: int64\n"
     ]
    }
   ],
   "source": [
    "data['gender'] = data['gender'].replace('XNA', 'M')# присвоение мужского пола непонятному клиенту\n",
    "print(data['gender'].value_counts())"
   ]
  },
  {
   "cell_type": "markdown",
   "metadata": {},
   "source": [
    "Т.к. значение дохода для человека со значением XNA в переменной gender ближе к среднему значению дохода для мужского пола, заменяем в переменной gender значение XNA на M (мужской пол).\n",
    "Проверяем, произошла ли замена."
   ]
  },
  {
   "cell_type": "code",
   "execution_count": 55,
   "metadata": {},
   "outputs": [
    {
     "name": "stdout",
     "output_type": "stream",
     "text": [
      "0     14149\n",
      "1      4865\n",
      "2      2055\n",
      "3       330\n",
      "20       76\n",
      "4        41\n",
      "5         9\n",
      "Name: children, dtype: int64\n"
     ]
    }
   ],
   "source": [
    "print(data['children'].value_counts())"
   ]
  },
  {
   "cell_type": "markdown",
   "metadata": {},
   "source": [
    "Обнаруживаем аномалию: 20 детей у  76 клиентов. Скорее всего, произошла ошибка при вводе данных (допечатали лишний 0)."
   ]
  },
  {
   "cell_type": "code",
   "execution_count": 56,
   "metadata": {},
   "outputs": [
    {
     "name": "stdout",
     "output_type": "stream",
     "text": [
      "0    14149\n",
      "1     4865\n",
      "2     2131\n",
      "3      330\n",
      "4       41\n",
      "5        9\n",
      "Name: children, dtype: int64\n"
     ]
    }
   ],
   "source": [
    "data['children'] = data['children'].replace(20, 2)# исправляем количество детей\n",
    "print(data['children'].value_counts())"
   ]
  },
  {
   "cell_type": "markdown",
   "metadata": {},
   "source": [
    "В переменной children заменяем значения 20 на 2.\n",
    "Проверяем, прошла ли замена."
   ]
  },
  {
   "cell_type": "markdown",
   "metadata": {},
   "source": [
    "### Вывод"
   ]
  },
  {
   "cell_type": "markdown",
   "metadata": {},
   "source": [
    "В данных есть пропуски, об этом свидетельствует количество значений в переменных days_employed и total_income.\n",
    "\n",
    "В переменной days_employed присутствуют отрицательные значения (скорее всего опечатка или тире; исправлено: значения взяты по модулю), нереально большие значения (как показало исследование нереальные значения показателя относятся к типу занятости \"пенсионер\"; исправления не требует, т.к. трудовой стаж пенсионера для банка значения не имеет).\n",
    "\n",
    "В переменной children присутствуют отрицательные значения, скорее всего, минус рядом с числом - это опечатка (исправлено: значения взяты по модулю). У 76 клиентов по 20 детей - аномалия, скорее всего, припечатали лишний 0. Заменяем 20 на 2.\n",
    "\n",
    "В переменной education много вариаций написания каждого уровня образования (вариации прописных и строчных букв). Исправлено: все буквы сделаны строчными.\n",
    "\n",
    "В переменной gender есть 3-й пол XNA. Видимо, ошибка. Судя по уровню дохода (рассчитаны средние по мужчинам и женщинам) - это мужчина. Исправлено.\n",
    "\n",
    "В переменной dob_years есть нули. \n",
    "\n",
    "В переменной family_status в названиях статусов присутствуют прописные буквы. Меняем все на строчные в целях минимизации ошибок."
   ]
  },
  {
   "cell_type": "markdown",
   "metadata": {},
   "source": [
    "## 2. Предобработка данных"
   ]
  },
  {
   "cell_type": "markdown",
   "metadata": {},
   "source": [
    "### Обработка пропусков"
   ]
  },
  {
   "cell_type": "code",
   "execution_count": 57,
   "metadata": {},
   "outputs": [
    {
     "name": "stdout",
     "output_type": "stream",
     "text": [
      "children            0\n",
      "days_employed       0\n",
      "dob_years           0\n",
      "education           0\n",
      "education_id        0\n",
      "family_status       0\n",
      "family_status_id    0\n",
      "gender              0\n",
      "income_type         0\n",
      "debt                0\n",
      "total_income        0\n",
      "purpose             0\n",
      "dtype: int64\n"
     ]
    }
   ],
   "source": [
    "data['total_income'] = data.groupby('income_type')['total_income'].apply(lambda x: x.fillna(x.median()))\n",
    "data['days_employed'] = data.groupby('income_type')['days_employed'].apply(lambda x: x.fillna(x.median()))\n",
    "d_e = data.isnull().sum()\n",
    "print(d_e)# проверка на наличие пропусков"
   ]
  },
  {
   "cell_type": "markdown",
   "metadata": {},
   "source": [
    "Выявленные ранее пропущенные значения в переменных days_employed и total_income заполняем медианными значениями соответствующих показателей в зависимости от типа занятости (income_type).\n",
    "Проверяем переменные на наличие пропусков."
   ]
  },
  {
   "cell_type": "code",
   "execution_count": 58,
   "metadata": {},
   "outputs": [
    {
     "name": "stdout",
     "output_type": "stream",
     "text": [
      "False    21424\n",
      "True       101\n",
      "Name: dob_years, dtype: int64\n",
      "False    21424\n",
      "Name: dob_years, dtype: int64\n"
     ]
    }
   ],
   "source": [
    "print((data['dob_years'] == 0).value_counts()) # проверка на наличие 0 в переменной возраста\n",
    "data = data[data.dob_years != 0] # исключение строк с возрастом 0\n",
    "print((data['dob_years'] == 0).value_counts())  # проверка на наличие 0 в переменной возраста"
   ]
  },
  {
   "cell_type": "markdown",
   "metadata": {},
   "source": [
    "Проверяем переменную dob_years на наличие нулей.\n",
    "В переменной dob_years есть нули. 101 клиент не указал свой возраст. Т.к. не понятно, как их восстанавливать (четких критериев нет), указанные данные были удалены.\n",
    "Проверяем переменную dob_years на наличие нулей. Нулей нет."
   ]
  },
  {
   "cell_type": "markdown",
   "metadata": {},
   "source": [
    "### Вывод"
   ]
  },
  {
   "cell_type": "markdown",
   "metadata": {},
   "source": [
    "В переменных days_employed и total_income есть пустые значения. Скорее всего, они появились в связи с нежеланием клиентов раскрывать информацию о себе. Заполним пропуски средними значениями соответствующих переменных по полу и типу занятости клиентов.\n",
    "\n",
    "В переменной dob_years есть нули. 101 клиент не указал свой возраст. Т.к. не понятно, как их восстанавливать (четких критериев нет), указанные данные будут удалены."
   ]
  },
  {
   "cell_type": "markdown",
   "metadata": {},
   "source": [
    "### Замена типа данных"
   ]
  },
  {
   "cell_type": "code",
   "execution_count": 59,
   "metadata": {
    "scrolled": true
   },
   "outputs": [
    {
     "name": "stdout",
     "output_type": "stream",
     "text": [
      "<class 'pandas.core.frame.DataFrame'>\n",
      "Int64Index: 21424 entries, 0 to 21524\n",
      "Data columns (total 12 columns):\n",
      "children            21424 non-null int64\n",
      "days_employed       21424 non-null int64\n",
      "dob_years           21424 non-null int64\n",
      "education           21424 non-null object\n",
      "education_id        21424 non-null int64\n",
      "family_status       21424 non-null object\n",
      "family_status_id    21424 non-null int64\n",
      "gender              21424 non-null object\n",
      "income_type         21424 non-null object\n",
      "debt                21424 non-null int64\n",
      "total_income        21424 non-null int64\n",
      "purpose             21424 non-null object\n",
      "dtypes: int64(7), object(5)\n",
      "memory usage: 2.1+ MB\n"
     ]
    }
   ],
   "source": [
    "data['total_income'] = data['total_income'].astype('int')# перевод переменной total_income из дробной в целочисленные\n",
    "data['days_employed'] = data['days_employed'].astype('int') # перевод переменной days_employed из дробной в целочисленные\n",
    "data.info()# проверка"
   ]
  },
  {
   "cell_type": "markdown",
   "metadata": {},
   "source": [
    "### Вывод"
   ]
  },
  {
   "cell_type": "markdown",
   "metadata": {},
   "source": [
    "Произведен перевод переменных days_employed и total_income из float64 d int64. \n",
    "Пороведена проверка осуществился ли перевод корректно. Тип переменных стал int64."
   ]
  },
  {
   "cell_type": "markdown",
   "metadata": {},
   "source": [
    "### Обработка дубликатов"
   ]
  },
  {
   "cell_type": "code",
   "execution_count": 60,
   "metadata": {},
   "outputs": [
    {
     "name": "stdout",
     "output_type": "stream",
     "text": [
      "71\n",
      "0\n"
     ]
    }
   ],
   "source": [
    "print(data.duplicated().sum())# проверка на дубли\n",
    "data = data.drop_duplicates() # удаление дублей\n",
    "print(data.duplicated().sum())# проверка на дубли"
   ]
  },
  {
   "cell_type": "markdown",
   "metadata": {},
   "source": [
    "### Вывод"
   ]
  },
  {
   "cell_type": "markdown",
   "metadata": {},
   "source": [
    "При тесте на дубли обнаружена 71 дублированная строка с помощью duplicated. Т.к. полное совпадение значений всех переменных маловероятно, то, видимо, это дублированные строки, которые надо удалить. Дубли удалены методом drop_duplicates(). Проведена проверка удалились ли данные."
   ]
  },
  {
   "cell_type": "markdown",
   "metadata": {},
   "source": [
    "### Лемматизация"
   ]
  },
  {
   "cell_type": "code",
   "execution_count": 208,
   "metadata": {},
   "outputs": [
    {
     "name": "stdout",
     "output_type": "stream",
     "text": [
      "0                 [покупка,  , жилье]\n",
      "1       [приобретение,  , автомобиль]\n",
      "2                 [покупка,  , жилье]\n",
      "3    [дополнительный,  , образование]\n",
      "4               [сыграть,  , свадьба]\n",
      "Name: lemmas, dtype: object\n",
      "Counter({' ': 33435, 'недвижимость': 6328, 'покупка': 5870, 'жилье': 4436, 'автомобиль': 4284, 'образование': 3995, 'с': 2904, 'операция': 2593, 'свадьба': 2310, 'свой': 2223, 'на': 2210, 'строительство': 1873, 'высокий': 1366, 'получение': 1309, 'коммерческий': 1306, 'для': 1286, 'жилой': 1224, 'сделка': 938, 'дополнительный': 902, 'заниматься': 900, 'проведение': 764, 'сыграть': 760, 'сдача': 649, 'семья': 637, 'собственный': 633, 'со': 627, 'ремонт': 605, 'подержанный': 484, 'подержать': 478, 'приобретение': 459, 'профильный': 435})\n"
     ]
    }
   ],
   "source": [
    "from pymystem3 import Mystem\n",
    "m = Mystem()\n",
    "def lemma(text):\n",
    "    lemmas = m.lemmatize(text['purpose'])\n",
    "    lemmas.remove('\\n')\n",
    "    return lemmas\n",
    "\n",
    "data['lemmas'] = data.apply(lemma, axis = 1) \n",
    "print(data['lemmas'].head())\n",
    "\n",
    "lis = [] # расчет частот слов в леммах\n",
    "for row in data['lemmas']: # создание строки со всеми словами из целей кредита\n",
    "    lis += row\n",
    "    \n",
    "from collections import Counter\n",
    "print(Counter(lis))# подсчет количества каждого слова из списка\n"
   ]
  },
  {
   "cell_type": "markdown",
   "metadata": {},
   "source": [
    "### Вывод"
   ]
  },
  {
   "cell_type": "markdown",
   "metadata": {},
   "source": [
    "В переменной purpose цели кредитов указаны не системно. Одной цели может соответствовать несколько вариантов. Для того, чтобы систематизировать цели кредита нужна лемматизация. Загружаем библиотеку Mystem. Создаем функцию, которая выделяет слова в именительном падеже по каждой строке. Записываем результат в переменную lemmas.\n",
    "Рассчитываем частоты упоминания каждого слова в целях кредита. Наиболее популярными словами, несущими смысл, стали:\n",
    "недвижимость - 6328 упоминаний, покупка - 5870 упоминаний, жилье - 4436 упоминаний, автомобиль - 4284 упоминаний, образование- 3995 упоминаний, операция - 2593 упоминаний, свадьба - 2310 упоминаний.\n",
    "Слова \"покупка\" и \"операция\" могут относиться к разным целям, поэтому они отбрасываются.\n",
    "Соответственно основными целями кредита признаются: недвижимость, жилье, автомобиль, образование, свадьба.\n",
    "При этом жилье и недвижимость целесообразно объединить в одну категорию \"недвижимость\"."
   ]
  },
  {
   "cell_type": "markdown",
   "metadata": {},
   "source": [
    "## 3. Работа с данными в целях формулирования выводов"
   ]
  },
  {
   "cell_type": "markdown",
   "metadata": {},
   "source": [
    "### Категоризация данных"
   ]
  },
  {
   "cell_type": "code",
   "execution_count": 195,
   "metadata": {},
   "outputs": [
    {
     "name": "stdout",
     "output_type": "stream",
     "text": [
      "                                  lemmas                 un_purpose\n",
      "0                    [покупка,  , жилье]  приобретение недвижимости\n",
      "1          [приобретение,  , автомобиль]    приобретение автомобиля\n",
      "2                    [покупка,  , жилье]  приобретение недвижимости\n",
      "3       [дополнительный,  , образование]      получение образования\n",
      "4                  [сыграть,  , свадьба]        организация свадьбы\n",
      "5                    [покупка,  , жилье]  приобретение недвижимости\n",
      "6             [операция,  , с,  , жилье]  приобретение недвижимости\n",
      "7                          [образование]      получение образования\n",
      "8        [на,  , проведение,  , свадьба]        организация свадьбы\n",
      "9  [покупка,  , жилье,  , для,  , семья]  приобретение недвижимости\n"
     ]
    }
   ],
   "source": [
    "def unif_purpose(lem): # категоризация целей кредита\n",
    "    word = lem['lemmas']\n",
    "    if 'автомобиль' in word:\n",
    "        return 'приобретение автомобиля'\n",
    "    if 'жилье' in word:\n",
    "        return 'приобретение недвижимости'\n",
    "    if 'недвижимость' in word:\n",
    "        return 'приобретение недвижимости'\n",
    "    if 'свадьба' in word:\n",
    "        return 'организация свадьбы'\n",
    "    return 'получение образования'\n",
    "data['un_purpose'] = data.apply(unif_purpose, axis = 1)\n",
    "print(data[['lemmas','un_purpose']].head(10))"
   ]
  },
  {
   "cell_type": "markdown",
   "metadata": {},
   "source": [
    "Категоризируем данные по целям кредита в соответствии с выявленными выше обобщенными целями.\n",
    "Категоризация осуществляется по ключевым словам (автомобиль, жилье, недвижимость, свадьба, образование).\n",
    "Проверяем разноску лемм по категориям."
   ]
  },
  {
   "cell_type": "code",
   "execution_count": 197,
   "metadata": {},
   "outputs": [
    {
     "name": "stdout",
     "output_type": "stream",
     "text": [
      "   dob_years   cat_age\n",
      "0         42    зрелые\n",
      "1         36    зрелые\n",
      "2         33  молодежь\n",
      "3         32  молодежь\n",
      "4         53    зрелые\n",
      "5         27  молодежь\n",
      "6         43    зрелые\n",
      "7         50    зрелые\n",
      "8         35  молодежь\n",
      "9         41    зрелые\n"
     ]
    }
   ],
   "source": [
    "def cat_age(years): # категоризация возраста клиентов\n",
    "    age = years['dob_years']\n",
    "    if age < 36:\n",
    "        return 'молодежь'\n",
    "    if age < 56:\n",
    "        return 'зрелые'\n",
    "    return 'пожилые'\n",
    "data['cat_age'] = data.apply(cat_age, axis = 1)\n",
    "print(data[['dob_years','cat_age']].head(10))"
   ]
  },
  {
   "cell_type": "markdown",
   "metadata": {},
   "source": [
    "Категоризируем данные по возрасту клиентов.\n",
    "Категоризация осуществляется по возрасту (35 и моложе - молодежь, 35-55 - зрелые, старше 55 - пожилые).\n",
    "Проверяем разноску возрастов клиентов по категориям."
   ]
  },
  {
   "cell_type": "code",
   "execution_count": 202,
   "metadata": {},
   "outputs": [
    {
     "name": "stdout",
     "output_type": "stream",
     "text": [
      "   total_income      cat_income\n",
      "0        253875  высокие доходы\n",
      "1        112080   низкие доходы\n",
      "2        145885  средние доходы\n",
      "3        267628  высокие доходы\n",
      "4        158616  средние доходы\n",
      "5        255763  высокие доходы\n",
      "6        240525  высокие доходы\n",
      "7        135823  средние доходы\n",
      "8         95856   низкие доходы\n",
      "9        144425  средние доходы\n"
     ]
    }
   ],
   "source": [
    "# print(data['total_income'].quantile(.7))\n",
    "def cat_income(money): # категоризация доходов клиентов\n",
    "    income = money['total_income']\n",
    "    if income <= data['total_income'].quantile(.35):\n",
    "        return 'низкие доходы'\n",
    "    if income <= data['total_income'].quantile(.7):\n",
    "        return 'средние доходы'\n",
    "    return 'высокие доходы'\n",
    "data['cat_income'] = data.apply(cat_income, axis = 1)\n",
    "print(data[['total_income','cat_income']].head(10))"
   ]
  },
  {
   "cell_type": "markdown",
   "metadata": {},
   "source": [
    "Категоризируем данные по уровню дохода клиентов.\n",
    "Категоризация осуществляется по квантилям доходов (35% квантиля и ниже - низкие доходы, 35%-70% квантиля - средние доходы, более 70% квантиля - высокие доходы).\n",
    "Проверяем разноску возрастов клиентов по доходам."
   ]
  },
  {
   "cell_type": "markdown",
   "metadata": {},
   "source": [
    "### Вывод"
   ]
  },
  {
   "cell_type": "markdown",
   "metadata": {},
   "source": [
    "Лемматизированные значения из столбца lemmas с помощью условий наличия ключевых слов в строках по каждому клиенту приводим к обобщенным категориям целей кредита. Записываем категории по каждой строке в переменную un_purpose.\n",
    "\n",
    "Целесообразно выделить категории клиентов по возрасту и уровню дохода.С помощью условий выделяем категории в переменные  cat_age и cat_income."
   ]
  },
  {
   "cell_type": "markdown",
   "metadata": {},
   "source": [
    "### Ответы на вопросы проекта"
   ]
  },
  {
   "cell_type": "markdown",
   "metadata": {},
   "source": [
    "- Есть ли зависимость между наличием детей и возвратом кредита в срок?"
   ]
  },
  {
   "cell_type": "code",
   "execution_count": 203,
   "metadata": {},
   "outputs": [
    {
     "name": "stdout",
     "output_type": "stream",
     "text": [
      "Расчет вероятностей возврата кредита в срок клиентами в зависимости от наличия детей\n",
      "debt            0       1    All    propab\n",
      "children                                  \n",
      "0         12964.0  1058.0  14022  7.545286\n",
      "1          4397.0   442.0   4839  9.134119\n",
      "2          1912.0   202.0   2114  9.555345\n",
      "3           301.0    27.0    328  8.231707\n",
      "4            37.0     4.0     41  9.756098\n",
      "5             9.0     NaN      9       NaN\n",
      "All       19620.0  1733.0  21353  8.115956\n"
     ]
    }
   ],
   "source": [
    "print('Расчет вероятностей возврата кредита в срок клиентами в зависимости от наличия детей')\n",
    "data_pivot_c = data.pivot_table(index=['children'], columns = 'debt',values = 'gender', aggfunc='count', margins=True)\n",
    "data_pivot_c['propab'] = data_pivot_c[1] / data_pivot_c['All']*100\n",
    "print(data_pivot_c)"
   ]
  },
  {
   "cell_type": "markdown",
   "metadata": {},
   "source": [
    "### Вывод"
   ]
  },
  {
   "cell_type": "markdown",
   "metadata": {},
   "source": [
    "Да, есть. Вероятность возникновения просрочки по кредиту у клиента с детьми - колеблется от 8,2% до 9,6%, у клиента без детей - 7,5%. Таким образом, банку выгоднее предоставлять кредиты клиентам без детей.\n",
    "Если рассмотреть вероятности возникновения просрочки по кредиту у клиентов в зависимости от количества детей, то наиболее выгодными клиентами для банка останутся клиенты без детей (вероятность просрочки - 7,5%), на втором месте оказались клиенты с 3-мя детьми (вероятность - 8,2%), на третьем месте - клиенты с 1-м ребенком (вероятность - 9,1%).\n",
    "Клиенты с 5-ю детьми, несмотря на нулевую вероятность просрочки кредита, не могут рассматриваться, как репрезентативная выборка, т.к. их очень мало для анализа (9 чел.)\n",
    "Вероятность рассчитана как отношение клиентов, имеющих просрочку по кредиту, из соответствующей группы к общему количеству клиентов из указанной группы. "
   ]
  },
  {
   "cell_type": "markdown",
   "metadata": {},
   "source": [
    "- Есть ли зависимость между семейным положением и возвратом кредита в срок?"
   ]
  },
  {
   "cell_type": "code",
   "execution_count": 204,
   "metadata": {},
   "outputs": [
    {
     "name": "stdout",
     "output_type": "stream",
     "text": [
      "Расчет вероятностей возврата кредита в срок клиентами в зависимости от семейного положения\n",
      "debt                       0     1    All    propab\n",
      "family_status                                      \n",
      "в разводе               1100    85   1185  7.172996\n",
      "вдовец / вдова           892    62    954  6.498952\n",
      "гражданский брак        3744   386   4130  9.346247\n",
      "женат / замужем        11363   927  12290  7.542718\n",
      "не женат / не замужем   2521   273   2794  9.770938\n",
      "All                    19620  1733  21353  8.115956\n"
     ]
    }
   ],
   "source": [
    "print('Расчет вероятностей возврата кредита в срок клиентами в зависимости от семейного положения')\n",
    "data_pivot = data.pivot_table(index=['family_status'], columns = 'debt', values = 'children', aggfunc='count', margins=True)\n",
    "data_pivot['propab'] = data_pivot[1] / data_pivot['All']*100\n",
    "print(data_pivot)"
   ]
  },
  {
   "cell_type": "markdown",
   "metadata": {},
   "source": [
    "### Вывод"
   ]
  },
  {
   "cell_type": "markdown",
   "metadata": {},
   "source": [
    "Да, есть. Наименьшая вероятность допустить просрочку по кредиту наблюдается у вдов/вдовцов (6,5%), на втором месте разведенные (7,2%), на третьем месте женатые/замужние (7,5%). Самые невыгодные для банка клиенты - не вструпившие в брак (вероятность просрочки - 9,8%).\n",
    "Вероятность рассчитана как отношение клиентов, имеющих просрочку по кредиту, из соответствующей группы к общему количеству клиентов из указанной группы. "
   ]
  },
  {
   "cell_type": "markdown",
   "metadata": {},
   "source": [
    "- Есть ли зависимость между уровнем дохода и возвратом кредита в срок?"
   ]
  },
  {
   "cell_type": "code",
   "execution_count": 205,
   "metadata": {},
   "outputs": [
    {
     "name": "stdout",
     "output_type": "stream",
     "text": [
      "Расчет вероятностей возврата кредита в срок клиентами в зависимости от уровня дохода\n",
      "debt                0     1    All    propab\n",
      "cat_income                                  \n",
      "высокие доходы   5927   479   6406  7.477365\n",
      "низкие доходы    6862   612   7474  8.188386\n",
      "средние доходы   6831   642   7473  8.590927\n",
      "All             19620  1733  21353  8.115956\n"
     ]
    }
   ],
   "source": [
    "print('Расчет вероятностей возврата кредита в срок клиентами в зависимости от уровня дохода')\n",
    "data_pivot = data.pivot_table(index=['cat_income'], columns = 'debt', values = 'children', aggfunc='count', margins=True)\n",
    "data_pivot['propab'] = data_pivot[1] / data_pivot['All']*100\n",
    "print(data_pivot)"
   ]
  },
  {
   "cell_type": "markdown",
   "metadata": {},
   "source": [
    "### Вывод"
   ]
  },
  {
   "cell_type": "markdown",
   "metadata": {},
   "source": [
    "Да, есть. Наименьшая вероятность допустить просрочку по кредиту наблюдается у клиентов с высокими доходами (7,5%), на втором месте клиенты с низкими доходами (8,2%), Самые невыгодные для банка клиенты - со средними доходами (вероятность просрочки - 8,6%).\n",
    "Вероятность рассчитана как отношение клиентов, имеющих просрочку по кредиту, из соответствующей группы к общему количеству клиентов из указанной группы. "
   ]
  },
  {
   "cell_type": "markdown",
   "metadata": {},
   "source": [
    "- Как разные цели кредита влияют на его возврат в срок?"
   ]
  },
  {
   "cell_type": "code",
   "execution_count": 206,
   "metadata": {},
   "outputs": [
    {
     "name": "stdout",
     "output_type": "stream",
     "text": [
      "Расчет вероятностей возврата кредита в срок клиентами в зависимости от целей кредита\n",
      "debt                           0     1    All    propab\n",
      "un_purpose                                             \n",
      "организация свадьбы         2126   184   2310  7.965368\n",
      "получение образования       3625   370   3995  9.261577\n",
      "приобретение автомобиля     3884   400   4284  9.337068\n",
      "приобретение недвижимости   9985   779  10764  7.237087\n",
      "All                        19620  1733  21353  8.115956\n"
     ]
    }
   ],
   "source": [
    "print('Расчет вероятностей возврата кредита в срок клиентами в зависимости от целей кредита')\n",
    "data_pivot = data.pivot_table(index=['un_purpose'], columns = 'debt', values = 'children', aggfunc='count', margins=True)\n",
    "data_pivot['propab'] = data_pivot[1] / data_pivot['All']*100\n",
    "print(data_pivot)"
   ]
  },
  {
   "cell_type": "markdown",
   "metadata": {},
   "source": [
    "### Вывод"
   ]
  },
  {
   "cell_type": "markdown",
   "metadata": {},
   "source": [
    "С точки зрения целей кредита, наиболее выгодными клиентами для банка являются лица, желающие взять кредит на ипотеку (вероятность просрочки 7,2%), что обусловлено серьезностью намерений людей, собирающихся купить недвижимость. Как правило, перед тем как решиться на приобретение недвижимости, люди все просчитывают и серьезно готовятся к этому шагу. \n",
    "\n",
    "На втором месте по выгоде для банка кредиты на организацию свадьбы (вероятность просрочки 7,9%), что обусловлено помощью супруга при возврате такого кредита.\n",
    "\n",
    "Наименее выгодные для банка цели кредитов: получение образования (9,2%) и приобретение автомобиля (9,3%), что обусловлено молодостью и неопытностью клиентов, берущих такие кредиты."
   ]
  },
  {
   "cell_type": "markdown",
   "metadata": {},
   "source": [
    "### Шаг 4. Общий вывод"
   ]
  },
  {
   "cell_type": "markdown",
   "metadata": {},
   "source": [
    "Исходя из полученных данных, наиболее выгодным клиентом для банка, с точки зрения возврата кредита, является вдовец/вдова без детей с высокими доходами, берущий кредит на приобретение недвижимости. \n",
    "\n",
    "Наименее выгодным клиентом будет клиент со средними доходами, не состоящий в браке, имеющий детей и берущий кредит на приобретение автомобиля.  "
   ]
  }
 ],
 "metadata": {
  "kernelspec": {
   "display_name": "Python 3",
   "language": "python",
   "name": "python3"
  },
  "language_info": {
   "codemirror_mode": {
    "name": "ipython",
    "version": 3
   },
   "file_extension": ".py",
   "mimetype": "text/x-python",
   "name": "python",
   "nbconvert_exporter": "python",
   "pygments_lexer": "ipython3",
   "version": "3.8.3"
  }
 },
 "nbformat": 4,
 "nbformat_minor": 2
}
