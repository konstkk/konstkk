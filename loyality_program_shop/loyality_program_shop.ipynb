{
 "cells": [
  {
   "cell_type": "markdown",
   "metadata": {},
   "source": [
    "# Анализ эффективности работы сети магазинов строительных материалов «Строили, строили и наконец построили»"
   ]
  },
  {
   "cell_type": "markdown",
   "metadata": {},
   "source": [
    "## Материалы\n",
    "\n",
    "Презентация: https://yadi.sk/i/P8ZiRpA4ZCVYyA"
   ]
  },
  {
   "cell_type": "markdown",
   "metadata": {},
   "source": [
    "## Цели исследования:\n",
    "\n",
    "    Увеличение продаж и выручки сети, используя программу лояльности.\n",
    "    Увеличение уровня продаж и выручки магазинов сети."
   ]
  },
  {
   "cell_type": "markdown",
   "metadata": {},
   "source": [
    "## Задачи исследования:\n",
    "\n",
    "1.Анализ успешности применениея программы лояльности. Выработка рекомендаций по ее оптимизации либо прекращении действия программы. \n",
    "2.Анализ эффективности работы магазинов сети. Определение низкоэффективных магазинов. Выработка рекомендаций по увеличению продаж либо по закрытию низкоэффективных магазинов."
   ]
  },
  {
   "cell_type": "markdown",
   "metadata": {},
   "source": [
    "## Гипотезы исследования:\n",
    "\n",
    "1. Покупатели, участвующие в программе лояльности, в среднем покупают большее количество товаров, чем покупатели, не участвующие в программе лояльности.\n",
    "2. Покупатели, участвующие в программе лояльности, в среднем покупают товаров на сумму большую, чем покупатели, не участвующие в программе лояльности.\n",
    "3. Магазины сети показывают разную степень эффективности (уровень продаж)."
   ]
  },
  {
   "cell_type": "markdown",
   "metadata": {},
   "source": [
    "## План\n",
    "\n",
    "1. Открытие файла с данными и изучение общей информации\n",
    "2. Подготовка данных\n",
    "3. Изучение и проверка данных\n",
    "4. Анализ успешности применениея программы лояльности\n",
    "5. Анализ эффективности работы магазинов сети\n",
    "6. Общие выводы"
   ]
  },
  {
   "cell_type": "markdown",
   "metadata": {},
   "source": [
    "## 1. Открытие файла с данными и изучение общей информации"
   ]
  },
  {
   "cell_type": "code",
   "execution_count": 1,
   "metadata": {},
   "outputs": [
    {
     "data": {
      "text/html": [
       "<div>\n",
       "<style scoped>\n",
       "    .dataframe tbody tr th:only-of-type {\n",
       "        vertical-align: middle;\n",
       "    }\n",
       "\n",
       "    .dataframe tbody tr th {\n",
       "        vertical-align: top;\n",
       "    }\n",
       "\n",
       "    .dataframe thead th {\n",
       "        text-align: right;\n",
       "    }\n",
       "</style>\n",
       "<table border=\"1\" class=\"dataframe\">\n",
       "  <thead>\n",
       "    <tr style=\"text-align: right;\">\n",
       "      <th></th>\n",
       "      <th>purchaseid</th>\n",
       "      <th>item_ID</th>\n",
       "      <th>Quantity</th>\n",
       "      <th>purchasedate</th>\n",
       "      <th>CustomerID</th>\n",
       "      <th>ShopID</th>\n",
       "      <th>loyalty_program</th>\n",
       "    </tr>\n",
       "  </thead>\n",
       "  <tbody>\n",
       "    <tr>\n",
       "      <td>0</td>\n",
       "      <td>538280</td>\n",
       "      <td>21873</td>\n",
       "      <td>11</td>\n",
       "      <td>2016-12-10 12:50:00</td>\n",
       "      <td>18427.0</td>\n",
       "      <td>Shop 0</td>\n",
       "      <td>0.0</td>\n",
       "    </tr>\n",
       "    <tr>\n",
       "      <td>1</td>\n",
       "      <td>538862</td>\n",
       "      <td>22195</td>\n",
       "      <td>0</td>\n",
       "      <td>2016-12-14 14:11:00</td>\n",
       "      <td>22389.0</td>\n",
       "      <td>Shop 0</td>\n",
       "      <td>1.0</td>\n",
       "    </tr>\n",
       "    <tr>\n",
       "      <td>2</td>\n",
       "      <td>538855</td>\n",
       "      <td>21239</td>\n",
       "      <td>7</td>\n",
       "      <td>2016-12-14 13:50:00</td>\n",
       "      <td>22182.0</td>\n",
       "      <td>Shop 0</td>\n",
       "      <td>1.0</td>\n",
       "    </tr>\n",
       "    <tr>\n",
       "      <td>3</td>\n",
       "      <td>543543</td>\n",
       "      <td>22271</td>\n",
       "      <td>0</td>\n",
       "      <td>2017-02-09 15:33:00</td>\n",
       "      <td>23522.0</td>\n",
       "      <td>Shop 0</td>\n",
       "      <td>1.0</td>\n",
       "    </tr>\n",
       "    <tr>\n",
       "      <td>4</td>\n",
       "      <td>543812</td>\n",
       "      <td>79321</td>\n",
       "      <td>0</td>\n",
       "      <td>2017-02-13 14:40:00</td>\n",
       "      <td>23151.0</td>\n",
       "      <td>Shop 0</td>\n",
       "      <td>1.0</td>\n",
       "    </tr>\n",
       "  </tbody>\n",
       "</table>\n",
       "</div>"
      ],
      "text/plain": [
       "  purchaseid item_ID  Quantity         purchasedate  CustomerID  ShopID  \\\n",
       "0     538280   21873        11  2016-12-10 12:50:00     18427.0  Shop 0   \n",
       "1     538862   22195         0  2016-12-14 14:11:00     22389.0  Shop 0   \n",
       "2     538855   21239         7  2016-12-14 13:50:00     22182.0  Shop 0   \n",
       "3     543543   22271         0  2017-02-09 15:33:00     23522.0  Shop 0   \n",
       "4     543812   79321         0  2017-02-13 14:40:00     23151.0  Shop 0   \n",
       "\n",
       "   loyalty_program  \n",
       "0              0.0  \n",
       "1              1.0  \n",
       "2              1.0  \n",
       "3              1.0  \n",
       "4              1.0  "
      ]
     },
     "execution_count": 1,
     "metadata": {},
     "output_type": "execute_result"
    }
   ],
   "source": [
    "import pandas as pd\n",
    "import numpy as np\n",
    "import matplotlib.pyplot as plt\n",
    "import seaborn as sns\n",
    "import scipy.stats as stats\n",
    "import datetime as dt\n",
    "import warnings\n",
    "data = pd.read_csv('/datasets/retail_dataset.csv')\n",
    "codes = pd.read_csv('/datasets/product_codes.csv')\n",
    "data.head()"
   ]
  },
  {
   "cell_type": "code",
   "execution_count": 2,
   "metadata": {},
   "outputs": [
    {
     "name": "stdout",
     "output_type": "stream",
     "text": [
      "<class 'pandas.core.frame.DataFrame'>\n",
      "RangeIndex: 105335 entries, 0 to 105334\n",
      "Data columns (total 7 columns):\n",
      "purchaseid         105335 non-null object\n",
      "item_ID            105335 non-null object\n",
      "Quantity           105335 non-null int64\n",
      "purchasedate       105335 non-null object\n",
      "CustomerID         69125 non-null float64\n",
      "ShopID             105335 non-null object\n",
      "loyalty_program    105335 non-null float64\n",
      "dtypes: float64(2), int64(1), object(4)\n",
      "memory usage: 5.6+ MB\n"
     ]
    }
   ],
   "source": [
    "data.info()"
   ]
  },
  {
   "cell_type": "code",
   "execution_count": 3,
   "metadata": {},
   "outputs": [
    {
     "data": {
      "text/html": [
       "<div>\n",
       "<style scoped>\n",
       "    .dataframe tbody tr th:only-of-type {\n",
       "        vertical-align: middle;\n",
       "    }\n",
       "\n",
       "    .dataframe tbody tr th {\n",
       "        vertical-align: top;\n",
       "    }\n",
       "\n",
       "    .dataframe thead th {\n",
       "        text-align: right;\n",
       "    }\n",
       "</style>\n",
       "<table border=\"1\" class=\"dataframe\">\n",
       "  <thead>\n",
       "    <tr style=\"text-align: right;\">\n",
       "      <th></th>\n",
       "      <th>Quantity</th>\n",
       "      <th>CustomerID</th>\n",
       "      <th>loyalty_program</th>\n",
       "    </tr>\n",
       "  </thead>\n",
       "  <tbody>\n",
       "    <tr>\n",
       "      <td>count</td>\n",
       "      <td>105335.000000</td>\n",
       "      <td>69125.000000</td>\n",
       "      <td>105335.000000</td>\n",
       "    </tr>\n",
       "    <tr>\n",
       "      <td>mean</td>\n",
       "      <td>7.821218</td>\n",
       "      <td>21019.302047</td>\n",
       "      <td>0.226345</td>\n",
       "    </tr>\n",
       "    <tr>\n",
       "      <td>std</td>\n",
       "      <td>327.946695</td>\n",
       "      <td>1765.444679</td>\n",
       "      <td>0.418467</td>\n",
       "    </tr>\n",
       "    <tr>\n",
       "      <td>min</td>\n",
       "      <td>-74216.000000</td>\n",
       "      <td>18025.000000</td>\n",
       "      <td>0.000000</td>\n",
       "    </tr>\n",
       "    <tr>\n",
       "      <td>25%</td>\n",
       "      <td>0.000000</td>\n",
       "      <td>19544.000000</td>\n",
       "      <td>0.000000</td>\n",
       "    </tr>\n",
       "    <tr>\n",
       "      <td>50%</td>\n",
       "      <td>2.000000</td>\n",
       "      <td>20990.000000</td>\n",
       "      <td>0.000000</td>\n",
       "    </tr>\n",
       "    <tr>\n",
       "      <td>75%</td>\n",
       "      <td>7.000000</td>\n",
       "      <td>22659.000000</td>\n",
       "      <td>0.000000</td>\n",
       "    </tr>\n",
       "    <tr>\n",
       "      <td>max</td>\n",
       "      <td>74214.000000</td>\n",
       "      <td>23962.000000</td>\n",
       "      <td>1.000000</td>\n",
       "    </tr>\n",
       "  </tbody>\n",
       "</table>\n",
       "</div>"
      ],
      "text/plain": [
       "            Quantity    CustomerID  loyalty_program\n",
       "count  105335.000000  69125.000000    105335.000000\n",
       "mean        7.821218  21019.302047         0.226345\n",
       "std       327.946695   1765.444679         0.418467\n",
       "min    -74216.000000  18025.000000         0.000000\n",
       "25%         0.000000  19544.000000         0.000000\n",
       "50%         2.000000  20990.000000         0.000000\n",
       "75%         7.000000  22659.000000         0.000000\n",
       "max     74214.000000  23962.000000         1.000000"
      ]
     },
     "execution_count": 3,
     "metadata": {},
     "output_type": "execute_result"
    }
   ],
   "source": [
    "data.describe()"
   ]
  },
  {
   "cell_type": "code",
   "execution_count": 4,
   "metadata": {},
   "outputs": [
    {
     "data": {
      "text/html": [
       "<div>\n",
       "<style scoped>\n",
       "    .dataframe tbody tr th:only-of-type {\n",
       "        vertical-align: middle;\n",
       "    }\n",
       "\n",
       "    .dataframe tbody tr th {\n",
       "        vertical-align: top;\n",
       "    }\n",
       "\n",
       "    .dataframe thead th {\n",
       "        text-align: right;\n",
       "    }\n",
       "</style>\n",
       "<table border=\"1\" class=\"dataframe\">\n",
       "  <thead>\n",
       "    <tr style=\"text-align: right;\">\n",
       "      <th></th>\n",
       "      <th>productID</th>\n",
       "      <th>price_per_one</th>\n",
       "    </tr>\n",
       "  </thead>\n",
       "  <tbody>\n",
       "    <tr>\n",
       "      <td>0</td>\n",
       "      <td>85123A</td>\n",
       "      <td>2.55</td>\n",
       "    </tr>\n",
       "    <tr>\n",
       "      <td>1</td>\n",
       "      <td>71053</td>\n",
       "      <td>3.39</td>\n",
       "    </tr>\n",
       "    <tr>\n",
       "      <td>2</td>\n",
       "      <td>84406B</td>\n",
       "      <td>2.75</td>\n",
       "    </tr>\n",
       "    <tr>\n",
       "      <td>3</td>\n",
       "      <td>84029G</td>\n",
       "      <td>3.39</td>\n",
       "    </tr>\n",
       "    <tr>\n",
       "      <td>4</td>\n",
       "      <td>84029E</td>\n",
       "      <td>3.39</td>\n",
       "    </tr>\n",
       "  </tbody>\n",
       "</table>\n",
       "</div>"
      ],
      "text/plain": [
       "  productID  price_per_one\n",
       "0    85123A           2.55\n",
       "1     71053           3.39\n",
       "2    84406B           2.75\n",
       "3    84029G           3.39\n",
       "4    84029E           3.39"
      ]
     },
     "execution_count": 4,
     "metadata": {},
     "output_type": "execute_result"
    }
   ],
   "source": [
    "codes.head()"
   ]
  },
  {
   "cell_type": "code",
   "execution_count": 5,
   "metadata": {},
   "outputs": [
    {
     "name": "stdout",
     "output_type": "stream",
     "text": [
      "<class 'pandas.core.frame.DataFrame'>\n",
      "RangeIndex: 9969 entries, 0 to 9968\n",
      "Data columns (total 2 columns):\n",
      "productID        9969 non-null object\n",
      "price_per_one    9969 non-null float64\n",
      "dtypes: float64(1), object(1)\n",
      "memory usage: 155.9+ KB\n"
     ]
    }
   ],
   "source": [
    "codes.info()"
   ]
  },
  {
   "cell_type": "code",
   "execution_count": 6,
   "metadata": {},
   "outputs": [
    {
     "data": {
      "text/html": [
       "<div>\n",
       "<style scoped>\n",
       "    .dataframe tbody tr th:only-of-type {\n",
       "        vertical-align: middle;\n",
       "    }\n",
       "\n",
       "    .dataframe tbody tr th {\n",
       "        vertical-align: top;\n",
       "    }\n",
       "\n",
       "    .dataframe thead th {\n",
       "        text-align: right;\n",
       "    }\n",
       "</style>\n",
       "<table border=\"1\" class=\"dataframe\">\n",
       "  <thead>\n",
       "    <tr style=\"text-align: right;\">\n",
       "      <th></th>\n",
       "      <th>price_per_one</th>\n",
       "    </tr>\n",
       "  </thead>\n",
       "  <tbody>\n",
       "    <tr>\n",
       "      <td>count</td>\n",
       "      <td>9969.000000</td>\n",
       "    </tr>\n",
       "    <tr>\n",
       "      <td>mean</td>\n",
       "      <td>19.503697</td>\n",
       "    </tr>\n",
       "    <tr>\n",
       "      <td>std</td>\n",
       "      <td>330.880754</td>\n",
       "    </tr>\n",
       "    <tr>\n",
       "      <td>min</td>\n",
       "      <td>0.000000</td>\n",
       "    </tr>\n",
       "    <tr>\n",
       "      <td>25%</td>\n",
       "      <td>1.250000</td>\n",
       "    </tr>\n",
       "    <tr>\n",
       "      <td>50%</td>\n",
       "      <td>2.550000</td>\n",
       "    </tr>\n",
       "    <tr>\n",
       "      <td>75%</td>\n",
       "      <td>5.510000</td>\n",
       "    </tr>\n",
       "    <tr>\n",
       "      <td>max</td>\n",
       "      <td>16888.020000</td>\n",
       "    </tr>\n",
       "  </tbody>\n",
       "</table>\n",
       "</div>"
      ],
      "text/plain": [
       "       price_per_one\n",
       "count    9969.000000\n",
       "mean       19.503697\n",
       "std       330.880754\n",
       "min         0.000000\n",
       "25%         1.250000\n",
       "50%         2.550000\n",
       "75%         5.510000\n",
       "max     16888.020000"
      ]
     },
     "execution_count": 6,
     "metadata": {},
     "output_type": "execute_result"
    }
   ],
   "source": [
    "codes.describe()"
   ]
  },
  {
   "cell_type": "code",
   "execution_count": 7,
   "metadata": {},
   "outputs": [
    {
     "name": "stdout",
     "output_type": "stream",
     "text": [
      "1033\n",
      "purchaseid             0\n",
      "item_ID                0\n",
      "Quantity               0\n",
      "purchasedate           0\n",
      "CustomerID         36210\n",
      "ShopID                 0\n",
      "loyalty_program        0\n",
      "dtype: int64\n",
      "0\n",
      "productID        0\n",
      "price_per_one    0\n",
      "dtype: int64\n"
     ]
    }
   ],
   "source": [
    "print(data.duplicated().sum())# проверка на дубли\n",
    "print(data.isna().sum())# проверка на пропуски\n",
    "print(codes.duplicated().sum()) \n",
    "print(codes.isna().sum())# "
   ]
  },
  {
   "cell_type": "code",
   "execution_count": 8,
   "metadata": {},
   "outputs": [
    {
     "name": "stdout",
     "output_type": "stream",
     "text": [
      "0.0    81493\n",
      "1.0    23842\n",
      "Name: loyalty_program, dtype: int64\n"
     ]
    }
   ],
   "source": [
    "print(data['loyalty_program'].value_counts())"
   ]
  },
  {
   "cell_type": "code",
   "execution_count": 9,
   "metadata": {},
   "outputs": [
    {
     "name": "stdout",
     "output_type": "stream",
     "text": [
      "Shop 0     97393\n",
      "Shop 4      1741\n",
      "Shop 1      1540\n",
      "Shop 6      1032\n",
      "Shop 8       560\n",
      "Shop 3       492\n",
      "Shop 7       312\n",
      "Shop 10      299\n",
      "Shop 12      278\n",
      "Shop 18      256\n",
      "Shop 2       253\n",
      "Shop 5       179\n",
      "Shop 11      169\n",
      "Shop 14      154\n",
      "Shop 19       74\n",
      "Shop 9        61\n",
      "Shop 15       60\n",
      "Shop 16       59\n",
      "Shop 25       57\n",
      "Shop 26       56\n",
      "Shop 27       45\n",
      "Shop 22       40\n",
      "Shop 17       40\n",
      "Shop 13       35\n",
      "Shop 24       32\n",
      "Shop 21       32\n",
      "Shop 28       30\n",
      "Shop 20       30\n",
      "Shop 30       15\n",
      "Shop 29        9\n",
      "Shop 23        2\n",
      "Name: ShopID, dtype: int64\n"
     ]
    }
   ],
   "source": [
    "print(data['ShopID'].value_counts())"
   ]
  },
  {
   "cell_type": "code",
   "execution_count": 10,
   "metadata": {},
   "outputs": [
    {
     "name": "stdout",
     "output_type": "stream",
     "text": [
      "DOT          174\n",
      "M             59\n",
      "S             29\n",
      "POST          15\n",
      "D             13\n",
      "79321         11\n",
      "84406B        10\n",
      "47566         10\n",
      "AMAZONFEE      9\n",
      "21673          9\n",
      "Name: productID, dtype: int64\n"
     ]
    }
   ],
   "source": [
    "print(codes['productID'].value_counts().head(10))"
   ]
  },
  {
   "cell_type": "markdown",
   "metadata": {},
   "source": [
    "Выводы \n",
    "\n",
    "Данные загружены. Выведена информация о данных. Выведены первые значения переменных. В основной таблице (data) есть пропуски в столбце CustomerID, об этом свидетельствует количество значений в указанной переменной. Также в основной таблице есть дубли. Несколько переменных нуждаются в изменении названией (в целях удобства) и типа: поле purchasedate - из object в datetime, т.к. это поле дат; CustomerID и loyalty_program из float в object, т.к. это качественные характеристики. Также нужно скорректировать названия столбцов в таблицах hypothesis и visitors, чтобы они состояли из прописных букв. Обращает на себя внимание наличие нулей в столбце Quantity таблицы data, это аналог пропусков. Попробуем их заполнить. Также в столбце Quantity есть отрицательные и очень высокие значения. Проверим, нет ли в столбце loyalty_program неожиданных значений. Их нет. Посчитаем количество магазинов: их 31. В таблице codes есть коды товаров, которым соответствует несколько цен. Нужно исправить."
   ]
  },
  {
   "cell_type": "markdown",
   "metadata": {},
   "source": [
    "## 2. Подготовка данных"
   ]
  },
  {
   "cell_type": "code",
   "execution_count": 11,
   "metadata": {},
   "outputs": [
    {
     "name": "stdout",
     "output_type": "stream",
     "text": [
      "<class 'pandas.core.frame.DataFrame'>\n",
      "Int64Index: 104302 entries, 0 to 105334\n",
      "Data columns (total 7 columns):\n",
      "purchaseid         104302 non-null object\n",
      "item_ID            104302 non-null object\n",
      "Quantity           104302 non-null int64\n",
      "purchasedate       104302 non-null object\n",
      "CustomerID         68154 non-null float64\n",
      "ShopID             104302 non-null object\n",
      "loyalty_program    104302 non-null float64\n",
      "dtypes: float64(2), int64(1), object(4)\n",
      "memory usage: 6.4+ MB\n"
     ]
    }
   ],
   "source": [
    "data = data.drop_duplicates()\n",
    "data.info()"
   ]
  },
  {
   "cell_type": "markdown",
   "metadata": {},
   "source": [
    "Удаляем дублирующиеся строки из таблицы data. Проверяем."
   ]
  },
  {
   "cell_type": "code",
   "execution_count": 12,
   "metadata": {},
   "outputs": [
    {
     "data": {
      "text/html": [
       "<div>\n",
       "<style scoped>\n",
       "    .dataframe tbody tr th:only-of-type {\n",
       "        vertical-align: middle;\n",
       "    }\n",
       "\n",
       "    .dataframe tbody tr th {\n",
       "        vertical-align: top;\n",
       "    }\n",
       "\n",
       "    .dataframe thead th {\n",
       "        text-align: right;\n",
       "    }\n",
       "</style>\n",
       "<table border=\"1\" class=\"dataframe\">\n",
       "  <thead>\n",
       "    <tr style=\"text-align: right;\">\n",
       "      <th></th>\n",
       "      <th>check_id</th>\n",
       "      <th>item_id</th>\n",
       "      <th>quantity</th>\n",
       "      <th>datetime</th>\n",
       "      <th>customer_id</th>\n",
       "      <th>shop_id</th>\n",
       "      <th>loyalty_pr</th>\n",
       "    </tr>\n",
       "  </thead>\n",
       "  <tbody>\n",
       "    <tr>\n",
       "      <td>0</td>\n",
       "      <td>538280</td>\n",
       "      <td>21873</td>\n",
       "      <td>11</td>\n",
       "      <td>2016-12-10 12:50:00</td>\n",
       "      <td>18427.0</td>\n",
       "      <td>Shop 0</td>\n",
       "      <td>0.0</td>\n",
       "    </tr>\n",
       "    <tr>\n",
       "      <td>1</td>\n",
       "      <td>538862</td>\n",
       "      <td>22195</td>\n",
       "      <td>0</td>\n",
       "      <td>2016-12-14 14:11:00</td>\n",
       "      <td>22389.0</td>\n",
       "      <td>Shop 0</td>\n",
       "      <td>1.0</td>\n",
       "    </tr>\n",
       "    <tr>\n",
       "      <td>2</td>\n",
       "      <td>538855</td>\n",
       "      <td>21239</td>\n",
       "      <td>7</td>\n",
       "      <td>2016-12-14 13:50:00</td>\n",
       "      <td>22182.0</td>\n",
       "      <td>Shop 0</td>\n",
       "      <td>1.0</td>\n",
       "    </tr>\n",
       "    <tr>\n",
       "      <td>3</td>\n",
       "      <td>543543</td>\n",
       "      <td>22271</td>\n",
       "      <td>0</td>\n",
       "      <td>2017-02-09 15:33:00</td>\n",
       "      <td>23522.0</td>\n",
       "      <td>Shop 0</td>\n",
       "      <td>1.0</td>\n",
       "    </tr>\n",
       "    <tr>\n",
       "      <td>4</td>\n",
       "      <td>543812</td>\n",
       "      <td>79321</td>\n",
       "      <td>0</td>\n",
       "      <td>2017-02-13 14:40:00</td>\n",
       "      <td>23151.0</td>\n",
       "      <td>Shop 0</td>\n",
       "      <td>1.0</td>\n",
       "    </tr>\n",
       "  </tbody>\n",
       "</table>\n",
       "</div>"
      ],
      "text/plain": [
       "  check_id item_id  quantity             datetime  customer_id shop_id  \\\n",
       "0   538280   21873        11  2016-12-10 12:50:00      18427.0  Shop 0   \n",
       "1   538862   22195         0  2016-12-14 14:11:00      22389.0  Shop 0   \n",
       "2   538855   21239         7  2016-12-14 13:50:00      22182.0  Shop 0   \n",
       "3   543543   22271         0  2017-02-09 15:33:00      23522.0  Shop 0   \n",
       "4   543812   79321         0  2017-02-13 14:40:00      23151.0  Shop 0   \n",
       "\n",
       "   loyalty_pr  \n",
       "0         0.0  \n",
       "1         1.0  \n",
       "2         1.0  \n",
       "3         1.0  \n",
       "4         1.0  "
      ]
     },
     "execution_count": 12,
     "metadata": {},
     "output_type": "execute_result"
    }
   ],
   "source": [
    "data = data.rename({'purchaseid': 'check_id', 'item_ID': 'item_id', 'Quantity': 'quantity',\n",
    "                    'purchasedate': 'datetime','CustomerID': 'customer_id',  \n",
    "                    'ShopID': 'shop_id','loyalty_program': 'loyalty_pr'}, axis = 1)\n",
    "data.head()"
   ]
  },
  {
   "cell_type": "code",
   "execution_count": 13,
   "metadata": {},
   "outputs": [
    {
     "data": {
      "text/html": [
       "<div>\n",
       "<style scoped>\n",
       "    .dataframe tbody tr th:only-of-type {\n",
       "        vertical-align: middle;\n",
       "    }\n",
       "\n",
       "    .dataframe tbody tr th {\n",
       "        vertical-align: top;\n",
       "    }\n",
       "\n",
       "    .dataframe thead th {\n",
       "        text-align: right;\n",
       "    }\n",
       "</style>\n",
       "<table border=\"1\" class=\"dataframe\">\n",
       "  <thead>\n",
       "    <tr style=\"text-align: right;\">\n",
       "      <th></th>\n",
       "      <th>item_id</th>\n",
       "      <th>price</th>\n",
       "    </tr>\n",
       "  </thead>\n",
       "  <tbody>\n",
       "    <tr>\n",
       "      <td>0</td>\n",
       "      <td>85123A</td>\n",
       "      <td>2.55</td>\n",
       "    </tr>\n",
       "    <tr>\n",
       "      <td>1</td>\n",
       "      <td>71053</td>\n",
       "      <td>3.39</td>\n",
       "    </tr>\n",
       "    <tr>\n",
       "      <td>2</td>\n",
       "      <td>84406B</td>\n",
       "      <td>2.75</td>\n",
       "    </tr>\n",
       "    <tr>\n",
       "      <td>3</td>\n",
       "      <td>84029G</td>\n",
       "      <td>3.39</td>\n",
       "    </tr>\n",
       "    <tr>\n",
       "      <td>4</td>\n",
       "      <td>84029E</td>\n",
       "      <td>3.39</td>\n",
       "    </tr>\n",
       "  </tbody>\n",
       "</table>\n",
       "</div>"
      ],
      "text/plain": [
       "  item_id  price\n",
       "0  85123A   2.55\n",
       "1   71053   3.39\n",
       "2  84406B   2.75\n",
       "3  84029G   3.39\n",
       "4  84029E   3.39"
      ]
     },
     "execution_count": 13,
     "metadata": {},
     "output_type": "execute_result"
    }
   ],
   "source": [
    "codes = codes.rename({'productID': 'item_id', 'price_per_one': 'price'}, axis = 1)\n",
    "codes.head()"
   ]
  },
  {
   "cell_type": "markdown",
   "metadata": {},
   "source": [
    "Переименовываем столбцы в таблицах. Проверяем."
   ]
  },
  {
   "cell_type": "code",
   "execution_count": 14,
   "metadata": {},
   "outputs": [
    {
     "name": "stdout",
     "output_type": "stream",
     "text": [
      "<class 'pandas.core.frame.DataFrame'>\n",
      "Int64Index: 104302 entries, 0 to 105334\n",
      "Data columns (total 7 columns):\n",
      "check_id       104302 non-null object\n",
      "item_id        104302 non-null object\n",
      "quantity       104302 non-null int64\n",
      "datetime       104302 non-null datetime64[ns]\n",
      "customer_id    68154 non-null object\n",
      "shop_id        104302 non-null object\n",
      "loyalty_pr     104302 non-null object\n",
      "dtypes: datetime64[ns](1), int64(1), object(5)\n",
      "memory usage: 6.4+ MB\n"
     ]
    }
   ],
   "source": [
    "data['datetime'] = pd.to_datetime(data['datetime'], format='%Y-%m-%dT%H:%M:%S')\n",
    "data['customer_id'] = data['customer_id'].astype(object)\n",
    "data['loyalty_pr'] = data['loyalty_pr'].astype(object)\n",
    "data.info()"
   ]
  },
  {
   "cell_type": "markdown",
   "metadata": {},
   "source": [
    "Изменяем типы переменных: поле date - из object в datetime, customer_id и loyalty_pr из float в object. Проверяем."
   ]
  },
  {
   "cell_type": "code",
   "execution_count": 15,
   "metadata": {},
   "outputs": [
    {
     "data": {
      "text/html": [
       "<div>\n",
       "<style scoped>\n",
       "    .dataframe tbody tr th:only-of-type {\n",
       "        vertical-align: middle;\n",
       "    }\n",
       "\n",
       "    .dataframe tbody tr th {\n",
       "        vertical-align: top;\n",
       "    }\n",
       "\n",
       "    .dataframe thead th {\n",
       "        text-align: right;\n",
       "    }\n",
       "</style>\n",
       "<table border=\"1\" class=\"dataframe\">\n",
       "  <thead>\n",
       "    <tr style=\"text-align: right;\">\n",
       "      <th></th>\n",
       "      <th>index</th>\n",
       "      <th>check_id</th>\n",
       "    </tr>\n",
       "  </thead>\n",
       "  <tbody>\n",
       "    <tr>\n",
       "      <td>0</td>\n",
       "      <td>6</td>\n",
       "      <td>540468</td>\n",
       "    </tr>\n",
       "    <tr>\n",
       "      <td>1</td>\n",
       "      <td>7</td>\n",
       "      <td>541424</td>\n",
       "    </tr>\n",
       "    <tr>\n",
       "      <td>2</td>\n",
       "      <td>8</td>\n",
       "      <td>538883</td>\n",
       "    </tr>\n",
       "    <tr>\n",
       "      <td>3</td>\n",
       "      <td>11</td>\n",
       "      <td>541696</td>\n",
       "    </tr>\n",
       "    <tr>\n",
       "      <td>4</td>\n",
       "      <td>16</td>\n",
       "      <td>539744</td>\n",
       "    </tr>\n",
       "  </tbody>\n",
       "</table>\n",
       "</div>"
      ],
      "text/plain": [
       "   index check_id\n",
       "0      6   540468\n",
       "1      7   541424\n",
       "2      8   538883\n",
       "3     11   541696\n",
       "4     16   539744"
      ]
     },
     "execution_count": 15,
     "metadata": {},
     "output_type": "execute_result"
    }
   ],
   "source": [
    "data_null = data[data['customer_id'].isna()]# выделяем строки с пропусками в столбце customer_id\n",
    "data_null_check = data_null.loc[:, 'check_id'] # выделяем столбец с номерами чеков\n",
    "data_null_check = data_null_check.drop_duplicates()# удаляем дубли\n",
    "data_null_check = data_null_check.reset_index()\n",
    "data_null_check.head()"
   ]
  },
  {
   "cell_type": "code",
   "execution_count": 16,
   "metadata": {},
   "outputs": [
    {
     "data": {
      "text/html": [
       "<div>\n",
       "<style scoped>\n",
       "    .dataframe tbody tr th:only-of-type {\n",
       "        vertical-align: middle;\n",
       "    }\n",
       "\n",
       "    .dataframe tbody tr th {\n",
       "        vertical-align: top;\n",
       "    }\n",
       "\n",
       "    .dataframe thead th {\n",
       "        text-align: right;\n",
       "    }\n",
       "</style>\n",
       "<table border=\"1\" class=\"dataframe\">\n",
       "  <thead>\n",
       "    <tr style=\"text-align: right;\">\n",
       "      <th></th>\n",
       "      <th>check_id</th>\n",
       "      <th>customer_id</th>\n",
       "    </tr>\n",
       "  </thead>\n",
       "  <tbody>\n",
       "    <tr>\n",
       "      <td>0</td>\n",
       "      <td>538280</td>\n",
       "      <td>18427</td>\n",
       "    </tr>\n",
       "    <tr>\n",
       "      <td>1</td>\n",
       "      <td>538862</td>\n",
       "      <td>22389</td>\n",
       "    </tr>\n",
       "    <tr>\n",
       "      <td>2</td>\n",
       "      <td>538855</td>\n",
       "      <td>22182</td>\n",
       "    </tr>\n",
       "    <tr>\n",
       "      <td>3</td>\n",
       "      <td>543543</td>\n",
       "      <td>23522</td>\n",
       "    </tr>\n",
       "    <tr>\n",
       "      <td>4</td>\n",
       "      <td>543812</td>\n",
       "      <td>23151</td>\n",
       "    </tr>\n",
       "  </tbody>\n",
       "</table>\n",
       "</div>"
      ],
      "text/plain": [
       "  check_id customer_id\n",
       "0   538280       18427\n",
       "1   538862       22389\n",
       "2   538855       22182\n",
       "3   543543       23522\n",
       "4   543812       23151"
      ]
     },
     "execution_count": 16,
     "metadata": {},
     "output_type": "execute_result"
    }
   ],
   "source": [
    "data_all_check = data.loc[:, ['check_id', 'customer_id']]# выделяем из исходной таблицы номера чеков и коды покупателей\n",
    "data_all_check = data_all_check.dropna()# удаляем пропуски\n",
    "data_all_check = data_all_check.drop_duplicates()# удаляем дубли\n",
    "data_all_check.head()"
   ]
  },
  {
   "cell_type": "code",
   "execution_count": 17,
   "metadata": {},
   "outputs": [
    {
     "name": "stdout",
     "output_type": "stream",
     "text": [
      "<class 'pandas.core.frame.DataFrame'>\n",
      "Index: 0 entries\n",
      "Data columns (total 3 columns):\n",
      "index          0 non-null int64\n",
      "check_id       0 non-null object\n",
      "customer_id    0 non-null object\n",
      "dtypes: int64(1), object(2)\n",
      "memory usage: 0.0+ bytes\n"
     ]
    }
   ],
   "source": [
    "data_fill_null = data_null_check.merge(data_all_check, on = 'check_id')# объединяем таблицы \n",
    "data_fill_null.info()"
   ]
  },
  {
   "cell_type": "markdown",
   "metadata": {},
   "source": [
    "Для заполнения пропусков в столбце customer_id попробуем идентифицировать покупателей через номера чеков: если идентифицированный покупатель получил чек по одному из товаров, то по номеру этого чека можно заполнить пропуски.\n",
    "К сожалению, таким образом заполнить пропуски не удалось: не найдены соответствия между чеками идентифицированных и неидентифицированных покупателей.\n",
    "Рассматривалась возможность идентифицировать пропуски через магазин, программу лояльности, дату и время выдачи чека, но в данном случае, если такие соответствия найдутся, это будет не достоверной информацией, т.к. идентифицированный и неидентифицированный покупатели могут осуществить покупку в одном магазине и в одно и то же время, но на разных кассах.\n",
    "В результате будем анализировать полный массив данных и массив данных, очищенный от строк с пропусками."
   ]
  },
  {
   "cell_type": "code",
   "execution_count": 18,
   "metadata": {},
   "outputs": [
    {
     "name": "stdout",
     "output_type": "stream",
     "text": [
      "<class 'pandas.core.frame.DataFrame'>\n",
      "Int64Index: 104302 entries, 0 to 105334\n",
      "Data columns (total 8 columns):\n",
      "check_id       104302 non-null object\n",
      "item_id        104302 non-null object\n",
      "quantity       104302 non-null int64\n",
      "datetime       104302 non-null datetime64[ns]\n",
      "customer_id    68154 non-null object\n",
      "shop_id        104302 non-null object\n",
      "loyalty_pr     104302 non-null object\n",
      "date           104302 non-null object\n",
      "dtypes: datetime64[ns](1), int64(1), object(6)\n",
      "memory usage: 7.2+ MB\n"
     ]
    }
   ],
   "source": [
    "data['date'] = data['datetime'].dt.date\n",
    "data.info()"
   ]
  },
  {
   "cell_type": "code",
   "execution_count": 19,
   "metadata": {},
   "outputs": [
    {
     "name": "stdout",
     "output_type": "stream",
     "text": [
      "       item_id  quantity\n",
      "69074    23166     74214\n",
      "31974    37413      5567\n",
      "104734   22053      3905\n",
      "38595    21108      3113\n",
      "12719    84077      2879\n",
      "...        ...       ...\n",
      "53844    22351     -1401\n",
      "10687   84611B     -1431\n",
      "104960   22617     -2601\n",
      "39345    84347     -9361\n",
      "49411    23166    -74216\n",
      "\n",
      "[104302 rows x 2 columns]\n"
     ]
    }
   ],
   "source": [
    "print(data[['item_id', 'quantity']].sort_values(by='quantity' ,ascending = False))"
   ]
  },
  {
   "cell_type": "markdown",
   "metadata": {},
   "source": [
    "Рассмотрим переменную quantity (количество) в связке с переменной item_id. Как видно, в переменной quantity присутствую отрицательные значения. Скорее всего, это техническая ошибка при обработке баз данных и знак минус дожен быть заменен на знак плюс. Вместе с тем, обращают на себя внимание самое крупное положительное и самое крупное отрицательное значения переменной quantity. Они почти равны. Видимо, кассир при пробитии чека ошибся и попытался сделать сторнирующий чек по тому же товару, но опять ошибся в последнем знаке. Исходя из этого, указанные значения (самое крупное положительное и самое крупное отрицательное значения переменной quantity) будут удалены."
   ]
  },
  {
   "cell_type": "code",
   "execution_count": 20,
   "metadata": {},
   "outputs": [
    {
     "data": {
      "text/html": [
       "<div>\n",
       "<style scoped>\n",
       "    .dataframe tbody tr th:only-of-type {\n",
       "        vertical-align: middle;\n",
       "    }\n",
       "\n",
       "    .dataframe tbody tr th {\n",
       "        vertical-align: top;\n",
       "    }\n",
       "\n",
       "    .dataframe thead th {\n",
       "        text-align: right;\n",
       "    }\n",
       "</style>\n",
       "<table border=\"1\" class=\"dataframe\">\n",
       "  <thead>\n",
       "    <tr style=\"text-align: right;\">\n",
       "      <th></th>\n",
       "      <th>quantity</th>\n",
       "    </tr>\n",
       "  </thead>\n",
       "  <tbody>\n",
       "    <tr>\n",
       "      <td>count</td>\n",
       "      <td>104300.000000</td>\n",
       "    </tr>\n",
       "    <tr>\n",
       "      <td>mean</td>\n",
       "      <td>8.752550</td>\n",
       "    </tr>\n",
       "    <tr>\n",
       "      <td>std</td>\n",
       "      <td>54.627902</td>\n",
       "    </tr>\n",
       "    <tr>\n",
       "      <td>min</td>\n",
       "      <td>0.000000</td>\n",
       "    </tr>\n",
       "    <tr>\n",
       "      <td>25%</td>\n",
       "      <td>0.000000</td>\n",
       "    </tr>\n",
       "    <tr>\n",
       "      <td>50%</td>\n",
       "      <td>2.000000</td>\n",
       "    </tr>\n",
       "    <tr>\n",
       "      <td>75%</td>\n",
       "      <td>8.000000</td>\n",
       "    </tr>\n",
       "    <tr>\n",
       "      <td>max</td>\n",
       "      <td>9361.000000</td>\n",
       "    </tr>\n",
       "  </tbody>\n",
       "</table>\n",
       "</div>"
      ],
      "text/plain": [
       "            quantity\n",
       "count  104300.000000\n",
       "mean        8.752550\n",
       "std        54.627902\n",
       "min         0.000000\n",
       "25%         0.000000\n",
       "50%         2.000000\n",
       "75%         8.000000\n",
       "max      9361.000000"
      ]
     },
     "execution_count": 20,
     "metadata": {},
     "output_type": "execute_result"
    }
   ],
   "source": [
    "data['quantity'] = abs(data['quantity'])\n",
    "data = data[data['quantity']<70000]\n",
    "data.describe()"
   ]
  },
  {
   "cell_type": "markdown",
   "metadata": {},
   "source": [
    "Т.к. отрицательные значения столбца quantity, скорее всего, техническая ошибка, меняем знак \"минус\" на знак \"плюс\".\n",
    "Удаляем строки по товару \"23166\" с аномально высокими значениями переменной quantity. Проверяем."
   ]
  },
  {
   "cell_type": "code",
   "execution_count": 21,
   "metadata": {},
   "outputs": [
    {
     "name": "stdout",
     "output_type": "stream",
     "text": [
      "<class 'pandas.core.frame.DataFrame'>\n",
      "Int64Index: 68152 entries, 0 to 105334\n",
      "Data columns (total 8 columns):\n",
      "check_id       68152 non-null object\n",
      "item_id        68152 non-null object\n",
      "quantity       68152 non-null int64\n",
      "datetime       68152 non-null datetime64[ns]\n",
      "customer_id    68152 non-null object\n",
      "shop_id        68152 non-null object\n",
      "loyalty_pr     68152 non-null object\n",
      "date           68152 non-null object\n",
      "dtypes: datetime64[ns](1), int64(1), object(6)\n",
      "memory usage: 4.7+ MB\n"
     ]
    },
    {
     "data": {
      "text/html": [
       "<div>\n",
       "<style scoped>\n",
       "    .dataframe tbody tr th:only-of-type {\n",
       "        vertical-align: middle;\n",
       "    }\n",
       "\n",
       "    .dataframe tbody tr th {\n",
       "        vertical-align: top;\n",
       "    }\n",
       "\n",
       "    .dataframe thead th {\n",
       "        text-align: right;\n",
       "    }\n",
       "</style>\n",
       "<table border=\"1\" class=\"dataframe\">\n",
       "  <thead>\n",
       "    <tr style=\"text-align: right;\">\n",
       "      <th></th>\n",
       "      <th>check_id</th>\n",
       "      <th>item_id</th>\n",
       "      <th>quantity</th>\n",
       "      <th>datetime</th>\n",
       "      <th>customer_id</th>\n",
       "      <th>shop_id</th>\n",
       "      <th>loyalty_pr</th>\n",
       "      <th>date</th>\n",
       "    </tr>\n",
       "  </thead>\n",
       "  <tbody>\n",
       "    <tr>\n",
       "      <td>0</td>\n",
       "      <td>538280</td>\n",
       "      <td>21873</td>\n",
       "      <td>11</td>\n",
       "      <td>2016-12-10 12:50:00</td>\n",
       "      <td>18427</td>\n",
       "      <td>Shop 0</td>\n",
       "      <td>0</td>\n",
       "      <td>2016-12-10</td>\n",
       "    </tr>\n",
       "    <tr>\n",
       "      <td>1</td>\n",
       "      <td>538862</td>\n",
       "      <td>22195</td>\n",
       "      <td>0</td>\n",
       "      <td>2016-12-14 14:11:00</td>\n",
       "      <td>22389</td>\n",
       "      <td>Shop 0</td>\n",
       "      <td>1</td>\n",
       "      <td>2016-12-14</td>\n",
       "    </tr>\n",
       "    <tr>\n",
       "      <td>2</td>\n",
       "      <td>538855</td>\n",
       "      <td>21239</td>\n",
       "      <td>7</td>\n",
       "      <td>2016-12-14 13:50:00</td>\n",
       "      <td>22182</td>\n",
       "      <td>Shop 0</td>\n",
       "      <td>1</td>\n",
       "      <td>2016-12-14</td>\n",
       "    </tr>\n",
       "    <tr>\n",
       "      <td>3</td>\n",
       "      <td>543543</td>\n",
       "      <td>22271</td>\n",
       "      <td>0</td>\n",
       "      <td>2017-02-09 15:33:00</td>\n",
       "      <td>23522</td>\n",
       "      <td>Shop 0</td>\n",
       "      <td>1</td>\n",
       "      <td>2017-02-09</td>\n",
       "    </tr>\n",
       "    <tr>\n",
       "      <td>4</td>\n",
       "      <td>543812</td>\n",
       "      <td>79321</td>\n",
       "      <td>0</td>\n",
       "      <td>2017-02-13 14:40:00</td>\n",
       "      <td>23151</td>\n",
       "      <td>Shop 0</td>\n",
       "      <td>1</td>\n",
       "      <td>2017-02-13</td>\n",
       "    </tr>\n",
       "  </tbody>\n",
       "</table>\n",
       "</div>"
      ],
      "text/plain": [
       "  check_id item_id  quantity            datetime customer_id shop_id  \\\n",
       "0   538280   21873        11 2016-12-10 12:50:00       18427  Shop 0   \n",
       "1   538862   22195         0 2016-12-14 14:11:00       22389  Shop 0   \n",
       "2   538855   21239         7 2016-12-14 13:50:00       22182  Shop 0   \n",
       "3   543543   22271         0 2017-02-09 15:33:00       23522  Shop 0   \n",
       "4   543812   79321         0 2017-02-13 14:40:00       23151  Shop 0   \n",
       "\n",
       "  loyalty_pr        date  \n",
       "0          0  2016-12-10  \n",
       "1          1  2016-12-14  \n",
       "2          1  2016-12-14  \n",
       "3          1  2017-02-09  \n",
       "4          1  2017-02-13  "
      ]
     },
     "execution_count": 21,
     "metadata": {},
     "output_type": "execute_result"
    }
   ],
   "source": [
    "data_corr = data.dropna()\n",
    "data_corr.info()\n",
    "data_corr.head()"
   ]
  },
  {
   "cell_type": "markdown",
   "metadata": {},
   "source": [
    "Для новой таблицы data_corr удаляем строки с пропусками. Проверяем. Удалено 36148 строк (34,6% от общего количества записей). "
   ]
  },
  {
   "cell_type": "markdown",
   "metadata": {},
   "source": [
    "## 3. Изучение и проверка данных"
   ]
  },
  {
   "cell_type": "markdown",
   "metadata": {},
   "source": [
    "### Построение гистограммы по дате. Определение полноты данных за период"
   ]
  },
  {
   "cell_type": "code",
   "execution_count": 22,
   "metadata": {},
   "outputs": [
    {
     "name": "stdout",
     "output_type": "stream",
     "text": [
      "2017-02-28\n",
      "2016-12-01\n"
     ]
    }
   ],
   "source": [
    "print(data['date'].max())\n",
    "print(data['date'].min())"
   ]
  },
  {
   "cell_type": "code",
   "execution_count": 23,
   "metadata": {},
   "outputs": [
    {
     "data": {
      "image/png": "[encoded data removed]",
      "text/plain": [
       "<Figure size 1152x432 with 1 Axes>"
      ]
     },
     "metadata": {
      "needs_background": "light"
     },
     "output_type": "display_data"
    }
   ],
   "source": [
    "warnings.filterwarnings(\"ignore\")\n",
    "data['date'].hist(bins=90, figsize = (16, 6));\n",
    "plt.title('Распределение чеков по датам')\n",
    "plt.xlabel('Даты')\n",
    "plt.ylabel('Количество чеков');"
   ]
  },
  {
   "cell_type": "markdown",
   "metadata": {},
   "source": [
    "Определим минимальную и максимальную дату в базе. Минимальная дата - 01.12.2016 Максимальная дата 28.02.2017. Построим гистограмму распределения всех чеков по датам. Как видно из графика, в торговле сети магазинов присутствует сезонность. В первой половине каждого месяца наблюдается пик продаж. Наиболее ярко он выражен в декабре 2016 г. Пропуски в графике обусловлены выходными и периодом новогодних праздников."
   ]
  },
  {
   "cell_type": "code",
   "execution_count": 24,
   "metadata": {},
   "outputs": [
    {
     "data": {
      "image/png": "[encoded data removed]",
      "text/plain": [
       "<Figure size 1152x432 with 1 Axes>"
      ]
     },
     "metadata": {
      "needs_background": "light"
     },
     "output_type": "display_data"
    }
   ],
   "source": [
    "warnings.filterwarnings(\"ignore\")\n",
    "data_corr['date'].hist(bins=90, figsize = (16, 6));\n",
    "plt.title('Распределение чеков по датам (только идентифицированные клиенты)')\n",
    "plt.xlabel('Даты')\n",
    "plt.ylabel('Количество чеков');"
   ]
  },
  {
   "cell_type": "markdown",
   "metadata": {},
   "source": [
    "Построим гистограмму распределения чеков по датам только для идентифицированных пользователей. В целом распределения похожи, но есть различия в размерности и распределениях чеков по отдельным неделям."
   ]
  },
  {
   "cell_type": "markdown",
   "metadata": {},
   "source": [
    "### Исследование переменных на аномалии. Коррекция переменных в случае необходимости"
   ]
  },
  {
   "cell_type": "code",
   "execution_count": 25,
   "metadata": {},
   "outputs": [
    {
     "name": "stdout",
     "output_type": "stream",
     "text": [
      "<class 'pandas.core.frame.DataFrame'>\n",
      "Int64Index: 104300 entries, 0 to 105334\n",
      "Data columns (total 8 columns):\n",
      "check_id       104300 non-null object\n",
      "item_id        104300 non-null object\n",
      "quantity       103581 non-null float64\n",
      "datetime       104300 non-null datetime64[ns]\n",
      "customer_id    68152 non-null object\n",
      "shop_id        104300 non-null object\n",
      "loyalty_pr     104300 non-null object\n",
      "date           104300 non-null object\n",
      "dtypes: datetime64[ns](1), float64(1), object(6)\n",
      "memory usage: 7.2+ MB\n"
     ]
    }
   ],
   "source": [
    "data['quantity']= data['quantity'].replace(0, np.nan, regex=True) # меняем 0 на nan\n",
    "data['quantity'] = data.groupby('item_id')['quantity'].apply(lambda x: x.fillna(x.median()))\n",
    "data.info()"
   ]
  },
  {
   "cell_type": "markdown",
   "metadata": {},
   "source": [
    "Как уже было выявлено, столбец quantity (количество) содержит нули. Очевидно, что это ошибки в базе, т.к. нет необходимости пробивать нулевые чеки. В целях устранения ошибок заменим нули на медианные значения количеств по соответствующему товару. Проверяем. Обнаружены пропуски в столбце quantity: товары с количеством 0 продавались единственный раз. Их 719 (0,7% от общего количества строк). Т.к. мы не можем восстановить эти пропуски, удаляем их."
   ]
  },
  {
   "cell_type": "code",
   "execution_count": 26,
   "metadata": {},
   "outputs": [
    {
     "name": "stdout",
     "output_type": "stream",
     "text": [
      "<class 'pandas.core.frame.DataFrame'>\n",
      "Int64Index: 103581 entries, 0 to 105334\n",
      "Data columns (total 8 columns):\n",
      "check_id       103581 non-null object\n",
      "item_id        103581 non-null object\n",
      "quantity       103581 non-null object\n",
      "datetime       103581 non-null datetime64[ns]\n",
      "customer_id    67960 non-null object\n",
      "shop_id        103581 non-null object\n",
      "loyalty_pr     103581 non-null object\n",
      "date           103581 non-null object\n",
      "dtypes: datetime64[ns](1), object(7)\n",
      "memory usage: 7.1+ MB\n"
     ]
    }
   ],
   "source": [
    "data['quantity']= data['quantity'].fillna('n')\n",
    "data = data[data['quantity'] !='n']\n",
    "data.info()"
   ]
  },
  {
   "cell_type": "markdown",
   "metadata": {},
   "source": [
    "Удаляем строки с пропусками из столбца quantity. Проверяем."
   ]
  },
  {
   "cell_type": "code",
   "execution_count": 27,
   "metadata": {},
   "outputs": [
    {
     "data": {
      "text/html": [
       "<div>\n",
       "<style scoped>\n",
       "    .dataframe tbody tr th:only-of-type {\n",
       "        vertical-align: middle;\n",
       "    }\n",
       "\n",
       "    .dataframe tbody tr th {\n",
       "        vertical-align: top;\n",
       "    }\n",
       "\n",
       "    .dataframe thead th {\n",
       "        text-align: right;\n",
       "    }\n",
       "</style>\n",
       "<table border=\"1\" class=\"dataframe\">\n",
       "  <thead>\n",
       "    <tr style=\"text-align: right;\">\n",
       "      <th></th>\n",
       "      <th>item_id</th>\n",
       "      <th>price</th>\n",
       "    </tr>\n",
       "  </thead>\n",
       "  <tbody>\n",
       "    <tr>\n",
       "      <td>0</td>\n",
       "      <td>10002</td>\n",
       "      <td>1.38</td>\n",
       "    </tr>\n",
       "    <tr>\n",
       "      <td>1</td>\n",
       "      <td>10080</td>\n",
       "      <td>0.85</td>\n",
       "    </tr>\n",
       "    <tr>\n",
       "      <td>2</td>\n",
       "      <td>10120</td>\n",
       "      <td>0.21</td>\n",
       "    </tr>\n",
       "    <tr>\n",
       "      <td>3</td>\n",
       "      <td>10123C</td>\n",
       "      <td>0.65</td>\n",
       "    </tr>\n",
       "    <tr>\n",
       "      <td>4</td>\n",
       "      <td>10124A</td>\n",
       "      <td>0.42</td>\n",
       "    </tr>\n",
       "  </tbody>\n",
       "</table>\n",
       "</div>"
      ],
      "text/plain": [
       "  item_id  price\n",
       "0   10002   1.38\n",
       "1   10080   0.85\n",
       "2   10120   0.21\n",
       "3  10123C   0.65\n",
       "4  10124A   0.42"
      ]
     },
     "execution_count": 27,
     "metadata": {},
     "output_type": "execute_result"
    }
   ],
   "source": [
    "item_price = codes.groupby('item_id')['price'].mean().reset_index()\n",
    "item_price.columns = ['item_id', 'price']\n",
    "item_price.head()"
   ]
  },
  {
   "cell_type": "code",
   "execution_count": 28,
   "metadata": {},
   "outputs": [
    {
     "name": "stdout",
     "output_type": "stream",
     "text": [
      "82613A    1\n",
      "35653     1\n",
      "22881     1\n",
      "22757     1\n",
      "84497     1\n",
      "Name: item_id, dtype: int64\n",
      "<class 'pandas.core.frame.DataFrame'>\n",
      "RangeIndex: 3159 entries, 0 to 3158\n",
      "Data columns (total 2 columns):\n",
      "item_id    3159 non-null object\n",
      "price      3159 non-null float64\n",
      "dtypes: float64(1), object(1)\n",
      "memory usage: 49.5+ KB\n"
     ]
    }
   ],
   "source": [
    "print(item_price['item_id'].value_counts().head())\n",
    "item_price.info()"
   ]
  },
  {
   "cell_type": "markdown",
   "metadata": {},
   "source": [
    "Как уже было выявлено, в таблице codes есть коды товаров, которым соответствует несколько цен. Рассчитаем новую таблицу цен, где каждому товару будет соответствовать его средняя цена из таблицы codes. Проверяем: каждому товару соответствуе одна цена."
   ]
  },
  {
   "cell_type": "markdown",
   "metadata": {},
   "source": [
    "### Объединение таблиц чеков и цен"
   ]
  },
  {
   "cell_type": "code",
   "execution_count": 29,
   "metadata": {},
   "outputs": [
    {
     "name": "stdout",
     "output_type": "stream",
     "text": [
      "<class 'pandas.core.frame.DataFrame'>\n",
      "Int64Index: 103581 entries, 0 to 103580\n",
      "Data columns (total 9 columns):\n",
      "check_id       103581 non-null object\n",
      "item_id        103581 non-null object\n",
      "quantity       103581 non-null object\n",
      "datetime       103581 non-null datetime64[ns]\n",
      "customer_id    67960 non-null object\n",
      "shop_id        103581 non-null object\n",
      "loyalty_pr     103581 non-null object\n",
      "date           103581 non-null object\n",
      "price          103581 non-null float64\n",
      "dtypes: datetime64[ns](1), float64(1), object(7)\n",
      "memory usage: 7.9+ MB\n"
     ]
    },
    {
     "data": {
      "text/html": [
       "<div>\n",
       "<style scoped>\n",
       "    .dataframe tbody tr th:only-of-type {\n",
       "        vertical-align: middle;\n",
       "    }\n",
       "\n",
       "    .dataframe tbody tr th {\n",
       "        vertical-align: top;\n",
       "    }\n",
       "\n",
       "    .dataframe thead th {\n",
       "        text-align: right;\n",
       "    }\n",
       "</style>\n",
       "<table border=\"1\" class=\"dataframe\">\n",
       "  <thead>\n",
       "    <tr style=\"text-align: right;\">\n",
       "      <th></th>\n",
       "      <th>check_id</th>\n",
       "      <th>item_id</th>\n",
       "      <th>quantity</th>\n",
       "      <th>datetime</th>\n",
       "      <th>customer_id</th>\n",
       "      <th>shop_id</th>\n",
       "      <th>loyalty_pr</th>\n",
       "      <th>date</th>\n",
       "      <th>price</th>\n",
       "    </tr>\n",
       "  </thead>\n",
       "  <tbody>\n",
       "    <tr>\n",
       "      <td>0</td>\n",
       "      <td>538280</td>\n",
       "      <td>21873</td>\n",
       "      <td>11</td>\n",
       "      <td>2016-12-10 12:50:00</td>\n",
       "      <td>18427</td>\n",
       "      <td>Shop 0</td>\n",
       "      <td>0</td>\n",
       "      <td>2016-12-10</td>\n",
       "      <td>1.810000</td>\n",
       "    </tr>\n",
       "    <tr>\n",
       "      <td>1</td>\n",
       "      <td>538862</td>\n",
       "      <td>22195</td>\n",
       "      <td>3</td>\n",
       "      <td>2016-12-14 14:11:00</td>\n",
       "      <td>22389</td>\n",
       "      <td>Shop 0</td>\n",
       "      <td>1</td>\n",
       "      <td>2016-12-14</td>\n",
       "      <td>2.766667</td>\n",
       "    </tr>\n",
       "    <tr>\n",
       "      <td>2</td>\n",
       "      <td>538855</td>\n",
       "      <td>21239</td>\n",
       "      <td>7</td>\n",
       "      <td>2016-12-14 13:50:00</td>\n",
       "      <td>22182</td>\n",
       "      <td>Shop 0</td>\n",
       "      <td>1</td>\n",
       "      <td>2016-12-14</td>\n",
       "      <td>1.474000</td>\n",
       "    </tr>\n",
       "    <tr>\n",
       "      <td>3</td>\n",
       "      <td>543543</td>\n",
       "      <td>22271</td>\n",
       "      <td>5</td>\n",
       "      <td>2017-02-09 15:33:00</td>\n",
       "      <td>23522</td>\n",
       "      <td>Shop 0</td>\n",
       "      <td>1</td>\n",
       "      <td>2017-02-09</td>\n",
       "      <td>4.300000</td>\n",
       "    </tr>\n",
       "    <tr>\n",
       "      <td>4</td>\n",
       "      <td>543812</td>\n",
       "      <td>79321</td>\n",
       "      <td>7</td>\n",
       "      <td>2017-02-13 14:40:00</td>\n",
       "      <td>23151</td>\n",
       "      <td>Shop 0</td>\n",
       "      <td>1</td>\n",
       "      <td>2017-02-13</td>\n",
       "      <td>7.013636</td>\n",
       "    </tr>\n",
       "  </tbody>\n",
       "</table>\n",
       "</div>"
      ],
      "text/plain": [
       "  check_id item_id quantity            datetime customer_id shop_id  \\\n",
       "0   538280   21873       11 2016-12-10 12:50:00       18427  Shop 0   \n",
       "1   538862   22195        3 2016-12-14 14:11:00       22389  Shop 0   \n",
       "2   538855   21239        7 2016-12-14 13:50:00       22182  Shop 0   \n",
       "3   543543   22271        5 2017-02-09 15:33:00       23522  Shop 0   \n",
       "4   543812   79321        7 2017-02-13 14:40:00       23151  Shop 0   \n",
       "\n",
       "  loyalty_pr        date     price  \n",
       "0          0  2016-12-10  1.810000  \n",
       "1          1  2016-12-14  2.766667  \n",
       "2          1  2016-12-14  1.474000  \n",
       "3          1  2017-02-09  4.300000  \n",
       "4          1  2017-02-13  7.013636  "
      ]
     },
     "execution_count": 29,
     "metadata": {},
     "output_type": "execute_result"
    }
   ],
   "source": [
    "data = data.merge(item_price, on = 'item_id', how = 'left')\n",
    "data.info()\n",
    "data.head()"
   ]
  },
  {
   "cell_type": "markdown",
   "metadata": {},
   "source": [
    "Для расчета выручки объединим таблицы data и item_price. Проверяем."
   ]
  },
  {
   "cell_type": "code",
   "execution_count": 30,
   "metadata": {},
   "outputs": [
    {
     "name": "stdout",
     "output_type": "stream",
     "text": [
      "<class 'pandas.core.frame.DataFrame'>\n",
      "Int64Index: 67960 entries, 0 to 103580\n",
      "Data columns (total 9 columns):\n",
      "check_id       67960 non-null object\n",
      "item_id        67960 non-null object\n",
      "quantity       67960 non-null object\n",
      "datetime       67960 non-null datetime64[ns]\n",
      "customer_id    67960 non-null object\n",
      "shop_id        67960 non-null object\n",
      "loyalty_pr     67960 non-null object\n",
      "date           67960 non-null object\n",
      "price          67960 non-null float64\n",
      "dtypes: datetime64[ns](1), float64(1), object(7)\n",
      "memory usage: 5.2+ MB\n"
     ]
    },
    {
     "data": {
      "text/html": [
       "<div>\n",
       "<style scoped>\n",
       "    .dataframe tbody tr th:only-of-type {\n",
       "        vertical-align: middle;\n",
       "    }\n",
       "\n",
       "    .dataframe tbody tr th {\n",
       "        vertical-align: top;\n",
       "    }\n",
       "\n",
       "    .dataframe thead th {\n",
       "        text-align: right;\n",
       "    }\n",
       "</style>\n",
       "<table border=\"1\" class=\"dataframe\">\n",
       "  <thead>\n",
       "    <tr style=\"text-align: right;\">\n",
       "      <th></th>\n",
       "      <th>check_id</th>\n",
       "      <th>item_id</th>\n",
       "      <th>quantity</th>\n",
       "      <th>datetime</th>\n",
       "      <th>customer_id</th>\n",
       "      <th>shop_id</th>\n",
       "      <th>loyalty_pr</th>\n",
       "      <th>date</th>\n",
       "      <th>price</th>\n",
       "    </tr>\n",
       "  </thead>\n",
       "  <tbody>\n",
       "    <tr>\n",
       "      <td>0</td>\n",
       "      <td>538280</td>\n",
       "      <td>21873</td>\n",
       "      <td>11</td>\n",
       "      <td>2016-12-10 12:50:00</td>\n",
       "      <td>18427</td>\n",
       "      <td>Shop 0</td>\n",
       "      <td>0</td>\n",
       "      <td>2016-12-10</td>\n",
       "      <td>1.810000</td>\n",
       "    </tr>\n",
       "    <tr>\n",
       "      <td>1</td>\n",
       "      <td>538862</td>\n",
       "      <td>22195</td>\n",
       "      <td>3</td>\n",
       "      <td>2016-12-14 14:11:00</td>\n",
       "      <td>22389</td>\n",
       "      <td>Shop 0</td>\n",
       "      <td>1</td>\n",
       "      <td>2016-12-14</td>\n",
       "      <td>2.766667</td>\n",
       "    </tr>\n",
       "    <tr>\n",
       "      <td>2</td>\n",
       "      <td>538855</td>\n",
       "      <td>21239</td>\n",
       "      <td>7</td>\n",
       "      <td>2016-12-14 13:50:00</td>\n",
       "      <td>22182</td>\n",
       "      <td>Shop 0</td>\n",
       "      <td>1</td>\n",
       "      <td>2016-12-14</td>\n",
       "      <td>1.474000</td>\n",
       "    </tr>\n",
       "    <tr>\n",
       "      <td>3</td>\n",
       "      <td>543543</td>\n",
       "      <td>22271</td>\n",
       "      <td>5</td>\n",
       "      <td>2017-02-09 15:33:00</td>\n",
       "      <td>23522</td>\n",
       "      <td>Shop 0</td>\n",
       "      <td>1</td>\n",
       "      <td>2017-02-09</td>\n",
       "      <td>4.300000</td>\n",
       "    </tr>\n",
       "    <tr>\n",
       "      <td>4</td>\n",
       "      <td>543812</td>\n",
       "      <td>79321</td>\n",
       "      <td>7</td>\n",
       "      <td>2017-02-13 14:40:00</td>\n",
       "      <td>23151</td>\n",
       "      <td>Shop 0</td>\n",
       "      <td>1</td>\n",
       "      <td>2017-02-13</td>\n",
       "      <td>7.013636</td>\n",
       "    </tr>\n",
       "  </tbody>\n",
       "</table>\n",
       "</div>"
      ],
      "text/plain": [
       "  check_id item_id quantity            datetime customer_id shop_id  \\\n",
       "0   538280   21873       11 2016-12-10 12:50:00       18427  Shop 0   \n",
       "1   538862   22195        3 2016-12-14 14:11:00       22389  Shop 0   \n",
       "2   538855   21239        7 2016-12-14 13:50:00       22182  Shop 0   \n",
       "3   543543   22271        5 2017-02-09 15:33:00       23522  Shop 0   \n",
       "4   543812   79321        7 2017-02-13 14:40:00       23151  Shop 0   \n",
       "\n",
       "  loyalty_pr        date     price  \n",
       "0          0  2016-12-10  1.810000  \n",
       "1          1  2016-12-14  2.766667  \n",
       "2          1  2016-12-14  1.474000  \n",
       "3          1  2017-02-09  4.300000  \n",
       "4          1  2017-02-13  7.013636  "
      ]
     },
     "execution_count": 30,
     "metadata": {},
     "output_type": "execute_result"
    }
   ],
   "source": [
    "data_corr = data.dropna()\n",
    "data_corr.info()\n",
    "data_corr.head()"
   ]
  },
  {
   "cell_type": "markdown",
   "metadata": {},
   "source": [
    "Аналогичные действия проводим для таблицы с массивом данных, очищенных от строк с пропусками."
   ]
  },
  {
   "cell_type": "markdown",
   "metadata": {},
   "source": [
    "### Расчет показателей выручки по каждому чеку"
   ]
  },
  {
   "cell_type": "code",
   "execution_count": 31,
   "metadata": {},
   "outputs": [
    {
     "name": "stdout",
     "output_type": "stream",
     "text": [
      "<class 'pandas.core.frame.DataFrame'>\n",
      "Int64Index: 103581 entries, 0 to 103580\n",
      "Data columns (total 10 columns):\n",
      "check_id       103581 non-null object\n",
      "item_id        103581 non-null object\n",
      "quantity       103581 non-null object\n",
      "datetime       103581 non-null datetime64[ns]\n",
      "customer_id    67960 non-null object\n",
      "shop_id        103581 non-null object\n",
      "loyalty_pr     103581 non-null object\n",
      "date           103581 non-null object\n",
      "price          103581 non-null float64\n",
      "revenue        103581 non-null object\n",
      "dtypes: datetime64[ns](1), float64(1), object(8)\n",
      "memory usage: 8.7+ MB\n"
     ]
    },
    {
     "data": {
      "text/html": [
       "<div>\n",
       "<style scoped>\n",
       "    .dataframe tbody tr th:only-of-type {\n",
       "        vertical-align: middle;\n",
       "    }\n",
       "\n",
       "    .dataframe tbody tr th {\n",
       "        vertical-align: top;\n",
       "    }\n",
       "\n",
       "    .dataframe thead th {\n",
       "        text-align: right;\n",
       "    }\n",
       "</style>\n",
       "<table border=\"1\" class=\"dataframe\">\n",
       "  <thead>\n",
       "    <tr style=\"text-align: right;\">\n",
       "      <th></th>\n",
       "      <th>check_id</th>\n",
       "      <th>item_id</th>\n",
       "      <th>quantity</th>\n",
       "      <th>datetime</th>\n",
       "      <th>customer_id</th>\n",
       "      <th>shop_id</th>\n",
       "      <th>loyalty_pr</th>\n",
       "      <th>date</th>\n",
       "      <th>price</th>\n",
       "      <th>revenue</th>\n",
       "    </tr>\n",
       "  </thead>\n",
       "  <tbody>\n",
       "    <tr>\n",
       "      <td>0</td>\n",
       "      <td>538280</td>\n",
       "      <td>21873</td>\n",
       "      <td>11</td>\n",
       "      <td>2016-12-10 12:50:00</td>\n",
       "      <td>18427</td>\n",
       "      <td>Shop 0</td>\n",
       "      <td>0</td>\n",
       "      <td>2016-12-10</td>\n",
       "      <td>1.810000</td>\n",
       "      <td>19.91</td>\n",
       "    </tr>\n",
       "    <tr>\n",
       "      <td>1</td>\n",
       "      <td>538862</td>\n",
       "      <td>22195</td>\n",
       "      <td>3</td>\n",
       "      <td>2016-12-14 14:11:00</td>\n",
       "      <td>22389</td>\n",
       "      <td>Shop 0</td>\n",
       "      <td>1</td>\n",
       "      <td>2016-12-14</td>\n",
       "      <td>2.766667</td>\n",
       "      <td>8.3</td>\n",
       "    </tr>\n",
       "    <tr>\n",
       "      <td>2</td>\n",
       "      <td>538855</td>\n",
       "      <td>21239</td>\n",
       "      <td>7</td>\n",
       "      <td>2016-12-14 13:50:00</td>\n",
       "      <td>22182</td>\n",
       "      <td>Shop 0</td>\n",
       "      <td>1</td>\n",
       "      <td>2016-12-14</td>\n",
       "      <td>1.474000</td>\n",
       "      <td>10.318</td>\n",
       "    </tr>\n",
       "    <tr>\n",
       "      <td>3</td>\n",
       "      <td>543543</td>\n",
       "      <td>22271</td>\n",
       "      <td>5</td>\n",
       "      <td>2017-02-09 15:33:00</td>\n",
       "      <td>23522</td>\n",
       "      <td>Shop 0</td>\n",
       "      <td>1</td>\n",
       "      <td>2017-02-09</td>\n",
       "      <td>4.300000</td>\n",
       "      <td>21.5</td>\n",
       "    </tr>\n",
       "    <tr>\n",
       "      <td>4</td>\n",
       "      <td>543812</td>\n",
       "      <td>79321</td>\n",
       "      <td>7</td>\n",
       "      <td>2017-02-13 14:40:00</td>\n",
       "      <td>23151</td>\n",
       "      <td>Shop 0</td>\n",
       "      <td>1</td>\n",
       "      <td>2017-02-13</td>\n",
       "      <td>7.013636</td>\n",
       "      <td>49.0955</td>\n",
       "    </tr>\n",
       "  </tbody>\n",
       "</table>\n",
       "</div>"
      ],
      "text/plain": [
       "  check_id item_id quantity            datetime customer_id shop_id  \\\n",
       "0   538280   21873       11 2016-12-10 12:50:00       18427  Shop 0   \n",
       "1   538862   22195        3 2016-12-14 14:11:00       22389  Shop 0   \n",
       "2   538855   21239        7 2016-12-14 13:50:00       22182  Shop 0   \n",
       "3   543543   22271        5 2017-02-09 15:33:00       23522  Shop 0   \n",
       "4   543812   79321        7 2017-02-13 14:40:00       23151  Shop 0   \n",
       "\n",
       "  loyalty_pr        date     price  revenue  \n",
       "0          0  2016-12-10  1.810000    19.91  \n",
       "1          1  2016-12-14  2.766667      8.3  \n",
       "2          1  2016-12-14  1.474000   10.318  \n",
       "3          1  2017-02-09  4.300000     21.5  \n",
       "4          1  2017-02-13  7.013636  49.0955  "
      ]
     },
     "execution_count": 31,
     "metadata": {},
     "output_type": "execute_result"
    }
   ],
   "source": [
    "data['revenue'] = data['quantity']*data['price']\n",
    "data_corr['revenue'] = data_corr['quantity']*data_corr['price']\n",
    "data.info()\n",
    "data.head()"
   ]
  },
  {
   "cell_type": "code",
   "execution_count": 32,
   "metadata": {},
   "outputs": [
    {
     "name": "stdout",
     "output_type": "stream",
     "text": [
      "<class 'pandas.core.frame.DataFrame'>\n",
      "Int64Index: 67960 entries, 0 to 103580\n",
      "Data columns (total 10 columns):\n",
      "check_id       67960 non-null object\n",
      "item_id        67960 non-null object\n",
      "quantity       67960 non-null object\n",
      "datetime       67960 non-null datetime64[ns]\n",
      "customer_id    67960 non-null object\n",
      "shop_id        67960 non-null object\n",
      "loyalty_pr     67960 non-null object\n",
      "date           67960 non-null object\n",
      "price          67960 non-null float64\n",
      "revenue        67960 non-null object\n",
      "dtypes: datetime64[ns](1), float64(1), object(8)\n",
      "memory usage: 5.7+ MB\n"
     ]
    },
    {
     "data": {
      "text/html": [
       "<div>\n",
       "<style scoped>\n",
       "    .dataframe tbody tr th:only-of-type {\n",
       "        vertical-align: middle;\n",
       "    }\n",
       "\n",
       "    .dataframe tbody tr th {\n",
       "        vertical-align: top;\n",
       "    }\n",
       "\n",
       "    .dataframe thead th {\n",
       "        text-align: right;\n",
       "    }\n",
       "</style>\n",
       "<table border=\"1\" class=\"dataframe\">\n",
       "  <thead>\n",
       "    <tr style=\"text-align: right;\">\n",
       "      <th></th>\n",
       "      <th>check_id</th>\n",
       "      <th>item_id</th>\n",
       "      <th>quantity</th>\n",
       "      <th>datetime</th>\n",
       "      <th>customer_id</th>\n",
       "      <th>shop_id</th>\n",
       "      <th>loyalty_pr</th>\n",
       "      <th>date</th>\n",
       "      <th>price</th>\n",
       "      <th>revenue</th>\n",
       "    </tr>\n",
       "  </thead>\n",
       "  <tbody>\n",
       "    <tr>\n",
       "      <td>0</td>\n",
       "      <td>538280</td>\n",
       "      <td>21873</td>\n",
       "      <td>11</td>\n",
       "      <td>2016-12-10 12:50:00</td>\n",
       "      <td>18427</td>\n",
       "      <td>Shop 0</td>\n",
       "      <td>0</td>\n",
       "      <td>2016-12-10</td>\n",
       "      <td>1.810000</td>\n",
       "      <td>19.91</td>\n",
       "    </tr>\n",
       "    <tr>\n",
       "      <td>1</td>\n",
       "      <td>538862</td>\n",
       "      <td>22195</td>\n",
       "      <td>3</td>\n",
       "      <td>2016-12-14 14:11:00</td>\n",
       "      <td>22389</td>\n",
       "      <td>Shop 0</td>\n",
       "      <td>1</td>\n",
       "      <td>2016-12-14</td>\n",
       "      <td>2.766667</td>\n",
       "      <td>8.3</td>\n",
       "    </tr>\n",
       "    <tr>\n",
       "      <td>2</td>\n",
       "      <td>538855</td>\n",
       "      <td>21239</td>\n",
       "      <td>7</td>\n",
       "      <td>2016-12-14 13:50:00</td>\n",
       "      <td>22182</td>\n",
       "      <td>Shop 0</td>\n",
       "      <td>1</td>\n",
       "      <td>2016-12-14</td>\n",
       "      <td>1.474000</td>\n",
       "      <td>10.318</td>\n",
       "    </tr>\n",
       "    <tr>\n",
       "      <td>3</td>\n",
       "      <td>543543</td>\n",
       "      <td>22271</td>\n",
       "      <td>5</td>\n",
       "      <td>2017-02-09 15:33:00</td>\n",
       "      <td>23522</td>\n",
       "      <td>Shop 0</td>\n",
       "      <td>1</td>\n",
       "      <td>2017-02-09</td>\n",
       "      <td>4.300000</td>\n",
       "      <td>21.5</td>\n",
       "    </tr>\n",
       "    <tr>\n",
       "      <td>4</td>\n",
       "      <td>543812</td>\n",
       "      <td>79321</td>\n",
       "      <td>7</td>\n",
       "      <td>2017-02-13 14:40:00</td>\n",
       "      <td>23151</td>\n",
       "      <td>Shop 0</td>\n",
       "      <td>1</td>\n",
       "      <td>2017-02-13</td>\n",
       "      <td>7.013636</td>\n",
       "      <td>49.0955</td>\n",
       "    </tr>\n",
       "  </tbody>\n",
       "</table>\n",
       "</div>"
      ],
      "text/plain": [
       "  check_id item_id quantity            datetime customer_id shop_id  \\\n",
       "0   538280   21873       11 2016-12-10 12:50:00       18427  Shop 0   \n",
       "1   538862   22195        3 2016-12-14 14:11:00       22389  Shop 0   \n",
       "2   538855   21239        7 2016-12-14 13:50:00       22182  Shop 0   \n",
       "3   543543   22271        5 2017-02-09 15:33:00       23522  Shop 0   \n",
       "4   543812   79321        7 2017-02-13 14:40:00       23151  Shop 0   \n",
       "\n",
       "  loyalty_pr        date     price  revenue  \n",
       "0          0  2016-12-10  1.810000    19.91  \n",
       "1          1  2016-12-14  2.766667      8.3  \n",
       "2          1  2016-12-14  1.474000   10.318  \n",
       "3          1  2017-02-09  4.300000     21.5  \n",
       "4          1  2017-02-13  7.013636  49.0955  "
      ]
     },
     "execution_count": 32,
     "metadata": {},
     "output_type": "execute_result"
    }
   ],
   "source": [
    "data_corr.info()\n",
    "data_corr.head()"
   ]
  },
  {
   "cell_type": "markdown",
   "metadata": {},
   "source": [
    "Для таблиц data и data_corr рассчитаем показатели выручки по каждой строке чека. Проверяем."
   ]
  },
  {
   "cell_type": "markdown",
   "metadata": {},
   "source": [
    "### Расчет общего количества чеков в логе (в целом и по группам: покупатели, участвующие в программе лояльности (ПЛ); покупатели, не участвующие в ПЛ) "
   ]
  },
  {
   "cell_type": "code",
   "execution_count": 33,
   "metadata": {},
   "outputs": [
    {
     "data": {
      "text/html": [
       "<div>\n",
       "<style scoped>\n",
       "    .dataframe tbody tr th:only-of-type {\n",
       "        vertical-align: middle;\n",
       "    }\n",
       "\n",
       "    .dataframe tbody tr th {\n",
       "        vertical-align: top;\n",
       "    }\n",
       "\n",
       "    .dataframe thead th {\n",
       "        text-align: right;\n",
       "    }\n",
       "</style>\n",
       "<table border=\"1\" class=\"dataframe\">\n",
       "  <thead>\n",
       "    <tr style=\"text-align: right;\">\n",
       "      <th></th>\n",
       "      <th>index</th>\n",
       "      <th>quant</th>\n",
       "    </tr>\n",
       "  </thead>\n",
       "  <tbody>\n",
       "    <tr>\n",
       "      <td>0</td>\n",
       "      <td>check_id</td>\n",
       "      <td>4870</td>\n",
       "    </tr>\n",
       "    <tr>\n",
       "      <td>1</td>\n",
       "      <td>loyalty_pr</td>\n",
       "      <td>4870</td>\n",
       "    </tr>\n",
       "  </tbody>\n",
       "</table>\n",
       "</div>"
      ],
      "text/plain": [
       "        index  quant\n",
       "0    check_id   4870\n",
       "1  loyalty_pr   4870"
      ]
     },
     "execution_count": 33,
     "metadata": {},
     "output_type": "execute_result"
    }
   ],
   "source": [
    "check_full = data[['check_id', 'loyalty_pr']].drop_duplicates()\n",
    "check_full_count = check_full.count().reset_index()\n",
    "check_full_count.columns = ['index', 'quant']\n",
    "check_full_count"
   ]
  },
  {
   "cell_type": "code",
   "execution_count": 34,
   "metadata": {},
   "outputs": [
    {
     "data": {
      "text/html": [
       "<div>\n",
       "<style scoped>\n",
       "    .dataframe tbody tr th:only-of-type {\n",
       "        vertical-align: middle;\n",
       "    }\n",
       "\n",
       "    .dataframe tbody tr th {\n",
       "        vertical-align: top;\n",
       "    }\n",
       "\n",
       "    .dataframe thead th {\n",
       "        text-align: right;\n",
       "    }\n",
       "</style>\n",
       "<table border=\"1\" class=\"dataframe\">\n",
       "  <thead>\n",
       "    <tr style=\"text-align: right;\">\n",
       "      <th></th>\n",
       "      <th>index</th>\n",
       "      <th>quant</th>\n",
       "    </tr>\n",
       "  </thead>\n",
       "  <tbody>\n",
       "    <tr>\n",
       "      <td>0</td>\n",
       "      <td>check_id</td>\n",
       "      <td>4142</td>\n",
       "    </tr>\n",
       "    <tr>\n",
       "      <td>1</td>\n",
       "      <td>loyalty_pr</td>\n",
       "      <td>4142</td>\n",
       "    </tr>\n",
       "  </tbody>\n",
       "</table>\n",
       "</div>"
      ],
      "text/plain": [
       "        index  quant\n",
       "0    check_id   4142\n",
       "1  loyalty_pr   4142"
      ]
     },
     "execution_count": 34,
     "metadata": {},
     "output_type": "execute_result"
    }
   ],
   "source": [
    "check_full_c = data_corr[['check_id', 'loyalty_pr']].drop_duplicates()\n",
    "check_full_count_c = check_full_c.count().reset_index()\n",
    "check_full_count_c.columns = ['index', 'quant']\n",
    "check_full_count_c"
   ]
  },
  {
   "cell_type": "code",
   "execution_count": 35,
   "metadata": {},
   "outputs": [
    {
     "name": "stdout",
     "output_type": "stream",
     "text": [
      "Количество чеков (полные данные) 4870\n",
      "Количество чеков (очищенные данные) 4142\n"
     ]
    }
   ],
   "source": [
    "print('Количество чеков (полные данные)', check_full_count.loc[0, 'quant'])\n",
    "print('Количество чеков (очищенные данные)', check_full_count_c.loc[0, 'quant'])"
   ]
  },
  {
   "cell_type": "code",
   "execution_count": 36,
   "metadata": {},
   "outputs": [
    {
     "name": "stdout",
     "output_type": "stream",
     "text": [
      "loyalty_pr\n",
      "0.0    3526\n",
      "1.0    1344\n",
      "Name: check_id, dtype: int64\n"
     ]
    },
    {
     "data": {
      "image/png": "[encoded data removed]",
      "text/plain": [
       "<Figure size 864x432 with 1 Axes>"
      ]
     },
     "metadata": {},
     "output_type": "display_data"
    }
   ],
   "source": [
    "check_cust_prl_1 = check_full.groupby('loyalty_pr')['check_id'].count()\n",
    "print(check_cust_prl_1)\n",
    "check_cust_prl_1.plot(kind='pie', figsize=(12, 6), autopct='%1.2f%%', \n",
    "                      title = 'Распределение чеков по участию клиентов в программе лояльности (полные данные)',\n",
    "                     labels =['нет ПЛ', 'есть ПЛ']);"
   ]
  },
  {
   "cell_type": "code",
   "execution_count": 37,
   "metadata": {},
   "outputs": [
    {
     "name": "stdout",
     "output_type": "stream",
     "text": [
      "loyalty_pr\n",
      "0.0    2798\n",
      "1.0    1344\n",
      "Name: check_id, dtype: int64\n"
     ]
    },
    {
     "data": {
      "image/png": "[encoded data removed]",
      "text/plain": [
       "<Figure size 864x432 with 1 Axes>"
      ]
     },
     "metadata": {},
     "output_type": "display_data"
    }
   ],
   "source": [
    "check_cust_prl_2 = check_full_c.groupby('loyalty_pr')['check_id'].count()\n",
    "print(check_cust_prl_2)\n",
    "check_cust_prl_2.plot(kind='pie', figsize=(12, 6), autopct='%1.2f%%', \n",
    "                      title = 'Распределение чеков по участию клиентов в программе лояльности (очищенные данные)',\n",
    "                     labels =['нет ПЛ', 'есть ПЛ']);"
   ]
  },
  {
   "cell_type": "markdown",
   "metadata": {},
   "source": [
    "Рассчитаем количество чеков в базе: по полным данным - 4870 чеков, по очищенным - 4142 чека.\n",
    "Распределение чеков в зависимости от участия клиентов в программе лояльности (ПЛ):\n",
    "по полным данным: без ПЛ - 3526, с ПЛ - 1344\n",
    "по очищенным данным: без ПЛ - 2798, с ПЛ - 1344\n",
    "При удалении пропусков были исключены только клиенты, не участвующие в программе лояльности."
   ]
  },
  {
   "cell_type": "markdown",
   "metadata": {},
   "source": [
    "### Расчет количества покупателей в логе (в целом и по группам: покупатели, участвующие в ПЛ; покупатели, не участвующие в ПЛ) "
   ]
  },
  {
   "cell_type": "code",
   "execution_count": 38,
   "metadata": {},
   "outputs": [
    {
     "name": "stdout",
     "output_type": "stream",
     "text": [
      "Количество клиентов в базе: 1748\n",
      "loyalty_pr\n",
      "0.0    1161\n",
      "1.0     587\n",
      "Name: customer_id, dtype: int64\n"
     ]
    },
    {
     "data": {
      "image/png": "[encoded data removed]",
      "text/plain": [
       "<Figure size 864x432 with 1 Axes>"
      ]
     },
     "metadata": {},
     "output_type": "display_data"
    }
   ],
   "source": [
    "customer_prl = data_corr.loc[:, ['customer_id', 'loyalty_pr']]\n",
    "customer_prl = customer_prl.drop_duplicates()\n",
    "print('Количество клиентов в базе:', customer_prl.shape[0])\n",
    "cust_prl = customer_prl.groupby('loyalty_pr')['customer_id'].count()\n",
    "print(cust_prl)\n",
    "cust_prl.plot(kind='pie', figsize=(12, 6), autopct='%1.2f%%', \n",
    "                      title = 'Распределение клиентов по участию в программе лояльности (очищенные данные)',\n",
    "                     labels =['нет ПЛ', 'есть ПЛ']);"
   ]
  },
  {
   "cell_type": "markdown",
   "metadata": {},
   "source": [
    "Рассчитаем количество клиентов по очищенным данным. Их 1748, из них клиенты без ПЛ - 1161, клиенты с ПЛ - 587.\n",
    "Следует отметить, что распределение клиентов и чеков по очищенным данным практически идентичны. Таким образом, мы можем сделать вывод о том, что по полным данным будет наблюдаться та же картина. Соответственно, можно рассчитать показатели количества клиентов для полных данных через пропорцию:\n",
    "если количество клиентов, участвующих в ПЛ - это 27,6% - 587 чел., то\n",
    "количество клиентов, не участвующих в ПЛ - 72,4% или 1540 чел.\n",
    "Всего клиентов по полным данным - 2127 чел."
   ]
  },
  {
   "cell_type": "markdown",
   "metadata": {},
   "source": [
    "### Расчет количества чеков на 1 покупателя (в целом и по группам: покупатели, участвующие в ПЛ; покупатели, не участвующие в ПЛ)"
   ]
  },
  {
   "cell_type": "code",
   "execution_count": 39,
   "metadata": {},
   "outputs": [
    {
     "name": "stdout",
     "output_type": "stream",
     "text": [
      "Количество чеков на 1 покупателя (полные данные:) 2.2896097790314998\n",
      "0    2.289610\n",
      "1    2.289608\n",
      "Name: ch_per_one, dtype: float64\n"
     ]
    },
    {
     "data": {
      "image/png": "[encoded data removed]",
      "text/plain": [
       "<Figure size 864x432 with 1 Axes>"
      ]
     },
     "metadata": {
      "needs_background": "light"
     },
     "output_type": "display_data"
    }
   ],
   "source": [
    "print('Количество чеков на 1 покупателя (полные данные:)', check_full_count.loc[0, 'quant']/2127)\n",
    "check_cust_prl_1 = check_cust_prl_1.reset_index()\n",
    "check_cust_prl_1['customers'] = [1540, 587]\n",
    "check_cust_prl_1['ch_per_one'] =  check_cust_prl_1['check_id']/check_cust_prl_1['customers']\n",
    "print(check_cust_prl_1['ch_per_one'])\n",
    "check_cust_prl_1['ch_per_one'].plot(kind='bar', figsize=(12, 6), \n",
    "                      title = 'Количество чеков на 1 покупателя в зависимости от участия покупателя в ПЛ')\n",
    "plt.xlabel(\"Участие в ПЛ\")\n",
    "plt.ylabel(\"Количество чеков, шт.\");"
   ]
  },
  {
   "cell_type": "code",
   "execution_count": 40,
   "metadata": {},
   "outputs": [
    {
     "name": "stdout",
     "output_type": "stream",
     "text": [
      "Количество чеков на 1 покупателя (очищенные данные:) 2.369565217391304\n"
     ]
    },
    {
     "data": {
      "text/plain": [
       "0    2.409991\n",
       "1    2.289608\n",
       "Name: ch_per_one, dtype: float64"
      ]
     },
     "execution_count": 40,
     "metadata": {},
     "output_type": "execute_result"
    }
   ],
   "source": [
    "print('Количество чеков на 1 покупателя (очищенные данные:)', check_full_count_c.loc[0, 'quant']/customer_prl.shape[0])\n",
    "check_cust_prl_2 = check_cust_prl_2.reset_index()\n",
    "check_cust_prl_2['customers'] = [1161, 587]\n",
    "check_cust_prl_2['ch_per_one'] =  check_cust_prl_2['check_id']/check_cust_prl_2['customers']\n",
    "check_cust_prl_2['ch_per_one']"
   ]
  },
  {
   "cell_type": "markdown",
   "metadata": {},
   "source": [
    "Рассчитаем количество чеков на 1 покупателя. Для полных данных оно составило 2,3. Как видно из расчета, показатель не зависит от наличия/отсутствия программы лояльности.\n",
    "Для очищенных данных количество чеков на 1 покупателя составило 2,4. При этом для клиентов, участвующих в ПЛ, этот показатель больше, чем для клиентов, не участвующих в ПЛ, на 0,11 чека. Что обусловлено исключением строк с пропущенными данными по клиентам."
   ]
  },
  {
   "cell_type": "markdown",
   "metadata": {},
   "source": [
    "### Расчет количества товаров на 1 покупателя (в целом и по группам: покупатели, участвующие в ПЛ; покупатели, неучаствующие в ПЛ)"
   ]
  },
  {
   "cell_type": "code",
   "execution_count": 41,
   "metadata": {},
   "outputs": [
    {
     "name": "stdout",
     "output_type": "stream",
     "text": [
      "Количество товаров на 1 покупателя (полные данные:) 505.89045604137283\n",
      "loyalty_pr\n",
      "0.0    526.312987\n",
      "1.0    452.311755\n",
      "dtype: float64\n"
     ]
    },
    {
     "data": {
      "image/png": "[encoded data removed]",
      "text/plain": [
       "<Figure size 864x432 with 1 Axes>"
      ]
     },
     "metadata": {
      "needs_background": "light"
     },
     "output_type": "display_data"
    }
   ],
   "source": [
    "print('Количество товаров на 1 покупателя (полные данные:)', data['quantity'].sum()/2127)\n",
    "quant_prl_1 = data.groupby('loyalty_pr')['quantity'].sum()/check_cust_prl_1['customers']\n",
    "print(quant_prl_1)\n",
    "quant_prl_1.plot(kind='bar', figsize=(12, 6), \n",
    "                      title = 'Количество товаров на 1 покупателя в зависимости от участия в ПЛ')\n",
    "plt.xlabel(\"Участие в ПЛ\")\n",
    "plt.ylabel(\"Количество товаров, шт.\");"
   ]
  },
  {
   "cell_type": "code",
   "execution_count": 42,
   "metadata": {},
   "outputs": [
    {
     "name": "stdout",
     "output_type": "stream",
     "text": [
      "Количество товаров на 1 покупателя (очищенные данные:) 496.84267734553777\n"
     ]
    },
    {
     "data": {
      "text/plain": [
       "loyalty_pr\n",
       "0.0    519.357450\n",
       "1.0    452.311755\n",
       "dtype: float64"
      ]
     },
     "execution_count": 42,
     "metadata": {},
     "output_type": "execute_result"
    }
   ],
   "source": [
    "print('Количество товаров на 1 покупателя (очищенные данные:)', data_corr['quantity'].sum()/customer_prl.shape[0])\n",
    "quant_prl_2 = data_corr.groupby('loyalty_pr')['quantity'].sum()/check_cust_prl_2['customers']\n",
    "quant_prl_2"
   ]
  },
  {
   "cell_type": "markdown",
   "metadata": {},
   "source": [
    "Рассчитаем количество товаров на 1 покупателя. Для полных данных оно составило 505,9. Как видно из расчета, показатель для клиентов, участвующих в ПЛ, значительно ниже, чем для клиентов, не участвующих в ПЛ.\n",
    "По очищенным данным аналогичные показатели. Такая ситуация, возможно обусловлена наличием скидок на определенные товары по карте лояльности. Соответсвенно, клиенты, участвующие в ПЛ в основном набирали товары со скидками по карте, тогда как клиенты, не участвующие в ПЛ не были привязаны к скидкам и набирали больше товаров разных видов."
   ]
  },
  {
   "cell_type": "markdown",
   "metadata": {},
   "source": [
    "### Расчет средней выручки на 1 покупателя (в целом и по группам: покупатели, участвующие в ПЛ; покупатели, неучаствующие в ПЛ) "
   ]
  },
  {
   "cell_type": "code",
   "execution_count": 43,
   "metadata": {},
   "outputs": [
    {
     "name": "stdout",
     "output_type": "stream",
     "text": [
      "Средняя выручка на 1 покупателя (полные данные:) 1652.2154208189884\n"
     ]
    },
    {
     "data": {
      "text/html": [
       "<div>\n",
       "<style scoped>\n",
       "    .dataframe tbody tr th:only-of-type {\n",
       "        vertical-align: middle;\n",
       "    }\n",
       "\n",
       "    .dataframe tbody tr th {\n",
       "        vertical-align: top;\n",
       "    }\n",
       "\n",
       "    .dataframe thead th {\n",
       "        text-align: right;\n",
       "    }\n",
       "</style>\n",
       "<table border=\"1\" class=\"dataframe\">\n",
       "  <thead>\n",
       "    <tr style=\"text-align: right;\">\n",
       "      <th></th>\n",
       "      <th>loyalty_pr</th>\n",
       "      <th>rev</th>\n",
       "      <th>card</th>\n",
       "      <th>rev_sum</th>\n",
       "    </tr>\n",
       "  </thead>\n",
       "  <tbody>\n",
       "    <tr>\n",
       "      <td>0</td>\n",
       "      <td>0.0</td>\n",
       "      <td>1775.293859</td>\n",
       "      <td>0</td>\n",
       "      <td>591.764620</td>\n",
       "    </tr>\n",
       "    <tr>\n",
       "      <td>1</td>\n",
       "      <td>1.0</td>\n",
       "      <td>1329.317984</td>\n",
       "      <td>200</td>\n",
       "      <td>643.105995</td>\n",
       "    </tr>\n",
       "  </tbody>\n",
       "</table>\n",
       "</div>"
      ],
      "text/plain": [
       "   loyalty_pr          rev  card     rev_sum\n",
       "0         0.0  1775.293859     0  591.764620\n",
       "1         1.0  1329.317984   200  643.105995"
      ]
     },
     "execution_count": 43,
     "metadata": {},
     "output_type": "execute_result"
    }
   ],
   "source": [
    "print('Средняя выручка на 1 покупателя (полные данные:)', data['revenue'].sum()/2127)\n",
    "rev_prl_1 = data.groupby('loyalty_pr')['revenue'].sum()/check_cust_prl_1['customers']# расчет средней выручки по клиентам за 3 мес.\n",
    "rev_prl_1 = rev_prl_1.reset_index()\n",
    "rev_prl_1.columns = ['loyalty_pr', 'rev']\n",
    "rev_prl_1['card'] = [0, 200] # стоимость участия в программе лояльности в месяц\n",
    "rev_prl_1['rev_sum'] = rev_prl_1['rev']/3+rev_prl_1['card']# расчет суммарной выручки на 1 клиента в месяц\n",
    "rev_prl_1"
   ]
  },
  {
   "cell_type": "code",
   "execution_count": 44,
   "metadata": {},
   "outputs": [
    {
     "name": "stdout",
     "output_type": "stream",
     "text": [
      "Средняя выручка на 1 покупателя (очищенные данные:) 1495.773710031424\n"
     ]
    },
    {
     "data": {
      "text/html": [
       "<div>\n",
       "<style scoped>\n",
       "    .dataframe tbody tr th:only-of-type {\n",
       "        vertical-align: middle;\n",
       "    }\n",
       "\n",
       "    .dataframe tbody tr th {\n",
       "        vertical-align: top;\n",
       "    }\n",
       "\n",
       "    .dataframe thead th {\n",
       "        text-align: right;\n",
       "    }\n",
       "</style>\n",
       "<table border=\"1\" class=\"dataframe\">\n",
       "  <thead>\n",
       "    <tr style=\"text-align: right;\">\n",
       "      <th></th>\n",
       "      <th>loyalty_pr</th>\n",
       "      <th>rev</th>\n",
       "      <th>card</th>\n",
       "      <th>rev_sum</th>\n",
       "    </tr>\n",
       "  </thead>\n",
       "  <tbody>\n",
       "    <tr>\n",
       "      <td>0</td>\n",
       "      <td>0.0</td>\n",
       "      <td>1579.933496</td>\n",
       "      <td>0</td>\n",
       "      <td>526.644499</td>\n",
       "    </tr>\n",
       "    <tr>\n",
       "      <td>1</td>\n",
       "      <td>1.0</td>\n",
       "      <td>1329.317984</td>\n",
       "      <td>200</td>\n",
       "      <td>643.105995</td>\n",
       "    </tr>\n",
       "  </tbody>\n",
       "</table>\n",
       "</div>"
      ],
      "text/plain": [
       "   loyalty_pr          rev  card     rev_sum\n",
       "0         0.0  1579.933496     0  526.644499\n",
       "1         1.0  1329.317984   200  643.105995"
      ]
     },
     "execution_count": 44,
     "metadata": {},
     "output_type": "execute_result"
    }
   ],
   "source": [
    "print('Средняя выручка на 1 покупателя (очищенные данные:)', data_corr['revenue'].sum()/customer_prl.shape[0])\n",
    "rev_prl_2 = data_corr.groupby('loyalty_pr')['revenue'].sum()/check_cust_prl_2['customers']\n",
    "rev_prl_2 = rev_prl_2.reset_index()\n",
    "rev_prl_2.columns = ['loyalty_pr', 'rev']\n",
    "rev_prl_2['card'] = [0, 200] # стоимость участия в программе лояльности в месяц\n",
    "rev_prl_2['rev_sum'] = rev_prl_2['rev']/3+rev_prl_2['card']# расчет суммарной выручки на 1 клиента в месяц\n",
    "rev_prl_2"
   ]
  },
  {
   "cell_type": "markdown",
   "metadata": {},
   "source": [
    "Как видно из расчета по полным данным, средняя выручка на 1 клиента выше, у клиентов, не участвующего в ПЛ.  \n",
    "По очищенным данным средняя выручка на 1 клиента, не участвующего в ПЛ, существенно также, чем у клиента, участвующего в ПЛ. Данная ситуация, скорее всего, обусловлена как меньшим количеством товаров, так и скидками на товары, приобретаемые клиентами, участвующими в ПЛ. Для клиентов, не участвующих в ПЛ, соответственно, скидок нет и они приобретают большее количества товаров.\n",
    "\n",
    "Вместе с тем, средняя выручка на клиента в месяц с учетом оплаты участия в программе лояльности выше у клиентов, участвующих в ПЛ."
   ]
  },
  {
   "cell_type": "markdown",
   "metadata": {},
   "source": [
    "## 4. Анализ успешности применения программы лояльности"
   ]
  },
  {
   "cell_type": "markdown",
   "metadata": {},
   "source": [
    "### Построение графика кумулятивной выручки по группам"
   ]
  },
  {
   "cell_type": "code",
   "execution_count": 45,
   "metadata": {},
   "outputs": [
    {
     "data": {
      "text/html": [
       "<div>\n",
       "<style scoped>\n",
       "    .dataframe tbody tr th:only-of-type {\n",
       "        vertical-align: middle;\n",
       "    }\n",
       "\n",
       "    .dataframe tbody tr th {\n",
       "        vertical-align: top;\n",
       "    }\n",
       "\n",
       "    .dataframe thead th {\n",
       "        text-align: right;\n",
       "    }\n",
       "</style>\n",
       "<table border=\"1\" class=\"dataframe\">\n",
       "  <thead>\n",
       "    <tr style=\"text-align: right;\">\n",
       "      <th></th>\n",
       "      <th>date</th>\n",
       "      <th>group</th>\n",
       "      <th>checks</th>\n",
       "      <th>revenue</th>\n",
       "    </tr>\n",
       "  </thead>\n",
       "  <tbody>\n",
       "    <tr>\n",
       "      <td>52</td>\n",
       "      <td>2016-12-01</td>\n",
       "      <td>0.0</td>\n",
       "      <td>89</td>\n",
       "      <td>70756.918677</td>\n",
       "    </tr>\n",
       "    <tr>\n",
       "      <td>77</td>\n",
       "      <td>2016-12-01</td>\n",
       "      <td>1.0</td>\n",
       "      <td>49</td>\n",
       "      <td>18593.208565</td>\n",
       "    </tr>\n",
       "    <tr>\n",
       "      <td>55</td>\n",
       "      <td>2016-12-02</td>\n",
       "      <td>0.0</td>\n",
       "      <td>190</td>\n",
       "      <td>154691.547786</td>\n",
       "    </tr>\n",
       "    <tr>\n",
       "      <td>54</td>\n",
       "      <td>2016-12-02</td>\n",
       "      <td>1.0</td>\n",
       "      <td>115</td>\n",
       "      <td>45307.179011</td>\n",
       "    </tr>\n",
       "    <tr>\n",
       "      <td>30</td>\n",
       "      <td>2016-12-03</td>\n",
       "      <td>0.0</td>\n",
       "      <td>272</td>\n",
       "      <td>207361.271996</td>\n",
       "    </tr>\n",
       "    <tr>\n",
       "      <td>44</td>\n",
       "      <td>2016-12-03</td>\n",
       "      <td>1.0</td>\n",
       "      <td>140</td>\n",
       "      <td>57704.730671</td>\n",
       "    </tr>\n",
       "    <tr>\n",
       "      <td>46</td>\n",
       "      <td>2016-12-05</td>\n",
       "      <td>0.0</td>\n",
       "      <td>341</td>\n",
       "      <td>248734.707300</td>\n",
       "    </tr>\n",
       "    <tr>\n",
       "      <td>35</td>\n",
       "      <td>2016-12-05</td>\n",
       "      <td>1.0</td>\n",
       "      <td>166</td>\n",
       "      <td>83962.524072</td>\n",
       "    </tr>\n",
       "    <tr>\n",
       "      <td>47</td>\n",
       "      <td>2016-12-06</td>\n",
       "      <td>0.0</td>\n",
       "      <td>430</td>\n",
       "      <td>306863.216763</td>\n",
       "    </tr>\n",
       "    <tr>\n",
       "      <td>162</td>\n",
       "      <td>2016-12-06</td>\n",
       "      <td>1.0</td>\n",
       "      <td>210</td>\n",
       "      <td>107246.801852</td>\n",
       "    </tr>\n",
       "  </tbody>\n",
       "</table>\n",
       "</div>"
      ],
      "text/plain": [
       "           date  group  checks        revenue\n",
       "52   2016-12-01    0.0      89   70756.918677\n",
       "77   2016-12-01    1.0      49   18593.208565\n",
       "55   2016-12-02    0.0     190  154691.547786\n",
       "54   2016-12-02    1.0     115   45307.179011\n",
       "30   2016-12-03    0.0     272  207361.271996\n",
       "44   2016-12-03    1.0     140   57704.730671\n",
       "46   2016-12-05    0.0     341  248734.707300\n",
       "35   2016-12-05    1.0     166   83962.524072\n",
       "47   2016-12-06    0.0     430  306863.216763\n",
       "162  2016-12-06    1.0     210  107246.801852"
      ]
     },
     "execution_count": 45,
     "metadata": {},
     "output_type": "execute_result"
    }
   ],
   "source": [
    "datesGroups = data[['date','loyalty_pr']].drop_duplicates()\n",
    "cumulativeData = datesGroups.apply(lambda x: data[np.logical_and(data['date'] <= x['date'], \n",
    "data['loyalty_pr'] == x['loyalty_pr'])].agg({'date' : 'max', 'loyalty_pr' : 'max', 'check_id' : pd.Series.nunique, \n",
    "'revenue' : 'sum'}), axis=1).sort_values(by=['date','loyalty_pr'])\n",
    "cumulativeData.columns = ['date', 'group', 'checks', 'revenue']\n",
    "cumulativeData.head(10)"
   ]
  },
  {
   "cell_type": "code",
   "execution_count": 46,
   "metadata": {},
   "outputs": [
    {
     "data": {
      "image/png": "[encoded data removed]",
      "text/plain": [
       "<Figure size 1080x576 with 1 Axes>"
      ]
     },
     "metadata": {
      "needs_background": "light"
     },
     "output_type": "display_data"
    }
   ],
   "source": [
    "cumulativeRevenue_no_pl = cumulativeData[cumulativeData['group']==0][['date','revenue', 'checks']]\n",
    "cumulativeRevenue_pl = cumulativeData[cumulativeData['group']==1][['date','revenue', 'checks']]\n",
    "plt.plot(cumulativeRevenue_no_pl['date'], cumulativeRevenue_no_pl['revenue'], label='Нет ПЛ')# Строим график выручки группы клиентов, не участвующих в ПЛ\n",
    "plt.plot(cumulativeRevenue_pl['date'], cumulativeRevenue_pl['revenue'], label='Есть ПЛ');# Строим график выручки группы клиентов, участвующих в ПЛ\n",
    "plt.gcf().set_size_inches(15, 8)\n",
    "plt.title('Кумулятивная выручка по группам')\n",
    "plt.legend()\n",
    "plt.xlabel(\"даты\")\n",
    "plt.ylabel(\"руб.\");\n"
   ]
  },
  {
   "cell_type": "markdown",
   "metadata": {},
   "source": [
    "Построим график кумулятивной выручки. Очевидно, что выручка по клиентам, не участвующим в ПЛ будет выше, т.к. их больше. График строился для определения наличия аномальных значений в группах. Как видно, аномалий нет. "
   ]
  },
  {
   "cell_type": "markdown",
   "metadata": {},
   "source": [
    "### Построение графика кумулятивного среднего чека по группам. Выводы."
   ]
  },
  {
   "cell_type": "code",
   "execution_count": 47,
   "metadata": {},
   "outputs": [
    {
     "data": {
      "image/png": "[encoded data removed]",
      "text/plain": [
       "<Figure size 1080x576 with 1 Axes>"
      ]
     },
     "metadata": {
      "needs_background": "light"
     },
     "output_type": "display_data"
    }
   ],
   "source": [
    "plt.plot(cumulativeRevenue_no_pl['date'], cumulativeRevenue_no_pl['revenue']/cumulativeRevenue_no_pl['checks'], label='Нет ПЛ')\n",
    "plt.plot(cumulativeRevenue_pl['date'], cumulativeRevenue_pl['revenue']/cumulativeRevenue_pl['checks'], label='Есть ПЛ')\n",
    "plt.gcf().set_size_inches(15, 8)\n",
    "plt.title('Кумулятивный средний чек по группам')\n",
    "plt.legend()\n",
    "plt.xlabel(\"даты\")\n",
    "plt.ylabel(\"руб.\");"
   ]
  },
  {
   "cell_type": "markdown",
   "metadata": {},
   "source": [
    "Построим графики накопленных средних чеков по группам. Графики почти идентичны, но график по клиентам, участвующих в ПЛ располагается ниже графика по клиентам, не участвующих в ПЛ. Разница между графиками колеблется от 200 до 250 руб. Исходя из того, что покупатели из разных групп в среднем покупают приблизительно одинаковые наборы товаров, можно сделать вывод, что участие в программе лояльности (оплата 200 руб. в мес.) себя окупает."
   ]
  },
  {
   "cell_type": "markdown",
   "metadata": {},
   "source": [
    "### Построение графика относительного изменения кумулятивного среднего чека группы покупателей, участвующих в ПЛ, к группе покупателей, неучаствующих в ПЛ. Выводы."
   ]
  },
  {
   "cell_type": "code",
   "execution_count": 48,
   "metadata": {},
   "outputs": [
    {
     "data": {
      "image/png": "[encoded data removed]",
      "text/plain": [
       "<Figure size 1080x576 with 1 Axes>"
      ]
     },
     "metadata": {
      "needs_background": "light"
     },
     "output_type": "display_data"
    }
   ],
   "source": [
    "mergedCumulativeRevenue = cumulativeRevenue_no_pl.merge(cumulativeRevenue_pl, left_on='date', \n",
    "right_on='date', how='left', suffixes=['0', '1'])\n",
    "plt.plot(mergedCumulativeRevenue['date'], (mergedCumulativeRevenue['revenue1']/mergedCumulativeRevenue['checks1'])\\\n",
    "/(mergedCumulativeRevenue['revenue0']/mergedCumulativeRevenue['checks0'])-1)# cтроим отношение средних чеков\n",
    "plt.axhline(y=0, color='black', linestyle='--'); # добавляем ось X\n",
    "plt.gcf().set_size_inches(15, 8)\n",
    "plt.title('Относительное изменение кумулятивного среднего чека группы клиентов, не участвующих в ПЛ к группе клиентов, участвующих в ПЛ')\n",
    "plt.xlabel(\"даты\");"
   ]
  },
  {
   "cell_type": "markdown",
   "metadata": {},
   "source": [
    "Построим график относительного изменения кумулятивного среднего чека группы клиентов, не участвующих в ПЛ к группе клиентов, участвующих в ПЛ. График указывает на наличие одного выброса в начале декабря 2016 г. В принципе, учитывая небольшие значения средних чеков, указанный выброс не является критическим.\n",
    "В остальном график указывает на постоянно существующую стабильную разницу между средними чеками групп, которая лежит в пределах от 20% до 30% суммы среднего чека."
   ]
  },
  {
   "cell_type": "markdown",
   "metadata": {},
   "source": [
    "### Построение графика количества купленных товаров по чекам. Выводы."
   ]
  },
  {
   "cell_type": "code",
   "execution_count": 49,
   "metadata": {},
   "outputs": [
    {
     "data": {
      "image/png": "[encoded data removed]",
      "text/plain": [
       "<Figure size 1080x576 with 1 Axes>"
      ]
     },
     "metadata": {
      "needs_background": "light"
     },
     "output_type": "display_data"
    }
   ],
   "source": [
    "quant_check = data.drop(['loyalty_pr', 'revenue', 'date', 'item_id', 'shop_id', 'datetime','customer_id'], axis=1).\\\n",
    "groupby('check_id', as_index=False).agg({'quantity' : 'sum'})\n",
    "quant_check.columns = ['check_id','quantity']\n",
    "x_values = pd.Series(range(0,len(quant_check)))\n",
    "plt.scatter(x_values, quant_check['quantity']);\n",
    "plt.gcf().set_size_inches(15, 8)\n",
    "plt.title('Распределение количества товаров по чекам')\n",
    "plt.xlabel(\"чеки\")\n",
    "plt.ylabel(\"кол-во товаров\");"
   ]
  },
  {
   "cell_type": "markdown",
   "metadata": {},
   "source": [
    "Построим точечную диаграмму распределения количества товаров по чекам. \n",
    "Как видно из получившегося графика, большинство покупателей купили менее 500 товаров. Заметную долю также составляют покупатели с количеством товаров от 500 до 2000.\n",
    "Доля покупателей, купивших больше 2000 товаров, очень мала."
   ]
  },
  {
   "cell_type": "markdown",
   "metadata": {},
   "source": [
    "### Расчет 95-го и 99-го перцентилей количества товаров. Выбор границы для определения аномальных покупателей."
   ]
  },
  {
   "cell_type": "code",
   "execution_count": 50,
   "metadata": {},
   "outputs": [
    {
     "name": "stdout",
     "output_type": "stream",
     "text": [
      "[ 786.1  2397.62]\n"
     ]
    }
   ],
   "source": [
    "print(np.percentile(quant_check['quantity'], [95, 99]))"
   ]
  },
  {
   "cell_type": "markdown",
   "metadata": {},
   "source": [
    "Рассчитаем 95% и 99% персентили.\n",
    "Не более 5% чеков содержат количество товаров больше, чем 786. И 1% чеков содержит более 2398 товаров. \n",
    "Рекомендуемая граница определения аномальных пользователей - 1000 товаров. "
   ]
  },
  {
   "cell_type": "markdown",
   "metadata": {},
   "source": [
    "### Построение графика сумм чеков. Выводы."
   ]
  },
  {
   "cell_type": "code",
   "execution_count": 51,
   "metadata": {},
   "outputs": [
    {
     "data": {
      "image/png": "[encoded data removed]",
      "text/plain": [
       "<Figure size 1080x576 with 1 Axes>"
      ]
     },
     "metadata": {
      "needs_background": "light"
     },
     "output_type": "display_data"
    }
   ],
   "source": [
    "rev_check = data.groupby(['check_id', 'loyalty_pr']).agg({'revenue' : 'sum'}).reset_index()\n",
    "x_values = pd.Series(range(0,len(rev_check)))\n",
    "plt.scatter(x_values, rev_check['revenue']);\n",
    "plt.gcf().set_size_inches(15, 8)\n",
    "plt.title('Распределение сумм чеков')\n",
    "plt.xlabel(\"чеки\")\n",
    "plt.ylabel(\"сумма, руб.\");"
   ]
  },
  {
   "cell_type": "markdown",
   "metadata": {},
   "source": [
    "Построим точечную диаграмму распределения выручки по чекам. \n",
    "Как видно из получившегося графика, большинство покупателей купили товаров на сумму менее 3000 руб. Заметную долю также составляют покупатели с суммой чеков от 3000 до 10000 руб.\n",
    "Доля покупателей, купивших товаров на сумму больше 10000 руб., очень мала."
   ]
  },
  {
   "cell_type": "markdown",
   "metadata": {},
   "source": [
    "### Расчет 95-го и 99-го перцентилей сумм чеков. Выбор границы для определения аномальных чеков."
   ]
  },
  {
   "cell_type": "code",
   "execution_count": 52,
   "metadata": {},
   "outputs": [
    {
     "name": "stdout",
     "output_type": "stream",
     "text": [
      "[2431.90609583 7702.9119362 ]\n"
     ]
    }
   ],
   "source": [
    "print(np.percentile(rev_check['revenue'], [95, 99]))"
   ]
  },
  {
   "cell_type": "markdown",
   "metadata": {},
   "source": [
    "Рассчитаем 95% и 99% персентили.\n",
    "Не более 5% выручки пришлось на чеки с суммой более 2431,9 руб. И 1% выручки пришелся на чеки с суммой более 7702,9 руб. \n",
    "Рекомендуемая граница определения аномальных пользователей - 3000 руб. "
   ]
  },
  {
   "cell_type": "markdown",
   "metadata": {},
   "source": [
    "### Расчет статистической значимости различий в среднем чеке заказа между группами по «сырым» данным. Выводы."
   ]
  },
  {
   "cell_type": "markdown",
   "metadata": {},
   "source": [
    "Проверим нулевую гипотезу по \"сырым данным\". \n",
    "#### Нулевая гипотеза: Средние чеки по группам клиентов равны.\n",
    "#### Альтернативная гипотеза: средние чеки по группам клиентов не равны."
   ]
  },
  {
   "cell_type": "code",
   "execution_count": 53,
   "metadata": {},
   "outputs": [
    {
     "name": "stdout",
     "output_type": "stream",
     "text": [
      "0.0000000004\n"
     ]
    }
   ],
   "source": [
    "print(\"{0:.10f}\".format(stats.mannwhitneyu(data[data['loyalty_pr']==0]['revenue'], \\\n",
    "data[data['loyalty_pr']==1]['revenue'])[1]))"
   ]
  },
  {
   "cell_type": "markdown",
   "metadata": {},
   "source": [
    "Рассчитаем статистическую значимость различий в среднем чеке клиентов сети магазинов по «сырым» данным с помощью критерия Манна-Уитни. Критерий Манна-Уитни здесь и в дальнейшем применяется в связи с тем, что в данных есть большие (по сравнению с нормальным распределением) выбросы значений, сильно сдвигающие параметрические результаты. Критерий Манна-Уитни - непараметрический: он основан не на числовых значениях переменных, а на их рангах. \n",
    "\n",
    "\n",
    "Критерий Манна-Уитни очень мал. Т.е. для уровней значимости 0,05 и 0,01 можно сделать вывод о том, что нулевая гипотеза отвергается. Средние чеки по группам в зависимости от участия в программе лояльности не равны друг другу."
   ]
  },
  {
   "cell_type": "markdown",
   "metadata": {},
   "source": [
    "### Расчет статистической значимости различий в среднем чеке заказа между группами по «очищенным» данным. Выводы."
   ]
  },
  {
   "cell_type": "markdown",
   "metadata": {},
   "source": [
    "Проверим нулевую гипотезу по \"очищенным данным\". \n",
    "#### Нулевая гипотеза: Средние чеки по группам клиентов равны.\n",
    "#### Альтернативная гипотеза: средние чеки по группам клиентов не равны."
   ]
  },
  {
   "cell_type": "code",
   "execution_count": 54,
   "metadata": {},
   "outputs": [
    {
     "name": "stdout",
     "output_type": "stream",
     "text": [
      "22898      536809\n",
      "12640      536830\n",
      "82993      536890\n",
      "4874       537137\n",
      "12471      537632\n",
      "11737      537657\n",
      "5204       537659\n",
      "18655      537899\n",
      "59942      537981\n",
      "61180      538191\n",
      "97405      538420\n",
      "63253      539014\n",
      "3209       539101\n",
      "55455      539494\n",
      "102634     539721\n",
      "98804      539988\n",
      "96334      540175\n",
      "103214     540564\n",
      "8938       540689\n",
      "21101      540699\n",
      "38196      540815\n",
      "25651      540818\n",
      "88770      541570\n",
      "53203      541685\n",
      "31664      542504\n",
      "41114      542505\n",
      "17256      543057\n",
      "21364      543192\n",
      "10621      543257\n",
      "6234       543258\n",
      "8814       543378\n",
      "80615      543379\n",
      "7636       543536\n",
      "70794      543543\n",
      "4021       543549\n",
      "81256      543669\n",
      "92510      543842\n",
      "83499      543991\n",
      "83561      544152\n",
      "102994     544612\n",
      "50212      544649\n",
      "57617      544673\n",
      "73421      544793\n",
      "84699      545182\n",
      "38939     C536757\n",
      "66997     C537600\n",
      "24347     C537630\n",
      "35551     C537644\n",
      "59157     C537647\n",
      "34468     C537651\n",
      "1176      C537652\n",
      "8073      C540117\n",
      "58237     C540118\n",
      "86330     C541284\n",
      "26206     C543624\n",
      "62278     C544587\n",
      "2626      C544589\n",
      "Name: check_id, dtype: object\n"
     ]
    }
   ],
   "source": [
    "check_big_quant = data[data['quantity'] > 1000]['check_id']\n",
    "check_big_rev = data[data['revenue'] > 3000]['check_id']\n",
    "abnormal_checks = pd.concat([check_big_quant, check_big_rev], axis = 0).drop_duplicates().sort_values()\n",
    "print(abnormal_checks)"
   ]
  },
  {
   "cell_type": "code",
   "execution_count": 55,
   "metadata": {},
   "outputs": [
    {
     "name": "stdout",
     "output_type": "stream",
     "text": [
      "0.00000000007\n"
     ]
    }
   ],
   "source": [
    "print(\"{0:.11f}\".format(stats.mannwhitneyu(data[np.logical_and(data['loyalty_pr']==0, \n",
    "    np.logical_not(data['check_id'].isin(abnormal_checks)))]['revenue'],\n",
    "    data[np.logical_and(data['loyalty_pr']==1, \n",
    "    np.logical_not(data['check_id'].isin(abnormal_checks)))]['revenue'])[1]))"
   ]
  },
  {
   "cell_type": "markdown",
   "metadata": {},
   "source": [
    "Для решения задачи определим аномальные чеки, количество товаров в которых превышало 1000, а сумма превышала 3 тыс. руб. Таких оказалось 57. Исключаем их из групп.\n",
    "Расчитаем статистическую значимость различий в среднем чеке между группами по очищенным данным с помощью критерия Манна-Уитни.\n",
    "Значение критерия снизилось по сравнению со своим аналогом для \"сырых\" данных.\n",
    "Нулевая гипотеза о равенстве сумм средних чеков отвергается для как для уровня значимости 0,05, так и для уровня значимости 0,01."
   ]
  },
  {
   "cell_type": "markdown",
   "metadata": {},
   "source": [
    "### Расчет статистической значимости различий среднего количества товаров в чеке между группами"
   ]
  },
  {
   "cell_type": "markdown",
   "metadata": {},
   "source": [
    "#### Нулевая гипотеза: Средние количества товаров в чеках по группам клиентов равны.\n",
    "#### Альтернативная гипотеза: Средние количества товаров в чеках по группам клиентов не равны."
   ]
  },
  {
   "cell_type": "code",
   "execution_count": 56,
   "metadata": {},
   "outputs": [
    {
     "data": {
      "text/html": [
       "<div>\n",
       "<style scoped>\n",
       "    .dataframe tbody tr th:only-of-type {\n",
       "        vertical-align: middle;\n",
       "    }\n",
       "\n",
       "    .dataframe tbody tr th {\n",
       "        vertical-align: top;\n",
       "    }\n",
       "\n",
       "    .dataframe thead th {\n",
       "        text-align: right;\n",
       "    }\n",
       "</style>\n",
       "<table border=\"1\" class=\"dataframe\">\n",
       "  <thead>\n",
       "    <tr style=\"text-align: right;\">\n",
       "      <th></th>\n",
       "      <th>check_id</th>\n",
       "      <th>loyalty_pr</th>\n",
       "      <th>quantity</th>\n",
       "    </tr>\n",
       "  </thead>\n",
       "  <tbody>\n",
       "    <tr>\n",
       "      <td>0</td>\n",
       "      <td>536365</td>\n",
       "      <td>1.0</td>\n",
       "      <td>33.0</td>\n",
       "    </tr>\n",
       "    <tr>\n",
       "      <td>1</td>\n",
       "      <td>536366</td>\n",
       "      <td>1.0</td>\n",
       "      <td>10.0</td>\n",
       "    </tr>\n",
       "    <tr>\n",
       "      <td>2</td>\n",
       "      <td>536367</td>\n",
       "      <td>0.0</td>\n",
       "      <td>71.0</td>\n",
       "    </tr>\n",
       "    <tr>\n",
       "      <td>3</td>\n",
       "      <td>536368</td>\n",
       "      <td>0.0</td>\n",
       "      <td>11.0</td>\n",
       "    </tr>\n",
       "    <tr>\n",
       "      <td>4</td>\n",
       "      <td>536369</td>\n",
       "      <td>0.0</td>\n",
       "      <td>2.0</td>\n",
       "    </tr>\n",
       "  </tbody>\n",
       "</table>\n",
       "</div>"
      ],
      "text/plain": [
       "  check_id  loyalty_pr  quantity\n",
       "0   536365         1.0      33.0\n",
       "1   536366         1.0      10.0\n",
       "2   536367         0.0      71.0\n",
       "3   536368         0.0      11.0\n",
       "4   536369         0.0       2.0"
      ]
     },
     "execution_count": 56,
     "metadata": {},
     "output_type": "execute_result"
    }
   ],
   "source": [
    "quant_check = data.groupby(['check_id', 'loyalty_pr']).agg({'quantity' : 'sum'}).reset_index()\n",
    "quant_check.head()"
   ]
  },
  {
   "cell_type": "code",
   "execution_count": 57,
   "metadata": {},
   "outputs": [
    {
     "name": "stdout",
     "output_type": "stream",
     "text": [
      "0.0308667009\n"
     ]
    }
   ],
   "source": [
    "print(\"{0:.10f}\".format(stats.mannwhitneyu(quant_check[quant_check['loyalty_pr']==0]['quantity'], \\\n",
    "quant_check[quant_check['loyalty_pr']==1]['quantity'])[1]))"
   ]
  },
  {
   "cell_type": "markdown",
   "metadata": {},
   "source": [
    "Рассчитаем статистическую значимость различий среднего количества товаров в чеке клиентов сети магазинов по «сырым» данным с помощью критерия Манна-Уитни. Критерий Манна-Уитни применяется в связи с тем, что в данных есть большие (по сравнению с нормальным распределением) выбросы значений, сильно сдвигающие параметрические результаты.\n",
    "\n",
    "\n",
    "Значение критерия равно 0.031. Т.е. для уровня значимости 0,05 нулевая гипотеза отвергается, а для уровня значимости 0,01 может быть принята. Рассчитаем значение критерия по очищенным данным."
   ]
  },
  {
   "cell_type": "code",
   "execution_count": 58,
   "metadata": {},
   "outputs": [
    {
     "name": "stdout",
     "output_type": "stream",
     "text": [
      "0.0652196039\n"
     ]
    }
   ],
   "source": [
    "print(\"{0:.10f}\".format(stats.mannwhitneyu(quant_check[np.logical_and(quant_check['loyalty_pr']==0, \n",
    "    np.logical_not(quant_check['check_id'].isin(abnormal_checks)))]['quantity'],\n",
    "    quant_check[np.logical_and(quant_check['loyalty_pr']==1, \n",
    "    np.logical_not(quant_check['check_id'].isin(abnormal_checks)))]['quantity'])[1]))"
   ]
  },
  {
   "cell_type": "markdown",
   "metadata": {},
   "source": [
    "Для решения задачи используем таблицу аномальных чеков, полученную ранее. Аномальные чеки исключаются из сравнения.\n",
    "Расчитаем статистическую значимость различий среднего количества товаров в чеке между группами по очищенным данным с помощью критерия Манна-Уитни.\n",
    "\n",
    "Значение критерия выросло по сравнению со своим аналогом для \"сырых\" данных до 0,065.\n",
    "Нулевая гипотеза о равенстве среднего количества товаров в чеке по группам клиентов не отвергается для как для уровня значимости 0,05, так и для уровня значимости 0,01.\n",
    "Средние количества товаров в чеках для клиентов, участвующих в ПЛ, и для клиентов, не участвующих в ПЛ, могут быть равны."
   ]
  },
  {
   "cell_type": "markdown",
   "metadata": {},
   "source": [
    "## 5. Анализ эффективности работы магазинов сети"
   ]
  },
  {
   "cell_type": "markdown",
   "metadata": {},
   "source": [
    "### Расчет суммарной выручки по каждому магазину"
   ]
  },
  {
   "cell_type": "code",
   "execution_count": 59,
   "metadata": {},
   "outputs": [
    {
     "data": {
      "image/png": "[encoded data removed]",
      "text/plain": [
       "<Figure size 864x432 with 1 Axes>"
      ]
     },
     "metadata": {
      "needs_background": "light"
     },
     "output_type": "display_data"
    }
   ],
   "source": [
    "shop_revenue = data.groupby('shop_id')['revenue'].sum().sort_values(ascending = False)\n",
    "shop_revenue.plot(kind = 'bar', figsize=(12, 6), title = 'Распределение выручки по магазинам сети')\n",
    "plt.xlabel(\"Магазины\")\n",
    "plt.ylabel(\"сумма, руб.\");"
   ]
  },
  {
   "cell_type": "markdown",
   "metadata": {},
   "source": [
    "Рассчитаем суммарную выручку по каждому магазину.\n",
    "Как видно из графика, почти вся выручка приходится на 1 магазин (shop 0). Еще 5 магазинов имеют определенную перспективу в случае проведения рекламных и маркетинговых акций: их выручка превышает 50 тыс. руб. (хотя это тоже очень мало). В содержании еще 25 магазинов смысла нет: если за 3 месяца они не смогли продать товара на 50 000 руб., то их существование можно объяснить только стратегическими планами сети по дальнейшему развитию."
   ]
  },
  {
   "cell_type": "markdown",
   "metadata": {},
   "source": [
    "### Распределение магазинов по группам в зависимости от объема выручки"
   ]
  },
  {
   "cell_type": "code",
   "execution_count": 60,
   "metadata": {},
   "outputs": [
    {
     "data": {
      "text/html": [
       "<div>\n",
       "<style scoped>\n",
       "    .dataframe tbody tr th:only-of-type {\n",
       "        vertical-align: middle;\n",
       "    }\n",
       "\n",
       "    .dataframe tbody tr th {\n",
       "        vertical-align: top;\n",
       "    }\n",
       "\n",
       "    .dataframe thead th {\n",
       "        text-align: right;\n",
       "    }\n",
       "</style>\n",
       "<table border=\"1\" class=\"dataframe\">\n",
       "  <thead>\n",
       "    <tr style=\"text-align: right;\">\n",
       "      <th></th>\n",
       "      <th>shop_id</th>\n",
       "      <th>revenue</th>\n",
       "      <th>group</th>\n",
       "    </tr>\n",
       "  </thead>\n",
       "  <tbody>\n",
       "    <tr>\n",
       "      <td>0</td>\n",
       "      <td>Shop 0</td>\n",
       "      <td>3.048591e+06</td>\n",
       "      <td>1</td>\n",
       "    </tr>\n",
       "    <tr>\n",
       "      <td>1</td>\n",
       "      <td>Shop 3</td>\n",
       "      <td>1.044630e+05</td>\n",
       "      <td>2</td>\n",
       "    </tr>\n",
       "    <tr>\n",
       "      <td>2</td>\n",
       "      <td>Shop 6</td>\n",
       "      <td>7.205313e+04</td>\n",
       "      <td>2</td>\n",
       "    </tr>\n",
       "    <tr>\n",
       "      <td>3</td>\n",
       "      <td>Shop 4</td>\n",
       "      <td>5.956697e+04</td>\n",
       "      <td>2</td>\n",
       "    </tr>\n",
       "    <tr>\n",
       "      <td>4</td>\n",
       "      <td>Shop 1</td>\n",
       "      <td>5.058459e+04</td>\n",
       "      <td>2</td>\n",
       "    </tr>\n",
       "    <tr>\n",
       "      <td>5</td>\n",
       "      <td>Shop 2</td>\n",
       "      <td>4.075000e+04</td>\n",
       "      <td>2</td>\n",
       "    </tr>\n",
       "    <tr>\n",
       "      <td>6</td>\n",
       "      <td>Shop 14</td>\n",
       "      <td>2.368850e+04</td>\n",
       "      <td>2</td>\n",
       "    </tr>\n",
       "    <tr>\n",
       "      <td>7</td>\n",
       "      <td>Shop 8</td>\n",
       "      <td>1.989526e+04</td>\n",
       "      <td>2</td>\n",
       "    </tr>\n",
       "    <tr>\n",
       "      <td>8</td>\n",
       "      <td>Shop 19</td>\n",
       "      <td>1.170990e+04</td>\n",
       "      <td>2</td>\n",
       "    </tr>\n",
       "    <tr>\n",
       "      <td>9</td>\n",
       "      <td>Shop 7</td>\n",
       "      <td>1.121460e+04</td>\n",
       "      <td>2</td>\n",
       "    </tr>\n",
       "    <tr>\n",
       "      <td>10</td>\n",
       "      <td>Shop 10</td>\n",
       "      <td>1.047800e+04</td>\n",
       "      <td>2</td>\n",
       "    </tr>\n",
       "    <tr>\n",
       "      <td>11</td>\n",
       "      <td>Shop 18</td>\n",
       "      <td>9.155809e+03</td>\n",
       "      <td>2</td>\n",
       "    </tr>\n",
       "    <tr>\n",
       "      <td>12</td>\n",
       "      <td>Shop 12</td>\n",
       "      <td>7.343190e+03</td>\n",
       "      <td>2</td>\n",
       "    </tr>\n",
       "    <tr>\n",
       "      <td>13</td>\n",
       "      <td>Shop 5</td>\n",
       "      <td>6.170193e+03</td>\n",
       "      <td>2</td>\n",
       "    </tr>\n",
       "    <tr>\n",
       "      <td>14</td>\n",
       "      <td>Shop 11</td>\n",
       "      <td>4.784386e+03</td>\n",
       "      <td>2</td>\n",
       "    </tr>\n",
       "    <tr>\n",
       "      <td>15</td>\n",
       "      <td>Shop 16</td>\n",
       "      <td>4.047429e+03</td>\n",
       "      <td>2</td>\n",
       "    </tr>\n",
       "    <tr>\n",
       "      <td>16</td>\n",
       "      <td>Shop 24</td>\n",
       "      <td>3.917850e+03</td>\n",
       "      <td>2</td>\n",
       "    </tr>\n",
       "    <tr>\n",
       "      <td>17</td>\n",
       "      <td>Shop 25</td>\n",
       "      <td>3.150084e+03</td>\n",
       "      <td>2</td>\n",
       "    </tr>\n",
       "    <tr>\n",
       "      <td>18</td>\n",
       "      <td>Shop 22</td>\n",
       "      <td>2.973513e+03</td>\n",
       "      <td>2</td>\n",
       "    </tr>\n",
       "    <tr>\n",
       "      <td>19</td>\n",
       "      <td>Shop 26</td>\n",
       "      <td>2.768059e+03</td>\n",
       "      <td>2</td>\n",
       "    </tr>\n",
       "    <tr>\n",
       "      <td>20</td>\n",
       "      <td>Shop 13</td>\n",
       "      <td>2.443400e+03</td>\n",
       "      <td>2</td>\n",
       "    </tr>\n",
       "    <tr>\n",
       "      <td>21</td>\n",
       "      <td>Shop 9</td>\n",
       "      <td>2.421230e+03</td>\n",
       "      <td>2</td>\n",
       "    </tr>\n",
       "    <tr>\n",
       "      <td>22</td>\n",
       "      <td>Shop 17</td>\n",
       "      <td>2.232189e+03</td>\n",
       "      <td>2</td>\n",
       "    </tr>\n",
       "    <tr>\n",
       "      <td>23</td>\n",
       "      <td>Shop 27</td>\n",
       "      <td>2.114421e+03</td>\n",
       "      <td>2</td>\n",
       "    </tr>\n",
       "    <tr>\n",
       "      <td>24</td>\n",
       "      <td>Shop 21</td>\n",
       "      <td>1.982028e+03</td>\n",
       "      <td>2</td>\n",
       "    </tr>\n",
       "    <tr>\n",
       "      <td>25</td>\n",
       "      <td>Shop 15</td>\n",
       "      <td>1.718362e+03</td>\n",
       "      <td>2</td>\n",
       "    </tr>\n",
       "    <tr>\n",
       "      <td>26</td>\n",
       "      <td>Shop 28</td>\n",
       "      <td>1.466012e+03</td>\n",
       "      <td>2</td>\n",
       "    </tr>\n",
       "    <tr>\n",
       "      <td>27</td>\n",
       "      <td>Shop 20</td>\n",
       "      <td>1.038947e+03</td>\n",
       "      <td>2</td>\n",
       "    </tr>\n",
       "    <tr>\n",
       "      <td>28</td>\n",
       "      <td>Shop 30</td>\n",
       "      <td>7.425117e+02</td>\n",
       "      <td>2</td>\n",
       "    </tr>\n",
       "    <tr>\n",
       "      <td>29</td>\n",
       "      <td>Shop 23</td>\n",
       "      <td>5.950800e+02</td>\n",
       "      <td>2</td>\n",
       "    </tr>\n",
       "    <tr>\n",
       "      <td>30</td>\n",
       "      <td>Shop 29</td>\n",
       "      <td>2.022848e+02</td>\n",
       "      <td>2</td>\n",
       "    </tr>\n",
       "  </tbody>\n",
       "</table>\n",
       "</div>"
      ],
      "text/plain": [
       "    shop_id       revenue group\n",
       "0    Shop 0  3.048591e+06     1\n",
       "1    Shop 3  1.044630e+05     2\n",
       "2    Shop 6  7.205313e+04     2\n",
       "3    Shop 4  5.956697e+04     2\n",
       "4    Shop 1  5.058459e+04     2\n",
       "5    Shop 2  4.075000e+04     2\n",
       "6   Shop 14  2.368850e+04     2\n",
       "7    Shop 8  1.989526e+04     2\n",
       "8   Shop 19  1.170990e+04     2\n",
       "9    Shop 7  1.121460e+04     2\n",
       "10  Shop 10  1.047800e+04     2\n",
       "11  Shop 18  9.155809e+03     2\n",
       "12  Shop 12  7.343190e+03     2\n",
       "13   Shop 5  6.170193e+03     2\n",
       "14  Shop 11  4.784386e+03     2\n",
       "15  Shop 16  4.047429e+03     2\n",
       "16  Shop 24  3.917850e+03     2\n",
       "17  Shop 25  3.150084e+03     2\n",
       "18  Shop 22  2.973513e+03     2\n",
       "19  Shop 26  2.768059e+03     2\n",
       "20  Shop 13  2.443400e+03     2\n",
       "21   Shop 9  2.421230e+03     2\n",
       "22  Shop 17  2.232189e+03     2\n",
       "23  Shop 27  2.114421e+03     2\n",
       "24  Shop 21  1.982028e+03     2\n",
       "25  Shop 15  1.718362e+03     2\n",
       "26  Shop 28  1.466012e+03     2\n",
       "27  Shop 20  1.038947e+03     2\n",
       "28  Shop 30  7.425117e+02     2\n",
       "29  Shop 23  5.950800e+02     2\n",
       "30  Shop 29  2.022848e+02     2"
      ]
     },
     "execution_count": 60,
     "metadata": {},
     "output_type": "execute_result"
    }
   ],
   "source": [
    "shop_revenue = shop_revenue.reset_index()\n",
    "def s_rev(inf): # категоризация магазинов по выручке\n",
    "    rev = inf['revenue']\n",
    "    if rev > 1000000:\n",
    "        return '1'\n",
    "    return '2'\n",
    "shop_revenue['group'] = shop_revenue.apply(s_rev, axis = 1)\n",
    "shop_revenue"
   ]
  },
  {
   "cell_type": "markdown",
   "metadata": {},
   "source": [
    "Учитывая ранее полученное распределение магазинов по выручке, магазины можно распределить на 2 группы: магазины с большой выручкой (shop 0) и магазины с маленькой выручкой (30 остальных)."
   ]
  },
  {
   "cell_type": "markdown",
   "metadata": {},
   "source": [
    "## Определение среднего количества покупателей по каждой группе магазинов"
   ]
  },
  {
   "cell_type": "code",
   "execution_count": 61,
   "metadata": {},
   "outputs": [
    {
     "data": {
      "text/html": [
       "<div>\n",
       "<style scoped>\n",
       "    .dataframe tbody tr th:only-of-type {\n",
       "        vertical-align: middle;\n",
       "    }\n",
       "\n",
       "    .dataframe tbody tr th {\n",
       "        vertical-align: top;\n",
       "    }\n",
       "\n",
       "    .dataframe thead th {\n",
       "        text-align: right;\n",
       "    }\n",
       "</style>\n",
       "<table border=\"1\" class=\"dataframe\">\n",
       "  <thead>\n",
       "    <tr style=\"text-align: right;\">\n",
       "      <th></th>\n",
       "      <th>check_id</th>\n",
       "      <th>item_id</th>\n",
       "      <th>quantity</th>\n",
       "      <th>datetime</th>\n",
       "      <th>customer_id</th>\n",
       "      <th>shop_id</th>\n",
       "      <th>loyalty_pr</th>\n",
       "      <th>date</th>\n",
       "      <th>price</th>\n",
       "      <th>revenue</th>\n",
       "      <th>group</th>\n",
       "    </tr>\n",
       "  </thead>\n",
       "  <tbody>\n",
       "    <tr>\n",
       "      <td>0</td>\n",
       "      <td>538280</td>\n",
       "      <td>21873</td>\n",
       "      <td>11</td>\n",
       "      <td>2016-12-10 12:50:00</td>\n",
       "      <td>18427</td>\n",
       "      <td>Shop 0</td>\n",
       "      <td>0</td>\n",
       "      <td>2016-12-10</td>\n",
       "      <td>1.810000</td>\n",
       "      <td>19.91</td>\n",
       "      <td>1</td>\n",
       "    </tr>\n",
       "    <tr>\n",
       "      <td>1</td>\n",
       "      <td>538862</td>\n",
       "      <td>22195</td>\n",
       "      <td>3</td>\n",
       "      <td>2016-12-14 14:11:00</td>\n",
       "      <td>22389</td>\n",
       "      <td>Shop 0</td>\n",
       "      <td>1</td>\n",
       "      <td>2016-12-14</td>\n",
       "      <td>2.766667</td>\n",
       "      <td>8.3</td>\n",
       "      <td>1</td>\n",
       "    </tr>\n",
       "    <tr>\n",
       "      <td>2</td>\n",
       "      <td>538855</td>\n",
       "      <td>21239</td>\n",
       "      <td>7</td>\n",
       "      <td>2016-12-14 13:50:00</td>\n",
       "      <td>22182</td>\n",
       "      <td>Shop 0</td>\n",
       "      <td>1</td>\n",
       "      <td>2016-12-14</td>\n",
       "      <td>1.474000</td>\n",
       "      <td>10.318</td>\n",
       "      <td>1</td>\n",
       "    </tr>\n",
       "    <tr>\n",
       "      <td>3</td>\n",
       "      <td>543543</td>\n",
       "      <td>22271</td>\n",
       "      <td>5</td>\n",
       "      <td>2017-02-09 15:33:00</td>\n",
       "      <td>23522</td>\n",
       "      <td>Shop 0</td>\n",
       "      <td>1</td>\n",
       "      <td>2017-02-09</td>\n",
       "      <td>4.300000</td>\n",
       "      <td>21.5</td>\n",
       "      <td>1</td>\n",
       "    </tr>\n",
       "    <tr>\n",
       "      <td>4</td>\n",
       "      <td>543812</td>\n",
       "      <td>79321</td>\n",
       "      <td>7</td>\n",
       "      <td>2017-02-13 14:40:00</td>\n",
       "      <td>23151</td>\n",
       "      <td>Shop 0</td>\n",
       "      <td>1</td>\n",
       "      <td>2017-02-13</td>\n",
       "      <td>7.013636</td>\n",
       "      <td>49.0955</td>\n",
       "      <td>1</td>\n",
       "    </tr>\n",
       "  </tbody>\n",
       "</table>\n",
       "</div>"
      ],
      "text/plain": [
       "  check_id item_id quantity            datetime customer_id shop_id  \\\n",
       "0   538280   21873       11 2016-12-10 12:50:00       18427  Shop 0   \n",
       "1   538862   22195        3 2016-12-14 14:11:00       22389  Shop 0   \n",
       "2   538855   21239        7 2016-12-14 13:50:00       22182  Shop 0   \n",
       "3   543543   22271        5 2017-02-09 15:33:00       23522  Shop 0   \n",
       "4   543812   79321        7 2017-02-13 14:40:00       23151  Shop 0   \n",
       "\n",
       "  loyalty_pr        date     price  revenue group  \n",
       "0          0  2016-12-10  1.810000    19.91     1  \n",
       "1          1  2016-12-14  2.766667      8.3     1  \n",
       "2          1  2016-12-14  1.474000   10.318     1  \n",
       "3          1  2017-02-09  4.300000     21.5     1  \n",
       "4          1  2017-02-13  7.013636  49.0955     1  "
      ]
     },
     "execution_count": 61,
     "metadata": {},
     "output_type": "execute_result"
    }
   ],
   "source": [
    "shop_revenue_2 = shop_revenue[['shop_id', 'group']]\n",
    "data = data.merge(shop_revenue_2, on = 'shop_id', how = 'left')\n",
    "data.head()"
   ]
  },
  {
   "cell_type": "code",
   "execution_count": 62,
   "metadata": {},
   "outputs": [
    {
     "name": "stdout",
     "output_type": "stream",
     "text": [
      "<class 'pandas.core.frame.DataFrame'>\n",
      "Int64Index: 4870 entries, 0 to 103411\n",
      "Data columns (total 2 columns):\n",
      "check_id    4870 non-null object\n",
      "group       4870 non-null object\n",
      "dtypes: object(2)\n",
      "memory usage: 114.1+ KB\n"
     ]
    },
    {
     "data": {
      "text/html": [
       "<div>\n",
       "<style scoped>\n",
       "    .dataframe tbody tr th:only-of-type {\n",
       "        vertical-align: middle;\n",
       "    }\n",
       "\n",
       "    .dataframe tbody tr th {\n",
       "        vertical-align: top;\n",
       "    }\n",
       "\n",
       "    .dataframe thead th {\n",
       "        text-align: right;\n",
       "    }\n",
       "</style>\n",
       "<table border=\"1\" class=\"dataframe\">\n",
       "  <thead>\n",
       "    <tr style=\"text-align: right;\">\n",
       "      <th></th>\n",
       "      <th>check_id</th>\n",
       "      <th>group</th>\n",
       "    </tr>\n",
       "  </thead>\n",
       "  <tbody>\n",
       "    <tr>\n",
       "      <td>0</td>\n",
       "      <td>538280</td>\n",
       "      <td>1</td>\n",
       "    </tr>\n",
       "    <tr>\n",
       "      <td>1</td>\n",
       "      <td>538862</td>\n",
       "      <td>1</td>\n",
       "    </tr>\n",
       "    <tr>\n",
       "      <td>2</td>\n",
       "      <td>538855</td>\n",
       "      <td>1</td>\n",
       "    </tr>\n",
       "    <tr>\n",
       "      <td>3</td>\n",
       "      <td>543543</td>\n",
       "      <td>1</td>\n",
       "    </tr>\n",
       "    <tr>\n",
       "      <td>4</td>\n",
       "      <td>543812</td>\n",
       "      <td>1</td>\n",
       "    </tr>\n",
       "  </tbody>\n",
       "</table>\n",
       "</div>"
      ],
      "text/plain": [
       "  check_id group\n",
       "0   538280     1\n",
       "1   538862     1\n",
       "2   538855     1\n",
       "3   543543     1\n",
       "4   543812     1"
      ]
     },
     "execution_count": 62,
     "metadata": {},
     "output_type": "execute_result"
    }
   ],
   "source": [
    "check_data = data[['check_id', 'group']].drop_duplicates()# выделение уникальных чеков по группам магазинов\n",
    "check_data.info()\n",
    "check_data.head()"
   ]
  },
  {
   "cell_type": "code",
   "execution_count": 63,
   "metadata": {},
   "outputs": [
    {
     "data": {
      "text/html": [
       "<div>\n",
       "<style scoped>\n",
       "    .dataframe tbody tr th:only-of-type {\n",
       "        vertical-align: middle;\n",
       "    }\n",
       "\n",
       "    .dataframe tbody tr th {\n",
       "        vertical-align: top;\n",
       "    }\n",
       "\n",
       "    .dataframe thead th {\n",
       "        text-align: right;\n",
       "    }\n",
       "</style>\n",
       "<table border=\"1\" class=\"dataframe\">\n",
       "  <thead>\n",
       "    <tr style=\"text-align: right;\">\n",
       "      <th></th>\n",
       "      <th>group</th>\n",
       "      <th>check_id</th>\n",
       "    </tr>\n",
       "  </thead>\n",
       "  <tbody>\n",
       "    <tr>\n",
       "      <td>0</td>\n",
       "      <td>1</td>\n",
       "      <td>4447</td>\n",
       "    </tr>\n",
       "    <tr>\n",
       "      <td>1</td>\n",
       "      <td>2</td>\n",
       "      <td>423</td>\n",
       "    </tr>\n",
       "  </tbody>\n",
       "</table>\n",
       "</div>"
      ],
      "text/plain": [
       "  group  check_id\n",
       "0     1      4447\n",
       "1     2       423"
      ]
     },
     "execution_count": 63,
     "metadata": {},
     "output_type": "execute_result"
    }
   ],
   "source": [
    "check_quantity = check_data.groupby('group')['check_id'].count().reset_index()# расчет количества чеков по группам магазинов\n",
    "check_quantity"
   ]
  },
  {
   "cell_type": "code",
   "execution_count": 64,
   "metadata": {},
   "outputs": [
    {
     "data": {
      "text/html": [
       "<div>\n",
       "<style scoped>\n",
       "    .dataframe tbody tr th:only-of-type {\n",
       "        vertical-align: middle;\n",
       "    }\n",
       "\n",
       "    .dataframe tbody tr th {\n",
       "        vertical-align: top;\n",
       "    }\n",
       "\n",
       "    .dataframe thead th {\n",
       "        text-align: right;\n",
       "    }\n",
       "</style>\n",
       "<table border=\"1\" class=\"dataframe\">\n",
       "  <thead>\n",
       "    <tr style=\"text-align: right;\">\n",
       "      <th></th>\n",
       "      <th>group</th>\n",
       "      <th>shop_id</th>\n",
       "    </tr>\n",
       "  </thead>\n",
       "  <tbody>\n",
       "    <tr>\n",
       "      <td>0</td>\n",
       "      <td>1</td>\n",
       "      <td>1</td>\n",
       "    </tr>\n",
       "    <tr>\n",
       "      <td>1</td>\n",
       "      <td>2</td>\n",
       "      <td>30</td>\n",
       "    </tr>\n",
       "  </tbody>\n",
       "</table>\n",
       "</div>"
      ],
      "text/plain": [
       "  group  shop_id\n",
       "0     1        1\n",
       "1     2       30"
      ]
     },
     "execution_count": 64,
     "metadata": {},
     "output_type": "execute_result"
    }
   ],
   "source": [
    "distr_shop = shop_revenue.groupby('group')['shop_id'].count().reset_index()\n",
    "distr_shop"
   ]
  },
  {
   "cell_type": "code",
   "execution_count": 65,
   "metadata": {},
   "outputs": [
    {
     "data": {
      "text/html": [
       "<div>\n",
       "<style scoped>\n",
       "    .dataframe tbody tr th:only-of-type {\n",
       "        vertical-align: middle;\n",
       "    }\n",
       "\n",
       "    .dataframe tbody tr th {\n",
       "        vertical-align: top;\n",
       "    }\n",
       "\n",
       "    .dataframe thead th {\n",
       "        text-align: right;\n",
       "    }\n",
       "</style>\n",
       "<table border=\"1\" class=\"dataframe\">\n",
       "  <thead>\n",
       "    <tr style=\"text-align: right;\">\n",
       "      <th></th>\n",
       "      <th>group</th>\n",
       "      <th>check_id</th>\n",
       "      <th>shops</th>\n",
       "      <th>customers</th>\n",
       "      <th>mean_cust</th>\n",
       "    </tr>\n",
       "  </thead>\n",
       "  <tbody>\n",
       "    <tr>\n",
       "      <td>0</td>\n",
       "      <td>1</td>\n",
       "      <td>4447</td>\n",
       "      <td>1</td>\n",
       "      <td>1942.0</td>\n",
       "      <td>1942.000000</td>\n",
       "    </tr>\n",
       "    <tr>\n",
       "      <td>1</td>\n",
       "      <td>2</td>\n",
       "      <td>423</td>\n",
       "      <td>30</td>\n",
       "      <td>185.0</td>\n",
       "      <td>6.166667</td>\n",
       "    </tr>\n",
       "  </tbody>\n",
       "</table>\n",
       "</div>"
      ],
      "text/plain": [
       "  group  check_id  shops  customers    mean_cust\n",
       "0     1      4447      1     1942.0  1942.000000\n",
       "1     2       423     30      185.0     6.166667"
      ]
     },
     "execution_count": 65,
     "metadata": {},
     "output_type": "execute_result"
    }
   ],
   "source": [
    "check_quantity['shops'] = distr_shop['shop_id']\n",
    "check_quantity['customers'] = round(check_quantity['check_id']/check_quantity['check_id'].sum()*\\\n",
    "check_cust_prl_1['customers'].sum(),0)\n",
    "check_quantity['mean_cust'] = check_quantity['customers']/check_quantity['shops']# расчет среднего количества клиентов по группам магазинов\n",
    "check_quantity"
   ]
  },
  {
   "cell_type": "markdown",
   "metadata": {},
   "source": [
    "Для расчета среднего количества покупателй рассчитаем количество чеков по каждой группе магазинов.\n",
    "Через пропорцию отношения общего количества чеков к общему количеству покупателей сети рассчитаем количество покупателй по каждой группе магазинов.\n",
    "Таким образом, т.к. в первой группе 1 магазин, среднее количество покупателй составило 1942 чел., во второй группе среднее количестов покупателей 6.2 чел."
   ]
  },
  {
   "cell_type": "markdown",
   "metadata": {},
   "source": [
    "## Определение суммы среднего чека по каждой группе магазинов"
   ]
  },
  {
   "cell_type": "code",
   "execution_count": 66,
   "metadata": {},
   "outputs": [
    {
     "data": {
      "text/html": [
       "<div>\n",
       "<style scoped>\n",
       "    .dataframe tbody tr th:only-of-type {\n",
       "        vertical-align: middle;\n",
       "    }\n",
       "\n",
       "    .dataframe tbody tr th {\n",
       "        vertical-align: top;\n",
       "    }\n",
       "\n",
       "    .dataframe thead th {\n",
       "        text-align: right;\n",
       "    }\n",
       "</style>\n",
       "<table border=\"1\" class=\"dataframe\">\n",
       "  <thead>\n",
       "    <tr style=\"text-align: right;\">\n",
       "      <th></th>\n",
       "      <th>group</th>\n",
       "      <th>revenue</th>\n",
       "    </tr>\n",
       "  </thead>\n",
       "  <tbody>\n",
       "    <tr>\n",
       "      <td>0</td>\n",
       "      <td>1</td>\n",
       "      <td>3.048591e+06</td>\n",
       "    </tr>\n",
       "    <tr>\n",
       "      <td>1</td>\n",
       "      <td>2</td>\n",
       "      <td>4.656709e+05</td>\n",
       "    </tr>\n",
       "  </tbody>\n",
       "</table>\n",
       "</div>"
      ],
      "text/plain": [
       "  group       revenue\n",
       "0     1  3.048591e+06\n",
       "1     2  4.656709e+05"
      ]
     },
     "execution_count": 66,
     "metadata": {},
     "output_type": "execute_result"
    }
   ],
   "source": [
    "check_sum = data.groupby('group')['revenue'].sum().reset_index()\n",
    "check_sum"
   ]
  },
  {
   "cell_type": "code",
   "execution_count": 67,
   "metadata": {},
   "outputs": [
    {
     "data": {
      "text/html": [
       "<div>\n",
       "<style scoped>\n",
       "    .dataframe tbody tr th:only-of-type {\n",
       "        vertical-align: middle;\n",
       "    }\n",
       "\n",
       "    .dataframe tbody tr th {\n",
       "        vertical-align: top;\n",
       "    }\n",
       "\n",
       "    .dataframe thead th {\n",
       "        text-align: right;\n",
       "    }\n",
       "</style>\n",
       "<table border=\"1\" class=\"dataframe\">\n",
       "  <thead>\n",
       "    <tr style=\"text-align: right;\">\n",
       "      <th></th>\n",
       "      <th>group</th>\n",
       "      <th>revenue</th>\n",
       "      <th>mean_sum</th>\n",
       "    </tr>\n",
       "  </thead>\n",
       "  <tbody>\n",
       "    <tr>\n",
       "      <td>0</td>\n",
       "      <td>1</td>\n",
       "      <td>3.048591e+06</td>\n",
       "      <td>685.538847</td>\n",
       "    </tr>\n",
       "    <tr>\n",
       "      <td>1</td>\n",
       "      <td>2</td>\n",
       "      <td>4.656709e+05</td>\n",
       "      <td>1100.876941</td>\n",
       "    </tr>\n",
       "  </tbody>\n",
       "</table>\n",
       "</div>"
      ],
      "text/plain": [
       "  group       revenue     mean_sum\n",
       "0     1  3.048591e+06   685.538847\n",
       "1     2  4.656709e+05  1100.876941"
      ]
     },
     "execution_count": 67,
     "metadata": {},
     "output_type": "execute_result"
    }
   ],
   "source": [
    "check_sum['mean_sum'] = check_sum['revenue']/check_quantity['check_id']\n",
    "check_sum"
   ]
  },
  {
   "cell_type": "markdown",
   "metadata": {},
   "source": [
    "Рассчитае величину среднего чека по группам магазинов. По группе 1 показатель составил 685,54 руб., по группе 2 - 1100,88 руб."
   ]
  },
  {
   "cell_type": "markdown",
   "metadata": {},
   "source": [
    "## Определение процента, покупателей, участвующих в программе лояльности, по каждой группе магазинов"
   ]
  },
  {
   "cell_type": "code",
   "execution_count": 68,
   "metadata": {},
   "outputs": [
    {
     "data": {
      "text/html": [
       "<div>\n",
       "<style scoped>\n",
       "    .dataframe tbody tr th:only-of-type {\n",
       "        vertical-align: middle;\n",
       "    }\n",
       "\n",
       "    .dataframe tbody tr th {\n",
       "        vertical-align: top;\n",
       "    }\n",
       "\n",
       "    .dataframe thead th {\n",
       "        text-align: right;\n",
       "    }\n",
       "</style>\n",
       "<table border=\"1\" class=\"dataframe\">\n",
       "  <thead>\n",
       "    <tr style=\"text-align: right;\">\n",
       "      <th></th>\n",
       "      <th>group</th>\n",
       "      <th>customer_id</th>\n",
       "      <th>loyal_per_cent</th>\n",
       "    </tr>\n",
       "  </thead>\n",
       "  <tbody>\n",
       "    <tr>\n",
       "      <td>0</td>\n",
       "      <td>1</td>\n",
       "      <td>584</td>\n",
       "      <td>30.072091</td>\n",
       "    </tr>\n",
       "    <tr>\n",
       "      <td>1</td>\n",
       "      <td>2</td>\n",
       "      <td>3</td>\n",
       "      <td>1.621622</td>\n",
       "    </tr>\n",
       "  </tbody>\n",
       "</table>\n",
       "</div>"
      ],
      "text/plain": [
       "  group  customer_id  loyal_per_cent\n",
       "0     1          584       30.072091\n",
       "1     2            3        1.621622"
      ]
     },
     "execution_count": 68,
     "metadata": {},
     "output_type": "execute_result"
    }
   ],
   "source": [
    "loyal = data[['customer_id', 'loyalty_pr', 'group', 'shop_id']]\n",
    "loyal = loyal[loyal['loyalty_pr']==1].drop_duplicates()\n",
    "pr_l_cust = loyal.groupby('group')['customer_id'].count().reset_index()\n",
    "pr_l_cust['loyal_per_cent'] = pr_l_cust['customer_id']/check_quantity['customers']*100\n",
    "pr_l_cust"
   ]
  },
  {
   "cell_type": "markdown",
   "metadata": {},
   "source": [
    "Рассчитаем процент, покупателей, участвующих в программе лояльности, по каждой группе магазинов. По группе магазинов 1 в ПЛ участвует 30,1% покупателей, по группе 2 - 1,6%."
   ]
  },
  {
   "cell_type": "code",
   "execution_count": 69,
   "metadata": {},
   "outputs": [
    {
     "name": "stdout",
     "output_type": "stream",
     "text": [
      "['Shop 0' 'Shop 8' 'Shop 28' 'Shop 19']\n"
     ]
    }
   ],
   "source": [
    "print(loyal['shop_id'].unique())"
   ]
  },
  {
   "cell_type": "markdown",
   "metadata": {},
   "source": [
    "Программа лояльности действует в магазинах 0, 8, 19 и 28."
   ]
  },
  {
   "cell_type": "markdown",
   "metadata": {},
   "source": [
    "## 6. Общие выводы"
   ]
  },
  {
   "cell_type": "markdown",
   "metadata": {},
   "source": [
    "1. В торговле сети магазинов присутствует сезонность. Это видно по графикам ежедневных продаж. В декабре продажи существенно выше, чем в январе, а в январе немого выше, чем в феврале.\n",
    "2. Клиентов, участвующих в программе лояльности чуть больше четверти от общего числа клиентов (27,6%).\n",
    "3. Количество чеков на 1 клиента не зависит от участия в программе лояльности.\n",
    "4. Количество товаров на 1 покупателя выше у клиентов, не участвующих в программе лояльности. Такая ситуация, возможно обусловлена наличием скидок на определенные товары по карте лояльности. Соответсвенно, клиенты, участвующие в ПЛ в основном набирали товары со скидками по карте, тогда как клиенты, не участвующие в ПЛ не были привязаны к скидкам и набирали больше товаров разных видов.\n",
    "5. Средняя выручка на 1 клиента также выше у клиентов, не участвующих в ПЛ. Данная ситуация, скорее всего, обусловлена как меньшим количеством товаров, так и скидками на товары, приобретаемые клиентами, участвующими в ПЛ. Для клиентов, не участвующих в ПЛ, соответственно, скидок нет и они приобретают большее количества товаров. \n",
    "6. Вместе с тем, средняя выручка на клиента в месяц с учетом оплаты участия в программе лояльности выше у клиентов, участвующих в ПЛ.\n",
    "7. Проверка нулевых гипотез о равенстве средних чеков в зависимости от участия клиентов в программе лояльности покзала, что и по \"сырым\" и по очищенным данным нулевые гипотезы были отвергнуты. Сумма среднего чека для клиентов,не участвующих в ПЛ, выше, чем у клиентов участвующих в ПЛ.\n",
    "8. Проверка нулевых гипотез о равенстве среднего количества товаров в чеках в зависимости от участия клиентов в программе лояльности покзала, что нулевая гипотеза не отвергается. Средние количества товаров в чеке для клиентов,не участвующих в ПЛ, и клиентов, участвующих в ПЛ, могут быть равны.\n",
    "9. Несмотря на вывод из п. 7, программа лояльности работает и приносит выручку на 1 клиента выше аналогичного показателя для клиентов, не учатвующих в ПЛ, на 51,35 руб. в месяц.\n",
    "10. Подавляющее большинство магазинов сети не эффективны.\n",
    "11. Только один магазин приносит выручку более 1 млн. руб. Еще 5 магазинов приносят выручку от 50 т.р. до 150 т.р. \n",
    "12. Наиболее крупный магазин сети за 3 мес. посетило 1942 чел., каждый из оставшихся 30 магазинов за 3 месяца посетило по 6 чел.\n",
    "13. Доля клиентов, участвующих в ПЛ для наиболее крупного магазина составила - 30,1% от всех покупателей, для оставшихся 30 магазинов - 1,6%.\n",
    "\n",
    "Рекомендации:\n",
    "1. Программу лояльности рекомендуется не менять, можно немного повысить стоимость участия в ней (на 10-15%), а также провести недогрогую рекламную кампанию (наружная реклама на магазинах, раздача листовок) с целью информирования населения о выгодах программы.\n",
    "2. Учитывая низкую эффективность большинства магазинов, рекомендуется закрыть 25 из них - с наименьшей выручкой.\n",
    "3. В отношении оставшихся 6 магазинов провести недогрогую рекламную кампанию с целью информирования населения о сети магазинов, ценах, акциях и т.п."
   ]
  }
 ],
 "metadata": {
  "kernelspec": {
   "display_name": "Python 3",
   "language": "python",
   "name": "python3"
  },
  "language_info": {
   "codemirror_mode": {
    "name": "ipython",
    "version": 3
   },
   "file_extension": ".py",
   "mimetype": "text/x-python",
   "name": "python",
   "nbconvert_exporter": "python",
   "pygments_lexer": "ipython3",
   "version": "3.8.3"
  }
 },
 "nbformat": 4,
 "nbformat_minor": 2
}
