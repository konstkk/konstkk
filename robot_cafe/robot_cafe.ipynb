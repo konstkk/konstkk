{
 "cells": [
  {
   "cell_type": "markdown",
   "metadata": {},
   "source": [
    "## Инвестиционный проект: открытие кафе"
   ]
  },
  {
   "cell_type": "markdown",
   "metadata": {},
   "source": [
    "Описание проекта: открытие кафе с роботами-официантами.\n",
    "\n",
    "Цель проекта: определить условия работы кафе, которые позволят ему оставаться популярным после того, как интерес к роботам у посетителей пройдет.\n",
    "\n",
    "Задачи проекта: \n",
    "1. исследование рынка предприятий общественного питания Москвы:\n",
    "1.1. определение типа заведения;\n",
    "1.2. определение оптимального количества посадочных мест;\n",
    "1.3. определение места размещения.\n",
    "2. выработка рекомендаций."
   ]
  },
  {
   "cell_type": "markdown",
   "metadata": {},
   "source": [
    "### План проекта\n",
    "\n",
    "1.\tЗагрузка и анализ данных \n",
    "2.\tПредобработка данных \n",
    "3.\tАнализ информации \n",
    "4.\tВыводы \n",
    "5.  Презентация"
   ]
  },
  {
   "cell_type": "markdown",
   "metadata": {},
   "source": [
    "### 1. Загрузка и анализ данных"
   ]
  },
  {
   "cell_type": "code",
   "execution_count": 114,
   "metadata": {},
   "outputs": [
    {
     "name": "stdout",
     "output_type": "stream",
     "text": [
      "<class 'pandas.core.frame.DataFrame'>\n",
      "RangeIndex: 15366 entries, 0 to 15365\n",
      "Data columns (total 6 columns):\n",
      "id             15366 non-null int64\n",
      "object_name    15366 non-null object\n",
      "chain          15366 non-null object\n",
      "object_type    15366 non-null object\n",
      "address        15366 non-null object\n",
      "number         15366 non-null int64\n",
      "dtypes: int64(2), object(4)\n",
      "memory usage: 720.4+ KB\n"
     ]
    },
    {
     "data": {
      "text/html": [
       "<div>\n",
       "<style scoped>\n",
       "    .dataframe tbody tr th:only-of-type {\n",
       "        vertical-align: middle;\n",
       "    }\n",
       "\n",
       "    .dataframe tbody tr th {\n",
       "        vertical-align: top;\n",
       "    }\n",
       "\n",
       "    .dataframe thead th {\n",
       "        text-align: right;\n",
       "    }\n",
       "</style>\n",
       "<table border=\"1\" class=\"dataframe\">\n",
       "  <thead>\n",
       "    <tr style=\"text-align: right;\">\n",
       "      <th></th>\n",
       "      <th>id</th>\n",
       "      <th>object_name</th>\n",
       "      <th>chain</th>\n",
       "      <th>object_type</th>\n",
       "      <th>address</th>\n",
       "      <th>number</th>\n",
       "    </tr>\n",
       "  </thead>\n",
       "  <tbody>\n",
       "    <tr>\n",
       "      <td>0</td>\n",
       "      <td>151635</td>\n",
       "      <td>СМЕТАНА</td>\n",
       "      <td>нет</td>\n",
       "      <td>кафе</td>\n",
       "      <td>город Москва, улица Егора Абакумова, дом 9</td>\n",
       "      <td>48</td>\n",
       "    </tr>\n",
       "    <tr>\n",
       "      <td>1</td>\n",
       "      <td>77874</td>\n",
       "      <td>Родник</td>\n",
       "      <td>нет</td>\n",
       "      <td>кафе</td>\n",
       "      <td>город Москва, улица Талалихина, дом 2/1, корпус 1</td>\n",
       "      <td>35</td>\n",
       "    </tr>\n",
       "    <tr>\n",
       "      <td>2</td>\n",
       "      <td>24309</td>\n",
       "      <td>Кафе «Академия»</td>\n",
       "      <td>нет</td>\n",
       "      <td>кафе</td>\n",
       "      <td>город Москва, Абельмановская улица, дом 6</td>\n",
       "      <td>95</td>\n",
       "    </tr>\n",
       "    <tr>\n",
       "      <td>3</td>\n",
       "      <td>21894</td>\n",
       "      <td>ПИЦЦЕТОРИЯ</td>\n",
       "      <td>да</td>\n",
       "      <td>кафе</td>\n",
       "      <td>город Москва, Абрамцевская улица, дом 1</td>\n",
       "      <td>40</td>\n",
       "    </tr>\n",
       "    <tr>\n",
       "      <td>4</td>\n",
       "      <td>119365</td>\n",
       "      <td>Кафе «Вишневая метель»</td>\n",
       "      <td>нет</td>\n",
       "      <td>кафе</td>\n",
       "      <td>город Москва, Абрамцевская улица, дом 9, корпус 1</td>\n",
       "      <td>50</td>\n",
       "    </tr>\n",
       "  </tbody>\n",
       "</table>\n",
       "</div>"
      ],
      "text/plain": [
       "       id             object_name chain object_type  \\\n",
       "0  151635                 СМЕТАНА   нет        кафе   \n",
       "1   77874                  Родник   нет        кафе   \n",
       "2   24309         Кафе «Академия»   нет        кафе   \n",
       "3   21894              ПИЦЦЕТОРИЯ    да        кафе   \n",
       "4  119365  Кафе «Вишневая метель»   нет        кафе   \n",
       "\n",
       "                                             address  number  \n",
       "0         город Москва, улица Егора Абакумова, дом 9      48  \n",
       "1  город Москва, улица Талалихина, дом 2/1, корпус 1      35  \n",
       "2          город Москва, Абельмановская улица, дом 6      95  \n",
       "3            город Москва, Абрамцевская улица, дом 1      40  \n",
       "4  город Москва, Абрамцевская улица, дом 9, корпус 1      50  "
      ]
     },
     "execution_count": 114,
     "metadata": {},
     "output_type": "execute_result"
    }
   ],
   "source": [
    "import pandas as pd\n",
    "import numpy as np\n",
    "import matplotlib.pyplot as plt\n",
    "import seaborn as sns\n",
    "rest_data = pd.read_csv('/datasets/rest_data.csv')\n",
    "rest_data.info()\n",
    "rest_data.head()"
   ]
  },
  {
   "cell_type": "code",
   "execution_count": 60,
   "metadata": {},
   "outputs": [
    {
     "name": "stdout",
     "output_type": "stream",
     "text": [
      "0\n"
     ]
    }
   ],
   "source": [
    "print(rest_data.duplicated().sum())# проверка на дубли"
   ]
  },
  {
   "cell_type": "markdown",
   "metadata": {},
   "source": [
    "Выводы\n",
    "Данные загружены. Выведена информация о данных. Выведены первые 5 значений переменных. В данных нет пропусков, об этом свидетельствует количество значений в переменных. В данных нет дубликатов (выполнена проверка). Переменная id нуждается в изменении типа: из int в object, т.к. id - в данном случае отражает не числовую характеристику, а качественную.  "
   ]
  },
  {
   "cell_type": "markdown",
   "metadata": {},
   "source": [
    "### 2. Предобработка данных"
   ]
  },
  {
   "cell_type": "code",
   "execution_count": 61,
   "metadata": {},
   "outputs": [
    {
     "name": "stdout",
     "output_type": "stream",
     "text": [
      "<class 'pandas.core.frame.DataFrame'>\n",
      "RangeIndex: 15366 entries, 0 to 15365\n",
      "Data columns (total 6 columns):\n",
      "id             15366 non-null object\n",
      "object_name    15366 non-null object\n",
      "chain          15366 non-null object\n",
      "object_type    15366 non-null object\n",
      "address        15366 non-null object\n",
      "number         15366 non-null int64\n",
      "dtypes: int64(1), object(5)\n",
      "memory usage: 720.4+ KB\n"
     ]
    }
   ],
   "source": [
    "rest_data['id'] = rest_data['id'].astype(object)\n",
    "rest_data.info()"
   ]
  },
  {
   "cell_type": "markdown",
   "metadata": {},
   "source": [
    "Меняем тип данных переменной id из int в object. Проверяем."
   ]
  },
  {
   "cell_type": "code",
   "execution_count": 62,
   "metadata": {},
   "outputs": [
    {
     "data": {
      "text/html": [
       "<div>\n",
       "<style scoped>\n",
       "    .dataframe tbody tr th:only-of-type {\n",
       "        vertical-align: middle;\n",
       "    }\n",
       "\n",
       "    .dataframe tbody tr th {\n",
       "        vertical-align: top;\n",
       "    }\n",
       "\n",
       "    .dataframe thead th {\n",
       "        text-align: right;\n",
       "    }\n",
       "</style>\n",
       "<table border=\"1\" class=\"dataframe\">\n",
       "  <thead>\n",
       "    <tr style=\"text-align: right;\">\n",
       "      <th></th>\n",
       "      <th>id</th>\n",
       "      <th>object_name</th>\n",
       "      <th>chain</th>\n",
       "      <th>object_type</th>\n",
       "      <th>address</th>\n",
       "      <th>number</th>\n",
       "    </tr>\n",
       "  </thead>\n",
       "  <tbody>\n",
       "    <tr>\n",
       "      <td>12007</td>\n",
       "      <td>189526</td>\n",
       "      <td>Кофе с собой</td>\n",
       "      <td>да</td>\n",
       "      <td>fast food</td>\n",
       "      <td>город Москва, Зеленодольская улица, дом 35</td>\n",
       "      <td>2</td>\n",
       "    </tr>\n",
       "    <tr>\n",
       "      <td>53</td>\n",
       "      <td>21998</td>\n",
       "      <td>Му-Му</td>\n",
       "      <td>да</td>\n",
       "      <td>кафе</td>\n",
       "      <td>город Москва, улица Арбат, дом 45/24</td>\n",
       "      <td>220</td>\n",
       "    </tr>\n",
       "    <tr>\n",
       "      <td>2486</td>\n",
       "      <td>73434</td>\n",
       "      <td>Предприятие быстрого обслуживания «РусЪпай»</td>\n",
       "      <td>нет</td>\n",
       "      <td>fast food</td>\n",
       "      <td>город Москва, Варшавское шоссе, дом 125, корпус 3</td>\n",
       "      <td>0</td>\n",
       "    </tr>\n",
       "    <tr>\n",
       "      <td>6846</td>\n",
       "      <td>26913</td>\n",
       "      <td>КОЛБАСОФФ</td>\n",
       "      <td>да</td>\n",
       "      <td>ресторан</td>\n",
       "      <td>город Москва, Щукинская улица, дом 42</td>\n",
       "      <td>150</td>\n",
       "    </tr>\n",
       "    <tr>\n",
       "      <td>2503</td>\n",
       "      <td>29046</td>\n",
       "      <td>ГБОУ СОШ 879</td>\n",
       "      <td>нет</td>\n",
       "      <td>столовая</td>\n",
       "      <td>город Москва, Кировоградская улица, дом 30А</td>\n",
       "      <td>300</td>\n",
       "    </tr>\n",
       "    <tr>\n",
       "      <td>14776</td>\n",
       "      <td>209567</td>\n",
       "      <td>Шантри</td>\n",
       "      <td>нет</td>\n",
       "      <td>ресторан</td>\n",
       "      <td>город Москва, Цветной бульвар, дом 30, строение 1</td>\n",
       "      <td>250</td>\n",
       "    </tr>\n",
       "    <tr>\n",
       "      <td>642</td>\n",
       "      <td>153381</td>\n",
       "      <td>Столовая при ГБОУ Школа 57</td>\n",
       "      <td>нет</td>\n",
       "      <td>столовая</td>\n",
       "      <td>город Москва, Малый Знаменский переулок, дом 7...</td>\n",
       "      <td>36</td>\n",
       "    </tr>\n",
       "    <tr>\n",
       "      <td>167</td>\n",
       "      <td>149149</td>\n",
       "      <td>Суши WoK</td>\n",
       "      <td>да</td>\n",
       "      <td>кафе</td>\n",
       "      <td>город Москва, проспект Вернадского, дом 11/19</td>\n",
       "      <td>8</td>\n",
       "    </tr>\n",
       "    <tr>\n",
       "      <td>5407</td>\n",
       "      <td>23117</td>\n",
       "      <td>Кафе</td>\n",
       "      <td>нет</td>\n",
       "      <td>кафе</td>\n",
       "      <td>город Москва, проспект Мира, дом 211, корпус 2</td>\n",
       "      <td>20</td>\n",
       "    </tr>\n",
       "    <tr>\n",
       "      <td>14052</td>\n",
       "      <td>221182</td>\n",
       "      <td>Донер</td>\n",
       "      <td>нет</td>\n",
       "      <td>закусочная</td>\n",
       "      <td>город Москва, улица Новый Арбат, дом 17</td>\n",
       "      <td>2</td>\n",
       "    </tr>\n",
       "  </tbody>\n",
       "</table>\n",
       "</div>"
      ],
      "text/plain": [
       "           id                                  object_name chain object_type  \\\n",
       "12007  189526                                 Кофе с собой    да   fast food   \n",
       "53      21998                                        Му-Му    да        кафе   \n",
       "2486    73434  Предприятие быстрого обслуживания «РусЪпай»   нет   fast food   \n",
       "6846    26913                                    КОЛБАСОФФ    да    ресторан   \n",
       "2503    29046                                 ГБОУ СОШ 879   нет    столовая   \n",
       "14776  209567                                       Шантри   нет    ресторан   \n",
       "642    153381                   Столовая при ГБОУ Школа 57   нет    столовая   \n",
       "167    149149                                     Суши WoK    да        кафе   \n",
       "5407    23117                                         Кафе   нет        кафе   \n",
       "14052  221182                                        Донер   нет  закусочная   \n",
       "\n",
       "                                                 address  number  \n",
       "12007         город Москва, Зеленодольская улица, дом 35       2  \n",
       "53                  город Москва, улица Арбат, дом 45/24     220  \n",
       "2486   город Москва, Варшавское шоссе, дом 125, корпус 3       0  \n",
       "6846               город Москва, Щукинская улица, дом 42     150  \n",
       "2503         город Москва, Кировоградская улица, дом 30А     300  \n",
       "14776  город Москва, Цветной бульвар, дом 30, строение 1     250  \n",
       "642    город Москва, Малый Знаменский переулок, дом 7...      36  \n",
       "167        город Москва, проспект Вернадского, дом 11/19       8  \n",
       "5407      город Москва, проспект Мира, дом 211, корпус 2      20  \n",
       "14052            город Москва, улица Новый Арбат, дом 17       2  "
      ]
     },
     "execution_count": 62,
     "metadata": {},
     "output_type": "execute_result"
    }
   ],
   "source": [
    "rest_data['object_type'] = rest_data['object_type'].replace('предприятие быстрого обслуживания', 'fast food')\n",
    "rest_data['object_type'] = rest_data['object_type'].replace('магазин (отдел кулинарии)', 'магазин')\n",
    "rest_data.sample(10)"
   ]
  },
  {
   "cell_type": "markdown",
   "metadata": {},
   "source": [
    "В целях оптимизации построения графиков заменим значения переменной object_type \"предприятие быстрого обслуживания\" и \"магазин (отдел кулинарии)\" более короткими аналогами. Проверяем."
   ]
  },
  {
   "cell_type": "code",
   "execution_count": 63,
   "metadata": {},
   "outputs": [
    {
     "data": {
      "image/png": "[encoded data removed]",
      "text/plain": [
       "<Figure size 432x288 with 1 Axes>"
      ]
     },
     "metadata": {
      "needs_background": "light"
     },
     "output_type": "display_data"
    }
   ],
   "source": [
    "box_area=plt.boxplot(rest_data['number'])# определяем аномальные значения"
   ]
  },
  {
   "cell_type": "code",
   "execution_count": 64,
   "metadata": {},
   "outputs": [
    {
     "name": "stdout",
     "output_type": "stream",
     "text": [
      "<class 'pandas.core.frame.DataFrame'>\n",
      "Int64Index: 15359 entries, 0 to 15365\n",
      "Data columns (total 6 columns):\n",
      "id             15359 non-null object\n",
      "object_name    15359 non-null object\n",
      "chain          15359 non-null object\n",
      "object_type    15359 non-null object\n",
      "address        15359 non-null object\n",
      "number         15359 non-null int64\n",
      "dtypes: int64(1), object(5)\n",
      "memory usage: 839.9+ KB\n"
     ]
    }
   ],
   "source": [
    "rest_data = rest_data[rest_data.number <= 1000] # отбрасываем аномальные значения\n",
    "rest_data.info()"
   ]
  },
  {
   "cell_type": "markdown",
   "metadata": {},
   "source": [
    "Построим диаграмму размаха по переменной number (количество посадочных мест). \n",
    "Если залы до 1000 человек еще можно представить, то свыше 1000 - с трудом. Отбрасываем объекты с количеством посадочных мест свыше 1000. Таких оказалось всего 7."
   ]
  },
  {
   "cell_type": "markdown",
   "metadata": {},
   "source": [
    "### 3. Анализ информации"
   ]
  },
  {
   "cell_type": "markdown",
   "metadata": {},
   "source": [
    "#### Распределение видов объектов общественного питания по количеству заведений"
   ]
  },
  {
   "cell_type": "code",
   "execution_count": 65,
   "metadata": {},
   "outputs": [
    {
     "data": {
      "image/png": "[encoded data removed]",
      "text/plain": [
       "<Figure size 1152x432 with 1 Axes>"
      ]
     },
     "metadata": {
      "needs_background": "light"
     },
     "output_type": "display_data"
    }
   ],
   "source": [
    "obj_type = rest_data['object_type'].value_counts().reset_index()\n",
    "obj_type.plot.bar(figsize = (16, 6), title = 'Распределение объектов общественного питания по видам', x = 'index')\n",
    "plt.xticks(rotation=0)\n",
    "plt.xlabel(\"виды объектов\")\n",
    "plt.ylabel(\"количество\");"
   ]
  },
  {
   "cell_type": "markdown",
   "metadata": {},
   "source": [
    "Построим распределение объектов опщепита по видам объектов. Построим график. Как видно, наиболее распространенные объекты - это кафе, столовые, рестораны и предприятия быстрого питания. "
   ]
  },
  {
   "cell_type": "markdown",
   "metadata": {},
   "source": [
    "#### Распределение сетевых и несетевых заведений по количеству"
   ]
  },
  {
   "cell_type": "code",
   "execution_count": 66,
   "metadata": {},
   "outputs": [
    {
     "data": {
      "image/png": "[encoded data removed]",
      "text/plain": [
       "<Figure size 936x432 with 1 Axes>"
      ]
     },
     "metadata": {
      "needs_background": "light"
     },
     "output_type": "display_data"
    }
   ],
   "source": [
    "chain_type = rest_data['chain'].value_counts().reset_index()\n",
    "chain_type.plot.bar(figsize = (13, 6), title = 'Распределение объектов общественного питания по принадлежности к сетям', x = 'index')\n",
    "plt.xticks(rotation=0)\n",
    "plt.xlabel(\"принадлежность объектов к сетям\")\n",
    "plt.ylabel(\"количество\");"
   ]
  },
  {
   "cell_type": "markdown",
   "metadata": {},
   "source": [
    "Построим распределение объектов опщепита по принадлежности к сетям. Построим график. Как видно, подавляющее большинство заведений общепита не принадлежит к сетевым организациям. "
   ]
  },
  {
   "cell_type": "markdown",
   "metadata": {},
   "source": [
    "#### Расчет доли сетевых объектов общественного питания в общем количестве заведений по видам."
   ]
  },
  {
   "cell_type": "code",
   "execution_count": 72,
   "metadata": {},
   "outputs": [
    {
     "data": {
      "image/png": "[encoded data removed]",
      "text/plain": [
       "<Figure size 1152x432 with 1 Axes>"
      ]
     },
     "metadata": {
      "needs_background": "light"
     },
     "output_type": "display_data"
    }
   ],
   "source": [
    "chain_obj = rest_data.query('chain ==\"да\"')\n",
    "chain_obj_type = chain_obj['object_type'].value_counts().reset_index()\n",
    "chain_obj_type.columns = ['types', 'chain_obj']\n",
    "obj_type.columns = ['types', 'object_type']\n",
    "share_chain_obj = chain_obj_type.merge(obj_type, on=['types'])\n",
    "share_chain_obj['share']= share_chain_obj['chain_obj']/share_chain_obj['object_type']*100\n",
    "share_chain_obj=share_chain_obj.sort_values(by = 'share', ascending = False)\n",
    "share_chain_obj.plot.bar(figsize = (16, 6), title = 'Доля сетевых объектов в общем количестве объектов общественного питания по видам', x = 'types', y='share');\n",
    "plt.xticks(rotation=0)\n",
    "plt.xlabel(\"виды объектов\")\n",
    "plt.ylabel(\"%\");"
   ]
  },
  {
   "cell_type": "markdown",
   "metadata": {},
   "source": [
    "Рассчитаем долю сетевых объектов в общем количестве объектов опщепита по видам. Построим график. Как видно из графика, наиболее значительная доля сетевых организаций наблюдается у предприятий быстрого питания, магазинов и ресторанов. Кафе по данному показателю находятся на 4 месте."
   ]
  },
  {
   "cell_type": "markdown",
   "metadata": {},
   "source": [
    "#### Распределение сетевых заведений по количеству посадочных мест"
   ]
  },
  {
   "cell_type": "code",
   "execution_count": 73,
   "metadata": {},
   "outputs": [
    {
     "name": "stdout",
     "output_type": "stream",
     "text": [
      "[array([15.,  0.]), array([ 72., 157.])]\n"
     ]
    },
    {
     "data": {
      "image/png": "[encoded data removed]",
      "text/plain": [
       "<Figure size 432x288 with 1 Axes>"
      ]
     },
     "metadata": {
      "needs_background": "light"
     },
     "output_type": "display_data"
    }
   ],
   "source": [
    "box_area=plt.boxplot(chain_obj['number'])# строим диаграмму размаха\n",
    "print([item.get_ydata() for item in box_area['whiskers']]) # определяем концы усов в диаграмме размаха"
   ]
  },
  {
   "cell_type": "code",
   "execution_count": 74,
   "metadata": {
    "scrolled": false
   },
   "outputs": [
    {
     "data": {
      "image/png": "[encoded data removed]",
      "text/plain": [
       "<Figure size 936x432 with 1 Axes>"
      ]
     },
     "metadata": {
      "needs_background": "light"
     },
     "output_type": "display_data"
    }
   ],
   "source": [
    "chain_obj_2 = chain_obj[chain_obj['number']<= 157]# отбрасываем выбросы\n",
    "chain_obj_2['number'].plot.hist(bins=10, figsize = (13, 6), title = 'Распределение сетевых заведений по количеству посадочных мест');\n",
    "plt.xlabel(\"количество посадочных мест\")\n",
    "plt.ylabel(\"количество сессий, шт.\");"
   ]
  },
  {
   "cell_type": "markdown",
   "metadata": {},
   "source": [
    "Построим диаграмму размаха распределения сетевых заведений по количеству посадочных мест. Свыше 157 мест начинаются выбросы. Исключаем их.\n",
    "Строим гистограмму распределения сетевых заведений по количеству посадочных мест. Из получившегося графика видно, что большинство сетевых предприятий общепита имеют небольшое количество посадочных мест (до 70). Большое количество мест имеют очень мало сетевых заведений. \n",
    "Такое распределение, скорее всего, обусловлено ограниченными возможностями владельцев при открытии новых точек общепита. Возможно, часть сетевых заведений являются франшизами, когда материнская компания предоставляет только марку сети, а все расходы несет предприниматель, открывающий заведение."
   ]
  },
  {
   "cell_type": "markdown",
   "metadata": {},
   "source": [
    "#### Расчет медианного количества посадочных мест по видам заведений "
   ]
  },
  {
   "cell_type": "code",
   "execution_count": 75,
   "metadata": {},
   "outputs": [
    {
     "name": "stdout",
     "output_type": "stream",
     "text": [
      "  object_type  number\n",
      "8    столовая     103\n",
      "7    ресторан      80\n",
      "1         бар      35\n",
      "2       буфет      32\n",
      "4        кафе      30\n",
      "5   кафетерий       6\n",
      "0   fast food       5\n",
      "3  закусочная       0\n",
      "6     магазин       0\n"
     ]
    },
    {
     "data": {
      "image/png": "[encoded data removed]",
      "text/plain": [
       "<Figure size 1152x432 with 1 Axes>"
      ]
     },
     "metadata": {
      "needs_background": "light"
     },
     "output_type": "display_data"
    }
   ],
   "source": [
    "median_seats_obj = rest_data.groupby('object_type')['number'].median().reset_index().sort_values(by='number', ascending = False)\n",
    "print(median_seats_obj)\n",
    "median_seats_obj.plot.bar(figsize = (16, 6), title = 'Медианное количество посадочных мест по видам объектов общественного питания', x = 'object_type')\n",
    "plt.xticks(rotation=0)\n",
    "plt.xlabel(\"виды объектов\")\n",
    "plt.ylabel(\"количество посадочных мест\");"
   ]
  },
  {
   "cell_type": "markdown",
   "metadata": {},
   "source": [
    "Рассчитаем медианное количество посадочных мест по видам объектов общепита. Построим график.\n",
    "Исходя из графика, в среднем самое большое количество мест предоставляют столовые (103), на втором месте рестораны (80), на третьем - бары (35), на четвертом - буфеты (32), на пятом - кафе (30). Минимальное количество мест у кафетериев (6) и фаст-фудов (5). У кулинарий магазинов и закусочных посадочных мест нет."
   ]
  },
  {
   "cell_type": "markdown",
   "metadata": {},
   "source": [
    "#### Выделение столбца \"Улица\" из адреса"
   ]
  },
  {
   "cell_type": "code",
   "execution_count": 76,
   "metadata": {},
   "outputs": [
    {
     "data": {
      "text/html": [
       "<div>\n",
       "<style scoped>\n",
       "    .dataframe tbody tr th:only-of-type {\n",
       "        vertical-align: middle;\n",
       "    }\n",
       "\n",
       "    .dataframe tbody tr th {\n",
       "        vertical-align: top;\n",
       "    }\n",
       "\n",
       "    .dataframe thead th {\n",
       "        text-align: right;\n",
       "    }\n",
       "</style>\n",
       "<table border=\"1\" class=\"dataframe\">\n",
       "  <thead>\n",
       "    <tr style=\"text-align: right;\">\n",
       "      <th></th>\n",
       "      <th>id</th>\n",
       "      <th>object_name</th>\n",
       "      <th>chain</th>\n",
       "      <th>object_type</th>\n",
       "      <th>address</th>\n",
       "      <th>number</th>\n",
       "      <th>streets</th>\n",
       "    </tr>\n",
       "  </thead>\n",
       "  <tbody>\n",
       "    <tr>\n",
       "      <td>9478</td>\n",
       "      <td>163951</td>\n",
       "      <td>Лобби- бар</td>\n",
       "      <td>нет</td>\n",
       "      <td>бар</td>\n",
       "      <td>город Москва, Ленинский проспект, дом 158</td>\n",
       "      <td>60</td>\n",
       "      <td>Ленинский проспект</td>\n",
       "    </tr>\n",
       "    <tr>\n",
       "      <td>12839</td>\n",
       "      <td>204001</td>\n",
       "      <td>Кафе</td>\n",
       "      <td>нет</td>\n",
       "      <td>кафе</td>\n",
       "      <td>город Москва, Тихорецкий бульвар, владение 1, ...</td>\n",
       "      <td>25</td>\n",
       "      <td>Тихорецкий бульвар</td>\n",
       "    </tr>\n",
       "    <tr>\n",
       "      <td>6137</td>\n",
       "      <td>28523</td>\n",
       "      <td>СТОЛОВАЯ</td>\n",
       "      <td>нет</td>\n",
       "      <td>столовая</td>\n",
       "      <td>город Москва, улица Вавилова, дом 47А</td>\n",
       "      <td>40</td>\n",
       "      <td>улица Вавилова</td>\n",
       "    </tr>\n",
       "    <tr>\n",
       "      <td>8222</td>\n",
       "      <td>144241</td>\n",
       "      <td>Калина бар</td>\n",
       "      <td>нет</td>\n",
       "      <td>бар</td>\n",
       "      <td>город Москва, Новинский бульвар, дом 8</td>\n",
       "      <td>150</td>\n",
       "      <td>Новинский бульвар</td>\n",
       "    </tr>\n",
       "    <tr>\n",
       "      <td>7495</td>\n",
       "      <td>136964</td>\n",
       "      <td>Кафе «Кофе Хаус»</td>\n",
       "      <td>да</td>\n",
       "      <td>кафе</td>\n",
       "      <td>город Москва, Каширское шоссе, дом 61, корпус 3А</td>\n",
       "      <td>75</td>\n",
       "      <td>Каширское шоссе</td>\n",
       "    </tr>\n",
       "    <tr>\n",
       "      <td>3127</td>\n",
       "      <td>90766</td>\n",
       "      <td>Кафе</td>\n",
       "      <td>нет</td>\n",
       "      <td>кафе</td>\n",
       "      <td>город Москва, проезд Досфлота, дом 2, строение 1</td>\n",
       "      <td>24</td>\n",
       "      <td>проезд Досфлота</td>\n",
       "    </tr>\n",
       "    <tr>\n",
       "      <td>3961</td>\n",
       "      <td>27508</td>\n",
       "      <td>ДОГОТОВОЧНАЯ СТОЛОВАЯ - ШКОЛА 1024</td>\n",
       "      <td>нет</td>\n",
       "      <td>столовая</td>\n",
       "      <td>город Москва, Новокосинская улица, дом 41</td>\n",
       "      <td>240</td>\n",
       "      <td>Новокосинская улица</td>\n",
       "    </tr>\n",
       "    <tr>\n",
       "      <td>1757</td>\n",
       "      <td>20058</td>\n",
       "      <td>Мериталь</td>\n",
       "      <td>нет</td>\n",
       "      <td>кафе</td>\n",
       "      <td>город Москва, улица Соловьиная Роща, дом 11</td>\n",
       "      <td>40</td>\n",
       "      <td>улица Соловьиная Роща</td>\n",
       "    </tr>\n",
       "    <tr>\n",
       "      <td>10609</td>\n",
       "      <td>175938</td>\n",
       "      <td>Гастробар</td>\n",
       "      <td>нет</td>\n",
       "      <td>ресторан</td>\n",
       "      <td>город Москва, улица Столетова, дом 19</td>\n",
       "      <td>30</td>\n",
       "      <td>улица Столетова</td>\n",
       "    </tr>\n",
       "    <tr>\n",
       "      <td>7173</td>\n",
       "      <td>127279</td>\n",
       "      <td>Сытая Утка</td>\n",
       "      <td>да</td>\n",
       "      <td>ресторан</td>\n",
       "      <td>город Москва, Дмитровское шоссе, дом 89</td>\n",
       "      <td>55</td>\n",
       "      <td>Дмитровское шоссе</td>\n",
       "    </tr>\n",
       "  </tbody>\n",
       "</table>\n",
       "</div>"
      ],
      "text/plain": [
       "           id                         object_name chain object_type  \\\n",
       "9478   163951                          Лобби- бар   нет         бар   \n",
       "12839  204001                                Кафе   нет        кафе   \n",
       "6137    28523                            СТОЛОВАЯ   нет    столовая   \n",
       "8222   144241                          Калина бар   нет         бар   \n",
       "7495   136964                    Кафе «Кофе Хаус»    да        кафе   \n",
       "3127    90766                                Кафе   нет        кафе   \n",
       "3961    27508  ДОГОТОВОЧНАЯ СТОЛОВАЯ - ШКОЛА 1024   нет    столовая   \n",
       "1757    20058                            Мериталь   нет        кафе   \n",
       "10609  175938                           Гастробар   нет    ресторан   \n",
       "7173   127279                          Сытая Утка    да    ресторан   \n",
       "\n",
       "                                                 address  number  \\\n",
       "9478           город Москва, Ленинский проспект, дом 158      60   \n",
       "12839  город Москва, Тихорецкий бульвар, владение 1, ...      25   \n",
       "6137               город Москва, улица Вавилова, дом 47А      40   \n",
       "8222              город Москва, Новинский бульвар, дом 8     150   \n",
       "7495    город Москва, Каширское шоссе, дом 61, корпус 3А      75   \n",
       "3127    город Москва, проезд Досфлота, дом 2, строение 1      24   \n",
       "3961           город Москва, Новокосинская улица, дом 41     240   \n",
       "1757         город Москва, улица Соловьиная Роща, дом 11      40   \n",
       "10609              город Москва, улица Столетова, дом 19      30   \n",
       "7173             город Москва, Дмитровское шоссе, дом 89      55   \n",
       "\n",
       "                     streets  \n",
       "9478      Ленинский проспект  \n",
       "12839     Тихорецкий бульвар  \n",
       "6137          улица Вавилова  \n",
       "8222       Новинский бульвар  \n",
       "7495         Каширское шоссе  \n",
       "3127         проезд Досфлота  \n",
       "3961     Новокосинская улица  \n",
       "1757   улица Соловьиная Роща  \n",
       "10609        улица Столетова  \n",
       "7173       Дмитровское шоссе  "
      ]
     },
     "execution_count": 76,
     "metadata": {},
     "output_type": "execute_result"
    }
   ],
   "source": [
    "words = ['улица','ул','переулок','шоссе','проспект','площадь','проезд',\n",
    "         'аллея','бульвар','набережная','тупик','линия','город Зеленоград',\n",
    "         'квартал','село','деревня','микрорайон','посёлок','километр', 'территория','поселение','просек']\n",
    "str_pat = r'.*,\\s*\\b([^,]*?(?:{})\\b[^,]*)[,$]+'.format('|'.join(words))\n",
    "str_pat_2 = r'\\s*\\b([^,]*?(?:{})\\b[^,]*)[,$]+'.format('|'.join(words))\n",
    "rest_data['streets'] = rest_data['address'].str.extract(str_pat).fillna(rest_data['address'].str.extract(str_pat_2)) \n",
    "rest_data.sample(10)                                                       "
   ]
  },
  {
   "cell_type": "code",
   "execution_count": 77,
   "metadata": {},
   "outputs": [
    {
     "data": {
      "text/html": [
       "<div>\n",
       "<style scoped>\n",
       "    .dataframe tbody tr th:only-of-type {\n",
       "        vertical-align: middle;\n",
       "    }\n",
       "\n",
       "    .dataframe tbody tr th {\n",
       "        vertical-align: top;\n",
       "    }\n",
       "\n",
       "    .dataframe thead th {\n",
       "        text-align: right;\n",
       "    }\n",
       "</style>\n",
       "<table border=\"1\" class=\"dataframe\">\n",
       "  <thead>\n",
       "    <tr style=\"text-align: right;\">\n",
       "      <th></th>\n",
       "      <th>id</th>\n",
       "      <th>object_name</th>\n",
       "      <th>chain</th>\n",
       "      <th>object_type</th>\n",
       "      <th>address</th>\n",
       "      <th>number</th>\n",
       "      <th>streets</th>\n",
       "    </tr>\n",
       "  </thead>\n",
       "  <tbody>\n",
       "  </tbody>\n",
       "</table>\n",
       "</div>"
      ],
      "text/plain": [
       "Empty DataFrame\n",
       "Columns: [id, object_name, chain, object_type, address, number, streets]\n",
       "Index: []"
      ]
     },
     "execution_count": 77,
     "metadata": {},
     "output_type": "execute_result"
    }
   ],
   "source": [
    "rest_data.loc[rest_data.loc[:,'streets'].isna()]"
   ]
  },
  {
   "cell_type": "markdown",
   "metadata": {},
   "source": [
    "Выделим улицы (и прочие топонимы) в отдельный столбец. Проверяем на незаполненные значения."
   ]
  },
  {
   "cell_type": "markdown",
   "metadata": {},
   "source": [
    "#### График топ-10 улиц по количеству объектов общественного питания. Определение районов Москвы, где находятся эти улицы"
   ]
  },
  {
   "cell_type": "code",
   "execution_count": 78,
   "metadata": {
    "scrolled": false
   },
   "outputs": [
    {
     "data": {
      "image/png": "[encoded data removed]",
      "text/plain": [
       "<Figure size 1800x720 with 1 Axes>"
      ]
     },
     "metadata": {
      "needs_background": "light"
     },
     "output_type": "display_data"
    }
   ],
   "source": [
    "streets_quant = rest_data['streets'].value_counts().reset_index()\n",
    "streets_quant.columns = ['streets', 'quant']\n",
    "top_streets = streets_quant.head(10)\n",
    "plt.figure(figsize=(25, 10))\n",
    "sns.barplot(x=\"streets\", y=\"quant\", data=top_streets, color='#006400');\n",
    "plt.title('Улицы (проспекты и т.п.) с наибольшим количеством предприятий общепита', fontsize = 20)\n",
    "plt.xlabel('Названия улиц', fontsize = 14)\n",
    "plt.ylabel('Количество предприятий общепита', fontsize = 14);"
   ]
  },
  {
   "cell_type": "code",
   "execution_count": 79,
   "metadata": {},
   "outputs": [
    {
     "data": {
      "text/html": [
       "<div>\n",
       "<style scoped>\n",
       "    .dataframe tbody tr th:only-of-type {\n",
       "        vertical-align: middle;\n",
       "    }\n",
       "\n",
       "    .dataframe tbody tr th {\n",
       "        vertical-align: top;\n",
       "    }\n",
       "\n",
       "    .dataframe thead th {\n",
       "        text-align: right;\n",
       "    }\n",
       "</style>\n",
       "<table border=\"1\" class=\"dataframe\">\n",
       "  <thead>\n",
       "    <tr style=\"text-align: right;\">\n",
       "      <th></th>\n",
       "      <th>streets</th>\n",
       "      <th>district</th>\n",
       "    </tr>\n",
       "  </thead>\n",
       "  <tbody>\n",
       "    <tr>\n",
       "      <td>0</td>\n",
       "      <td>1-й Ирининский переулок</td>\n",
       "      <td>Басманный район</td>\n",
       "    </tr>\n",
       "    <tr>\n",
       "      <td>1</td>\n",
       "      <td>2-й Ирининский переулок</td>\n",
       "      <td>Басманный район</td>\n",
       "    </tr>\n",
       "    <tr>\n",
       "      <td>2</td>\n",
       "      <td>3-й Ирининский переулок</td>\n",
       "      <td>Басманный район</td>\n",
       "    </tr>\n",
       "    <tr>\n",
       "      <td>3</td>\n",
       "      <td>Иркутская улица</td>\n",
       "      <td>район Гольяново</td>\n",
       "    </tr>\n",
       "    <tr>\n",
       "      <td>4</td>\n",
       "      <td>1-й Иртышский проезд</td>\n",
       "      <td>район Гольяново</td>\n",
       "    </tr>\n",
       "  </tbody>\n",
       "</table>\n",
       "</div>"
      ],
      "text/plain": [
       "                   streets         district\n",
       "0  1-й Ирининский переулок  Басманный район\n",
       "1  2-й Ирининский переулок  Басманный район\n",
       "2  3-й Ирининский переулок  Басманный район\n",
       "3          Иркутская улица  район Гольяново\n",
       "4     1-й Иртышский проезд  район Гольяново"
      ]
     },
     "execution_count": 79,
     "metadata": {},
     "output_type": "execute_result"
    }
   ],
   "source": [
    "from io import BytesIO\n",
    "import requests\n",
    "spreadsheet_id = '1KVAEnLPqrMg0Ibm7SvsaObIiK7dKFT1qb8NlVYdknG0'\n",
    "file_name = 'https://docs.google.com/spreadsheets/d/{}/export?format=xlsx'.format(spreadsheet_id)\n",
    "r = requests.get(file_name)\n",
    "reg_street = pd.read_excel(BytesIO(r.content),sheet_name='sheet1')\n",
    "reg_street.head()"
   ]
  },
  {
   "cell_type": "code",
   "execution_count": 80,
   "metadata": {},
   "outputs": [
    {
     "data": {
      "text/html": [
       "<div>\n",
       "<style scoped>\n",
       "    .dataframe tbody tr th:only-of-type {\n",
       "        vertical-align: middle;\n",
       "    }\n",
       "\n",
       "    .dataframe tbody tr th {\n",
       "        vertical-align: top;\n",
       "    }\n",
       "\n",
       "    .dataframe thead th {\n",
       "        text-align: right;\n",
       "    }\n",
       "</style>\n",
       "<table border=\"1\" class=\"dataframe\">\n",
       "  <thead>\n",
       "    <tr style=\"text-align: right;\">\n",
       "      <th></th>\n",
       "      <th>streets</th>\n",
       "      <th>quant</th>\n",
       "      <th>district</th>\n",
       "    </tr>\n",
       "  </thead>\n",
       "  <tbody>\n",
       "    <tr>\n",
       "      <td>0</td>\n",
       "      <td>проспект Мира</td>\n",
       "      <td>204</td>\n",
       "      <td>Мещанский район</td>\n",
       "    </tr>\n",
       "    <tr>\n",
       "      <td>1</td>\n",
       "      <td>проспект Мира</td>\n",
       "      <td>204</td>\n",
       "      <td>Алексеевский район</td>\n",
       "    </tr>\n",
       "    <tr>\n",
       "      <td>2</td>\n",
       "      <td>проспект Мира</td>\n",
       "      <td>204</td>\n",
       "      <td>район Марьина Роща</td>\n",
       "    </tr>\n",
       "    <tr>\n",
       "      <td>3</td>\n",
       "      <td>проспект Мира</td>\n",
       "      <td>204</td>\n",
       "      <td>Останкинский район</td>\n",
       "    </tr>\n",
       "    <tr>\n",
       "      <td>4</td>\n",
       "      <td>проспект Мира</td>\n",
       "      <td>204</td>\n",
       "      <td>район Ростокино</td>\n",
       "    </tr>\n",
       "    <tr>\n",
       "      <td>5</td>\n",
       "      <td>проспект Мира</td>\n",
       "      <td>204</td>\n",
       "      <td>район Свиблово</td>\n",
       "    </tr>\n",
       "    <tr>\n",
       "      <td>6</td>\n",
       "      <td>проспект Мира</td>\n",
       "      <td>204</td>\n",
       "      <td>Ярославский район</td>\n",
       "    </tr>\n",
       "    <tr>\n",
       "      <td>7</td>\n",
       "      <td>Профсоюзная улица</td>\n",
       "      <td>183</td>\n",
       "      <td>Академический район</td>\n",
       "    </tr>\n",
       "    <tr>\n",
       "      <td>8</td>\n",
       "      <td>Профсоюзная улица</td>\n",
       "      <td>183</td>\n",
       "      <td>район Коньково</td>\n",
       "    </tr>\n",
       "    <tr>\n",
       "      <td>9</td>\n",
       "      <td>Профсоюзная улица</td>\n",
       "      <td>183</td>\n",
       "      <td>Обручевский район</td>\n",
       "    </tr>\n",
       "    <tr>\n",
       "      <td>10</td>\n",
       "      <td>Профсоюзная улица</td>\n",
       "      <td>183</td>\n",
       "      <td>район Тёплый Стан</td>\n",
       "    </tr>\n",
       "    <tr>\n",
       "      <td>11</td>\n",
       "      <td>Профсоюзная улица</td>\n",
       "      <td>183</td>\n",
       "      <td>район Черёмушки</td>\n",
       "    </tr>\n",
       "    <tr>\n",
       "      <td>12</td>\n",
       "      <td>Профсоюзная улица</td>\n",
       "      <td>183</td>\n",
       "      <td>район Ясенево</td>\n",
       "    </tr>\n",
       "    <tr>\n",
       "      <td>13</td>\n",
       "      <td>Ленинградский проспект</td>\n",
       "      <td>173</td>\n",
       "      <td>район Аэропорт</td>\n",
       "    </tr>\n",
       "    <tr>\n",
       "      <td>14</td>\n",
       "      <td>Ленинградский проспект</td>\n",
       "      <td>173</td>\n",
       "      <td>район Беговой</td>\n",
       "    </tr>\n",
       "    <tr>\n",
       "      <td>15</td>\n",
       "      <td>Ленинградский проспект</td>\n",
       "      <td>173</td>\n",
       "      <td>район Сокол</td>\n",
       "    </tr>\n",
       "    <tr>\n",
       "      <td>16</td>\n",
       "      <td>Ленинградский проспект</td>\n",
       "      <td>173</td>\n",
       "      <td>Хорошёвский район</td>\n",
       "    </tr>\n",
       "    <tr>\n",
       "      <td>17</td>\n",
       "      <td>Пресненская набережная</td>\n",
       "      <td>167</td>\n",
       "      <td>Пресненский район</td>\n",
       "    </tr>\n",
       "    <tr>\n",
       "      <td>18</td>\n",
       "      <td>Варшавское шоссе</td>\n",
       "      <td>162</td>\n",
       "      <td>Донской район</td>\n",
       "    </tr>\n",
       "    <tr>\n",
       "      <td>19</td>\n",
       "      <td>Варшавское шоссе</td>\n",
       "      <td>162</td>\n",
       "      <td>район Нагатино-Садовники</td>\n",
       "    </tr>\n",
       "    <tr>\n",
       "      <td>20</td>\n",
       "      <td>Варшавское шоссе</td>\n",
       "      <td>162</td>\n",
       "      <td>Нагорный район</td>\n",
       "    </tr>\n",
       "    <tr>\n",
       "      <td>21</td>\n",
       "      <td>Варшавское шоссе</td>\n",
       "      <td>162</td>\n",
       "      <td>район Чертаново Северное</td>\n",
       "    </tr>\n",
       "    <tr>\n",
       "      <td>22</td>\n",
       "      <td>Варшавское шоссе</td>\n",
       "      <td>162</td>\n",
       "      <td>район Чертаново Центральное</td>\n",
       "    </tr>\n",
       "    <tr>\n",
       "      <td>23</td>\n",
       "      <td>Варшавское шоссе</td>\n",
       "      <td>162</td>\n",
       "      <td>район Чертаново Южное</td>\n",
       "    </tr>\n",
       "    <tr>\n",
       "      <td>24</td>\n",
       "      <td>Варшавское шоссе</td>\n",
       "      <td>162</td>\n",
       "      <td>район Северное Бутово</td>\n",
       "    </tr>\n",
       "    <tr>\n",
       "      <td>25</td>\n",
       "      <td>Варшавское шоссе</td>\n",
       "      <td>162</td>\n",
       "      <td>район Южное Бутово</td>\n",
       "    </tr>\n",
       "    <tr>\n",
       "      <td>26</td>\n",
       "      <td>Варшавское шоссе</td>\n",
       "      <td>162</td>\n",
       "      <td>поселение Щербинка</td>\n",
       "    </tr>\n",
       "    <tr>\n",
       "      <td>27</td>\n",
       "      <td>Ленинский проспект</td>\n",
       "      <td>148</td>\n",
       "      <td>район Якиманка</td>\n",
       "    </tr>\n",
       "    <tr>\n",
       "      <td>28</td>\n",
       "      <td>Ленинский проспект</td>\n",
       "      <td>148</td>\n",
       "      <td>Донской район</td>\n",
       "    </tr>\n",
       "    <tr>\n",
       "      <td>29</td>\n",
       "      <td>Ленинский проспект</td>\n",
       "      <td>148</td>\n",
       "      <td>Гагаринский район</td>\n",
       "    </tr>\n",
       "    <tr>\n",
       "      <td>30</td>\n",
       "      <td>Ленинский проспект</td>\n",
       "      <td>148</td>\n",
       "      <td>Ломоносовский район</td>\n",
       "    </tr>\n",
       "    <tr>\n",
       "      <td>31</td>\n",
       "      <td>Ленинский проспект</td>\n",
       "      <td>148</td>\n",
       "      <td>Обручевский район</td>\n",
       "    </tr>\n",
       "    <tr>\n",
       "      <td>32</td>\n",
       "      <td>Ленинский проспект</td>\n",
       "      <td>148</td>\n",
       "      <td>район Тёплый Стан</td>\n",
       "    </tr>\n",
       "    <tr>\n",
       "      <td>33</td>\n",
       "      <td>Ленинский проспект</td>\n",
       "      <td>148</td>\n",
       "      <td>район Проспект Вернадского</td>\n",
       "    </tr>\n",
       "    <tr>\n",
       "      <td>34</td>\n",
       "      <td>Ленинский проспект</td>\n",
       "      <td>148</td>\n",
       "      <td>район Тропарёво-Никулино</td>\n",
       "    </tr>\n",
       "    <tr>\n",
       "      <td>35</td>\n",
       "      <td>город Зеленоград</td>\n",
       "      <td>131</td>\n",
       "      <td>город Зеленоград</td>\n",
       "    </tr>\n",
       "    <tr>\n",
       "      <td>36</td>\n",
       "      <td>проспект Вернадского</td>\n",
       "      <td>131</td>\n",
       "      <td>Гагаринский район</td>\n",
       "    </tr>\n",
       "    <tr>\n",
       "      <td>37</td>\n",
       "      <td>проспект Вернадского</td>\n",
       "      <td>131</td>\n",
       "      <td>Ломоносовский район</td>\n",
       "    </tr>\n",
       "    <tr>\n",
       "      <td>38</td>\n",
       "      <td>проспект Вернадского</td>\n",
       "      <td>131</td>\n",
       "      <td>район Проспект Вернадского</td>\n",
       "    </tr>\n",
       "    <tr>\n",
       "      <td>39</td>\n",
       "      <td>проспект Вернадского</td>\n",
       "      <td>131</td>\n",
       "      <td>район Раменки</td>\n",
       "    </tr>\n",
       "    <tr>\n",
       "      <td>40</td>\n",
       "      <td>проспект Вернадского</td>\n",
       "      <td>131</td>\n",
       "      <td>район Тропарёво-Никулино</td>\n",
       "    </tr>\n",
       "    <tr>\n",
       "      <td>41</td>\n",
       "      <td>Кутузовский проспект</td>\n",
       "      <td>112</td>\n",
       "      <td>район Дорогомилово</td>\n",
       "    </tr>\n",
       "    <tr>\n",
       "      <td>42</td>\n",
       "      <td>Кутузовский проспект</td>\n",
       "      <td>112</td>\n",
       "      <td>район Фили-Давыдково</td>\n",
       "    </tr>\n",
       "    <tr>\n",
       "      <td>43</td>\n",
       "      <td>Каширское шоссе</td>\n",
       "      <td>112</td>\n",
       "      <td>район Москворечье-Сабурово</td>\n",
       "    </tr>\n",
       "    <tr>\n",
       "      <td>44</td>\n",
       "      <td>Каширское шоссе</td>\n",
       "      <td>112</td>\n",
       "      <td>район Нагатино-Садовники</td>\n",
       "    </tr>\n",
       "    <tr>\n",
       "      <td>45</td>\n",
       "      <td>Каширское шоссе</td>\n",
       "      <td>112</td>\n",
       "      <td>район Орехово-Борисово Северное</td>\n",
       "    </tr>\n",
       "    <tr>\n",
       "      <td>46</td>\n",
       "      <td>Каширское шоссе</td>\n",
       "      <td>112</td>\n",
       "      <td>район Орехово-Борисово Южное</td>\n",
       "    </tr>\n",
       "  </tbody>\n",
       "</table>\n",
       "</div>"
      ],
      "text/plain": [
       "                   streets  quant                         district\n",
       "0            проспект Мира    204                  Мещанский район\n",
       "1            проспект Мира    204               Алексеевский район\n",
       "2            проспект Мира    204               район Марьина Роща\n",
       "3            проспект Мира    204               Останкинский район\n",
       "4            проспект Мира    204                  район Ростокино\n",
       "5            проспект Мира    204                   район Свиблово\n",
       "6            проспект Мира    204                Ярославский район\n",
       "7        Профсоюзная улица    183              Академический район\n",
       "8        Профсоюзная улица    183                   район Коньково\n",
       "9        Профсоюзная улица    183                Обручевский район\n",
       "10       Профсоюзная улица    183                район Тёплый Стан\n",
       "11       Профсоюзная улица    183                  район Черёмушки\n",
       "12       Профсоюзная улица    183                    район Ясенево\n",
       "13  Ленинградский проспект    173                   район Аэропорт\n",
       "14  Ленинградский проспект    173                    район Беговой\n",
       "15  Ленинградский проспект    173                      район Сокол\n",
       "16  Ленинградский проспект    173                Хорошёвский район\n",
       "17  Пресненская набережная    167                Пресненский район\n",
       "18        Варшавское шоссе    162                    Донской район\n",
       "19        Варшавское шоссе    162         район Нагатино-Садовники\n",
       "20        Варшавское шоссе    162                   Нагорный район\n",
       "21        Варшавское шоссе    162         район Чертаново Северное\n",
       "22        Варшавское шоссе    162      район Чертаново Центральное\n",
       "23        Варшавское шоссе    162            район Чертаново Южное\n",
       "24        Варшавское шоссе    162            район Северное Бутово\n",
       "25        Варшавское шоссе    162               район Южное Бутово\n",
       "26        Варшавское шоссе    162               поселение Щербинка\n",
       "27      Ленинский проспект    148                   район Якиманка\n",
       "28      Ленинский проспект    148                    Донской район\n",
       "29      Ленинский проспект    148                Гагаринский район\n",
       "30      Ленинский проспект    148              Ломоносовский район\n",
       "31      Ленинский проспект    148                Обручевский район\n",
       "32      Ленинский проспект    148                район Тёплый Стан\n",
       "33      Ленинский проспект    148       район Проспект Вернадского\n",
       "34      Ленинский проспект    148         район Тропарёво-Никулино\n",
       "35        город Зеленоград    131                 город Зеленоград\n",
       "36    проспект Вернадского    131                Гагаринский район\n",
       "37    проспект Вернадского    131              Ломоносовский район\n",
       "38    проспект Вернадского    131       район Проспект Вернадского\n",
       "39    проспект Вернадского    131                    район Раменки\n",
       "40    проспект Вернадского    131         район Тропарёво-Никулино\n",
       "41    Кутузовский проспект    112               район Дорогомилово\n",
       "42    Кутузовский проспект    112             район Фили-Давыдково\n",
       "43         Каширское шоссе    112       район Москворечье-Сабурово\n",
       "44         Каширское шоссе    112         район Нагатино-Садовники\n",
       "45         Каширское шоссе    112  район Орехово-Борисово Северное\n",
       "46         Каширское шоссе    112     район Орехово-Борисово Южное"
      ]
     },
     "execution_count": 80,
     "metadata": {},
     "output_type": "execute_result"
    }
   ],
   "source": [
    "top_streets = top_streets.merge(reg_street, on =['streets'], how='left')\n",
    "top_streets"
   ]
  },
  {
   "cell_type": "markdown",
   "metadata": {},
   "source": [
    "Рассчитаем данные по 10 улицам (проспектам, шоссе и т.д.) с наибольшим количеством заведений общепита. \n",
    "Для определения принадлежности улицы к району загрузим базу улиц и районов Москвы. Объединим таблицы.\n",
    "Как видно, из получившейся таблицы большинство улиц с наибольшим количеством предприятий общепита проходят через несколько районов, т.к., как правило, это основные магистрали города, соединяющие центр со спальными районами, и расположение на них кафе, ресторанов и пр. обусловлено высокой проходимостью и густонаселенностью указанных улиц.\n",
    "Отдельно следует отметить г. Зеленоград, где улиц нет."
   ]
  },
  {
   "cell_type": "markdown",
   "metadata": {},
   "source": [
    "#### Определение количества улиц с одним объектом общественного питания. Определение районов Москвы, где находятся эти улицы"
   ]
  },
  {
   "cell_type": "code",
   "execution_count": 81,
   "metadata": {},
   "outputs": [
    {
     "data": {
      "text/html": [
       "<div>\n",
       "<style scoped>\n",
       "    .dataframe tbody tr th:only-of-type {\n",
       "        vertical-align: middle;\n",
       "    }\n",
       "\n",
       "    .dataframe tbody tr th {\n",
       "        vertical-align: top;\n",
       "    }\n",
       "\n",
       "    .dataframe thead th {\n",
       "        text-align: right;\n",
       "    }\n",
       "</style>\n",
       "<table border=\"1\" class=\"dataframe\">\n",
       "  <thead>\n",
       "    <tr style=\"text-align: right;\">\n",
       "      <th></th>\n",
       "      <th>streets</th>\n",
       "      <th>quant</th>\n",
       "    </tr>\n",
       "  </thead>\n",
       "  <tbody>\n",
       "    <tr>\n",
       "      <td>1399</td>\n",
       "      <td>Балтийская улица</td>\n",
       "      <td>1</td>\n",
       "    </tr>\n",
       "    <tr>\n",
       "      <td>1400</td>\n",
       "      <td>улица Генерала Ермолова</td>\n",
       "      <td>1</td>\n",
       "    </tr>\n",
       "    <tr>\n",
       "      <td>1401</td>\n",
       "      <td>3-й Кадашёвский переулок</td>\n",
       "      <td>1</td>\n",
       "    </tr>\n",
       "    <tr>\n",
       "      <td>1402</td>\n",
       "      <td>Пулковская улица</td>\n",
       "      <td>1</td>\n",
       "    </tr>\n",
       "    <tr>\n",
       "      <td>1403</td>\n",
       "      <td>Научный проезд</td>\n",
       "      <td>1</td>\n",
       "    </tr>\n",
       "    <tr>\n",
       "      <td>...</td>\n",
       "      <td>...</td>\n",
       "      <td>...</td>\n",
       "    </tr>\n",
       "    <tr>\n",
       "      <td>1990</td>\n",
       "      <td>1-й Сетуньский проезд</td>\n",
       "      <td>1</td>\n",
       "    </tr>\n",
       "    <tr>\n",
       "      <td>1991</td>\n",
       "      <td>Банный проезд</td>\n",
       "      <td>1</td>\n",
       "    </tr>\n",
       "    <tr>\n",
       "      <td>1992</td>\n",
       "      <td>Малый Коптевский проезд</td>\n",
       "      <td>1</td>\n",
       "    </tr>\n",
       "    <tr>\n",
       "      <td>1993</td>\n",
       "      <td>Гранатный переулок</td>\n",
       "      <td>1</td>\n",
       "    </tr>\n",
       "    <tr>\n",
       "      <td>1994</td>\n",
       "      <td>Глебовская улица</td>\n",
       "      <td>1</td>\n",
       "    </tr>\n",
       "  </tbody>\n",
       "</table>\n",
       "<p>596 rows × 2 columns</p>\n",
       "</div>"
      ],
      "text/plain": [
       "                       streets  quant\n",
       "1399          Балтийская улица      1\n",
       "1400   улица Генерала Ермолова      1\n",
       "1401  3-й Кадашёвский переулок      1\n",
       "1402          Пулковская улица      1\n",
       "1403            Научный проезд      1\n",
       "...                        ...    ...\n",
       "1990     1-й Сетуньский проезд      1\n",
       "1991             Банный проезд      1\n",
       "1992   Малый Коптевский проезд      1\n",
       "1993        Гранатный переулок      1\n",
       "1994          Глебовская улица      1\n",
       "\n",
       "[596 rows x 2 columns]"
      ]
     },
     "execution_count": 81,
     "metadata": {},
     "output_type": "execute_result"
    }
   ],
   "source": [
    "streets_one = streets_quant.query('quant == 1')# определяем улицы с 1 объектом общепита\n",
    "streets_one"
   ]
  },
  {
   "cell_type": "code",
   "execution_count": 82,
   "metadata": {},
   "outputs": [
    {
     "data": {
      "text/plain": [
       "streets     713\n",
       "quant       713\n",
       "district    674\n",
       "dtype: int64"
      ]
     },
     "execution_count": 82,
     "metadata": {},
     "output_type": "execute_result"
    }
   ],
   "source": [
    "streets_one_distr1 = streets_one.merge(reg_street, on =['streets'], how='left')# присоединяем к таблице улиц данные по районам\n",
    "streets_one_distr1.count()"
   ]
  },
  {
   "cell_type": "code",
   "execution_count": 83,
   "metadata": {},
   "outputs": [
    {
     "data": {
      "text/html": [
       "<div>\n",
       "<style scoped>\n",
       "    .dataframe tbody tr th:only-of-type {\n",
       "        vertical-align: middle;\n",
       "    }\n",
       "\n",
       "    .dataframe tbody tr th {\n",
       "        vertical-align: top;\n",
       "    }\n",
       "\n",
       "    .dataframe thead th {\n",
       "        text-align: right;\n",
       "    }\n",
       "</style>\n",
       "<table border=\"1\" class=\"dataframe\">\n",
       "  <thead>\n",
       "    <tr style=\"text-align: right;\">\n",
       "      <th></th>\n",
       "      <th>streets</th>\n",
       "      <th>quant</th>\n",
       "      <th>id</th>\n",
       "      <th>object_name</th>\n",
       "      <th>chain</th>\n",
       "      <th>object_type</th>\n",
       "      <th>address</th>\n",
       "      <th>number</th>\n",
       "    </tr>\n",
       "  </thead>\n",
       "  <tbody>\n",
       "    <tr>\n",
       "      <td>0</td>\n",
       "      <td>Балтийская улица</td>\n",
       "      <td>1</td>\n",
       "      <td>146421</td>\n",
       "      <td>Рамн</td>\n",
       "      <td>нет</td>\n",
       "      <td>кафе</td>\n",
       "      <td>город Москва, Балтийская улица, дом 10, корпус 2</td>\n",
       "      <td>26</td>\n",
       "    </tr>\n",
       "    <tr>\n",
       "      <td>1</td>\n",
       "      <td>улица Генерала Ермолова</td>\n",
       "      <td>1</td>\n",
       "      <td>68203</td>\n",
       "      <td>Ньокки</td>\n",
       "      <td>да</td>\n",
       "      <td>ресторан</td>\n",
       "      <td>город Москва, улица Генерала Ермолова, дом 4</td>\n",
       "      <td>60</td>\n",
       "    </tr>\n",
       "    <tr>\n",
       "      <td>2</td>\n",
       "      <td>3-й Кадашёвский переулок</td>\n",
       "      <td>1</td>\n",
       "      <td>21728</td>\n",
       "      <td>Кофе Он</td>\n",
       "      <td>нет</td>\n",
       "      <td>кафе</td>\n",
       "      <td>город Москва, 3-й Кадашёвский переулок, дом 2</td>\n",
       "      <td>72</td>\n",
       "    </tr>\n",
       "    <tr>\n",
       "      <td>3</td>\n",
       "      <td>Пулковская улица</td>\n",
       "      <td>1</td>\n",
       "      <td>29188</td>\n",
       "      <td>Столовая</td>\n",
       "      <td>нет</td>\n",
       "      <td>столовая</td>\n",
       "      <td>город Москва, Пулковская улица, дом 6</td>\n",
       "      <td>50</td>\n",
       "    </tr>\n",
       "    <tr>\n",
       "      <td>4</td>\n",
       "      <td>Научный проезд</td>\n",
       "      <td>1</td>\n",
       "      <td>24627</td>\n",
       "      <td>Кантина кафе Офис клуб</td>\n",
       "      <td>нет</td>\n",
       "      <td>кафе</td>\n",
       "      <td>город Москва, Научный проезд, дом 19</td>\n",
       "      <td>200</td>\n",
       "    </tr>\n",
       "    <tr>\n",
       "      <td>...</td>\n",
       "      <td>...</td>\n",
       "      <td>...</td>\n",
       "      <td>...</td>\n",
       "      <td>...</td>\n",
       "      <td>...</td>\n",
       "      <td>...</td>\n",
       "      <td>...</td>\n",
       "      <td>...</td>\n",
       "    </tr>\n",
       "    <tr>\n",
       "      <td>591</td>\n",
       "      <td>1-й Сетуньский проезд</td>\n",
       "      <td>1</td>\n",
       "      <td>141385</td>\n",
       "      <td>Гранатовый сад</td>\n",
       "      <td>нет</td>\n",
       "      <td>ресторан</td>\n",
       "      <td>город Москва, 1-й Сетуньский проезд, дом 10</td>\n",
       "      <td>80</td>\n",
       "    </tr>\n",
       "    <tr>\n",
       "      <td>592</td>\n",
       "      <td>Банный проезд</td>\n",
       "      <td>1</td>\n",
       "      <td>21069</td>\n",
       "      <td>Буфет при Ржевской бане</td>\n",
       "      <td>нет</td>\n",
       "      <td>буфет</td>\n",
       "      <td>город Москва, Банный проезд, дом 3, строение 1</td>\n",
       "      <td>4</td>\n",
       "    </tr>\n",
       "    <tr>\n",
       "      <td>593</td>\n",
       "      <td>Малый Коптевский проезд</td>\n",
       "      <td>1</td>\n",
       "      <td>82615</td>\n",
       "      <td>Столовая школы № 1847</td>\n",
       "      <td>нет</td>\n",
       "      <td>столовая</td>\n",
       "      <td>город Москва, Малый Коптевский проезд, дом 3</td>\n",
       "      <td>35</td>\n",
       "    </tr>\n",
       "    <tr>\n",
       "      <td>594</td>\n",
       "      <td>Гранатный переулок</td>\n",
       "      <td>1</td>\n",
       "      <td>26414</td>\n",
       "      <td>Ресторан «Архитектор»</td>\n",
       "      <td>нет</td>\n",
       "      <td>кафе</td>\n",
       "      <td>город Москва, Гранатный переулок, дом 7, строе...</td>\n",
       "      <td>100</td>\n",
       "    </tr>\n",
       "    <tr>\n",
       "      <td>595</td>\n",
       "      <td>Глебовская улица</td>\n",
       "      <td>1</td>\n",
       "      <td>27658</td>\n",
       "      <td>При школе 1294</td>\n",
       "      <td>нет</td>\n",
       "      <td>столовая</td>\n",
       "      <td>город Москва, Глебовская улица, дом 10</td>\n",
       "      <td>240</td>\n",
       "    </tr>\n",
       "  </tbody>\n",
       "</table>\n",
       "<p>596 rows × 8 columns</p>\n",
       "</div>"
      ],
      "text/plain": [
       "                      streets  quant      id              object_name chain  \\\n",
       "0            Балтийская улица      1  146421                     Рамн   нет   \n",
       "1     улица Генерала Ермолова      1   68203                   Ньокки    да   \n",
       "2    3-й Кадашёвский переулок      1   21728                  Кофе Он   нет   \n",
       "3            Пулковская улица      1   29188                 Столовая   нет   \n",
       "4              Научный проезд      1   24627   Кантина кафе Офис клуб   нет   \n",
       "..                        ...    ...     ...                      ...   ...   \n",
       "591     1-й Сетуньский проезд      1  141385           Гранатовый сад   нет   \n",
       "592             Банный проезд      1   21069  Буфет при Ржевской бане   нет   \n",
       "593   Малый Коптевский проезд      1   82615    Столовая школы № 1847   нет   \n",
       "594        Гранатный переулок      1   26414    Ресторан «Архитектор»   нет   \n",
       "595          Глебовская улица      1   27658           При школе 1294   нет   \n",
       "\n",
       "    object_type                                            address  number  \n",
       "0          кафе   город Москва, Балтийская улица, дом 10, корпус 2      26  \n",
       "1      ресторан       город Москва, улица Генерала Ермолова, дом 4      60  \n",
       "2          кафе      город Москва, 3-й Кадашёвский переулок, дом 2      72  \n",
       "3      столовая              город Москва, Пулковская улица, дом 6      50  \n",
       "4          кафе               город Москва, Научный проезд, дом 19     200  \n",
       "..          ...                                                ...     ...  \n",
       "591    ресторан        город Москва, 1-й Сетуньский проезд, дом 10      80  \n",
       "592       буфет     город Москва, Банный проезд, дом 3, строение 1       4  \n",
       "593    столовая       город Москва, Малый Коптевский проезд, дом 3      35  \n",
       "594        кафе  город Москва, Гранатный переулок, дом 7, строе...     100  \n",
       "595    столовая             город Москва, Глебовская улица, дом 10     240  \n",
       "\n",
       "[596 rows x 8 columns]"
      ]
     },
     "execution_count": 83,
     "metadata": {},
     "output_type": "execute_result"
    }
   ],
   "source": [
    "streets_oned = streets_one.merge(rest_data, on =['streets'], how='left')# присоединяем к таблице улиц полные адреса\n",
    "streets_oned"
   ]
  },
  {
   "cell_type": "code",
   "execution_count": 84,
   "metadata": {},
   "outputs": [
    {
     "data": {
      "text/html": [
       "<div>\n",
       "<style scoped>\n",
       "    .dataframe tbody tr th:only-of-type {\n",
       "        vertical-align: middle;\n",
       "    }\n",
       "\n",
       "    .dataframe tbody tr th {\n",
       "        vertical-align: top;\n",
       "    }\n",
       "\n",
       "    .dataframe thead th {\n",
       "        text-align: right;\n",
       "    }\n",
       "</style>\n",
       "<table border=\"1\" class=\"dataframe\">\n",
       "  <thead>\n",
       "    <tr style=\"text-align: right;\">\n",
       "      <th></th>\n",
       "      <th>address</th>\n",
       "      <th>district</th>\n",
       "    </tr>\n",
       "  </thead>\n",
       "  <tbody>\n",
       "    <tr>\n",
       "      <td>0</td>\n",
       "      <td>город Москва, Варшавское шоссе, дом 150, строе...</td>\n",
       "      <td>Чертаново Южное</td>\n",
       "    </tr>\n",
       "    <tr>\n",
       "      <td>1</td>\n",
       "      <td>город Москва, Косинская улица, дом 26А</td>\n",
       "      <td>Вешняки</td>\n",
       "    </tr>\n",
       "    <tr>\n",
       "      <td>2</td>\n",
       "      <td>город Москва, Гороховский переулок, дом 21</td>\n",
       "      <td>Басманный</td>\n",
       "    </tr>\n",
       "    <tr>\n",
       "      <td>3</td>\n",
       "      <td>город Москва, Тагильская улица, дом 4, строени...</td>\n",
       "      <td>Метрогородок</td>\n",
       "    </tr>\n",
       "    <tr>\n",
       "      <td>4</td>\n",
       "      <td>город Москва, Ленинградский проспект, дом 73А,...</td>\n",
       "      <td>Сокол</td>\n",
       "    </tr>\n",
       "  </tbody>\n",
       "</table>\n",
       "</div>"
      ],
      "text/plain": [
       "                                             address         district\n",
       "0  город Москва, Варшавское шоссе, дом 150, строе...  Чертаново Южное\n",
       "1             город Москва, Косинская улица, дом 26А          Вешняки\n",
       "2         город Москва, Гороховский переулок, дом 21        Басманный\n",
       "3  город Москва, Тагильская улица, дом 4, строени...     Метрогородок\n",
       "4  город Москва, Ленинградский проспект, дом 73А,...            Сокол"
      ]
     },
     "execution_count": 84,
     "metadata": {},
     "output_type": "execute_result"
    }
   ],
   "source": [
    "from io import BytesIO\n",
    "import requests\n",
    "spreadsheet_id = '1KVAEnLPqrMg0Ibm7SvsaObIiK7dKFT1qb8NlVYdknG0'\n",
    "file_name = 'https://docs.google.com/spreadsheets/d/{}/export?format=xlsx'.format(spreadsheet_id)\n",
    "r = requests.get(file_name)\n",
    "data_adr = pd.read_excel(BytesIO(r.content),sheet_name='sheet0')# загружаем данные с полными адресами и районами\n",
    "data_adr.head()"
   ]
  },
  {
   "cell_type": "code",
   "execution_count": 85,
   "metadata": {},
   "outputs": [
    {
     "data": {
      "text/html": [
       "<div>\n",
       "<style scoped>\n",
       "    .dataframe tbody tr th:only-of-type {\n",
       "        vertical-align: middle;\n",
       "    }\n",
       "\n",
       "    .dataframe tbody tr th {\n",
       "        vertical-align: top;\n",
       "    }\n",
       "\n",
       "    .dataframe thead th {\n",
       "        text-align: right;\n",
       "    }\n",
       "</style>\n",
       "<table border=\"1\" class=\"dataframe\">\n",
       "  <thead>\n",
       "    <tr style=\"text-align: right;\">\n",
       "      <th></th>\n",
       "      <th>streets</th>\n",
       "      <th>quant</th>\n",
       "      <th>id</th>\n",
       "      <th>object_name</th>\n",
       "      <th>chain</th>\n",
       "      <th>object_type</th>\n",
       "      <th>address</th>\n",
       "      <th>number</th>\n",
       "      <th>district</th>\n",
       "    </tr>\n",
       "  </thead>\n",
       "  <tbody>\n",
       "    <tr>\n",
       "      <td>0</td>\n",
       "      <td>Балтийская улица</td>\n",
       "      <td>1</td>\n",
       "      <td>146421</td>\n",
       "      <td>Рамн</td>\n",
       "      <td>нет</td>\n",
       "      <td>кафе</td>\n",
       "      <td>город Москва, Балтийская улица, дом 10, корпус 2</td>\n",
       "      <td>26</td>\n",
       "      <td>Аэропорт</td>\n",
       "    </tr>\n",
       "    <tr>\n",
       "      <td>1</td>\n",
       "      <td>улица Генерала Ермолова</td>\n",
       "      <td>1</td>\n",
       "      <td>68203</td>\n",
       "      <td>Ньокки</td>\n",
       "      <td>да</td>\n",
       "      <td>ресторан</td>\n",
       "      <td>город Москва, улица Генерала Ермолова, дом 4</td>\n",
       "      <td>60</td>\n",
       "      <td>Дорогомилово</td>\n",
       "    </tr>\n",
       "    <tr>\n",
       "      <td>2</td>\n",
       "      <td>3-й Кадашёвский переулок</td>\n",
       "      <td>1</td>\n",
       "      <td>21728</td>\n",
       "      <td>Кофе Он</td>\n",
       "      <td>нет</td>\n",
       "      <td>кафе</td>\n",
       "      <td>город Москва, 3-й Кадашёвский переулок, дом 2</td>\n",
       "      <td>72</td>\n",
       "      <td>Якиманка</td>\n",
       "    </tr>\n",
       "    <tr>\n",
       "      <td>3</td>\n",
       "      <td>Пулковская улица</td>\n",
       "      <td>1</td>\n",
       "      <td>29188</td>\n",
       "      <td>Столовая</td>\n",
       "      <td>нет</td>\n",
       "      <td>столовая</td>\n",
       "      <td>город Москва, Пулковская улица, дом 6</td>\n",
       "      <td>50</td>\n",
       "      <td>Головинский</td>\n",
       "    </tr>\n",
       "    <tr>\n",
       "      <td>4</td>\n",
       "      <td>Научный проезд</td>\n",
       "      <td>1</td>\n",
       "      <td>24627</td>\n",
       "      <td>Кантина кафе Офис клуб</td>\n",
       "      <td>нет</td>\n",
       "      <td>кафе</td>\n",
       "      <td>город Москва, Научный проезд, дом 19</td>\n",
       "      <td>200</td>\n",
       "      <td>Черемушки</td>\n",
       "    </tr>\n",
       "    <tr>\n",
       "      <td>...</td>\n",
       "      <td>...</td>\n",
       "      <td>...</td>\n",
       "      <td>...</td>\n",
       "      <td>...</td>\n",
       "      <td>...</td>\n",
       "      <td>...</td>\n",
       "      <td>...</td>\n",
       "      <td>...</td>\n",
       "      <td>...</td>\n",
       "    </tr>\n",
       "    <tr>\n",
       "      <td>591</td>\n",
       "      <td>1-й Сетуньский проезд</td>\n",
       "      <td>1</td>\n",
       "      <td>141385</td>\n",
       "      <td>Гранатовый сад</td>\n",
       "      <td>нет</td>\n",
       "      <td>ресторан</td>\n",
       "      <td>город Москва, 1-й Сетуньский проезд, дом 10</td>\n",
       "      <td>80</td>\n",
       "      <td>Раменки</td>\n",
       "    </tr>\n",
       "    <tr>\n",
       "      <td>592</td>\n",
       "      <td>Банный проезд</td>\n",
       "      <td>1</td>\n",
       "      <td>21069</td>\n",
       "      <td>Буфет при Ржевской бане</td>\n",
       "      <td>нет</td>\n",
       "      <td>буфет</td>\n",
       "      <td>город Москва, Банный проезд, дом 3, строение 1</td>\n",
       "      <td>4</td>\n",
       "      <td>Мещанский</td>\n",
       "    </tr>\n",
       "    <tr>\n",
       "      <td>593</td>\n",
       "      <td>Малый Коптевский проезд</td>\n",
       "      <td>1</td>\n",
       "      <td>82615</td>\n",
       "      <td>Столовая школы № 1847</td>\n",
       "      <td>нет</td>\n",
       "      <td>столовая</td>\n",
       "      <td>город Москва, Малый Коптевский проезд, дом 3</td>\n",
       "      <td>35</td>\n",
       "      <td>Аэропорт</td>\n",
       "    </tr>\n",
       "    <tr>\n",
       "      <td>594</td>\n",
       "      <td>Гранатный переулок</td>\n",
       "      <td>1</td>\n",
       "      <td>26414</td>\n",
       "      <td>Ресторан «Архитектор»</td>\n",
       "      <td>нет</td>\n",
       "      <td>кафе</td>\n",
       "      <td>город Москва, Гранатный переулок, дом 7, строе...</td>\n",
       "      <td>100</td>\n",
       "      <td>Пресненский</td>\n",
       "    </tr>\n",
       "    <tr>\n",
       "      <td>595</td>\n",
       "      <td>Глебовская улица</td>\n",
       "      <td>1</td>\n",
       "      <td>27658</td>\n",
       "      <td>При школе 1294</td>\n",
       "      <td>нет</td>\n",
       "      <td>столовая</td>\n",
       "      <td>город Москва, Глебовская улица, дом 10</td>\n",
       "      <td>240</td>\n",
       "      <td>Богородское</td>\n",
       "    </tr>\n",
       "  </tbody>\n",
       "</table>\n",
       "<p>596 rows × 9 columns</p>\n",
       "</div>"
      ],
      "text/plain": [
       "                      streets  quant      id              object_name chain  \\\n",
       "0            Балтийская улица      1  146421                     Рамн   нет   \n",
       "1     улица Генерала Ермолова      1   68203                   Ньокки    да   \n",
       "2    3-й Кадашёвский переулок      1   21728                  Кофе Он   нет   \n",
       "3            Пулковская улица      1   29188                 Столовая   нет   \n",
       "4              Научный проезд      1   24627   Кантина кафе Офис клуб   нет   \n",
       "..                        ...    ...     ...                      ...   ...   \n",
       "591     1-й Сетуньский проезд      1  141385           Гранатовый сад   нет   \n",
       "592             Банный проезд      1   21069  Буфет при Ржевской бане   нет   \n",
       "593   Малый Коптевский проезд      1   82615    Столовая школы № 1847   нет   \n",
       "594        Гранатный переулок      1   26414    Ресторан «Архитектор»   нет   \n",
       "595          Глебовская улица      1   27658           При школе 1294   нет   \n",
       "\n",
       "    object_type                                            address  number  \\\n",
       "0          кафе   город Москва, Балтийская улица, дом 10, корпус 2      26   \n",
       "1      ресторан       город Москва, улица Генерала Ермолова, дом 4      60   \n",
       "2          кафе      город Москва, 3-й Кадашёвский переулок, дом 2      72   \n",
       "3      столовая              город Москва, Пулковская улица, дом 6      50   \n",
       "4          кафе               город Москва, Научный проезд, дом 19     200   \n",
       "..          ...                                                ...     ...   \n",
       "591    ресторан        город Москва, 1-й Сетуньский проезд, дом 10      80   \n",
       "592       буфет     город Москва, Банный проезд, дом 3, строение 1       4   \n",
       "593    столовая       город Москва, Малый Коптевский проезд, дом 3      35   \n",
       "594        кафе  город Москва, Гранатный переулок, дом 7, строе...     100   \n",
       "595    столовая             город Москва, Глебовская улица, дом 10     240   \n",
       "\n",
       "         district  \n",
       "0        Аэропорт  \n",
       "1    Дорогомилово  \n",
       "2        Якиманка  \n",
       "3     Головинский  \n",
       "4       Черемушки  \n",
       "..            ...  \n",
       "591       Раменки  \n",
       "592     Мещанский  \n",
       "593      Аэропорт  \n",
       "594   Пресненский  \n",
       "595   Богородское  \n",
       "\n",
       "[596 rows x 9 columns]"
      ]
     },
     "execution_count": 85,
     "metadata": {},
     "output_type": "execute_result"
    }
   ],
   "source": [
    "streets_one_distr2 = streets_oned.merge(data_adr, on =['address'], how='left')\n",
    "streets_one_distr2"
   ]
  },
  {
   "cell_type": "code",
   "execution_count": 86,
   "metadata": {},
   "outputs": [
    {
     "data": {
      "text/plain": [
       "Хамовники         26\n",
       "Таганский         26\n",
       "Басманный         22\n",
       "Тверской          20\n",
       "Пресненский       19\n",
       "Марьина Роща      17\n",
       "Сокольники        14\n",
       "Соколиная Гора    12\n",
       "Лефортово         12\n",
       "Замоскворечье     12\n",
       "Name: district, dtype: int64"
      ]
     },
     "execution_count": 86,
     "metadata": {},
     "output_type": "execute_result"
    }
   ],
   "source": [
    "streets_one_distr2['district'].value_counts().head(10)"
   ]
  },
  {
   "cell_type": "markdown",
   "metadata": {},
   "source": [
    "Определим улицы с одним объектом общепита. Присоединяем к таблице с улицами данные по районам. Посчитаем количество районов.\n",
    "Как видно, количество районов получилось больше количества улиц, т.е. некоторые улицы проходят по нескольким районам.\n",
    "Подгружаем к таблице с улицами (с 1 объектом общепита) полные адреса. Загружаем базу адресов Москвы с районами. \n",
    "Присоединяем к таблице с улицами данные по районам. Проверяем.\n",
    "Выделим первые 10 районоав по количеству заведений общепита, единственных на своей улице.\n",
    "Как видно, указанные районы относятся к центру Москвы, что обусловлено большим количеством маленьких улочек, находящихся в центре города. Два кафе на такой улице - избыток."
   ]
  },
  {
   "cell_type": "markdown",
   "metadata": {},
   "source": [
    "#### Распределение количества посадочных мест для улиц с большим количеством объектов общественного питания"
   ]
  },
  {
   "cell_type": "code",
   "execution_count": 87,
   "metadata": {
    "scrolled": false
   },
   "outputs": [
    {
     "name": "stdout",
     "output_type": "stream",
     "text": [
      "[array([15.,  0.]), array([ 80., 176.])]\n"
     ]
    },
    {
     "data": {
      "image/png": "[encoded data removed]",
      "text/plain": [
       "<Figure size 720x432 with 1 Axes>"
      ]
     },
     "metadata": {
      "needs_background": "light"
     },
     "output_type": "display_data"
    }
   ],
   "source": [
    "top_streets_name = top_streets['streets'].unique()\n",
    "top_streets_number = rest_data.query('streets in @top_streets_name')\n",
    "plt.figure(figsize=(10, 6))\n",
    "box_area=plt.boxplot(top_streets_number['number'])# строим диаграмму размаха\n",
    "print([item.get_ydata() for item in box_area['whiskers']]) # определяем концы усов в диаграмме размаха\n",
    "#sns.distplot(top_streets_number['number'])"
   ]
  },
  {
   "cell_type": "code",
   "execution_count": 91,
   "metadata": {},
   "outputs": [
    {
     "name": "stdout",
     "output_type": "stream",
     "text": [
      "[array([12.,  0.]), array([ 80., 181.])]\n"
     ]
    },
    {
     "data": {
      "image/png": "[encoded data removed]",
      "text/plain": [
       "<Figure size 720x432 with 1 Axes>"
      ]
     },
     "metadata": {
      "needs_background": "light"
     },
     "output_type": "display_data"
    }
   ],
   "source": [
    "plt.figure(figsize=(10, 6))\n",
    "box_area=plt.boxplot(rest_data['number'])# строим диаграмму размаха для общего датасета\n",
    "print([item.get_ydata() for item in box_area['whiskers']]) # определяем концы усов в диаграмме размаха"
   ]
  },
  {
   "cell_type": "code",
   "execution_count": 113,
   "metadata": {},
   "outputs": [
    {
     "data": {
      "image/png": "[encoded data removed]",
      "text/plain": [
       "<Figure size 936x432 with 1 Axes>"
      ]
     },
     "metadata": {
      "needs_background": "light"
     },
     "output_type": "display_data"
    },
    {
     "data": {
      "image/png": "[encoded data removed]",
      "text/plain": [
       "<Figure size 936x432 with 1 Axes>"
      ]
     },
     "metadata": {
      "needs_background": "light"
     },
     "output_type": "display_data"
    }
   ],
   "source": [
    "top_streets_number = top_streets_number[top_streets_number['number']<= 176]# отбрасываем выбросы\n",
    "rest_data_number = rest_data[rest_data['number']<=181]\n",
    "rest_data_number['number'].plot.hist(bins=20, figsize = (13, 6), title = 'Распределение предприятий общепита по количеству посадочных мест по г. Москве');\n",
    "plt.xlabel('количество посадочных мест',)\n",
    "plt.ylabel('количество предприятий общепита');\n",
    "plt.figure(figsize=(10, 6))\n",
    "top_streets_number['number'].plot.hist(bins=20, figsize = (13, 6), title = 'Распределение предприятий общепита по количеству посадочных мест на крупнейших улицах города');\n",
    "plt.xlabel('количество посадочных мест',)\n",
    "plt.ylabel('количество предприятий общепита');"
   ]
  },
  {
   "cell_type": "markdown",
   "metadata": {},
   "source": [
    "Построим распределение количества посадочных мест для улиц с большим количеством объектов общественного питания.\n",
    "Исходя из полученного распределения можно увидеть 3 основных группы предприятий общепита по количеству посадочных мест.\n",
    "1 группа - предприятия с количеством мест до 75. Это самая большая группа, т.к. открытие таких заведений требует гораздо меньше вложений, чем открытие предприятий из следующих 2-х групп.\n",
    "2 группа - предприятия с количеством мест от 75 до 130. Вторая по величине группа.\n",
    "3 группа - предприятия с количеством мест свыше 130."
   ]
  },
  {
   "cell_type": "markdown",
   "metadata": {},
   "source": [
    "Сравним распределение посадочных мест по предприятиям общепита Москвы и по предприятиям общепита, расположенным на улицах Москвы с наибольшим количеством заведений общественного питания.\n",
    "Как видно из графиков, для предприятий общепита Москвы характерно скошенное нормальное распределение (совокупность не разбита на группы, распределение, в целом, едино).\n",
    "Для предприятий общепита крупнейших улиц характерна модель смеси трех нормальных распределений (на графике явно выделены однородные группы).\n",
    "Указанная ситуация может быть обусловлена тем, что в целом по городу переход между предприятиями общетвенного питания более плавный вследствии их многочисленности и разнообразия потребностей населения, на крупнейших улицах каждое предприятие общепита вынуждено занять определенную нишу, иначе будет терпеть убытки."
   ]
  },
  {
   "cell_type": "markdown",
   "metadata": {},
   "source": [
    "### 4. Выводы"
   ]
  },
  {
   "cell_type": "markdown",
   "metadata": {},
   "source": [
    "1. Наиболее популярным типом заведения общепита в Москве является кафе.\n",
    "2. Большинство предприятий общепита в Москве не являются сетевыми.\n",
    "3. Наиболее распространенное количество посадочных мест в предприятиях питания в Москве - до 60; для улиц с большим количеством объектов общественного питания - до 75. Среднее количество посадочных мест для кафе - 40.\n",
    "4. Большинство улиц с наибольшим количеством предприятий общепита проходят через несколько районов, т.к., как правило, это основные магистрали города, соединяющие центр со спальными районами, и расположение на них кафе, ресторанов и пр. обусловлено высокой проходимостью и густонаселенностью указанных улиц. \n",
    "5. Большинство улиц с 1 объектом общепита относится к центру Москвы, что обусловлено большим количеством маленьких улочек, находящихся в центре города.\n",
    "6. В Москве высокая конкуренция между предприятиями общественного питания.\n",
    "\n",
    "\n",
    "Рекомендации по открытию заведения общепита:\n",
    "\n",
    "1. Вид заведения: кафе. Причины: проект подразумевает наличие роботов-официантов. Из представленных видов заведений официанты могут работать в кафе, ресторанах и барах. Рестораны отпадают из-за слишком большого меню (роботы должны хорошо распознать заказ, в условиях длинного меню с этим могут быть проблемы) и большого количества посадочных мест. Бары также отпадают в связи с возможным неадекватным поведением нетрезвых посетителей в отношении роботов. Остается кафе.\n",
    "2. Количество посадочных мест: от 40 до 60. Причины: а) учитывая, что проект - пилотный и несет в себе риски не окупиться, необходимо ограничить размер возможных потерь. 40-60 посадочных мест - это 10-15 столиков. Т.е. будет достаточно 2-4 роботов-официантов. На первом этапе можно открыть кафе с 40 посадочными местами с перспективой расширения до 60 в случае успешности проекта. Большое количество посадочных мест вызовет необходимость приобретения большего количества роботов. Соответственно, возможные потери, в случае провала проекта, возрастут; б) расчеты указывают на то, что среднее количество посадочных мест в кафе Москвы составляет 40, т.е. 40 посадочных мест для кафе - это проверенный успешный вариант.\n",
    "3. Кафе целесообразно расположить на одной из крупных магистралей Москвы, связывающих центр со спальными районами. Крупная транспортная артерия обеспечит высокую проходимость рядом с кафе, т.е. большее количество потенциальных посетителей. Также рядом с этими магистралями расположены густонаселенные районы.\n",
    "4. В случае успешности проекта целесообразно открыть сеть подобных заведений в Москве. Заведения должны соответствовать вышеприведенным рекомендациям: тип - кафе, количество посадочных мест - от 40 до 60, расположение - основные транспортные магистрали Москвы, либо небольшие улицы в центральных районах. \n",
    "5. Скорее всего, появление кафе с роботами-официантами вызовет широкий резонанс. СМИ сами расскажут об этом феномене, что позволит снизить затраты на рекламу. Первое время можно прогнозировать высокий интерес общества к роботам, однако со временем он будет снижаться. Важно к этому моменту наработать репутацию и постоянных клиентов, чтобы вместе с интересом не ушла и прибыль. В дальнейшем можно открыть сеть кафе в крупных городах, где также такое заведение может вызвать большой интерес.\n",
    "6. Необходимость приобретения роботов обусловит высокие затраты на старте проекта, но в долгосрочной перспективе приведет к экономии, т.к. не будет необходимости платить зарплату части персонала и делать отчисления во внебюджетные фонды. Появятся затраты на обслуживание и охрану роботов, но они будут гораздо меньше возможного ФОТа людей-официантов.\n",
    "Указанные обстоятельства могут способствовать успешной ценовой конкуренции с другими кафе в районе."
   ]
  },
  {
   "cell_type": "markdown",
   "metadata": {},
   "source": [
    "#### 5. Презентация: https://yadi.sk/i/ylHxa8ezu04qTQ"
   ]
  }
 ],
 "metadata": {
  "kernelspec": {
   "display_name": "Python 3",
   "language": "python",
   "name": "python3"
  },
  "language_info": {
   "codemirror_mode": {
    "name": "ipython",
    "version": 3
   },
   "file_extension": ".py",
   "mimetype": "text/x-python",
   "name": "python",
   "nbconvert_exporter": "python",
   "pygments_lexer": "ipython3",
   "version": "3.8.3"
  }
 },
 "nbformat": 4,
 "nbformat_minor": 2
}
