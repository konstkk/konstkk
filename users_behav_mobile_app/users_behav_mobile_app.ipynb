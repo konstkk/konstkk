{
 "cells": [
  {
   "cell_type": "markdown",
   "metadata": {},
   "source": [
    "# Исследование поведения пользователей мобильного приложения интернет-магазина продуктов питания"
   ]
  },
  {
   "cell_type": "markdown",
   "metadata": {},
   "source": [
    "Цель исследования: определение направлений доработки мобильного приложения в целях повышения покупательского спроса на продукты питания, приобретаемые через мобильное приложение.\n",
    "\n",
    "Задачи проекта:\n",
    "\n",
    "1. Изучение воронки продаж;\n",
    "2. Исследование А/А/В эксперимента по изменению шрифтов в приложении."
   ]
  },
  {
   "cell_type": "markdown",
   "metadata": {},
   "source": [
    "## План проекта\n",
    "\n",
    "1.  Загрузка и анализ данных \n",
    "2.\tПредобработка данных \n",
    "3.\tАнализ информации \n",
    "4.\tВыводы "
   ]
  },
  {
   "cell_type": "markdown",
   "metadata": {},
   "source": [
    "## 1. Загрузка и анализ данных"
   ]
  },
  {
   "cell_type": "code",
   "execution_count": 1,
   "metadata": {},
   "outputs": [
    {
     "name": "stdout",
     "output_type": "stream",
     "text": [
      "<class 'pandas.core.frame.DataFrame'>\n",
      "RangeIndex: 244126 entries, 0 to 244125\n",
      "Data columns (total 4 columns):\n",
      "EventName         244126 non-null object\n",
      "DeviceIDHash      244126 non-null int64\n",
      "EventTimestamp    244126 non-null int64\n",
      "ExpId             244126 non-null int64\n",
      "dtypes: int64(3), object(1)\n",
      "memory usage: 7.5+ MB\n"
     ]
    },
    {
     "data": {
      "text/html": [
       "<div>\n",
       "<style scoped>\n",
       "    .dataframe tbody tr th:only-of-type {\n",
       "        vertical-align: middle;\n",
       "    }\n",
       "\n",
       "    .dataframe tbody tr th {\n",
       "        vertical-align: top;\n",
       "    }\n",
       "\n",
       "    .dataframe thead th {\n",
       "        text-align: right;\n",
       "    }\n",
       "</style>\n",
       "<table border=\"1\" class=\"dataframe\">\n",
       "  <thead>\n",
       "    <tr style=\"text-align: right;\">\n",
       "      <th></th>\n",
       "      <th>EventName</th>\n",
       "      <th>DeviceIDHash</th>\n",
       "      <th>EventTimestamp</th>\n",
       "      <th>ExpId</th>\n",
       "    </tr>\n",
       "  </thead>\n",
       "  <tbody>\n",
       "    <tr>\n",
       "      <td>0</td>\n",
       "      <td>MainScreenAppear</td>\n",
       "      <td>4575588528974610257</td>\n",
       "      <td>1564029816</td>\n",
       "      <td>246</td>\n",
       "    </tr>\n",
       "    <tr>\n",
       "      <td>1</td>\n",
       "      <td>MainScreenAppear</td>\n",
       "      <td>7416695313311560658</td>\n",
       "      <td>1564053102</td>\n",
       "      <td>246</td>\n",
       "    </tr>\n",
       "    <tr>\n",
       "      <td>2</td>\n",
       "      <td>PaymentScreenSuccessful</td>\n",
       "      <td>3518123091307005509</td>\n",
       "      <td>1564054127</td>\n",
       "      <td>248</td>\n",
       "    </tr>\n",
       "    <tr>\n",
       "      <td>3</td>\n",
       "      <td>CartScreenAppear</td>\n",
       "      <td>3518123091307005509</td>\n",
       "      <td>1564054127</td>\n",
       "      <td>248</td>\n",
       "    </tr>\n",
       "    <tr>\n",
       "      <td>4</td>\n",
       "      <td>PaymentScreenSuccessful</td>\n",
       "      <td>6217807653094995999</td>\n",
       "      <td>1564055322</td>\n",
       "      <td>248</td>\n",
       "    </tr>\n",
       "  </tbody>\n",
       "</table>\n",
       "</div>"
      ],
      "text/plain": [
       "                 EventName         DeviceIDHash  EventTimestamp  ExpId\n",
       "0         MainScreenAppear  4575588528974610257      1564029816    246\n",
       "1         MainScreenAppear  7416695313311560658      1564053102    246\n",
       "2  PaymentScreenSuccessful  3518123091307005509      1564054127    248\n",
       "3         CartScreenAppear  3518123091307005509      1564054127    248\n",
       "4  PaymentScreenSuccessful  6217807653094995999      1564055322    248"
      ]
     },
     "execution_count": 1,
     "metadata": {},
     "output_type": "execute_result"
    }
   ],
   "source": [
    "import pandas as pd\n",
    "import numpy as np\n",
    "import matplotlib.pyplot as plt\n",
    "from scipy import stats as st\n",
    "import math as mth\n",
    "import datetime \n",
    "data = pd.read_csv('/datasets/logs_exp.csv', sep = '\\\\t', engine='python')\n",
    "data.info()\n",
    "data.head()"
   ]
  },
  {
   "cell_type": "code",
   "execution_count": 2,
   "metadata": {},
   "outputs": [
    {
     "name": "stdout",
     "output_type": "stream",
     "text": [
      "413\n"
     ]
    }
   ],
   "source": [
    "print(data.duplicated().sum())# проверка на дубли"
   ]
  },
  {
   "cell_type": "code",
   "execution_count": 3,
   "metadata": {},
   "outputs": [
    {
     "name": "stdout",
     "output_type": "stream",
     "text": [
      "EventName         0\n",
      "DeviceIDHash      0\n",
      "EventTimestamp    0\n",
      "ExpId             0\n",
      "dtype: int64\n"
     ]
    }
   ],
   "source": [
    "print(data.isna().sum())# проверка на пропуски"
   ]
  },
  {
   "cell_type": "markdown",
   "metadata": {},
   "source": [
    "Выводы \n",
    "\n",
    "Данные загружены. Выведена информация о данных. Выведены первые 5 значений переменных. В данных нет пропусков, об этом свидетельствует проведенная проверка и количество значений в переменных. В данных есть 413 дубликатов (выполнена проверка), их нужно исключить. Названия переменных нуждаются в переименовании на более краткие. Переменные DeviceIDHash и ExpId нуждаются в изменении типа: из int в object, т.к. в данном случае отражают не числовые характеристики, а качественные."
   ]
  },
  {
   "cell_type": "markdown",
   "metadata": {},
   "source": [
    "## 2. Предобработка данных "
   ]
  },
  {
   "cell_type": "code",
   "execution_count": 4,
   "metadata": {},
   "outputs": [
    {
     "name": "stdout",
     "output_type": "stream",
     "text": [
      "<class 'pandas.core.frame.DataFrame'>\n",
      "Int64Index: 243713 entries, 0 to 244125\n",
      "Data columns (total 4 columns):\n",
      "EventName         243713 non-null object\n",
      "DeviceIDHash      243713 non-null int64\n",
      "EventTimestamp    243713 non-null int64\n",
      "ExpId             243713 non-null int64\n",
      "dtypes: int64(3), object(1)\n",
      "memory usage: 9.3+ MB\n"
     ]
    }
   ],
   "source": [
    "data = data.drop_duplicates()# удаление дублей\n",
    "data.info()"
   ]
  },
  {
   "cell_type": "markdown",
   "metadata": {},
   "source": [
    "Удаляем дубликаты строк. Проверяем."
   ]
  },
  {
   "cell_type": "code",
   "execution_count": 5,
   "metadata": {},
   "outputs": [
    {
     "name": "stdout",
     "output_type": "stream",
     "text": [
      "<class 'pandas.core.frame.DataFrame'>\n",
      "Int64Index: 243713 entries, 0 to 244125\n",
      "Data columns (total 4 columns):\n",
      "event         243713 non-null object\n",
      "user_id       243713 non-null object\n",
      "event_time    243713 non-null int64\n",
      "group_id      243713 non-null object\n",
      "dtypes: int64(1), object(3)\n",
      "memory usage: 9.3+ MB\n"
     ]
    }
   ],
   "source": [
    "data = data.rename({'EventName': 'event', 'DeviceIDHash': 'user_id', 'EventTimestamp': 'event_time',\n",
    "                    'ExpId': 'group_id'}, axis = 1)\n",
    "data['user_id'] = data['user_id'].astype(object)\n",
    "data['group_id'] = data['group_id'].astype(object)\n",
    "data.info()"
   ]
  },
  {
   "cell_type": "markdown",
   "metadata": {},
   "source": [
    "Корректируем названия столбцов в таблице на более краткие. Меняем тип данных переменных DeviceIDHash и ExpId. Проверяем."
   ]
  },
  {
   "cell_type": "code",
   "execution_count": 6,
   "metadata": {},
   "outputs": [
    {
     "data": {
      "text/html": [
       "<div>\n",
       "<style scoped>\n",
       "    .dataframe tbody tr th:only-of-type {\n",
       "        vertical-align: middle;\n",
       "    }\n",
       "\n",
       "    .dataframe tbody tr th {\n",
       "        vertical-align: top;\n",
       "    }\n",
       "\n",
       "    .dataframe thead th {\n",
       "        text-align: right;\n",
       "    }\n",
       "</style>\n",
       "<table border=\"1\" class=\"dataframe\">\n",
       "  <thead>\n",
       "    <tr style=\"text-align: right;\">\n",
       "      <th></th>\n",
       "      <th>event</th>\n",
       "      <th>user_id</th>\n",
       "      <th>event_time</th>\n",
       "      <th>group_id</th>\n",
       "      <th>datetime</th>\n",
       "      <th>date</th>\n",
       "    </tr>\n",
       "  </thead>\n",
       "  <tbody>\n",
       "    <tr>\n",
       "      <td>0</td>\n",
       "      <td>MainScreenAppear</td>\n",
       "      <td>4575588528974610257</td>\n",
       "      <td>1564029816</td>\n",
       "      <td>246</td>\n",
       "      <td>2019-07-25 04:43:36</td>\n",
       "      <td>2019-07-25</td>\n",
       "    </tr>\n",
       "    <tr>\n",
       "      <td>1</td>\n",
       "      <td>MainScreenAppear</td>\n",
       "      <td>7416695313311560658</td>\n",
       "      <td>1564053102</td>\n",
       "      <td>246</td>\n",
       "      <td>2019-07-25 11:11:42</td>\n",
       "      <td>2019-07-25</td>\n",
       "    </tr>\n",
       "    <tr>\n",
       "      <td>2</td>\n",
       "      <td>PaymentScreenSuccessful</td>\n",
       "      <td>3518123091307005509</td>\n",
       "      <td>1564054127</td>\n",
       "      <td>248</td>\n",
       "      <td>2019-07-25 11:28:47</td>\n",
       "      <td>2019-07-25</td>\n",
       "    </tr>\n",
       "    <tr>\n",
       "      <td>3</td>\n",
       "      <td>CartScreenAppear</td>\n",
       "      <td>3518123091307005509</td>\n",
       "      <td>1564054127</td>\n",
       "      <td>248</td>\n",
       "      <td>2019-07-25 11:28:47</td>\n",
       "      <td>2019-07-25</td>\n",
       "    </tr>\n",
       "    <tr>\n",
       "      <td>4</td>\n",
       "      <td>PaymentScreenSuccessful</td>\n",
       "      <td>6217807653094995999</td>\n",
       "      <td>1564055322</td>\n",
       "      <td>248</td>\n",
       "      <td>2019-07-25 11:48:42</td>\n",
       "      <td>2019-07-25</td>\n",
       "    </tr>\n",
       "  </tbody>\n",
       "</table>\n",
       "</div>"
      ],
      "text/plain": [
       "                     event              user_id  event_time group_id  \\\n",
       "0         MainScreenAppear  4575588528974610257  1564029816      246   \n",
       "1         MainScreenAppear  7416695313311560658  1564053102      246   \n",
       "2  PaymentScreenSuccessful  3518123091307005509  1564054127      248   \n",
       "3         CartScreenAppear  3518123091307005509  1564054127      248   \n",
       "4  PaymentScreenSuccessful  6217807653094995999  1564055322      248   \n",
       "\n",
       "             datetime        date  \n",
       "0 2019-07-25 04:43:36  2019-07-25  \n",
       "1 2019-07-25 11:11:42  2019-07-25  \n",
       "2 2019-07-25 11:28:47  2019-07-25  \n",
       "3 2019-07-25 11:28:47  2019-07-25  \n",
       "4 2019-07-25 11:48:42  2019-07-25  "
      ]
     },
     "execution_count": 6,
     "metadata": {},
     "output_type": "execute_result"
    }
   ],
   "source": [
    "data['datetime'] = pd.to_datetime(data['event_time'], unit = 's')\n",
    "data['date'] = data['datetime'].dt.date\n",
    "data.head()"
   ]
  },
  {
   "cell_type": "markdown",
   "metadata": {},
   "source": [
    "Добавляем столбец с датой и временем и столбец с датой. Проверяем."
   ]
  },
  {
   "cell_type": "markdown",
   "metadata": {},
   "source": [
    "## 3. Изучение и проверка данных"
   ]
  },
  {
   "cell_type": "markdown",
   "metadata": {},
   "source": [
    "### Сколько всего событий в логе? Сколько всего пользователей в логе? Сколько в среднем событий приходится на пользователя?"
   ]
  },
  {
   "cell_type": "code",
   "execution_count": 7,
   "metadata": {
    "scrolled": true
   },
   "outputs": [
    {
     "name": "stdout",
     "output_type": "stream",
     "text": [
      "Количество событий в логе: 243713\n",
      "Количество пользователей в логе: 7551\n",
      "В среднем на 1 пользователя приходится 32.3 событий\n"
     ]
    }
   ],
   "source": [
    "event_number = data.shape[0]\n",
    "user_number = len(data['user_id'].unique())\n",
    "print('Количество событий в логе:',event_number)\n",
    "print('Количество пользователей в логе:', user_number)\n",
    "print('В среднем на 1 пользователя приходится', '{:.1f}'.format(event_number/user_number), 'событий')"
   ]
  },
  {
   "cell_type": "markdown",
   "metadata": {},
   "source": [
    "Посчитаем количество событий в логе. Их 243713.\n",
    "Посчитаем количество уникальных пользователей. Их 7551.\n",
    "В среднем на одного польователя приходится 32,3 события."
   ]
  },
  {
   "cell_type": "markdown",
   "metadata": {},
   "source": [
    "### Данными за какой период вы располагаете? Найдите максимальную и минимальную дату. Постройте гистограмму по дате и времени. Можно ли быть уверенным, что у вас одинаково полные данные за весь период? Определите, с какого момента данные полные и отбросьте более старые."
   ]
  },
  {
   "cell_type": "code",
   "execution_count": 8,
   "metadata": {},
   "outputs": [
    {
     "name": "stdout",
     "output_type": "stream",
     "text": [
      "2019-08-07\n",
      "2019-07-25\n"
     ]
    }
   ],
   "source": [
    "print(data['date'].max())\n",
    "print(data['date'].min())"
   ]
  },
  {
   "cell_type": "code",
   "execution_count": 9,
   "metadata": {},
   "outputs": [
    {
     "name": "stderr",
     "output_type": "stream",
     "text": [
      "/opt/conda/lib/python3.7/site-packages/pandas/plotting/_matplotlib/converter.py:103: FutureWarning: Using an implicitly registered datetime converter for a matplotlib plotting method. The converter was registered by pandas on import. Future versions of pandas will require you to explicitly register matplotlib converters.\n",
      "\n",
      "To register the converters:\n",
      "\t>>> from pandas.plotting import register_matplotlib_converters\n",
      "\t>>> register_matplotlib_converters()\n",
      "  warnings.warn(msg, FutureWarning)\n"
     ]
    },
    {
     "data": {
      "image/png": "[encoded data removed]",
      "text/plain": [
       "<Figure size 1152x432 with 1 Axes>"
      ]
     },
     "metadata": {
      "needs_background": "light"
     },
     "output_type": "display_data"
    }
   ],
   "source": [
    "data['datetime'].hist(bins=15, figsize = (16, 6));\n",
    "plt.title('Распределение событий по датам')\n",
    "plt.xlabel('Даты')\n",
    "plt.ylabel('Количество событий');"
   ]
  },
  {
   "cell_type": "markdown",
   "metadata": {},
   "source": [
    "Определим минимальную и максимальную дату в базе. \n",
    "Минимальная дата - 25.07.2019\n",
    "Максимальная дата 07.08.2019\n",
    "Построим гистограмму распределения событий по датам. Как видно из графика, событий, произошедших до 01.08.2019 г.,  очень мало. Очевидно, что данные за указанный период по какой-то причине не полные. Нужно их исключить."
   ]
  },
  {
   "cell_type": "code",
   "execution_count": 10,
   "metadata": {},
   "outputs": [
    {
     "name": "stdout",
     "output_type": "stream",
     "text": [
      "<class 'pandas.core.frame.DataFrame'>\n",
      "Int64Index: 240887 entries, 2828 to 244125\n",
      "Data columns (total 6 columns):\n",
      "event         240887 non-null object\n",
      "user_id       240887 non-null object\n",
      "event_time    240887 non-null int64\n",
      "group_id      240887 non-null object\n",
      "datetime      240887 non-null datetime64[ns]\n",
      "date          240887 non-null object\n",
      "dtypes: datetime64[ns](1), int64(1), object(4)\n",
      "memory usage: 12.9+ MB\n"
     ]
    },
    {
     "data": {
      "text/html": [
       "<div>\n",
       "<style scoped>\n",
       "    .dataframe tbody tr th:only-of-type {\n",
       "        vertical-align: middle;\n",
       "    }\n",
       "\n",
       "    .dataframe tbody tr th {\n",
       "        vertical-align: top;\n",
       "    }\n",
       "\n",
       "    .dataframe thead th {\n",
       "        text-align: right;\n",
       "    }\n",
       "</style>\n",
       "<table border=\"1\" class=\"dataframe\">\n",
       "  <thead>\n",
       "    <tr style=\"text-align: right;\">\n",
       "      <th></th>\n",
       "      <th>event</th>\n",
       "      <th>user_id</th>\n",
       "      <th>event_time</th>\n",
       "      <th>group_id</th>\n",
       "      <th>datetime</th>\n",
       "      <th>date</th>\n",
       "    </tr>\n",
       "  </thead>\n",
       "  <tbody>\n",
       "    <tr>\n",
       "      <td>2828</td>\n",
       "      <td>Tutorial</td>\n",
       "      <td>3737462046622621720</td>\n",
       "      <td>1564618048</td>\n",
       "      <td>246</td>\n",
       "      <td>2019-08-01 00:07:28</td>\n",
       "      <td>2019-08-01</td>\n",
       "    </tr>\n",
       "    <tr>\n",
       "      <td>2829</td>\n",
       "      <td>MainScreenAppear</td>\n",
       "      <td>3737462046622621720</td>\n",
       "      <td>1564618080</td>\n",
       "      <td>246</td>\n",
       "      <td>2019-08-01 00:08:00</td>\n",
       "      <td>2019-08-01</td>\n",
       "    </tr>\n",
       "    <tr>\n",
       "      <td>2830</td>\n",
       "      <td>MainScreenAppear</td>\n",
       "      <td>3737462046622621720</td>\n",
       "      <td>1564618135</td>\n",
       "      <td>246</td>\n",
       "      <td>2019-08-01 00:08:55</td>\n",
       "      <td>2019-08-01</td>\n",
       "    </tr>\n",
       "    <tr>\n",
       "      <td>2831</td>\n",
       "      <td>OffersScreenAppear</td>\n",
       "      <td>3737462046622621720</td>\n",
       "      <td>1564618138</td>\n",
       "      <td>246</td>\n",
       "      <td>2019-08-01 00:08:58</td>\n",
       "      <td>2019-08-01</td>\n",
       "    </tr>\n",
       "    <tr>\n",
       "      <td>2832</td>\n",
       "      <td>MainScreenAppear</td>\n",
       "      <td>1433840883824088890</td>\n",
       "      <td>1564618139</td>\n",
       "      <td>247</td>\n",
       "      <td>2019-08-01 00:08:59</td>\n",
       "      <td>2019-08-01</td>\n",
       "    </tr>\n",
       "  </tbody>\n",
       "</table>\n",
       "</div>"
      ],
      "text/plain": [
       "                   event              user_id  event_time group_id  \\\n",
       "2828            Tutorial  3737462046622621720  1564618048      246   \n",
       "2829    MainScreenAppear  3737462046622621720  1564618080      246   \n",
       "2830    MainScreenAppear  3737462046622621720  1564618135      246   \n",
       "2831  OffersScreenAppear  3737462046622621720  1564618138      246   \n",
       "2832    MainScreenAppear  1433840883824088890  1564618139      247   \n",
       "\n",
       "                datetime        date  \n",
       "2828 2019-08-01 00:07:28  2019-08-01  \n",
       "2829 2019-08-01 00:08:00  2019-08-01  \n",
       "2830 2019-08-01 00:08:55  2019-08-01  \n",
       "2831 2019-08-01 00:08:58  2019-08-01  \n",
       "2832 2019-08-01 00:08:59  2019-08-01  "
      ]
     },
     "execution_count": 10,
     "metadata": {},
     "output_type": "execute_result"
    }
   ],
   "source": [
    "data = data[data['datetime']>datetime.datetime(2019, 8, 1)]\n",
    "data.info()\n",
    "data.head()"
   ]
  },
  {
   "cell_type": "markdown",
   "metadata": {},
   "source": [
    "Исключим из базы строки с датами меньше 02.08.2019. Таких строк набралось 2826 шт. (1.15%). Приемлемо.\n",
    "Таким образом, мы располагаем базой за период с 01.08.2019 по 07.08.2019."
   ]
  },
  {
   "cell_type": "markdown",
   "metadata": {},
   "source": [
    "### Проверьте, что у вас есть пользователи из всех трёх экспериментальных групп."
   ]
  },
  {
   "cell_type": "code",
   "execution_count": 13,
   "metadata": {},
   "outputs": [
    {
     "name": "stdout",
     "output_type": "stream",
     "text": [
      "group_id\n",
      "246    2484\n",
      "247    2513\n",
      "248    2537\n",
      "Name: user_id, dtype: int64\n",
      "Общее количество пользователей во всех группах: 7534\n"
     ]
    }
   ],
   "source": [
    "data_user_group = data.loc[:, ['user_id', 'group_id']]\n",
    "data_user_group = data_user_group.drop_duplicates() \n",
    "group_user = data_user_group.groupby('group_id')['user_id'].count()\n",
    "print(group_user)\n",
    "print('Общее количество пользователей во всех группах:', data_user_group['user_id'].count())"
   ]
  },
  {
   "cell_type": "markdown",
   "metadata": {},
   "source": [
    "Проверим наличие пользователей в экспериментальных группах. Во всех трех группах пользователи есть. "
   ]
  },
  {
   "cell_type": "markdown",
   "metadata": {},
   "source": [
    "## 4. Изучение воронки событий"
   ]
  },
  {
   "cell_type": "markdown",
   "metadata": {},
   "source": [
    "### Посмотрите, какие события есть в логах, как часто они встречаются. Отсортируйте события по частоте."
   ]
  },
  {
   "cell_type": "code",
   "execution_count": 14,
   "metadata": {},
   "outputs": [
    {
     "name": "stdout",
     "output_type": "stream",
     "text": [
      "MainScreenAppear           117328\n",
      "OffersScreenAppear          46333\n",
      "CartScreenAppear            42303\n",
      "PaymentScreenSuccessful     33918\n",
      "Tutorial                     1005\n",
      "Name: event, dtype: int64\n"
     ]
    },
    {
     "data": {
      "image/png": "[encoded data removed]",
      "text/plain": [
       "<Figure size 936x432 with 1 Axes>"
      ]
     },
     "metadata": {},
     "output_type": "display_data"
    }
   ],
   "source": [
    "event_types = data['event'].value_counts()\n",
    "print(event_types)\n",
    "event_types.plot.pie(figsize = (13, 6), autopct='%1.2f%%', title = 'Распределение событий по видам');"
   ]
  },
  {
   "cell_type": "markdown",
   "metadata": {},
   "source": [
    "Посчитаем, как часто встречается каждое из событий. Построим график. Чаще всего встречается событие MainScreenAppear - 117,3 тыс. раз, далее следуют OffersScreenAppear - 46,3 тыс. раз, CartScreenAppear - 42,3 тыс. раз, PaymentScreenSuccessful - 33,9 тыс. раз и Tutorial - 1 тыс. раз."
   ]
  },
  {
   "cell_type": "markdown",
   "metadata": {},
   "source": [
    "### Посчитайте, сколько пользователей совершали каждое из этих событий. Отсортируйте события по числу пользователей. Посчитайте долю пользователей, которые хоть раз совершали событие. Предположите, в каком порядке происходят события. Все ли они выстраиваются в последовательную цепочку? Их не нужно учитывать при расчёте воронки."
   ]
  },
  {
   "cell_type": "code",
   "execution_count": 15,
   "metadata": {},
   "outputs": [
    {
     "data": {
      "text/plain": [
       "event\n",
       "CartScreenAppear           3734\n",
       "MainScreenAppear           7419\n",
       "OffersScreenAppear         4593\n",
       "PaymentScreenSuccessful    3539\n",
       "Tutorial                    840\n",
       "Name: user_id, dtype: int64"
      ]
     },
     "execution_count": 15,
     "metadata": {},
     "output_type": "execute_result"
    }
   ],
   "source": [
    "event_user_data = data.loc[:, ['event', 'user_id']]\n",
    "event_user_data = event_user_data.drop_duplicates() \n",
    "event_user = event_user_data.groupby('event')['user_id'].count()\n",
    "event_user"
   ]
  },
  {
   "cell_type": "code",
   "execution_count": 16,
   "metadata": {},
   "outputs": [
    {
     "data": {
      "text/html": [
       "<div>\n",
       "<style scoped>\n",
       "    .dataframe tbody tr th:only-of-type {\n",
       "        vertical-align: middle;\n",
       "    }\n",
       "\n",
       "    .dataframe tbody tr th {\n",
       "        vertical-align: top;\n",
       "    }\n",
       "\n",
       "    .dataframe thead th {\n",
       "        text-align: right;\n",
       "    }\n",
       "</style>\n",
       "<table border=\"1\" class=\"dataframe\">\n",
       "  <thead>\n",
       "    <tr style=\"text-align: right;\">\n",
       "      <th></th>\n",
       "      <th>event</th>\n",
       "      <th>user_id</th>\n",
       "      <th>share</th>\n",
       "    </tr>\n",
       "  </thead>\n",
       "  <tbody>\n",
       "    <tr>\n",
       "      <td>1</td>\n",
       "      <td>MainScreenAppear</td>\n",
       "      <td>7419</td>\n",
       "      <td>98.5</td>\n",
       "    </tr>\n",
       "    <tr>\n",
       "      <td>2</td>\n",
       "      <td>OffersScreenAppear</td>\n",
       "      <td>4593</td>\n",
       "      <td>61.0</td>\n",
       "    </tr>\n",
       "    <tr>\n",
       "      <td>0</td>\n",
       "      <td>CartScreenAppear</td>\n",
       "      <td>3734</td>\n",
       "      <td>49.6</td>\n",
       "    </tr>\n",
       "    <tr>\n",
       "      <td>3</td>\n",
       "      <td>PaymentScreenSuccessful</td>\n",
       "      <td>3539</td>\n",
       "      <td>47.0</td>\n",
       "    </tr>\n",
       "    <tr>\n",
       "      <td>4</td>\n",
       "      <td>Tutorial</td>\n",
       "      <td>840</td>\n",
       "      <td>11.1</td>\n",
       "    </tr>\n",
       "  </tbody>\n",
       "</table>\n",
       "</div>"
      ],
      "text/plain": [
       "                     event  user_id  share\n",
       "1         MainScreenAppear     7419   98.5\n",
       "2       OffersScreenAppear     4593   61.0\n",
       "0         CartScreenAppear     3734   49.6\n",
       "3  PaymentScreenSuccessful     3539   47.0\n",
       "4                 Tutorial      840   11.1"
      ]
     },
     "execution_count": 16,
     "metadata": {},
     "output_type": "execute_result"
    }
   ],
   "source": [
    "event_user = event_user.reset_index().sort_values(by='user_id', ascending = False)\n",
    "event_user['share'] = round(event_user['user_id'] / 7534*100, 1)\n",
    "event_user"
   ]
  },
  {
   "cell_type": "markdown",
   "metadata": {},
   "source": [
    "Рассчитаем сколько пользователей совершали каждое событие. Посчитаем долю пользоватейлей, совершивших каждое событие. \n",
    "Мы получили следующую картину:\n",
    "Посетили главный экран приложения - 98,5%;\n",
    "Посетили экран заказа конкретного товара - 61%;\n",
    "Посетили экран заполнения реквизитов платежной карты - 49,6%;\n",
    "Оплатили  товар - 47%;\n",
    "Посетили экран обучения работе с приложением - 11,1%.\n",
    "Очевидно, что стандартное (желаемое) поведение потребителя в приложении описывается следующим алгоритмом действий:\n",
    "1. посещение главного экрана;\n",
    "2. заказ товара;\n",
    "3. ввод реквизитов карты на соответствующем экране;\n",
    "4. осуществление оплаты.\n",
    "Мы имеем классическую воронку событий. Сюда не вписывается обучение работе с приложением."
   ]
  },
  {
   "cell_type": "markdown",
   "metadata": {},
   "source": [
    "### По воронке событий посчитайте, какая доля пользователей проходит на следующий шаг воронки (от числа пользователей на предыдущем). То есть для последовательности событий A → B → C посчитайте отношение числа пользователей с событием B к количеству пользователей с событием A, а также отношение числа пользователей с событием C к количеству пользователей с событием B."
   ]
  },
  {
   "cell_type": "code",
   "execution_count": 17,
   "metadata": {},
   "outputs": [
    {
     "data": {
      "text/html": [
       "<div>\n",
       "<style scoped>\n",
       "    .dataframe tbody tr th:only-of-type {\n",
       "        vertical-align: middle;\n",
       "    }\n",
       "\n",
       "    .dataframe tbody tr th {\n",
       "        vertical-align: top;\n",
       "    }\n",
       "\n",
       "    .dataframe thead th {\n",
       "        text-align: right;\n",
       "    }\n",
       "</style>\n",
       "<table border=\"1\" class=\"dataframe\">\n",
       "  <thead>\n",
       "    <tr style=\"text-align: right;\">\n",
       "      <th></th>\n",
       "      <th>event</th>\n",
       "      <th>user_id</th>\n",
       "      <th>share</th>\n",
       "      <th>share_shift</th>\n",
       "    </tr>\n",
       "  </thead>\n",
       "  <tbody>\n",
       "    <tr>\n",
       "      <td>0</td>\n",
       "      <td>MainScreenAppear</td>\n",
       "      <td>7419</td>\n",
       "      <td>98.5</td>\n",
       "      <td>NaN</td>\n",
       "    </tr>\n",
       "    <tr>\n",
       "      <td>1</td>\n",
       "      <td>OffersScreenAppear</td>\n",
       "      <td>4593</td>\n",
       "      <td>61.0</td>\n",
       "      <td>61.9</td>\n",
       "    </tr>\n",
       "    <tr>\n",
       "      <td>2</td>\n",
       "      <td>CartScreenAppear</td>\n",
       "      <td>3734</td>\n",
       "      <td>49.6</td>\n",
       "      <td>81.3</td>\n",
       "    </tr>\n",
       "    <tr>\n",
       "      <td>3</td>\n",
       "      <td>PaymentScreenSuccessful</td>\n",
       "      <td>3539</td>\n",
       "      <td>47.0</td>\n",
       "      <td>94.8</td>\n",
       "    </tr>\n",
       "    <tr>\n",
       "      <td>4</td>\n",
       "      <td>Tutorial</td>\n",
       "      <td>840</td>\n",
       "      <td>11.1</td>\n",
       "      <td>NaN</td>\n",
       "    </tr>\n",
       "  </tbody>\n",
       "</table>\n",
       "</div>"
      ],
      "text/plain": [
       "                     event  user_id  share  share_shift\n",
       "0         MainScreenAppear     7419   98.5          NaN\n",
       "1       OffersScreenAppear     4593   61.0         61.9\n",
       "2         CartScreenAppear     3734   49.6         81.3\n",
       "3  PaymentScreenSuccessful     3539   47.0         94.8\n",
       "4                 Tutorial      840   11.1          NaN"
      ]
     },
     "execution_count": 17,
     "metadata": {},
     "output_type": "execute_result"
    }
   ],
   "source": [
    "event_user = event_user.reset_index(drop=True)\n",
    "for i in range(3):\n",
    "    event_user.loc[i+1, 'share_shift'] = round(event_user.loc[i+1,'user_id'] / event_user.loc[i, 'user_id']*100, 1)\n",
    "event_user   "
   ]
  },
  {
   "cell_type": "markdown",
   "metadata": {},
   "source": [
    "Рассчитаем доли количества пользователей, переходящих на разные этапы воронки:\n",
    "На экран заказа товара переходит 61,9% пользователей, посетивших главный экран приложения.\n",
    "На экран ввода реквизитов карты переходят 81,3% пользователей, посетивших экран заказа товара.\n",
    "Оплачивают заказ 94,8% пользователей, посетивших экран реквизитов карты."
   ]
  },
  {
   "cell_type": "markdown",
   "metadata": {},
   "source": [
    "### На каком шаге теряете больше всего пользователей? Какая доля пользователей доходит от первого события до оплаты?"
   ]
  },
  {
   "cell_type": "code",
   "execution_count": 18,
   "metadata": {},
   "outputs": [
    {
     "data": {
      "text/html": [
       "<div>\n",
       "<style scoped>\n",
       "    .dataframe tbody tr th:only-of-type {\n",
       "        vertical-align: middle;\n",
       "    }\n",
       "\n",
       "    .dataframe tbody tr th {\n",
       "        vertical-align: top;\n",
       "    }\n",
       "\n",
       "    .dataframe thead th {\n",
       "        text-align: right;\n",
       "    }\n",
       "</style>\n",
       "<table border=\"1\" class=\"dataframe\">\n",
       "  <thead>\n",
       "    <tr style=\"text-align: right;\">\n",
       "      <th></th>\n",
       "      <th>event</th>\n",
       "      <th>user_id</th>\n",
       "      <th>share</th>\n",
       "      <th>share_shift</th>\n",
       "      <th>share_diff</th>\n",
       "    </tr>\n",
       "  </thead>\n",
       "  <tbody>\n",
       "    <tr>\n",
       "      <td>0</td>\n",
       "      <td>MainScreenAppear</td>\n",
       "      <td>7419</td>\n",
       "      <td>98.5</td>\n",
       "      <td>NaN</td>\n",
       "      <td>NaN</td>\n",
       "    </tr>\n",
       "    <tr>\n",
       "      <td>1</td>\n",
       "      <td>OffersScreenAppear</td>\n",
       "      <td>4593</td>\n",
       "      <td>61.0</td>\n",
       "      <td>61.9</td>\n",
       "      <td>-2826.0</td>\n",
       "    </tr>\n",
       "    <tr>\n",
       "      <td>2</td>\n",
       "      <td>CartScreenAppear</td>\n",
       "      <td>3734</td>\n",
       "      <td>49.6</td>\n",
       "      <td>81.3</td>\n",
       "      <td>-859.0</td>\n",
       "    </tr>\n",
       "    <tr>\n",
       "      <td>3</td>\n",
       "      <td>PaymentScreenSuccessful</td>\n",
       "      <td>3539</td>\n",
       "      <td>47.0</td>\n",
       "      <td>94.8</td>\n",
       "      <td>-195.0</td>\n",
       "    </tr>\n",
       "    <tr>\n",
       "      <td>4</td>\n",
       "      <td>Tutorial</td>\n",
       "      <td>840</td>\n",
       "      <td>11.1</td>\n",
       "      <td>NaN</td>\n",
       "      <td>NaN</td>\n",
       "    </tr>\n",
       "  </tbody>\n",
       "</table>\n",
       "</div>"
      ],
      "text/plain": [
       "                     event  user_id  share  share_shift  share_diff\n",
       "0         MainScreenAppear     7419   98.5          NaN         NaN\n",
       "1       OffersScreenAppear     4593   61.0         61.9     -2826.0\n",
       "2         CartScreenAppear     3734   49.6         81.3      -859.0\n",
       "3  PaymentScreenSuccessful     3539   47.0         94.8      -195.0\n",
       "4                 Tutorial      840   11.1          NaN         NaN"
      ]
     },
     "execution_count": 18,
     "metadata": {},
     "output_type": "execute_result"
    }
   ],
   "source": [
    "for i in range(3):\n",
    "    event_user.loc[i+1, 'share_diff'] = event_user.loc[i+1,'user_id'] - event_user.loc[i, 'user_id']\n",
    "event_user "
   ]
  },
  {
   "cell_type": "code",
   "execution_count": 17,
   "metadata": {},
   "outputs": [
    {
     "name": "stdout",
     "output_type": "stream",
     "text": [
      "От открытия приложения до оплаты доходит 47.7% пользователей\n"
     ]
    }
   ],
   "source": [
    "print('От открытия приложения до оплаты доходит', \n",
    "      '{:.1%}'.format(event_user.loc[3,'user_id'] / event_user.loc[0, 'user_id']), 'пользователей')"
   ]
  },
  {
   "cell_type": "markdown",
   "metadata": {},
   "source": [
    "Рассчитаем потери пользователей на каждом шаге (переход поользователей с одного со бытия на другое).\n",
    "Наибольшие потери пользователей наблюдаются на этапе перехода с главной страницы приложения на страницу заказа товара (-2826 чел.). Видимо, на главной странице есть содержимое, которое затрудняет переход на страницу заказа или отталкивает часть пользователей от заказа товара.\n",
    "От открытия приложения до оплаты доходит 47.7% пользователей. "
   ]
  },
  {
   "cell_type": "markdown",
   "metadata": {},
   "source": [
    "## 5. Изучение результатов эксперимента"
   ]
  },
  {
   "cell_type": "markdown",
   "metadata": {},
   "source": [
    "### Сколько пользователей в каждой экспериментальной группе?"
   ]
  },
  {
   "cell_type": "code",
   "execution_count": 19,
   "metadata": {},
   "outputs": [
    {
     "name": "stdout",
     "output_type": "stream",
     "text": [
      "group_id\n",
      "246    2484\n",
      "247    2513\n",
      "248    2537\n",
      "Name: user_id, dtype: int64\n"
     ]
    },
    {
     "data": {
      "image/png": "[encoded data removed]",
      "text/plain": [
       "<Figure size 936x432 with 1 Axes>"
      ]
     },
     "metadata": {},
     "output_type": "display_data"
    }
   ],
   "source": [
    "print(group_user)\n",
    "group_user.plot.pie(figsize = (13, 6), autopct='%1.2f%%', title = 'Распределение пользователей по группам');"
   ]
  },
  {
   "cell_type": "code",
   "execution_count": 20,
   "metadata": {},
   "outputs": [
    {
     "name": "stdout",
     "output_type": "stream",
     "text": [
      "Различие в численности групп А1 и А2 составляет: 1.15\n",
      "Различие в численности групп А1 и B составляет: 2.09\n",
      "Различие в численности групп А2 и B составляет: 0.95\n"
     ]
    }
   ],
   "source": [
    "group_user = group_user.reset_index()\n",
    "print('Различие в численности групп А1 и А2 составляет:', round((group_user['user_id'][1]-group_user['user_id'][0])/group_user['user_id'][1]*100, 2))\n",
    "print('Различие в численности групп А1 и B составляет:', round((group_user['user_id'][2]-group_user['user_id'][0])/group_user['user_id'][2]*100, 2))\n",
    "print('Различие в численности групп А2 и B составляет:', round((group_user['user_id'][2]-group_user['user_id'][1])/group_user['user_id'][2]*100, 2))"
   ]
  },
  {
   "cell_type": "markdown",
   "metadata": {},
   "source": [
    "Выведем количество пользователей в каждой группе. Как видно, по количеству пользователей группы практически равны. Отклонение по количеству пользователей самой многочисленной группы от самой малочисленной составляет 2,1%. В долях от общей совокупности максимальное отклонение составляет 0,6%. "
   ]
  },
  {
   "cell_type": "markdown",
   "metadata": {},
   "source": [
    "### Есть 2 контрольные группы для А/А-эксперимента, чтобы проверить корректность всех механизмов и расчётов. Проверьте, находят ли статистические критерии разницу между выборками 246 и 247."
   ]
  },
  {
   "cell_type": "code",
   "execution_count": 21,
   "metadata": {},
   "outputs": [
    {
     "data": {
      "text/html": [
       "<div>\n",
       "<style scoped>\n",
       "    .dataframe tbody tr th:only-of-type {\n",
       "        vertical-align: middle;\n",
       "    }\n",
       "\n",
       "    .dataframe tbody tr th {\n",
       "        vertical-align: top;\n",
       "    }\n",
       "\n",
       "    .dataframe thead th {\n",
       "        text-align: right;\n",
       "    }\n",
       "</style>\n",
       "<table border=\"1\" class=\"dataframe\">\n",
       "  <thead>\n",
       "    <tr style=\"text-align: right;\">\n",
       "      <th></th>\n",
       "      <th>user_id</th>\n",
       "      <th>group_id</th>\n",
       "    </tr>\n",
       "  </thead>\n",
       "  <tbody>\n",
       "  </tbody>\n",
       "</table>\n",
       "</div>"
      ],
      "text/plain": [
       "Empty DataFrame\n",
       "Columns: [user_id, group_id]\n",
       "Index: []"
      ]
     },
     "execution_count": 21,
     "metadata": {},
     "output_type": "execute_result"
    }
   ],
   "source": [
    "users_in_groups = data_user_group.groupby('user_id')['group_id'].count().reset_index()\n",
    "wrong_users = users_in_groups[users_in_groups['group_id']>1]\n",
    "wrong_users"
   ]
  },
  {
   "cell_type": "markdown",
   "metadata": {},
   "source": [
    "Проверим, нет ли пользователей, которые есть сразу в нескольких группах. Таковых не оказалось. Отклонения в количестве пользователей в группе также незначительные. Можем применять А/А и А/В тесты."
   ]
  },
  {
   "cell_type": "markdown",
   "metadata": {},
   "source": [
    "### Выберите самое популярное событие. Посчитайте число пользователей, совершивших это событие в каждой из контрольных групп. Посчитайте долю пользователей, совершивших это событие. Проверьте, будет ли отличие между группами статистически достоверным. Проделайте то же самое для всех других событий (удобно обернуть проверку в отдельную функцию). Можно ли сказать, что разбиение на группы работает корректно?"
   ]
  },
  {
   "cell_type": "code",
   "execution_count": 22,
   "metadata": {},
   "outputs": [
    {
     "name": "stdout",
     "output_type": "stream",
     "text": [
      "                   event              user_id group_id\n",
      "2828            Tutorial  3737462046622621720      246\n",
      "2829    MainScreenAppear  3737462046622621720      246\n",
      "2830    MainScreenAppear  3737462046622621720      246\n",
      "2831  OffersScreenAppear  3737462046622621720      246\n",
      "2834  OffersScreenAppear  3737462046622621720      246\n",
      "                   event              user_id group_id\n",
      "2832    MainScreenAppear  1433840883824088890      247\n",
      "2833    MainScreenAppear  4899590676214355127      247\n",
      "2838    MainScreenAppear  4899590676214355127      247\n",
      "2839  OffersScreenAppear  4899590676214355127      247\n",
      "2843  OffersScreenAppear  4899590676214355127      247\n",
      "                        event              user_id group_id\n",
      "2844         MainScreenAppear  4613461174774205834      248\n",
      "2845         MainScreenAppear  4613461174774205834      248\n",
      "2846         CartScreenAppear  4613461174774205834      248\n",
      "2847  PaymentScreenSuccessful  4613461174774205834      248\n",
      "2848       OffersScreenAppear  4613461174774205834      248\n"
     ]
    }
   ],
   "source": [
    "group_A1 = data[data['group_id']==246][['event', 'user_id', 'group_id']]\n",
    "group_A2 = data[data['group_id']==247][['event', 'user_id', 'group_id']]\n",
    "group_B = data[data['group_id']==248][['event', 'user_id', 'group_id']]\n",
    "print(group_A1.head())\n",
    "print(group_A2.head())\n",
    "print(group_B.head())"
   ]
  },
  {
   "cell_type": "markdown",
   "metadata": {},
   "source": [
    "Выделим группы А1, А2 и В."
   ]
  },
  {
   "cell_type": "code",
   "execution_count": 23,
   "metadata": {},
   "outputs": [
    {
     "name": "stdout",
     "output_type": "stream",
     "text": [
      "Количество пользователей в группе А1: 2484\n"
     ]
    },
    {
     "data": {
      "text/html": [
       "<div>\n",
       "<style scoped>\n",
       "    .dataframe tbody tr th:only-of-type {\n",
       "        vertical-align: middle;\n",
       "    }\n",
       "\n",
       "    .dataframe tbody tr th {\n",
       "        vertical-align: top;\n",
       "    }\n",
       "\n",
       "    .dataframe thead th {\n",
       "        text-align: right;\n",
       "    }\n",
       "</style>\n",
       "<table border=\"1\" class=\"dataframe\">\n",
       "  <thead>\n",
       "    <tr style=\"text-align: right;\">\n",
       "      <th></th>\n",
       "      <th>event</th>\n",
       "      <th>group_A1</th>\n",
       "    </tr>\n",
       "  </thead>\n",
       "  <tbody>\n",
       "    <tr>\n",
       "      <td>0</td>\n",
       "      <td>MainScreenAppear</td>\n",
       "      <td>2450</td>\n",
       "    </tr>\n",
       "    <tr>\n",
       "      <td>1</td>\n",
       "      <td>OffersScreenAppear</td>\n",
       "      <td>1542</td>\n",
       "    </tr>\n",
       "    <tr>\n",
       "      <td>2</td>\n",
       "      <td>CartScreenAppear</td>\n",
       "      <td>1266</td>\n",
       "    </tr>\n",
       "    <tr>\n",
       "      <td>3</td>\n",
       "      <td>PaymentScreenSuccessful</td>\n",
       "      <td>1200</td>\n",
       "    </tr>\n",
       "    <tr>\n",
       "      <td>4</td>\n",
       "      <td>Tutorial</td>\n",
       "      <td>278</td>\n",
       "    </tr>\n",
       "  </tbody>\n",
       "</table>\n",
       "</div>"
      ],
      "text/plain": [
       "                     event  group_A1\n",
       "0         MainScreenAppear      2450\n",
       "1       OffersScreenAppear      1542\n",
       "2         CartScreenAppear      1266\n",
       "3  PaymentScreenSuccessful      1200\n",
       "4                 Tutorial       278"
      ]
     },
     "execution_count": 23,
     "metadata": {},
     "output_type": "execute_result"
    }
   ],
   "source": [
    "group_A1 = group_A1.drop_duplicates() \n",
    "count_A1 = len(group_A1['user_id'].unique())\n",
    "print('Количество пользователей в группе А1:', count_A1)\n",
    "event_user_A1 = group_A1.groupby('event')['user_id'].count().reset_index().sort_values(by='user_id', ascending = False)\n",
    "event_user_A1 = event_user_A1.reset_index(drop = True)\n",
    "event_user_A1.columns = ['event', 'group_A1']\n",
    "event_user_A1"
   ]
  },
  {
   "cell_type": "code",
   "execution_count": 24,
   "metadata": {},
   "outputs": [
    {
     "name": "stdout",
     "output_type": "stream",
     "text": [
      "Количество пользователей в группе А2: 2513\n"
     ]
    },
    {
     "data": {
      "text/html": [
       "<div>\n",
       "<style scoped>\n",
       "    .dataframe tbody tr th:only-of-type {\n",
       "        vertical-align: middle;\n",
       "    }\n",
       "\n",
       "    .dataframe tbody tr th {\n",
       "        vertical-align: top;\n",
       "    }\n",
       "\n",
       "    .dataframe thead th {\n",
       "        text-align: right;\n",
       "    }\n",
       "</style>\n",
       "<table border=\"1\" class=\"dataframe\">\n",
       "  <thead>\n",
       "    <tr style=\"text-align: right;\">\n",
       "      <th></th>\n",
       "      <th>event</th>\n",
       "      <th>group_A2</th>\n",
       "    </tr>\n",
       "  </thead>\n",
       "  <tbody>\n",
       "    <tr>\n",
       "      <td>0</td>\n",
       "      <td>MainScreenAppear</td>\n",
       "      <td>2476</td>\n",
       "    </tr>\n",
       "    <tr>\n",
       "      <td>1</td>\n",
       "      <td>OffersScreenAppear</td>\n",
       "      <td>1520</td>\n",
       "    </tr>\n",
       "    <tr>\n",
       "      <td>2</td>\n",
       "      <td>CartScreenAppear</td>\n",
       "      <td>1238</td>\n",
       "    </tr>\n",
       "    <tr>\n",
       "      <td>3</td>\n",
       "      <td>PaymentScreenSuccessful</td>\n",
       "      <td>1158</td>\n",
       "    </tr>\n",
       "    <tr>\n",
       "      <td>4</td>\n",
       "      <td>Tutorial</td>\n",
       "      <td>283</td>\n",
       "    </tr>\n",
       "  </tbody>\n",
       "</table>\n",
       "</div>"
      ],
      "text/plain": [
       "                     event  group_A2\n",
       "0         MainScreenAppear      2476\n",
       "1       OffersScreenAppear      1520\n",
       "2         CartScreenAppear      1238\n",
       "3  PaymentScreenSuccessful      1158\n",
       "4                 Tutorial       283"
      ]
     },
     "execution_count": 24,
     "metadata": {},
     "output_type": "execute_result"
    }
   ],
   "source": [
    "group_A2 = group_A2.drop_duplicates() \n",
    "count_A2 = len(group_A2['user_id'].unique())\n",
    "print('Количество пользователей в группе А2:', count_A2)\n",
    "event_user_A2 = group_A2.groupby('event')['user_id'].count().reset_index().sort_values(by='user_id', ascending = False)\n",
    "event_user_A2 = event_user_A2.reset_index(drop = True)\n",
    "event_user_A2.columns = ['event', 'group_A2']\n",
    "event_user_A2"
   ]
  },
  {
   "cell_type": "code",
   "execution_count": 25,
   "metadata": {},
   "outputs": [
    {
     "name": "stdout",
     "output_type": "stream",
     "text": [
      "Количество пользователей в группе B: 2537\n"
     ]
    },
    {
     "data": {
      "text/html": [
       "<div>\n",
       "<style scoped>\n",
       "    .dataframe tbody tr th:only-of-type {\n",
       "        vertical-align: middle;\n",
       "    }\n",
       "\n",
       "    .dataframe tbody tr th {\n",
       "        vertical-align: top;\n",
       "    }\n",
       "\n",
       "    .dataframe thead th {\n",
       "        text-align: right;\n",
       "    }\n",
       "</style>\n",
       "<table border=\"1\" class=\"dataframe\">\n",
       "  <thead>\n",
       "    <tr style=\"text-align: right;\">\n",
       "      <th></th>\n",
       "      <th>event</th>\n",
       "      <th>group_B</th>\n",
       "    </tr>\n",
       "  </thead>\n",
       "  <tbody>\n",
       "    <tr>\n",
       "      <td>0</td>\n",
       "      <td>MainScreenAppear</td>\n",
       "      <td>2493</td>\n",
       "    </tr>\n",
       "    <tr>\n",
       "      <td>1</td>\n",
       "      <td>OffersScreenAppear</td>\n",
       "      <td>1531</td>\n",
       "    </tr>\n",
       "    <tr>\n",
       "      <td>2</td>\n",
       "      <td>CartScreenAppear</td>\n",
       "      <td>1230</td>\n",
       "    </tr>\n",
       "    <tr>\n",
       "      <td>3</td>\n",
       "      <td>PaymentScreenSuccessful</td>\n",
       "      <td>1181</td>\n",
       "    </tr>\n",
       "    <tr>\n",
       "      <td>4</td>\n",
       "      <td>Tutorial</td>\n",
       "      <td>279</td>\n",
       "    </tr>\n",
       "  </tbody>\n",
       "</table>\n",
       "</div>"
      ],
      "text/plain": [
       "                     event  group_B\n",
       "0         MainScreenAppear     2493\n",
       "1       OffersScreenAppear     1531\n",
       "2         CartScreenAppear     1230\n",
       "3  PaymentScreenSuccessful     1181\n",
       "4                 Tutorial      279"
      ]
     },
     "execution_count": 25,
     "metadata": {},
     "output_type": "execute_result"
    }
   ],
   "source": [
    "group_B = group_B.drop_duplicates() \n",
    "count_B = len(group_B['user_id'].unique())\n",
    "print('Количество пользователей в группе B:', count_B)\n",
    "event_user_B = group_B.groupby('event')['user_id'].count().reset_index().sort_values(by='user_id', ascending = False)\n",
    "event_user_B = event_user_B.reset_index(drop = True)\n",
    "event_user_B.columns = ['event', 'group_B']\n",
    "event_user_B"
   ]
  },
  {
   "cell_type": "markdown",
   "metadata": {},
   "source": [
    "Рассчитаем количества пользователей, совершавших события по всем группам."
   ]
  },
  {
   "cell_type": "code",
   "execution_count": 26,
   "metadata": {},
   "outputs": [
    {
     "data": {
      "text/html": [
       "<div>\n",
       "<style scoped>\n",
       "    .dataframe tbody tr th:only-of-type {\n",
       "        vertical-align: middle;\n",
       "    }\n",
       "\n",
       "    .dataframe tbody tr th {\n",
       "        vertical-align: top;\n",
       "    }\n",
       "\n",
       "    .dataframe thead th {\n",
       "        text-align: right;\n",
       "    }\n",
       "</style>\n",
       "<table border=\"1\" class=\"dataframe\">\n",
       "  <thead>\n",
       "    <tr style=\"text-align: right;\">\n",
       "      <th></th>\n",
       "      <th>event</th>\n",
       "      <th>group_A1</th>\n",
       "      <th>group_A2</th>\n",
       "      <th>group_B</th>\n",
       "    </tr>\n",
       "  </thead>\n",
       "  <tbody>\n",
       "    <tr>\n",
       "      <td>0</td>\n",
       "      <td>MainScreenAppear</td>\n",
       "      <td>2450</td>\n",
       "      <td>2476</td>\n",
       "      <td>2493</td>\n",
       "    </tr>\n",
       "    <tr>\n",
       "      <td>1</td>\n",
       "      <td>OffersScreenAppear</td>\n",
       "      <td>1542</td>\n",
       "      <td>1520</td>\n",
       "      <td>1531</td>\n",
       "    </tr>\n",
       "    <tr>\n",
       "      <td>2</td>\n",
       "      <td>CartScreenAppear</td>\n",
       "      <td>1266</td>\n",
       "      <td>1238</td>\n",
       "      <td>1230</td>\n",
       "    </tr>\n",
       "    <tr>\n",
       "      <td>3</td>\n",
       "      <td>PaymentScreenSuccessful</td>\n",
       "      <td>1200</td>\n",
       "      <td>1158</td>\n",
       "      <td>1181</td>\n",
       "    </tr>\n",
       "    <tr>\n",
       "      <td>4</td>\n",
       "      <td>Tutorial</td>\n",
       "      <td>278</td>\n",
       "      <td>283</td>\n",
       "      <td>279</td>\n",
       "    </tr>\n",
       "  </tbody>\n",
       "</table>\n",
       "</div>"
      ],
      "text/plain": [
       "                     event  group_A1  group_A2  group_B\n",
       "0         MainScreenAppear      2450      2476     2493\n",
       "1       OffersScreenAppear      1542      1520     1531\n",
       "2         CartScreenAppear      1266      1238     1230\n",
       "3  PaymentScreenSuccessful      1200      1158     1181\n",
       "4                 Tutorial       278       283      279"
      ]
     },
     "execution_count": 26,
     "metadata": {},
     "output_type": "execute_result"
    }
   ],
   "source": [
    "groups = event_user_A1.merge(event_user_A2, on = 'event').merge(event_user_B, on='event')\n",
    "groups"
   ]
  },
  {
   "cell_type": "code",
   "execution_count": 27,
   "metadata": {},
   "outputs": [],
   "source": [
    "alpha = 0.01\n",
    "def test_eq_shares(s1, t1, s2, t2):\n",
    "    p1 = s1/t1 # пропорция конверсий в первой группе\n",
    "    p2 = s2/t2 # пропорция конверсий во второй группе\n",
    "    print('p1 =', p1)\n",
    "    print('p2 =', p2)\n",
    "    p_combined = (s1 + s2) / (t1 + t2)# пропорция конверсий в комбинированном датасете\n",
    "    difference = p1 - p2 # разница пропорций в датасетах\n",
    "    z_value = difference / mth.sqrt(p_combined * (1 - p_combined) * (1/t1 + 1/t2))\n",
    "    distr = st.norm(0, 1) # задаем стандартное нормальное распределение (среднее 0, ст.отклонение 1)\n",
    "    p_value = (1 - distr.cdf(abs(z_value))) * 2\n",
    "    print('p-значение: ', p_value)\n",
    "    print('Уровень значимости равен', alpha) \n",
    "    if (p_value < alpha):\n",
    "        print(\"Отвергаем нулевую гипотезу: между долями есть значимая разница\")\n",
    "    else:\n",
    "        print(\"Не получилось отвергнуть нулевую гипотезу, нет оснований считать доли разными\")"
   ]
  },
  {
   "cell_type": "markdown",
   "metadata": {},
   "source": [
    "Учитывая, что нам много раз придется проверять гипотезы о равенстве долей, создаем функцию проверки гипотезы."
   ]
  },
  {
   "cell_type": "markdown",
   "metadata": {},
   "source": [
    "#### Нулевая гипотеза для всех нижеприведенных случаев: доли пользователей, совершивших нижеуказанное событие, в группах А1 и А2 равны."
   ]
  },
  {
   "cell_type": "code",
   "execution_count": 28,
   "metadata": {},
   "outputs": [
    {
     "name": "stdout",
     "output_type": "stream",
     "text": [
      "Событие: MainScreenAppear\n",
      "p1 = 0.9863123993558777\n",
      "p2 = 0.9852765618782332\n",
      "p-значение:  0.7570597232046099\n",
      "Уровень значимости равен 0.01\n",
      "Не получилось отвергнуть нулевую гипотезу, нет оснований считать доли разными\n"
     ]
    }
   ],
   "source": [
    "print('Событие: MainScreenAppear')\n",
    "test_eq_shares(groups.loc[0, 'group_A1'], count_A1, groups.loc[0, 'group_A2'], count_A2)"
   ]
  },
  {
   "cell_type": "markdown",
   "metadata": {},
   "source": [
    "Проверяем нулевую гипотезу о равенстве долей пользователей, совершивших событие MainScreenAppear, в группах А1 и А2. \n",
    "Как видно, отвергнуть гипотезу не получилось. Вероятно, доли равны."
   ]
  },
  {
   "cell_type": "code",
   "execution_count": 29,
   "metadata": {},
   "outputs": [
    {
     "name": "stdout",
     "output_type": "stream",
     "text": [
      "Событие: OffersScreenAppear\n",
      "p1 = 0.6207729468599034\n",
      "p2 = 0.6048547552725826\n",
      "p-значение:  0.2480954578522181\n",
      "Уровень значимости равен 0.01\n",
      "Не получилось отвергнуть нулевую гипотезу, нет оснований считать доли разными\n",
      "\n",
      "Событие: CartScreenAppear\n",
      "p1 = 0.5096618357487923\n",
      "p2 = 0.4926382809391166\n",
      "p-значение:  0.22883372237997213\n",
      "Уровень значимости равен 0.01\n",
      "Не получилось отвергнуть нулевую гипотезу, нет оснований считать доли разными\n",
      "\n",
      "Событие: PaymentScreenSuccessful\n",
      "p1 = 0.4830917874396135\n",
      "p2 = 0.46080382013529647\n",
      "p-значение:  0.11456679313141849\n",
      "Уровень значимости равен 0.01\n",
      "Не получилось отвергнуть нулевую гипотезу, нет оснований считать доли разными\n",
      "\n",
      "Событие: Tutorial\n",
      "p1 = 0.11191626409017713\n",
      "p2 = 0.11261440509351373\n",
      "p-значение:  0.9376996189257114\n",
      "Уровень значимости равен 0.01\n",
      "Не получилось отвергнуть нулевую гипотезу, нет оснований считать доли разными\n",
      "\n"
     ]
    }
   ],
   "source": [
    "for i in range(4):\n",
    "    print('Событие:', groups.loc[i+1, 'event'])\n",
    "    test_eq_shares(groups.loc[i+1, 'group_A1'], count_A1, groups.loc[i+1, 'group_A2'], count_A2)\n",
    "    print('')"
   ]
  },
  {
   "cell_type": "markdown",
   "metadata": {},
   "source": [
    "Аналогично проверяем нулевые гипотезы о равенстве долей пользователей, совершивших остальные события.\n",
    "Все гипотезы отвергнуть не получилось. Можно сделать вывод о том, что группы А1 и А2 идентичны. Разбиение на группы было корректным."
   ]
  },
  {
   "cell_type": "markdown",
   "metadata": {},
   "source": [
    "### Аналогично поступите с группой с изменённым шрифтом. Сравните результаты с каждой из контрольных групп в отдельности по каждому событию. Сравните результаты с объединённой контрольной группой. Какие выводы из эксперимента можно сделать?"
   ]
  },
  {
   "cell_type": "markdown",
   "metadata": {},
   "source": [
    "#### Нулевая гипотеза для всех нижеприведенных случаев: доли пользователей, совершивших нижеуказанное событие, в группах А1 и B равны."
   ]
  },
  {
   "cell_type": "code",
   "execution_count": 30,
   "metadata": {},
   "outputs": [
    {
     "name": "stdout",
     "output_type": "stream",
     "text": [
      "Событие: MainScreenAppear\n",
      "p1 = 0.9863123993558777\n",
      "p2 = 0.9826566811194324\n",
      "p-значение:  0.2949721933554552\n",
      "Уровень значимости равен 0.01\n",
      "Не получилось отвергнуть нулевую гипотезу, нет оснований считать доли разными\n",
      "\n",
      "Событие: OffersScreenAppear\n",
      "p1 = 0.6207729468599034\n",
      "p2 = 0.6034686637761135\n",
      "p-значение:  0.20836205402738917\n",
      "Уровень значимости равен 0.01\n",
      "Не получилось отвергнуть нулевую гипотезу, нет оснований считать доли разными\n",
      "\n",
      "Событие: CartScreenAppear\n",
      "p1 = 0.5096618357487923\n",
      "p2 = 0.48482459597950334\n",
      "p-значение:  0.07842923237520116\n",
      "Уровень значимости равен 0.01\n",
      "Не получилось отвергнуть нулевую гипотезу, нет оснований считать доли разными\n",
      "\n",
      "Событие: PaymentScreenSuccessful\n",
      "p1 = 0.4830917874396135\n",
      "p2 = 0.46551044540796216\n",
      "p-значение:  0.2122553275697796\n",
      "Уровень значимости равен 0.01\n",
      "Не получилось отвергнуть нулевую гипотезу, нет оснований считать доли разными\n",
      "\n",
      "Событие: Tutorial\n",
      "p1 = 0.11191626409017713\n",
      "p2 = 0.10997240835632636\n",
      "p-значение:  0.8264294010087645\n",
      "Уровень значимости равен 0.01\n",
      "Не получилось отвергнуть нулевую гипотезу, нет оснований считать доли разными\n",
      "\n"
     ]
    }
   ],
   "source": [
    "for i in range(5):\n",
    "    print('Событие:', groups.loc[i, 'event'])\n",
    "    test_eq_shares(groups.loc[i, 'group_A1'], count_A1, groups.loc[i, 'group_B'], count_B)\n",
    "    print('')"
   ]
  },
  {
   "cell_type": "markdown",
   "metadata": {},
   "source": [
    "Как и в случае А/А теста, сравнение долей пользователей групп А1 и В, совершивших события,  показало, что статистически значимых отличий между группами А1 и В нет."
   ]
  },
  {
   "cell_type": "code",
   "execution_count": 31,
   "metadata": {},
   "outputs": [
    {
     "name": "stdout",
     "output_type": "stream",
     "text": [
      "Событие: MainScreenAppear\n",
      "p1 = 0.9852765618782332\n",
      "p2 = 0.9826566811194324\n",
      "p-значение:  0.4587053616621515\n",
      "Уровень значимости равен 0.01\n",
      "Не получилось отвергнуть нулевую гипотезу, нет оснований считать доли разными\n",
      "\n",
      "Событие: OffersScreenAppear\n",
      "p1 = 0.6048547552725826\n",
      "p2 = 0.6034686637761135\n",
      "p-значение:  0.9197817830592261\n",
      "Уровень значимости равен 0.01\n",
      "Не получилось отвергнуть нулевую гипотезу, нет оснований считать доли разными\n",
      "\n",
      "Событие: CartScreenAppear\n",
      "p1 = 0.4926382809391166\n",
      "p2 = 0.48482459597950334\n",
      "p-значение:  0.5786197879539783\n",
      "Уровень значимости равен 0.01\n",
      "Не получилось отвергнуть нулевую гипотезу, нет оснований считать доли разными\n",
      "\n",
      "Событие: PaymentScreenSuccessful\n",
      "p1 = 0.46080382013529647\n",
      "p2 = 0.46551044540796216\n",
      "p-значение:  0.7373415053803964\n",
      "Уровень значимости равен 0.01\n",
      "Не получилось отвергнуть нулевую гипотезу, нет оснований считать доли разными\n",
      "\n",
      "Событие: Tutorial\n",
      "p1 = 0.11261440509351373\n",
      "p2 = 0.10997240835632636\n",
      "p-значение:  0.765323922474501\n",
      "Уровень значимости равен 0.01\n",
      "Не получилось отвергнуть нулевую гипотезу, нет оснований считать доли разными\n",
      "\n"
     ]
    }
   ],
   "source": [
    "for i in range(5):\n",
    "    print('Событие:', groups.loc[i, 'event'])\n",
    "    test_eq_shares(groups.loc[i, 'group_A2'], count_A2, groups.loc[i, 'group_B'], count_B)\n",
    "    print('')"
   ]
  },
  {
   "cell_type": "markdown",
   "metadata": {},
   "source": [
    "Как и в ранее рассмотренных случаях, сравнение долей пользователей групп А2 и В, совершивших события, показало, что группы А2 и В идентичны."
   ]
  },
  {
   "cell_type": "code",
   "execution_count": 32,
   "metadata": {},
   "outputs": [
    {
     "name": "stdout",
     "output_type": "stream",
     "text": [
      "Общее количество пользователей в группах А1 и А2: 4997\n"
     ]
    },
    {
     "data": {
      "text/html": [
       "<div>\n",
       "<style scoped>\n",
       "    .dataframe tbody tr th:only-of-type {\n",
       "        vertical-align: middle;\n",
       "    }\n",
       "\n",
       "    .dataframe tbody tr th {\n",
       "        vertical-align: top;\n",
       "    }\n",
       "\n",
       "    .dataframe thead th {\n",
       "        text-align: right;\n",
       "    }\n",
       "</style>\n",
       "<table border=\"1\" class=\"dataframe\">\n",
       "  <thead>\n",
       "    <tr style=\"text-align: right;\">\n",
       "      <th></th>\n",
       "      <th>event</th>\n",
       "      <th>group_A1</th>\n",
       "      <th>group_A2</th>\n",
       "      <th>group_B</th>\n",
       "      <th>group_A</th>\n",
       "    </tr>\n",
       "  </thead>\n",
       "  <tbody>\n",
       "    <tr>\n",
       "      <td>0</td>\n",
       "      <td>MainScreenAppear</td>\n",
       "      <td>2450</td>\n",
       "      <td>2476</td>\n",
       "      <td>2493</td>\n",
       "      <td>4926</td>\n",
       "    </tr>\n",
       "    <tr>\n",
       "      <td>1</td>\n",
       "      <td>OffersScreenAppear</td>\n",
       "      <td>1542</td>\n",
       "      <td>1520</td>\n",
       "      <td>1531</td>\n",
       "      <td>3062</td>\n",
       "    </tr>\n",
       "    <tr>\n",
       "      <td>2</td>\n",
       "      <td>CartScreenAppear</td>\n",
       "      <td>1266</td>\n",
       "      <td>1238</td>\n",
       "      <td>1230</td>\n",
       "      <td>2504</td>\n",
       "    </tr>\n",
       "    <tr>\n",
       "      <td>3</td>\n",
       "      <td>PaymentScreenSuccessful</td>\n",
       "      <td>1200</td>\n",
       "      <td>1158</td>\n",
       "      <td>1181</td>\n",
       "      <td>2358</td>\n",
       "    </tr>\n",
       "    <tr>\n",
       "      <td>4</td>\n",
       "      <td>Tutorial</td>\n",
       "      <td>278</td>\n",
       "      <td>283</td>\n",
       "      <td>279</td>\n",
       "      <td>561</td>\n",
       "    </tr>\n",
       "  </tbody>\n",
       "</table>\n",
       "</div>"
      ],
      "text/plain": [
       "                     event  group_A1  group_A2  group_B  group_A\n",
       "0         MainScreenAppear      2450      2476     2493     4926\n",
       "1       OffersScreenAppear      1542      1520     1531     3062\n",
       "2         CartScreenAppear      1266      1238     1230     2504\n",
       "3  PaymentScreenSuccessful      1200      1158     1181     2358\n",
       "4                 Tutorial       278       283      279      561"
      ]
     },
     "execution_count": 32,
     "metadata": {},
     "output_type": "execute_result"
    }
   ],
   "source": [
    "count_A = count_A1 + count_A2\n",
    "print('Общее количество пользователей в группах А1 и А2:', count_A)\n",
    "groups['group_A'] = groups['group_A1'] + groups['group_A2']\n",
    "groups"
   ]
  },
  {
   "cell_type": "code",
   "execution_count": 33,
   "metadata": {},
   "outputs": [
    {
     "name": "stdout",
     "output_type": "stream",
     "text": [
      "Событие: MainScreenAppear\n",
      "p1 = 0.9857914748849309\n",
      "p2 = 0.9826566811194324\n",
      "p-значение:  0.29424526837179577\n",
      "Уровень значимости равен 0.01\n",
      "Не получилось отвергнуть нулевую гипотезу, нет оснований считать доли разными\n",
      "\n",
      "Событие: OffersScreenAppear\n",
      "p1 = 0.6127676605963578\n",
      "p2 = 0.6034686637761135\n",
      "p-значение:  0.43425549655188256\n",
      "Уровень значимости равен 0.01\n",
      "Не получилось отвергнуть нулевую гипотезу, нет оснований считать доли разными\n",
      "\n",
      "Событие: CartScreenAppear\n",
      "p1 = 0.5011006603962378\n",
      "p2 = 0.48482459597950334\n",
      "p-значение:  0.18175875284404386\n",
      "Уровень значимости равен 0.01\n",
      "Не получилось отвергнуть нулевую гипотезу, нет оснований считать доли разными\n",
      "\n",
      "Событие: PaymentScreenSuccessful\n",
      "p1 = 0.47188312987792674\n",
      "p2 = 0.46551044540796216\n",
      "p-значение:  0.6004294282308704\n",
      "Уровень значимости равен 0.01\n",
      "Не получилось отвергнуть нулевую гипотезу, нет оснований считать доли разными\n",
      "\n",
      "Событие: Tutorial\n",
      "p1 = 0.11226736041624975\n",
      "p2 = 0.10997240835632636\n",
      "p-значение:  0.764862472531507\n",
      "Уровень значимости равен 0.01\n",
      "Не получилось отвергнуть нулевую гипотезу, нет оснований считать доли разными\n",
      "\n"
     ]
    }
   ],
   "source": [
    "for i in range(5):\n",
    "    print('Событие:', groups.loc[i, 'event'])\n",
    "    test_eq_shares(groups.loc[i, 'group_A'], count_A, groups.loc[i, 'group_B'], count_B)\n",
    "    print('')"
   ]
  },
  {
   "cell_type": "markdown",
   "metadata": {},
   "source": [
    "Объединим группы А1 и А2 в общую группу А. Проведем сравнение долей пользователей групп А и В.\n",
    "Результаты те же. Группы А и В идентичны. Менеджеры зря пугались, пользователей новыми шрифтами не оттолкнешь, нужно что-то посерьезнее :)."
   ]
  },
  {
   "cell_type": "markdown",
   "metadata": {},
   "source": [
    "### Какой уровень значимости вы выбрали при проверке статистических гипотез выше? Посчитайте, сколько проверок статистических гипотез вы сделали. При уровне значимости 0.1 каждый десятый раз можно получать ложный результат. Какой уровень значимости стоит применить? Если вы хотите изменить его, проделайте предыдущие пункты и проверьте свои выводы."
   ]
  },
  {
   "cell_type": "markdown",
   "metadata": {},
   "source": [
    "Уровень значимости изначально выбрал 0,05, но потом снизил его до 0,01. 1% риска ошибки - приемлемый риск.\n",
    "Выводы не изменились.\n",
    "В ходе исследования было сделано 20 проверок статистических гипотез."
   ]
  },
  {
   "cell_type": "markdown",
   "metadata": {},
   "source": [
    "## Выводы\n",
    "\n",
    "1.\tПользователи при взаимодействии с мобильным приложением образуют воронку событий. На каждый следующий этап переходит меньше пользователей, чем было на предыдущем.\n",
    "2.\tВоронка событий имеет следующие этапы: \n",
    "\tпосещение главного экрана;\n",
    "\tзаказ товара;\n",
    "\tввод реквизитов карты на соответствующем экране;\n",
    "\tосуществление оплаты.\n",
    "3.\tНаибольшие потери пользователей происходят при переходе на этап OffersScreenAppear (заказ товара).\n",
    "4.\tДо этапа оплаты доходят 47% пользователей приложения или 47,7% от количества пользователей, посетивших главный экран приложения.\n",
    "5.\tА/А тест показал, что группы А1 и А2 идентичны. Разбиение на группы было корректным.\n",
    "6.\tА/В тест показал, что группы А и В также идентичны, т.е. для пользователей не имеет значения, какой шрифт используется."
   ]
  }
 ],
 "metadata": {
  "kernelspec": {
   "display_name": "Python 3",
   "language": "python",
   "name": "python3"
  },
  "language_info": {
   "codemirror_mode": {
    "name": "ipython",
    "version": 3
   },
   "file_extension": ".py",
   "mimetype": "text/x-python",
   "name": "python",
   "nbconvert_exporter": "python",
   "pygments_lexer": "ipython3",
   "version": "3.8.3"
  }
 },
 "nbformat": 4,
 "nbformat_minor": 2
}
