{
 "cells": [
  {
   "cell_type": "markdown",
   "metadata": {},
   "source": [
    "# Исследование объявлений о продаже квартир\n",
    "\n",
    "В вашем распоряжении архив объявлений о продаже квартир в Санкт-Петербурге и соседних населённых пунктов за несколько лет. \n",
    "Цель исследования: определить рыночную стоимость объектов недвижимости. \n",
    "Задача исследования: определить, от каких факторов зависит цена объекта недвижимости.  \n",
    "\n",
    "По каждой квартире на продажу доступны два вида данных. Первые вписаны пользователем, вторые — получены автоматически на основе картографических данных. Например, расстояние до центра, аэропорта, ближайшего парка и водоёма. "
   ]
  },
  {
   "cell_type": "markdown",
   "metadata": {},
   "source": [
    "План проекта\n",
    "1.\tИсследование данных \n",
    "2. Предобработка данных\n",
    "3. Расчет новых показателей\n",
    "4. Исследовательский анализ данных\n",
    "5. Вывод"
   ]
  },
  {
   "cell_type": "markdown",
   "metadata": {},
   "source": [
    "### 1. Исследование данных"
   ]
  },
  {
   "cell_type": "code",
   "execution_count": 1,
   "metadata": {},
   "outputs": [
    {
     "name": "stderr",
     "output_type": "stream",
     "text": [
      "/opt/conda/lib/python3.7/site-packages/ipykernel_launcher.py:2: ParserWarning: Falling back to the 'python' engine because the 'c' engine does not support regex separators (separators > 1 char and different from '\\s+' are interpreted as regex); you can avoid this warning by specifying engine='python'.\n",
      "  \n"
     ]
    },
    {
     "name": "stdout",
     "output_type": "stream",
     "text": [
      "<class 'pandas.core.frame.DataFrame'>\n",
      "RangeIndex: 23699 entries, 0 to 23698\n",
      "Data columns (total 22 columns):\n",
      "total_images            23699 non-null int64\n",
      "last_price              23699 non-null float64\n",
      "total_area              23699 non-null float64\n",
      "first_day_exposition    23699 non-null object\n",
      "rooms                   23699 non-null int64\n",
      "ceiling_height          14504 non-null float64\n",
      "floors_total            23613 non-null float64\n",
      "living_area             21796 non-null float64\n",
      "floor                   23699 non-null int64\n",
      "is_apartment            2775 non-null object\n",
      "studio                  23699 non-null bool\n",
      "open_plan               23699 non-null bool\n",
      "kitchen_area            21421 non-null float64\n",
      "balcony                 12180 non-null float64\n",
      "locality_name           23650 non-null object\n",
      "airports_nearest        18157 non-null float64\n",
      "cityCenters_nearest     18180 non-null float64\n",
      "parks_around3000        18181 non-null float64\n",
      "parks_nearest           8079 non-null float64\n",
      "ponds_around3000        18181 non-null float64\n",
      "ponds_nearest           9110 non-null float64\n",
      "days_exposition         20518 non-null float64\n",
      "dtypes: bool(2), float64(14), int64(3), object(3)\n",
      "memory usage: 3.7+ MB\n"
     ]
    },
    {
     "data": {
      "text/html": [
       "<div>\n",
       "<style scoped>\n",
       "    .dataframe tbody tr th:only-of-type {\n",
       "        vertical-align: middle;\n",
       "    }\n",
       "\n",
       "    .dataframe tbody tr th {\n",
       "        vertical-align: top;\n",
       "    }\n",
       "\n",
       "    .dataframe thead th {\n",
       "        text-align: right;\n",
       "    }\n",
       "</style>\n",
       "<table border=\"1\" class=\"dataframe\">\n",
       "  <thead>\n",
       "    <tr style=\"text-align: right;\">\n",
       "      <th></th>\n",
       "      <th>total_images</th>\n",
       "      <th>last_price</th>\n",
       "      <th>total_area</th>\n",
       "      <th>rooms</th>\n",
       "      <th>ceiling_height</th>\n",
       "      <th>floors_total</th>\n",
       "      <th>living_area</th>\n",
       "      <th>floor</th>\n",
       "      <th>kitchen_area</th>\n",
       "      <th>balcony</th>\n",
       "      <th>airports_nearest</th>\n",
       "      <th>cityCenters_nearest</th>\n",
       "      <th>parks_around3000</th>\n",
       "      <th>parks_nearest</th>\n",
       "      <th>ponds_around3000</th>\n",
       "      <th>ponds_nearest</th>\n",
       "      <th>days_exposition</th>\n",
       "    </tr>\n",
       "  </thead>\n",
       "  <tbody>\n",
       "    <tr>\n",
       "      <td>count</td>\n",
       "      <td>23699.000000</td>\n",
       "      <td>2.369900e+04</td>\n",
       "      <td>23699.000000</td>\n",
       "      <td>23699.000000</td>\n",
       "      <td>14504.000000</td>\n",
       "      <td>23613.000000</td>\n",
       "      <td>21796.000000</td>\n",
       "      <td>23699.000000</td>\n",
       "      <td>21421.000000</td>\n",
       "      <td>12180.000000</td>\n",
       "      <td>18157.000000</td>\n",
       "      <td>18180.000000</td>\n",
       "      <td>18181.000000</td>\n",
       "      <td>8079.000000</td>\n",
       "      <td>18181.000000</td>\n",
       "      <td>9110.000000</td>\n",
       "      <td>20518.000000</td>\n",
       "    </tr>\n",
       "    <tr>\n",
       "      <td>mean</td>\n",
       "      <td>9.858475</td>\n",
       "      <td>6.541549e+06</td>\n",
       "      <td>60.348651</td>\n",
       "      <td>2.070636</td>\n",
       "      <td>2.771499</td>\n",
       "      <td>10.673824</td>\n",
       "      <td>34.457852</td>\n",
       "      <td>5.892358</td>\n",
       "      <td>10.569807</td>\n",
       "      <td>1.150082</td>\n",
       "      <td>28793.672193</td>\n",
       "      <td>14191.277833</td>\n",
       "      <td>0.611408</td>\n",
       "      <td>490.804555</td>\n",
       "      <td>0.770255</td>\n",
       "      <td>517.980900</td>\n",
       "      <td>180.888634</td>\n",
       "    </tr>\n",
       "    <tr>\n",
       "      <td>std</td>\n",
       "      <td>5.682529</td>\n",
       "      <td>1.088701e+07</td>\n",
       "      <td>35.654083</td>\n",
       "      <td>1.078405</td>\n",
       "      <td>1.261056</td>\n",
       "      <td>6.597173</td>\n",
       "      <td>22.030445</td>\n",
       "      <td>4.885249</td>\n",
       "      <td>5.905438</td>\n",
       "      <td>1.071300</td>\n",
       "      <td>12630.880622</td>\n",
       "      <td>8608.386210</td>\n",
       "      <td>0.802074</td>\n",
       "      <td>342.317995</td>\n",
       "      <td>0.938346</td>\n",
       "      <td>277.720643</td>\n",
       "      <td>219.727988</td>\n",
       "    </tr>\n",
       "    <tr>\n",
       "      <td>min</td>\n",
       "      <td>0.000000</td>\n",
       "      <td>1.219000e+04</td>\n",
       "      <td>12.000000</td>\n",
       "      <td>0.000000</td>\n",
       "      <td>1.000000</td>\n",
       "      <td>1.000000</td>\n",
       "      <td>2.000000</td>\n",
       "      <td>1.000000</td>\n",
       "      <td>1.300000</td>\n",
       "      <td>0.000000</td>\n",
       "      <td>0.000000</td>\n",
       "      <td>181.000000</td>\n",
       "      <td>0.000000</td>\n",
       "      <td>1.000000</td>\n",
       "      <td>0.000000</td>\n",
       "      <td>13.000000</td>\n",
       "      <td>1.000000</td>\n",
       "    </tr>\n",
       "    <tr>\n",
       "      <td>25%</td>\n",
       "      <td>6.000000</td>\n",
       "      <td>3.400000e+06</td>\n",
       "      <td>40.000000</td>\n",
       "      <td>1.000000</td>\n",
       "      <td>2.520000</td>\n",
       "      <td>5.000000</td>\n",
       "      <td>18.600000</td>\n",
       "      <td>2.000000</td>\n",
       "      <td>7.000000</td>\n",
       "      <td>0.000000</td>\n",
       "      <td>18585.000000</td>\n",
       "      <td>9238.000000</td>\n",
       "      <td>0.000000</td>\n",
       "      <td>288.000000</td>\n",
       "      <td>0.000000</td>\n",
       "      <td>294.000000</td>\n",
       "      <td>45.000000</td>\n",
       "    </tr>\n",
       "    <tr>\n",
       "      <td>50%</td>\n",
       "      <td>9.000000</td>\n",
       "      <td>4.650000e+06</td>\n",
       "      <td>52.000000</td>\n",
       "      <td>2.000000</td>\n",
       "      <td>2.650000</td>\n",
       "      <td>9.000000</td>\n",
       "      <td>30.000000</td>\n",
       "      <td>4.000000</td>\n",
       "      <td>9.100000</td>\n",
       "      <td>1.000000</td>\n",
       "      <td>26726.000000</td>\n",
       "      <td>13098.500000</td>\n",
       "      <td>0.000000</td>\n",
       "      <td>455.000000</td>\n",
       "      <td>1.000000</td>\n",
       "      <td>502.000000</td>\n",
       "      <td>95.000000</td>\n",
       "    </tr>\n",
       "    <tr>\n",
       "      <td>75%</td>\n",
       "      <td>14.000000</td>\n",
       "      <td>6.800000e+06</td>\n",
       "      <td>69.900000</td>\n",
       "      <td>3.000000</td>\n",
       "      <td>2.800000</td>\n",
       "      <td>16.000000</td>\n",
       "      <td>42.300000</td>\n",
       "      <td>8.000000</td>\n",
       "      <td>12.000000</td>\n",
       "      <td>2.000000</td>\n",
       "      <td>37273.000000</td>\n",
       "      <td>16293.000000</td>\n",
       "      <td>1.000000</td>\n",
       "      <td>612.000000</td>\n",
       "      <td>1.000000</td>\n",
       "      <td>729.000000</td>\n",
       "      <td>232.000000</td>\n",
       "    </tr>\n",
       "    <tr>\n",
       "      <td>max</td>\n",
       "      <td>50.000000</td>\n",
       "      <td>7.630000e+08</td>\n",
       "      <td>900.000000</td>\n",
       "      <td>19.000000</td>\n",
       "      <td>100.000000</td>\n",
       "      <td>60.000000</td>\n",
       "      <td>409.700000</td>\n",
       "      <td>33.000000</td>\n",
       "      <td>112.000000</td>\n",
       "      <td>5.000000</td>\n",
       "      <td>84869.000000</td>\n",
       "      <td>65968.000000</td>\n",
       "      <td>3.000000</td>\n",
       "      <td>3190.000000</td>\n",
       "      <td>3.000000</td>\n",
       "      <td>1344.000000</td>\n",
       "      <td>1580.000000</td>\n",
       "    </tr>\n",
       "  </tbody>\n",
       "</table>\n",
       "</div>"
      ],
      "text/plain": [
       "       total_images    last_price    total_area         rooms  ceiling_height  \\\n",
       "count  23699.000000  2.369900e+04  23699.000000  23699.000000    14504.000000   \n",
       "mean       9.858475  6.541549e+06     60.348651      2.070636        2.771499   \n",
       "std        5.682529  1.088701e+07     35.654083      1.078405        1.261056   \n",
       "min        0.000000  1.219000e+04     12.000000      0.000000        1.000000   \n",
       "25%        6.000000  3.400000e+06     40.000000      1.000000        2.520000   \n",
       "50%        9.000000  4.650000e+06     52.000000      2.000000        2.650000   \n",
       "75%       14.000000  6.800000e+06     69.900000      3.000000        2.800000   \n",
       "max       50.000000  7.630000e+08    900.000000     19.000000      100.000000   \n",
       "\n",
       "       floors_total   living_area         floor  kitchen_area       balcony  \\\n",
       "count  23613.000000  21796.000000  23699.000000  21421.000000  12180.000000   \n",
       "mean      10.673824     34.457852      5.892358     10.569807      1.150082   \n",
       "std        6.597173     22.030445      4.885249      5.905438      1.071300   \n",
       "min        1.000000      2.000000      1.000000      1.300000      0.000000   \n",
       "25%        5.000000     18.600000      2.000000      7.000000      0.000000   \n",
       "50%        9.000000     30.000000      4.000000      9.100000      1.000000   \n",
       "75%       16.000000     42.300000      8.000000     12.000000      2.000000   \n",
       "max       60.000000    409.700000     33.000000    112.000000      5.000000   \n",
       "\n",
       "       airports_nearest  cityCenters_nearest  parks_around3000  parks_nearest  \\\n",
       "count      18157.000000         18180.000000      18181.000000    8079.000000   \n",
       "mean       28793.672193         14191.277833          0.611408     490.804555   \n",
       "std        12630.880622          8608.386210          0.802074     342.317995   \n",
       "min            0.000000           181.000000          0.000000       1.000000   \n",
       "25%        18585.000000          9238.000000          0.000000     288.000000   \n",
       "50%        26726.000000         13098.500000          0.000000     455.000000   \n",
       "75%        37273.000000         16293.000000          1.000000     612.000000   \n",
       "max        84869.000000         65968.000000          3.000000    3190.000000   \n",
       "\n",
       "       ponds_around3000  ponds_nearest  days_exposition  \n",
       "count      18181.000000    9110.000000     20518.000000  \n",
       "mean           0.770255     517.980900       180.888634  \n",
       "std            0.938346     277.720643       219.727988  \n",
       "min            0.000000      13.000000         1.000000  \n",
       "25%            0.000000     294.000000        45.000000  \n",
       "50%            1.000000     502.000000        95.000000  \n",
       "75%            1.000000     729.000000       232.000000  \n",
       "max            3.000000    1344.000000      1580.000000  "
      ]
     },
     "execution_count": 1,
     "metadata": {},
     "output_type": "execute_result"
    }
   ],
   "source": [
    "import pandas as pd\n",
    "data = pd.read_csv('/datasets/real_estate_data.csv', sep = '\\\\t')\n",
    "data.info() # информация о таблице\n",
    "data.describe()# вывод описательной статистики по переменным"
   ]
  },
  {
   "cell_type": "code",
   "execution_count": 2,
   "metadata": {},
   "outputs": [
    {
     "data": {
      "text/html": [
       "<div>\n",
       "<style scoped>\n",
       "    .dataframe tbody tr th:only-of-type {\n",
       "        vertical-align: middle;\n",
       "    }\n",
       "\n",
       "    .dataframe tbody tr th {\n",
       "        vertical-align: top;\n",
       "    }\n",
       "\n",
       "    .dataframe thead th {\n",
       "        text-align: right;\n",
       "    }\n",
       "</style>\n",
       "<table border=\"1\" class=\"dataframe\">\n",
       "  <thead>\n",
       "    <tr style=\"text-align: right;\">\n",
       "      <th></th>\n",
       "      <th>total_images</th>\n",
       "      <th>last_price</th>\n",
       "      <th>total_area</th>\n",
       "      <th>first_day_exposition</th>\n",
       "      <th>rooms</th>\n",
       "      <th>ceiling_height</th>\n",
       "      <th>floors_total</th>\n",
       "      <th>living_area</th>\n",
       "      <th>floor</th>\n",
       "      <th>is_apartment</th>\n",
       "      <th>...</th>\n",
       "      <th>kitchen_area</th>\n",
       "      <th>balcony</th>\n",
       "      <th>locality_name</th>\n",
       "      <th>airports_nearest</th>\n",
       "      <th>cityCenters_nearest</th>\n",
       "      <th>parks_around3000</th>\n",
       "      <th>parks_nearest</th>\n",
       "      <th>ponds_around3000</th>\n",
       "      <th>ponds_nearest</th>\n",
       "      <th>days_exposition</th>\n",
       "    </tr>\n",
       "  </thead>\n",
       "  <tbody>\n",
       "    <tr>\n",
       "      <td>0</td>\n",
       "      <td>20</td>\n",
       "      <td>13000000.0</td>\n",
       "      <td>108.0</td>\n",
       "      <td>2019-03-07T00:00:00</td>\n",
       "      <td>3</td>\n",
       "      <td>2.70</td>\n",
       "      <td>16.0</td>\n",
       "      <td>51.0</td>\n",
       "      <td>8</td>\n",
       "      <td>NaN</td>\n",
       "      <td>...</td>\n",
       "      <td>25.0</td>\n",
       "      <td>NaN</td>\n",
       "      <td>Санкт-Петербург</td>\n",
       "      <td>18863.0</td>\n",
       "      <td>16028.0</td>\n",
       "      <td>1.0</td>\n",
       "      <td>482.0</td>\n",
       "      <td>2.0</td>\n",
       "      <td>755.0</td>\n",
       "      <td>NaN</td>\n",
       "    </tr>\n",
       "    <tr>\n",
       "      <td>1</td>\n",
       "      <td>7</td>\n",
       "      <td>3350000.0</td>\n",
       "      <td>40.4</td>\n",
       "      <td>2018-12-04T00:00:00</td>\n",
       "      <td>1</td>\n",
       "      <td>NaN</td>\n",
       "      <td>11.0</td>\n",
       "      <td>18.6</td>\n",
       "      <td>1</td>\n",
       "      <td>NaN</td>\n",
       "      <td>...</td>\n",
       "      <td>11.0</td>\n",
       "      <td>2.0</td>\n",
       "      <td>посёлок Шушары</td>\n",
       "      <td>12817.0</td>\n",
       "      <td>18603.0</td>\n",
       "      <td>0.0</td>\n",
       "      <td>NaN</td>\n",
       "      <td>0.0</td>\n",
       "      <td>NaN</td>\n",
       "      <td>81.0</td>\n",
       "    </tr>\n",
       "    <tr>\n",
       "      <td>2</td>\n",
       "      <td>10</td>\n",
       "      <td>5196000.0</td>\n",
       "      <td>56.0</td>\n",
       "      <td>2015-08-20T00:00:00</td>\n",
       "      <td>2</td>\n",
       "      <td>NaN</td>\n",
       "      <td>5.0</td>\n",
       "      <td>34.3</td>\n",
       "      <td>4</td>\n",
       "      <td>NaN</td>\n",
       "      <td>...</td>\n",
       "      <td>8.3</td>\n",
       "      <td>0.0</td>\n",
       "      <td>Санкт-Петербург</td>\n",
       "      <td>21741.0</td>\n",
       "      <td>13933.0</td>\n",
       "      <td>1.0</td>\n",
       "      <td>90.0</td>\n",
       "      <td>2.0</td>\n",
       "      <td>574.0</td>\n",
       "      <td>558.0</td>\n",
       "    </tr>\n",
       "    <tr>\n",
       "      <td>3</td>\n",
       "      <td>0</td>\n",
       "      <td>64900000.0</td>\n",
       "      <td>159.0</td>\n",
       "      <td>2015-07-24T00:00:00</td>\n",
       "      <td>3</td>\n",
       "      <td>NaN</td>\n",
       "      <td>14.0</td>\n",
       "      <td>NaN</td>\n",
       "      <td>9</td>\n",
       "      <td>NaN</td>\n",
       "      <td>...</td>\n",
       "      <td>NaN</td>\n",
       "      <td>0.0</td>\n",
       "      <td>Санкт-Петербург</td>\n",
       "      <td>28098.0</td>\n",
       "      <td>6800.0</td>\n",
       "      <td>2.0</td>\n",
       "      <td>84.0</td>\n",
       "      <td>3.0</td>\n",
       "      <td>234.0</td>\n",
       "      <td>424.0</td>\n",
       "    </tr>\n",
       "    <tr>\n",
       "      <td>4</td>\n",
       "      <td>2</td>\n",
       "      <td>10000000.0</td>\n",
       "      <td>100.0</td>\n",
       "      <td>2018-06-19T00:00:00</td>\n",
       "      <td>2</td>\n",
       "      <td>3.03</td>\n",
       "      <td>14.0</td>\n",
       "      <td>32.0</td>\n",
       "      <td>13</td>\n",
       "      <td>NaN</td>\n",
       "      <td>...</td>\n",
       "      <td>41.0</td>\n",
       "      <td>NaN</td>\n",
       "      <td>Санкт-Петербург</td>\n",
       "      <td>31856.0</td>\n",
       "      <td>8098.0</td>\n",
       "      <td>2.0</td>\n",
       "      <td>112.0</td>\n",
       "      <td>1.0</td>\n",
       "      <td>48.0</td>\n",
       "      <td>121.0</td>\n",
       "    </tr>\n",
       "  </tbody>\n",
       "</table>\n",
       "<p>5 rows × 22 columns</p>\n",
       "</div>"
      ],
      "text/plain": [
       "   total_images  last_price  total_area first_day_exposition  rooms  \\\n",
       "0            20  13000000.0       108.0  2019-03-07T00:00:00      3   \n",
       "1             7   3350000.0        40.4  2018-12-04T00:00:00      1   \n",
       "2            10   5196000.0        56.0  2015-08-20T00:00:00      2   \n",
       "3             0  64900000.0       159.0  2015-07-24T00:00:00      3   \n",
       "4             2  10000000.0       100.0  2018-06-19T00:00:00      2   \n",
       "\n",
       "   ceiling_height  floors_total  living_area  floor is_apartment  ...  \\\n",
       "0            2.70          16.0         51.0      8          NaN  ...   \n",
       "1             NaN          11.0         18.6      1          NaN  ...   \n",
       "2             NaN           5.0         34.3      4          NaN  ...   \n",
       "3             NaN          14.0          NaN      9          NaN  ...   \n",
       "4            3.03          14.0         32.0     13          NaN  ...   \n",
       "\n",
       "   kitchen_area  balcony    locality_name  airports_nearest  \\\n",
       "0          25.0      NaN  Санкт-Петербург           18863.0   \n",
       "1          11.0      2.0   посёлок Шушары           12817.0   \n",
       "2           8.3      0.0  Санкт-Петербург           21741.0   \n",
       "3           NaN      0.0  Санкт-Петербург           28098.0   \n",
       "4          41.0      NaN  Санкт-Петербург           31856.0   \n",
       "\n",
       "  cityCenters_nearest  parks_around3000  parks_nearest  ponds_around3000  \\\n",
       "0             16028.0               1.0          482.0               2.0   \n",
       "1             18603.0               0.0            NaN               0.0   \n",
       "2             13933.0               1.0           90.0               2.0   \n",
       "3              6800.0               2.0           84.0               3.0   \n",
       "4              8098.0               2.0          112.0               1.0   \n",
       "\n",
       "   ponds_nearest  days_exposition  \n",
       "0          755.0              NaN  \n",
       "1            NaN             81.0  \n",
       "2          574.0            558.0  \n",
       "3          234.0            424.0  \n",
       "4           48.0            121.0  \n",
       "\n",
       "[5 rows x 22 columns]"
      ]
     },
     "execution_count": 2,
     "metadata": {},
     "output_type": "execute_result"
    }
   ],
   "source": [
    "data.head()"
   ]
  },
  {
   "cell_type": "markdown",
   "metadata": {},
   "source": [
    "### Вывод"
   ]
  },
  {
   "cell_type": "markdown",
   "metadata": {},
   "source": [
    "Выведена информация о данных. Выведена описательная статистика по переменным для поиска пропусков данных и аномалий. В данных есть пропуски, об этом свидетельствует количество значений в переменных ceiling_height, floors_total, living_area, kitchen_area, balcony, locality_name, airports_nearest, cityCenters_nearest, parks_around3000, ponds_nearest и days_exposition."
   ]
  },
  {
   "cell_type": "markdown",
   "metadata": {},
   "source": [
    "### 2. Предобработка данных"
   ]
  },
  {
   "cell_type": "markdown",
   "metadata": {},
   "source": []
  },
  {
   "cell_type": "code",
   "execution_count": 3,
   "metadata": {},
   "outputs": [
    {
     "name": "stdout",
     "output_type": "stream",
     "text": [
      "<class 'pandas.core.frame.DataFrame'>\n",
      "Int64Index: 23613 entries, 0 to 23698\n",
      "Data columns (total 22 columns):\n",
      "total_images            23613 non-null int64\n",
      "last_price              23613 non-null float64\n",
      "total_area              23613 non-null float64\n",
      "first_day_exposition    23613 non-null object\n",
      "rooms                   23613 non-null int64\n",
      "ceiling_height          14495 non-null float64\n",
      "floors_total            23613 non-null float64\n",
      "living_area             21743 non-null float64\n",
      "floor                   23613 non-null int64\n",
      "is_apartment            2775 non-null object\n",
      "studio                  23613 non-null bool\n",
      "open_plan               23613 non-null bool\n",
      "kitchen_area            21382 non-null float64\n",
      "balcony                 12133 non-null float64\n",
      "locality_name           23565 non-null object\n",
      "airports_nearest        18081 non-null float64\n",
      "cityCenters_nearest     18104 non-null float64\n",
      "parks_around3000        18105 non-null float64\n",
      "parks_nearest           8045 non-null float64\n",
      "ponds_around3000        18105 non-null float64\n",
      "ponds_nearest           9061 non-null float64\n",
      "days_exposition         20441 non-null float64\n",
      "dtypes: bool(2), float64(14), int64(3), object(3)\n",
      "memory usage: 3.8+ MB\n"
     ]
    }
   ],
   "source": [
    "data = data.dropna(subset = ['floors_total'])# удаление строк с пропусками в переменной floors_total\n",
    "data.info()# проверка удаления"
   ]
  },
  {
   "cell_type": "markdown",
   "metadata": {},
   "source": [
    "В переменной floors_total есть пропущенные значения (86 шт.). Учитывая, что высотность дома не возможно определить косвенными методами, а также малое число пропусков, соответствующие строки будут удалены. Проверяем удаление. Скорее всего, пропуски возникли из-за того, что авторы объявлений забыли указать этот параметр."
   ]
  },
  {
   "cell_type": "code",
   "execution_count": 4,
   "metadata": {},
   "outputs": [
    {
     "name": "stdout",
     "output_type": "stream",
     "text": [
      "[nan False True]\n",
      "[False  True]\n"
     ]
    }
   ],
   "source": [
    "print(data['is_apartment'].unique())# просмотр уникальных значений переменной is_apartment\n",
    "data['is_apartment'] = data['is_apartment'].fillna(value = False)# заполнение пропусков значениями False\n",
    "print(data['is_apartment'].unique()) # проверка правильности заполнения"
   ]
  },
  {
   "cell_type": "markdown",
   "metadata": {},
   "source": [
    "В переменной is_apartment очень мало заполненных значений. При рассмотрении уникальных значений переменной выявлено 3 варианта значений: True, False и Nan (пропуск). Скорее всего, пропущенные значения означают, что рассматриваемые объекты не являются аппартаментами. Заполняем пропуски значениями False. Проверяем заполнение."
   ]
  },
  {
   "cell_type": "code",
   "execution_count": 5,
   "metadata": {},
   "outputs": [
    {
     "name": "stdout",
     "output_type": "stream",
     "text": [
      "[nan  2.  0.  1.  5.  4.  3.]\n",
      "[0. 2. 1. 5. 4. 3.]\n"
     ]
    }
   ],
   "source": [
    "print(data['balcony'].unique())# просмотр уникальных значений переменной balcony\n",
    "data['balcony'] = data['balcony'].fillna(value = 0)# заполнение пропусков нолями\n",
    "print(data['balcony'].unique())# проверка правильности заполнения"
   ]
  },
  {
   "cell_type": "markdown",
   "metadata": {},
   "source": [
    "В переменной balcony есть пропущенные значения. Если человек не указал число балконов — скорее всего, их нет. Такие пропуски правильно заменить на 0. Заменяем пропуски на 0. Проверяем заполнение. "
   ]
  },
  {
   "cell_type": "code",
   "execution_count": 6,
   "metadata": {},
   "outputs": [
    {
     "name": "stdout",
     "output_type": "stream",
     "text": [
      "1\n",
      "rooms\n",
      "0     2.750\n",
      "1     2.640\n",
      "2     2.600\n",
      "3     2.650\n",
      "4     2.800\n",
      "5     3.100\n",
      "6     3.200\n",
      "7     3.380\n",
      "8     3.420\n",
      "9     3.200\n",
      "10    3.150\n",
      "11    3.415\n",
      "12    2.800\n",
      "14    3.160\n",
      "15    3.500\n",
      "16    3.000\n",
      "19      NaN\n",
      "Name: ceiling_height, dtype: float64\n"
     ]
    },
    {
     "name": "stderr",
     "output_type": "stream",
     "text": [
      "/opt/conda/lib/python3.7/site-packages/numpy/lib/nanfunctions.py:1113: RuntimeWarning: Mean of empty slice\n",
      "  return np.nanmean(a, axis, out=out, keepdims=keepdims)\n"
     ]
    }
   ],
   "source": [
    "data['ceiling_height'] = data.groupby('rooms')['ceiling_height'].apply(lambda x: x.fillna(x.median()))\n",
    "check_ch = data['ceiling_height'].isnull().sum()\n",
    "print(check_ch)# проверка на наличие пропусков\n",
    "print(data.groupby('rooms')['ceiling_height'].median())# поиск незаполненного значения в переменной ceiling_height"
   ]
  },
  {
   "cell_type": "markdown",
   "metadata": {},
   "source": [
    "В СССР, а впоследствии в РФ строились типовые дома с типовыми квартирами. Исходя из этого, предположим, что высота потолков в квартирах с одинаковым количеством комнат также будет одинакова.\n",
    "Выявленные ранее пропущенные значения в переменной ceiling_height заполняем медианными значениями соответствующих показателей в зависимости от количества комнат (rooms). Проверяем переменные на наличие пропусков.\n",
    "Единственное незаполненное значение относится к 19-комнатной квартире. Учитывая, что она единственная в совокупности, заполнять ее не будем, т.к. в данном случае высота потолка вряд ли существенно повлияет на цену квартиры."
   ]
  },
  {
   "cell_type": "code",
   "execution_count": 7,
   "metadata": {},
   "outputs": [
    {
     "name": "stdout",
     "output_type": "stream",
     "text": [
      "0\n"
     ]
    }
   ],
   "source": [
    "data['living_area'] = data.groupby('rooms')['living_area'].apply(lambda x: x.fillna(x.median()))\n",
    "check_la = data['living_area'].isnull().sum()\n",
    "print(check_la)# проверка на наличие пропусков"
   ]
  },
  {
   "cell_type": "markdown",
   "metadata": {},
   "source": [
    "Учитывая, что дома строятся по типовым проектам, жилая площадь в квартирах с определенным количеством комнат также будет одинаковой. Выявленные ранее пропущенные значения в переменной living_area заполняем медианными значениями соответствующих показателей в зависимости от количества комнат (rooms). Проверяем переменные на наличие пропусков. Возможная причина появления пропусков: авторы объявлений затруднились определить жилую площадь по тем или иным причинам (например, из-за перепланировок квартир)."
   ]
  },
  {
   "cell_type": "code",
   "execution_count": 8,
   "metadata": {
    "scrolled": true
   },
   "outputs": [
    {
     "name": "stdout",
     "output_type": "stream",
     "text": [
      "194\n",
      "0\n"
     ]
    }
   ],
   "source": [
    "data['kitchen_area'] = data.groupby('rooms')['kitchen_area'].apply(lambda x: x.fillna(x.median()))\n",
    "check_la = data['kitchen_area'].isnull().sum()\n",
    "print(check_la)# проверка на наличие пропусков\n",
    "data['kitchen_area'] = data['kitchen_area'].fillna(0)\n",
    "check_la = data['kitchen_area'].isnull().sum()\n",
    "print(check_la)# проверка на наличие пропусков"
   ]
  },
  {
   "cell_type": "markdown",
   "metadata": {},
   "source": [
    "Учитывая, что дома строятся по типовым проектам, площадь кухни в квартирах с определенным количеством комнат также будет одинаковой. Выявленные ранее пропущенные значения в переменной kitchen_area заполняем медианными значениями соответствующих показателей в зависимости от количества комнат (rooms). Проверяем переменную на наличие пропусков.\n",
    "Осталось 194 пропуска. Предположительно, это квартиры студии и комнаты в коммунальных квартирах, т.е. квартиры, у которых нет кухни. Присваиваем пропущенным данным значение 0. Проверяем переменную на наличие пропусков. "
   ]
  },
  {
   "cell_type": "code",
   "execution_count": 9,
   "metadata": {},
   "outputs": [
    {
     "name": "stdout",
     "output_type": "stream",
     "text": [
      "locality_name\n",
      "посёлок Левашово     25727.0\n",
      "посёлок Шушары       24212.0\n",
      "посёлок Стрельна     23506.0\n",
      "посёлок Парголово    19311.0\n",
      "Санкт-Петербург      12242.0\n",
      "Name: cityCenters_nearest, dtype: float64\n",
      "<class 'pandas.core.frame.DataFrame'>\n",
      "Int64Index: 23613 entries, 0 to 23698\n",
      "Data columns (total 22 columns):\n",
      "total_images            23613 non-null int64\n",
      "last_price              23613 non-null float64\n",
      "total_area              23613 non-null float64\n",
      "first_day_exposition    23613 non-null object\n",
      "rooms                   23613 non-null int64\n",
      "ceiling_height          23612 non-null float64\n",
      "floors_total            23613 non-null float64\n",
      "living_area             23613 non-null float64\n",
      "floor                   23613 non-null int64\n",
      "is_apartment            23613 non-null bool\n",
      "studio                  23613 non-null bool\n",
      "open_plan               23613 non-null bool\n",
      "kitchen_area            23613 non-null float64\n",
      "balcony                 23613 non-null float64\n",
      "locality_name           23613 non-null object\n",
      "airports_nearest        18081 non-null float64\n",
      "cityCenters_nearest     18104 non-null float64\n",
      "parks_around3000        18105 non-null float64\n",
      "parks_nearest           8045 non-null float64\n",
      "ponds_around3000        18105 non-null float64\n",
      "ponds_nearest           9061 non-null float64\n",
      "days_exposition         20441 non-null float64\n",
      "dtypes: bool(3), float64(14), int64(3), object(2)\n",
      "memory usage: 3.7+ MB\n",
      "22\n"
     ]
    }
   ],
   "source": [
    "ln_cc = data.groupby('locality_name')['cityCenters_nearest'].median()# расчет медиан удаленности от центра по населенным пунктам\n",
    "ln_cc = ln_cc.dropna() # очистка полученных данных от нулей\n",
    "print(ln_cc.sort_values(ascending = False).tail())\n",
    "def loc_nam(city_c):\n",
    "    ccn = city_c['cityCenters_nearest']\n",
    "    if ccn <= ln_cc['Санкт-Петербург']: # сравнение расстояний от центра населенного пункта с медианным растоянием от центра Санкт-Петербурга\n",
    "        return 'Санкт-Петербург'\n",
    "    else:\n",
    "        return 'Другие'\n",
    "p = data.apply(loc_nam, axis=1)\n",
    "data['locality_name'] = data['locality_name'].fillna(p)# заполнение пропусков \n",
    "data.info() # проверка на пропущенные значения\n",
    "print(data.loc[data.loc[:, 'locality_name'] == 'Другие']['locality_name'].count())# проверка сколько населенных пунктов отнесены к значению \"Другие\""
   ]
  },
  {
   "cell_type": "markdown",
   "metadata": {},
   "source": [
    "Для заполнения данных по столбцу locality_name рассчитаем медианное расстояние от центра по каждому населенному пункту. Пропущенным значениям по столбцу locality_name присваиваем значение \"Санкт-Петербург\" (минимальное медианное значение расстояний от центра), если соответствующее значение переменной cityCenters_nearest меньше медианного значения для г. Санкт-Петербург, в противном случае присваиваем значение \"Другие\". Проверяем заполнение столбца. Проверяем, сколько значений переменной заполнились признаком \"Другие\". Их 22. Т.к. большинство пропущенных значений были отнесены к Санкт-Петербургу, то причиной пропусков явлвлось мнение авторов объявлений, что если они продают квартиру в г. Санкт-Петербурге, то название населенного пункта указывать не надо."
   ]
  },
  {
   "cell_type": "code",
   "execution_count": 10,
   "metadata": {},
   "outputs": [
    {
     "name": "stdout",
     "output_type": "stream",
     "text": [
      "5532\n",
      "5432\n"
     ]
    }
   ],
   "source": [
    "check_an = data['airports_nearest'].isnull().sum()\n",
    "print(check_an)# проверка на наличие пропусков\n",
    "data['airports_nearest'] = data.groupby('locality_name')['airports_nearest'].apply(lambda x: x.fillna(x.median()))\n",
    "check_an = data['airports_nearest'].isnull().sum()\n",
    "print(check_an)# проверка на наличие пропусков"
   ]
  },
  {
   "cell_type": "markdown",
   "metadata": {},
   "source": [
    "Для заполнения данных по столбцу airports_nearest рассчитаем медианное расстояние до аэропорта по каждому населенному пункту.Выявленные ранее пропущенные значения в переменной airports_nearest заполняем медианными значениями соответствующих показателей в зависимости от населенного пункта, в котором находится квартира. Таким образом удалось заполнить 100 пропусков. Остальные значения обоснованно заполнить невозможно. Будем считать, что данные квартиры находятся от аэропорта очень далеко. "
   ]
  },
  {
   "cell_type": "code",
   "execution_count": 35,
   "metadata": {},
   "outputs": [
    {
     "name": "stdout",
     "output_type": "stream",
     "text": [
      "5509\n",
      "5432\n"
     ]
    }
   ],
   "source": [
    "check_ccn = data['cityCenters_nearest'].isnull().sum()\n",
    "print(check_ccn)# проверка на наличие пропусков\n",
    "data['cityCenters_nearest'] = data.groupby('locality_name')['cityCenters_nearest'].apply(lambda x: x.fillna(x.median()))\n",
    "check_an = data['cityCenters_nearest'].isnull().sum()\n",
    "print(check_an)# проверка на наличие пропусков"
   ]
  },
  {
   "cell_type": "markdown",
   "metadata": {},
   "source": [
    "Для заполнения данных по столбцу cityCenters_nearest рассчитаем медианное расстояние до аэропорта по каждому населенному пункту.Выявленные ранее пропущенные значения в переменной cityCenters_nearest заполняем медианными значениями соответствующих показателей в зависимости от населенного пункта, в котором находится квартира. Таким образом удалось заполнить 77 пропусков. Остальные значения обоснованно заполнить невозможно. Будем считать, что данные квартиры находятся в удаленных населенных пунктах, которые не являются городами. "
   ]
  },
  {
   "cell_type": "code",
   "execution_count": 11,
   "metadata": {},
   "outputs": [
    {
     "name": "stdout",
     "output_type": "stream",
     "text": [
      "0\n"
     ]
    }
   ],
   "source": [
    "print(data.duplicated().sum())# проверка на дубли"
   ]
  },
  {
   "cell_type": "markdown",
   "metadata": {},
   "source": [
    "Проверяем данные на дублированные строки. Дублей нет."
   ]
  },
  {
   "cell_type": "code",
   "execution_count": 12,
   "metadata": {},
   "outputs": [
    {
     "name": "stdout",
     "output_type": "stream",
     "text": [
      "0\n",
      "0.0    15572\n",
      "1.0     5657\n",
      "2.0     1739\n",
      "3.0      645\n",
      "Name: parks_around3000, dtype: int64\n"
     ]
    }
   ],
   "source": [
    "def change(parks):\n",
    "    ind = parks['parks_nearest']\n",
    "    if ind <= 3000:\n",
    "        return 1\n",
    "    else:\n",
    "        return 0\n",
    "f = data.apply(change, axis=1)\n",
    "data['parks_around3000'] = data['parks_around3000'].fillna(f)\n",
    "check_pa = data['parks_around3000'].isnull().sum()\n",
    "print(check_pa)# проверка на наличие пропусков\n",
    "print(data['parks_around3000'].value_counts())"
   ]
  },
  {
   "cell_type": "markdown",
   "metadata": {},
   "source": [
    "Заполняем пропуски в переменной parks_around3000: если до ближайшего парка меньше 3 км, значит, по крайней мере, один парк в округе есть: ставим 1, иначе 0. Проверяем заполнение."
   ]
  },
  {
   "cell_type": "code",
   "execution_count": 13,
   "metadata": {},
   "outputs": [
    {
     "name": "stdout",
     "output_type": "stream",
     "text": [
      "0\n",
      "0.0    14552\n",
      "1.0     5677\n",
      "2.0     1886\n",
      "3.0     1498\n",
      "Name: ponds_around3000, dtype: int64\n"
     ]
    }
   ],
   "source": [
    "def ponds(water):\n",
    "    ind = water['ponds_nearest']\n",
    "    if ind <= 3000:\n",
    "        return 1\n",
    "    else:\n",
    "        return 0\n",
    "z = data.apply(ponds, axis=1)\n",
    "data['ponds_around3000'] = data['ponds_around3000'].fillna(z)\n",
    "check_pa = data['ponds_around3000'].isnull().sum()\n",
    "print(check_pa)# проверка на наличие пропусков\n",
    "print(data['ponds_around3000'].value_counts())"
   ]
  },
  {
   "cell_type": "markdown",
   "metadata": {},
   "source": [
    "Заполняем пропуски в переменной ponds_around3000: если до ближайшего водоема меньше 3 км, значит, по крайней мере, один пруд в округе есть: ставим 1, иначе 0. Проверяем заполнение."
   ]
  },
  {
   "cell_type": "code",
   "execution_count": 14,
   "metadata": {},
   "outputs": [
    {
     "name": "stdout",
     "output_type": "stream",
     "text": [
      "<class 'pandas.core.frame.DataFrame'>\n",
      "Int64Index: 23613 entries, 0 to 23698\n",
      "Data columns (total 22 columns):\n",
      "total_images            23613 non-null int64\n",
      "last_price              23613 non-null float64\n",
      "total_area              23613 non-null float64\n",
      "first_day_exposition    23613 non-null datetime64[ns]\n",
      "rooms                   23613 non-null int64\n",
      "ceiling_height          23612 non-null float64\n",
      "floors_total            23613 non-null int64\n",
      "living_area             23613 non-null float64\n",
      "floor                   23613 non-null int64\n",
      "is_apartment            23613 non-null bool\n",
      "studio                  23613 non-null bool\n",
      "open_plan               23613 non-null bool\n",
      "kitchen_area            23613 non-null float64\n",
      "balcony                 23613 non-null int64\n",
      "locality_name           23613 non-null object\n",
      "airports_nearest        18181 non-null float64\n",
      "cityCenters_nearest     18104 non-null float64\n",
      "parks_around3000        23613 non-null int64\n",
      "parks_nearest           8045 non-null float64\n",
      "ponds_around3000        23613 non-null int64\n",
      "ponds_nearest           9061 non-null float64\n",
      "days_exposition         20441 non-null float64\n",
      "dtypes: bool(3), datetime64[ns](1), float64(10), int64(7), object(1)\n",
      "memory usage: 3.7+ MB\n"
     ]
    }
   ],
   "source": [
    "data['first_day_exposition'] = pd.to_datetime(data['first_day_exposition'], format='%Y-%m-%dT%H:%M:%S')# приведение строки в формат даты\n",
    "data['floors_total'] = data['floors_total'].astype('int')# перевод переменной floors_total из дробной в целочисленные\n",
    "data['balcony'] = data['balcony'].astype('int')\n",
    "data['parks_around3000'] = data['parks_around3000'].astype('int')\n",
    "data['ponds_around3000'] = data['ponds_around3000'].astype('int')\n",
    "data.loc[data['days_exposition'].notnull(), 'days_exposition'] = data.loc[data['days_exposition'].notnull(), 'days_exposition'].astype('int')\n",
    "data.info()"
   ]
  },
  {
   "cell_type": "markdown",
   "metadata": {},
   "source": [
    "Переменные floors_total (количество этажей в доме), balcony (количество балконов в квартире), parks_around3000 (количество парков), ponds_around3000 (количество водоемов) не могут быть дробными. Переменнаую days_exposition (количество дней размещения объявления) в целях данного исследования удобнее использовать, как целочисленную, а не как дробную. Переводим перечисленные переменные в целочисленный формат. Т.к. в переменной days_exposition есть значения Nan, в целочисленные переводим только те значения, которые выражены цифрами."
   ]
  },
  {
   "cell_type": "markdown",
   "metadata": {},
   "source": [
    "### 3. Расчет новых показателей"
   ]
  },
  {
   "cell_type": "code",
   "execution_count": 15,
   "metadata": {},
   "outputs": [
    {
     "name": "stdout",
     "output_type": "stream",
     "text": [
      "0    120370.370370\n",
      "1     82920.792079\n",
      "2     92785.714286\n",
      "3    408176.100629\n",
      "4    100000.000000\n",
      "Name: price_m, dtype: float64\n"
     ]
    }
   ],
   "source": [
    "data['price_m'] = data['last_price'] / data['total_area']\n",
    "print(data['price_m'].head())"
   ]
  },
  {
   "cell_type": "markdown",
   "metadata": {},
   "source": [
    "Расчет стоимости квадратного метра: цену делим на общую площадь. Проверяем заполнение."
   ]
  },
  {
   "cell_type": "code",
   "execution_count": 16,
   "metadata": {},
   "outputs": [
    {
     "name": "stdout",
     "output_type": "stream",
     "text": [
      "  first_day_exposition  month_fdes\n",
      "0           2019-03-07           3\n",
      "1           2018-12-04          12\n",
      "2           2015-08-20           8\n",
      "3           2015-07-24           7\n",
      "4           2018-06-19           6\n"
     ]
    }
   ],
   "source": [
    "data['month_fdes'] = data.first_day_exposition.dt.month\n",
    "print(data[['first_day_exposition', 'month_fdes']].head())"
   ]
  },
  {
   "cell_type": "code",
   "execution_count": 17,
   "metadata": {},
   "outputs": [
    {
     "name": "stdout",
     "output_type": "stream",
     "text": [
      "  first_day_exposition  year_fde\n",
      "0           2019-03-07      2019\n",
      "1           2018-12-04      2018\n",
      "2           2015-08-20      2015\n",
      "3           2015-07-24      2015\n",
      "4           2018-06-19      2018\n"
     ]
    }
   ],
   "source": [
    "data['year_fde'] = data.first_day_exposition.dt.year\n",
    "print(data[['first_day_exposition', 'year_fde']].head())"
   ]
  },
  {
   "cell_type": "markdown",
   "metadata": {},
   "source": [
    "Рассчитываем столбцы с месяцем и годом публикации объявления. Проверяем заполнение."
   ]
  },
  {
   "cell_type": "code",
   "execution_count": 19,
   "metadata": {},
   "outputs": [
    {
     "data": {
      "text/plain": [
       "0    3\n",
       "1    1\n",
       "2    3\n",
       "3    4\n",
       "4    1\n",
       "Name: weekday, dtype: int64"
      ]
     },
     "execution_count": 19,
     "metadata": {},
     "output_type": "execute_result"
    }
   ],
   "source": [
    "data['weekday'] = data['first_day_exposition'].dt.weekday\n",
    "data['weekday'].head()"
   ]
  },
  {
   "cell_type": "markdown",
   "metadata": {},
   "source": [
    "Определяем дни недели. Создаем переменную. Проверяем заполнение."
   ]
  },
  {
   "cell_type": "code",
   "execution_count": 20,
   "metadata": {},
   "outputs": [
    {
     "data": {
      "text/plain": [
       "0    0.472222\n",
       "1    0.460396\n",
       "2    0.612500\n",
       "3    0.283019\n",
       "4    0.320000\n",
       "Name: living_share, dtype: float64"
      ]
     },
     "execution_count": 20,
     "metadata": {},
     "output_type": "execute_result"
    }
   ],
   "source": [
    "data['living_share'] = data['living_area'] / data['total_area']\n",
    "data['living_share'].head()"
   ]
  },
  {
   "cell_type": "markdown",
   "metadata": {},
   "source": [
    "Рассчитываем долю жилой площади: делим жилую площадь на общую площадь. Создаем переменную. Проверяем заполнение."
   ]
  },
  {
   "cell_type": "code",
   "execution_count": 21,
   "metadata": {},
   "outputs": [
    {
     "data": {
      "text/plain": [
       "0    0.231481\n",
       "1    0.272277\n",
       "2    0.148214\n",
       "3    0.059748\n",
       "4    0.410000\n",
       "Name: kitchen_share, dtype: float64"
      ]
     },
     "execution_count": 21,
     "metadata": {},
     "output_type": "execute_result"
    }
   ],
   "source": [
    "data['kitchen_share'] = data['kitchen_area'] / data['total_area']\n",
    "data['kitchen_share'].head()"
   ]
  },
  {
   "cell_type": "markdown",
   "metadata": {},
   "source": [
    "Рассчитываем отношение площади кухни к общей площади. Создаем переменную. Проверяем заполнение."
   ]
  },
  {
   "cell_type": "code",
   "execution_count": 22,
   "metadata": {},
   "outputs": [
    {
     "data": {
      "text/html": [
       "<div>\n",
       "<style scoped>\n",
       "    .dataframe tbody tr th:only-of-type {\n",
       "        vertical-align: middle;\n",
       "    }\n",
       "\n",
       "    .dataframe tbody tr th {\n",
       "        vertical-align: top;\n",
       "    }\n",
       "\n",
       "    .dataframe thead th {\n",
       "        text-align: right;\n",
       "    }\n",
       "</style>\n",
       "<table border=\"1\" class=\"dataframe\">\n",
       "  <thead>\n",
       "    <tr style=\"text-align: right;\">\n",
       "      <th></th>\n",
       "      <th>floor</th>\n",
       "      <th>floors_total</th>\n",
       "      <th>floor_type</th>\n",
       "    </tr>\n",
       "  </thead>\n",
       "  <tbody>\n",
       "    <tr>\n",
       "      <td>0</td>\n",
       "      <td>8</td>\n",
       "      <td>16</td>\n",
       "      <td>другой</td>\n",
       "    </tr>\n",
       "    <tr>\n",
       "      <td>1</td>\n",
       "      <td>1</td>\n",
       "      <td>11</td>\n",
       "      <td>первый</td>\n",
       "    </tr>\n",
       "    <tr>\n",
       "      <td>2</td>\n",
       "      <td>4</td>\n",
       "      <td>5</td>\n",
       "      <td>другой</td>\n",
       "    </tr>\n",
       "    <tr>\n",
       "      <td>3</td>\n",
       "      <td>9</td>\n",
       "      <td>14</td>\n",
       "      <td>другой</td>\n",
       "    </tr>\n",
       "    <tr>\n",
       "      <td>4</td>\n",
       "      <td>13</td>\n",
       "      <td>14</td>\n",
       "      <td>другой</td>\n",
       "    </tr>\n",
       "  </tbody>\n",
       "</table>\n",
       "</div>"
      ],
      "text/plain": [
       "   floor  floors_total floor_type\n",
       "0      8            16     другой\n",
       "1      1            11     первый\n",
       "2      4             5     другой\n",
       "3      9            14     другой\n",
       "4     13            14     другой"
      ]
     },
     "execution_count": 22,
     "metadata": {},
     "output_type": "execute_result"
    }
   ],
   "source": [
    "def floor_cat(data_fl):\n",
    "    if data_fl['floor'] == 1:\n",
    "        return 'первый'\n",
    "    elif data_fl['floor'] == data_fl['floors_total']:\n",
    "        return 'последний'\n",
    "    else:\n",
    "        return 'другой'\n",
    "data['floor_type'] = data.apply(floor_cat, axis = 1)\n",
    "data[['floor','floors_total','floor_type']].head()"
   ]
  },
  {
   "cell_type": "markdown",
   "metadata": {},
   "source": [
    "Создаем переменную типа этажа. С помощью функции задаем условия для отнесения этажей к определенному типу. Проверяем заполнение."
   ]
  },
  {
   "cell_type": "markdown",
   "metadata": {},
   "source": [
    "### 4. Исследовательский анализ данных"
   ]
  },
  {
   "cell_type": "code",
   "execution_count": 58,
   "metadata": {
    "scrolled": true
   },
   "outputs": [
    {
     "data": {
      "image/png": "[encoded data removed]",
      "text/plain": [
       "<Figure size 432x288 with 1 Axes>"
      ]
     },
     "metadata": {
      "needs_background": "light"
     },
     "output_type": "display_data"
    },
    {
     "data": {
      "image/png": "[encoded data removed]",
      "text/plain": [
       "<Figure size 432x288 with 1 Axes>"
      ]
     },
     "metadata": {
      "needs_background": "light"
     },
     "output_type": "display_data"
    },
    {
     "data": {
      "image/png": "[encoded data removed]",
      "text/plain": [
       "<Figure size 432x288 with 1 Axes>"
      ]
     },
     "metadata": {
      "needs_background": "light"
     },
     "output_type": "display_data"
    },
    {
     "data": {
      "image/png": "[encoded data removed]",
      "text/plain": [
       "<Figure size 432x288 with 1 Axes>"
      ]
     },
     "metadata": {
      "needs_background": "light"
     },
     "output_type": "display_data"
    },
    {
     "data": {
      "text/html": [
       "<div>\n",
       "<style scoped>\n",
       "    .dataframe tbody tr th:only-of-type {\n",
       "        vertical-align: middle;\n",
       "    }\n",
       "\n",
       "    .dataframe tbody tr th {\n",
       "        vertical-align: top;\n",
       "    }\n",
       "\n",
       "    .dataframe thead th {\n",
       "        text-align: right;\n",
       "    }\n",
       "</style>\n",
       "<table border=\"1\" class=\"dataframe\">\n",
       "  <thead>\n",
       "    <tr style=\"text-align: right;\">\n",
       "      <th></th>\n",
       "      <th>total_area</th>\n",
       "      <th>last_price</th>\n",
       "      <th>rooms</th>\n",
       "      <th>ceiling_height</th>\n",
       "    </tr>\n",
       "  </thead>\n",
       "  <tbody>\n",
       "    <tr>\n",
       "      <td>count</td>\n",
       "      <td>23613.000000</td>\n",
       "      <td>2.361300e+04</td>\n",
       "      <td>23613.000000</td>\n",
       "      <td>23612.000000</td>\n",
       "    </tr>\n",
       "    <tr>\n",
       "      <td>mean</td>\n",
       "      <td>60.340678</td>\n",
       "      <td>6.540555e+06</td>\n",
       "      <td>2.071147</td>\n",
       "      <td>2.722767</td>\n",
       "    </tr>\n",
       "    <tr>\n",
       "      <td>std</td>\n",
       "      <td>35.648988</td>\n",
       "      <td>1.090172e+07</td>\n",
       "      <td>1.078380</td>\n",
       "      <td>0.991495</td>\n",
       "    </tr>\n",
       "    <tr>\n",
       "      <td>min</td>\n",
       "      <td>12.000000</td>\n",
       "      <td>1.219000e+04</td>\n",
       "      <td>0.000000</td>\n",
       "      <td>1.000000</td>\n",
       "    </tr>\n",
       "    <tr>\n",
       "      <td>25%</td>\n",
       "      <td>40.000000</td>\n",
       "      <td>3.400000e+06</td>\n",
       "      <td>1.000000</td>\n",
       "      <td>2.600000</td>\n",
       "    </tr>\n",
       "    <tr>\n",
       "      <td>50%</td>\n",
       "      <td>52.000000</td>\n",
       "      <td>4.650000e+06</td>\n",
       "      <td>2.000000</td>\n",
       "      <td>2.640000</td>\n",
       "    </tr>\n",
       "    <tr>\n",
       "      <td>75%</td>\n",
       "      <td>69.800000</td>\n",
       "      <td>6.799000e+06</td>\n",
       "      <td>3.000000</td>\n",
       "      <td>2.700000</td>\n",
       "    </tr>\n",
       "    <tr>\n",
       "      <td>max</td>\n",
       "      <td>900.000000</td>\n",
       "      <td>7.630000e+08</td>\n",
       "      <td>19.000000</td>\n",
       "      <td>100.000000</td>\n",
       "    </tr>\n",
       "  </tbody>\n",
       "</table>\n",
       "</div>"
      ],
      "text/plain": [
       "         total_area    last_price         rooms  ceiling_height\n",
       "count  23613.000000  2.361300e+04  23613.000000    23612.000000\n",
       "mean      60.340678  6.540555e+06      2.071147        2.722767\n",
       "std       35.648988  1.090172e+07      1.078380        0.991495\n",
       "min       12.000000  1.219000e+04      0.000000        1.000000\n",
       "25%       40.000000  3.400000e+06      1.000000        2.600000\n",
       "50%       52.000000  4.650000e+06      2.000000        2.640000\n",
       "75%       69.800000  6.799000e+06      3.000000        2.700000\n",
       "max      900.000000  7.630000e+08     19.000000      100.000000"
      ]
     },
     "execution_count": 58,
     "metadata": {},
     "output_type": "execute_result"
    }
   ],
   "source": [
    "import matplotlib.pyplot as plt\n",
    "main_ind = ['total_area', 'last_price', 'rooms', 'ceiling_height']\n",
    "for name in data[main_ind]:\n",
    "    num = data[name].quantile(0.9).astype(int)\n",
    "    pl = data[data[name]<=num][name]\n",
    "    pl.plot(y=name, kind = 'hist', title = name, bins=20)\n",
    "    plt.show()\n",
    "data[['total_area', 'last_price', 'rooms', 'ceiling_height']].describe()"
   ]
  },
  {
   "cell_type": "markdown",
   "metadata": {},
   "source": [
    "Строим гистограммы для переменных площадь, цена, число комнат, высота потолков. Чтобы гистограммы стали наглядными, строим их не по всей совокупности значений, а по 90% значений указанных переменных. Для показателей total_area и ceiling_height прослеживается логнорамльное распределение, для last_price - распределение Пуассона, для показателя rooms идентифицировать распределение сложно. "
   ]
  },
  {
   "cell_type": "code",
   "execution_count": 59,
   "metadata": {},
   "outputs": [
    {
     "name": "stdout",
     "output_type": "stream",
     "text": [
      "[array([nan, nan]), array([nan, nan])]\n"
     ]
    },
    {
     "name": "stderr",
     "output_type": "stream",
     "text": [
      "/opt/conda/lib/python3.7/site-packages/matplotlib/cbook/__init__.py:1316: RuntimeWarning: invalid value encountered in less_equal\n",
      "  wiskhi = x[x <= hival]\n",
      "/opt/conda/lib/python3.7/site-packages/matplotlib/cbook/__init__.py:1323: RuntimeWarning: invalid value encountered in greater_equal\n",
      "  wisklo = x[x >= loval]\n",
      "/opt/conda/lib/python3.7/site-packages/matplotlib/cbook/__init__.py:1331: RuntimeWarning: invalid value encountered in less\n",
      "  x[x < stats['whislo']],\n",
      "/opt/conda/lib/python3.7/site-packages/matplotlib/cbook/__init__.py:1332: RuntimeWarning: invalid value encountered in greater\n",
      "  x[x > stats['whishi']],\n"
     ]
    },
    {
     "data": {
      "text/plain": [
       "count    20441.000000\n",
       "mean       180.884839\n",
       "std        219.685543\n",
       "min          1.000000\n",
       "25%         45.000000\n",
       "50%         95.000000\n",
       "75%        232.000000\n",
       "max       1580.000000\n",
       "Name: days_exposition, dtype: float64"
      ]
     },
     "execution_count": 59,
     "metadata": {},
     "output_type": "execute_result"
    },
    {
     "data": {
      "image/png": "[encoded data removed]",
      "text/plain": [
       "<Figure size 432x288 with 1 Axes>"
      ]
     },
     "metadata": {
      "needs_background": "light"
     },
     "output_type": "display_data"
    },
    {
     "data": {
      "image/png": "[encoded data removed]",
      "text/plain": [
       "<Figure size 432x288 with 1 Axes>"
      ]
     },
     "metadata": {
      "needs_background": "light"
     },
     "output_type": "display_data"
    }
   ],
   "source": [
    "import matplotlib.pyplot as plt\n",
    "data.boxplot('days_exposition')\n",
    "box_area = plt.boxplot(data['days_exposition'])# строим диаграмму размаха\n",
    "print([item.get_ydata() for item in box_area['whiskers']]) # определяем концы усов в диаграмме размаха\n",
    "data.hist('days_exposition', range=(0, 200),bins = 100)\n",
    "data['days_exposition'].describe()"
   ]
  },
  {
   "cell_type": "markdown",
   "metadata": {},
   "source": [
    "Данные гистограммы и параметров переменной days_exposition свидетельствуют о перекосе данных в сторону быстрых продаж квартир.Исходя из гистограммы, обычно продажа квартиры в регионе занимает менее 95 дней (медиана). Очень быстрыми можно считать продажи, осуществленные в течение 39 дней со дня размещения объявления(нижняя граница коробки диаграммы размаха). Очень долгими - продажи, осуществленные свыше, чем через 204 дня со дня размещения объявления(верхняя граница коробки диаграммы размаха). Обращают на себя внимание 2 пика снятия объявлений, (1 на уровне, приблизительно, 42-43 дня; второй на уровне, приблизительно, 60 дней). Первый пик, скорее всего, обусловлен срочными продажами квартир, второй - оплатой продавцами 2-х месяцев размещения объявления, после чего, они не хотят или забывают оплатить размещение объявления на дальнейший срок и оно снимается с портала. "
   ]
  },
  {
   "cell_type": "code",
   "execution_count": 60,
   "metadata": {},
   "outputs": [
    {
     "name": "stdout",
     "output_type": "stream",
     "text": [
      "[array([40., 12.]), array([ 69.8, 114.5])]\n"
     ]
    },
    {
     "data": {
      "text/plain": [
       "count    22375.000000\n",
       "mean        54.348827\n",
       "std         19.353442\n",
       "min         12.000000\n",
       "25%         39.400000\n",
       "50%         50.100000\n",
       "75%         65.600000\n",
       "max        114.500000\n",
       "Name: total_area, dtype: float64"
      ]
     },
     "execution_count": 60,
     "metadata": {},
     "output_type": "execute_result"
    },
    {
     "data": {
      "image/png": "[encoded data removed]",
      "text/plain": [
       "<Figure size 432x288 with 1 Axes>"
      ]
     },
     "metadata": {
      "needs_background": "light"
     },
     "output_type": "display_data"
    },
    {
     "data": {
      "image/png": "[encoded data removed]",
      "text/plain": [
       "<Figure size 432x288 with 1 Axes>"
      ]
     },
     "metadata": {
      "needs_background": "light"
     },
     "output_type": "display_data"
    }
   ],
   "source": [
    "import matplotlib.pyplot as plt\n",
    "data.boxplot('total_area')\n",
    "box_area = plt.boxplot(data['total_area'])# строим диаграмму размаха\n",
    "print([item.get_ydata() for item in box_area['whiskers']]) # определяем концы усов в диаграмме размаха\n",
    "data = data[data.total_area <= 114.5] # отбрасываем аномальные значения\n",
    "data.hist('total_area', bins = 50)# построение гистограммы\n",
    "data['total_area'].describe()"
   ]
  },
  {
   "cell_type": "markdown",
   "metadata": {},
   "source": [
    "Обработка переменной total_area. Для определения аномально больших значений переменной определяем конец правого уса в диаграмме размаха (114,5 м2). Отсекаем аномально большие размеры квартир (свыше 114,5 м2). Отброшено 1238 квартир. Строим гистограмму, рассчитываем характеристики переменной. Гистограмма соотвествует логнормальному распределению. Существенно уменьшился разброс (на 16,2 м2 или 45,5%)."
   ]
  },
  {
   "cell_type": "code",
   "execution_count": 61,
   "metadata": {},
   "outputs": [
    {
     "name": "stdout",
     "output_type": "stream",
     "text": [
      "[array([1., 0.]), array([3., 6.])]\n"
     ]
    },
    {
     "data": {
      "text/plain": [
       "count    22375.000000\n",
       "mean         1.957810\n",
       "std          0.885563\n",
       "min          1.000000\n",
       "25%          1.000000\n",
       "50%          2.000000\n",
       "75%          3.000000\n",
       "max          7.000000\n",
       "Name: rooms, dtype: float64"
      ]
     },
     "execution_count": 61,
     "metadata": {},
     "output_type": "execute_result"
    },
    {
     "data": {
      "image/png": "[encoded data removed]",
      "text/plain": [
       "<Figure size 432x288 with 1 Axes>"
      ]
     },
     "metadata": {
      "needs_background": "light"
     },
     "output_type": "display_data"
    },
    {
     "data": {
      "image/png": "[encoded data removed]",
      "text/plain": [
       "<Figure size 432x288 with 1 Axes>"
      ]
     },
     "metadata": {
      "needs_background": "light"
     },
     "output_type": "display_data"
    }
   ],
   "source": [
    "import matplotlib.pyplot as plt\n",
    "data.boxplot('rooms')\n",
    "box_area = plt.boxplot(data['rooms'])# строим диаграмму размаха\n",
    "print([item.get_ydata() for item in box_area['whiskers']]) # определяем концы усов в диаграмме размаха \n",
    "data.loc[data['rooms'] == 0, 'rooms'] = 1 # замена 0 на 1\n",
    "data.hist('rooms', bins = 7)# построение гистограммы\n",
    "data['rooms'].describe()"
   ]
  },
  {
   "cell_type": "markdown",
   "metadata": {},
   "source": [
    "Обработка переменной rooms. С учетом отброшенных аномальных значений переменной total_area, отбрасывать значения в переменной rooms нет необходимости. Мы получили распределение Пуассона. Единственно, у нас остались квартиры с 0 комнат. Возможно, так были идентифицированы квартиры-студии. Будем рассматривать их как однокомнатные. Присвоим таким квартирам статус однокомнатных."
   ]
  },
  {
   "cell_type": "code",
   "execution_count": 62,
   "metadata": {},
   "outputs": [
    {
     "data": {
      "text/plain": [
       "count    22341.000000\n",
       "mean         2.674592\n",
       "std          0.193893\n",
       "min          2.000000\n",
       "25%          2.600000\n",
       "50%          2.640000\n",
       "75%          2.700000\n",
       "max          5.000000\n",
       "Name: ceiling_height, dtype: float64"
      ]
     },
     "execution_count": 62,
     "metadata": {},
     "output_type": "execute_result"
    },
    {
     "data": {
      "image/png": "[encoded data removed]",
      "text/plain": [
       "<Figure size 432x288 with 1 Axes>"
      ]
     },
     "metadata": {
      "needs_background": "light"
     },
     "output_type": "display_data"
    }
   ],
   "source": [
    "data = data[data.ceiling_height >= 2]# отбрасываем значения меньше 2 м\n",
    "data = data[data.ceiling_height <= 5] # отбрасываем значения больше 5 м\n",
    "data.hist('ceiling_height', bins = 10)# построение гистограммы\n",
    "data['ceiling_height'].describe()"
   ]
  },
  {
   "cell_type": "markdown",
   "metadata": {},
   "source": [
    "Обработка переменной ceiling_height. Из интернета узнаем, что высота потолков в СССР, затем в РФ лежит в диапазоне от 2 м (бараки, хрущевки) до свыше 4 м (некоторые сталинские дома). Соответственно отбрасываем квартиры, невходящие в этот диапазон. Относительно квартир с высотой потолков меньше 2 м, можно было бы подумать, что это ошибки, но это также могут быть переоборудованные технические помещения, которые выдают за квартиры. Суммарно были отброшены 34 квартиры.\n",
    "Опять получаем распределение Пуассона."
   ]
  },
  {
   "cell_type": "code",
   "execution_count": 63,
   "metadata": {},
   "outputs": [
    {
     "name": "stdout",
     "output_type": "stream",
     "text": [
      "[array([3360000.,   12190.]), array([ 6300000., 10700000.])]\n"
     ]
    },
    {
     "data": {
      "text/plain": [
       "count    2.101400e+04\n",
       "mean     4.698939e+06\n",
       "std      2.037597e+06\n",
       "min      1.219000e+04\n",
       "25%      3.300000e+06\n",
       "50%      4.350000e+06\n",
       "75%      5.850000e+06\n",
       "max      1.070000e+07\n",
       "Name: last_price, dtype: float64"
      ]
     },
     "execution_count": 63,
     "metadata": {},
     "output_type": "execute_result"
    },
    {
     "data": {
      "image/png": "[encoded data removed]",
      "text/plain": [
       "<Figure size 432x288 with 1 Axes>"
      ]
     },
     "metadata": {
      "needs_background": "light"
     },
     "output_type": "display_data"
    },
    {
     "data": {
      "image/png": "[encoded data removed]",
      "text/plain": [
       "<Figure size 432x288 with 1 Axes>"
      ]
     },
     "metadata": {
      "needs_background": "light"
     },
     "output_type": "display_data"
    }
   ],
   "source": [
    "import matplotlib.pyplot as plt\n",
    "data.boxplot('last_price')\n",
    "box_area = plt.boxplot(data['last_price'])# строим диаграмму размаха\n",
    "print([item.get_ydata() for item in box_area['whiskers']]) # определяем концы усов в диаграмме размаха \n",
    "data = data[data.last_price <= 10700000] # отбрасываем значения больше 40 млн. руб.\n",
    "data.hist('last_price', bins = 50)# построение гистограммы\n",
    "data['last_price'].describe()"
   ]
  },
  {
   "cell_type": "markdown",
   "metadata": {},
   "source": [
    "Обработка переменной last_price. Для определения аномально больших значений переменной определяем конец правого уса в диаграмме размаха (10,7 млн. руб.). Отсекаем аномально большие цены (свыше 10,7 млн.). Отброшено 1327 квартир. Строим гистограмму, рассчитываем характеристики переменной. Гистограмма соотвествует распределению Пуассона. Разброс уменьшился на порядок."
   ]
  },
  {
   "cell_type": "code",
   "execution_count": 64,
   "metadata": {},
   "outputs": [
    {
     "data": {
      "text/plain": [
       "count    16767.000000\n",
       "mean       117.151786\n",
       "std        108.424484\n",
       "min          2.000000\n",
       "25%         38.000000\n",
       "50%         76.000000\n",
       "75%        168.000000\n",
       "max        451.000000\n",
       "Name: days_exposition, dtype: float64"
      ]
     },
     "execution_count": 64,
     "metadata": {},
     "output_type": "execute_result"
    },
    {
     "data": {
      "image/png": "[encoded data removed]",
      "text/plain": [
       "<Figure size 432x288 with 1 Axes>"
      ]
     },
     "metadata": {
      "needs_background": "light"
     },
     "output_type": "display_data"
    }
   ],
   "source": [
    "data = data[data.days_exposition <= 451] # отбрасываем аномальные значения\n",
    "data = data[data.days_exposition > 1]\n",
    "data.hist('days_exposition', bins = 50)# построение гистограммы\n",
    "data['days_exposition'].describe()"
   ]
  },
  {
   "cell_type": "markdown",
   "metadata": {},
   "source": [
    "Обработка переменной days_exposition. Для определения аномальных значений переменной из ранее построенной диаграммы размаха возьмем концы усов (левый ус - 1 день, правый ус - 451 дней). Отсекаем аномальные сроки размещения объявлений.  Строим гистограмму, рассчитываем характеристики переменной. Гистограмма в целом соотвествует распределению Пуассона, но есть выбросы. Разброс уменьшился вдвое."
   ]
  },
  {
   "cell_type": "code",
   "execution_count": 68,
   "metadata": {},
   "outputs": [
    {
     "name": "stdout",
     "output_type": "stream",
     "text": [
      "<class 'pandas.core.frame.DataFrame'>\n",
      "Int64Index: 16767 entries, 1 to 23695\n",
      "Data columns (total 29 columns):\n",
      "total_images            16767 non-null int64\n",
      "last_price              16767 non-null float64\n",
      "total_area              16767 non-null float64\n",
      "first_day_exposition    16767 non-null datetime64[ns]\n",
      "rooms                   16767 non-null int64\n",
      "ceiling_height          16767 non-null float64\n",
      "floors_total            16767 non-null int64\n",
      "living_area             16767 non-null float64\n",
      "floor                   16767 non-null int64\n",
      "is_apartment            16767 non-null bool\n",
      "studio                  16767 non-null bool\n",
      "open_plan               16767 non-null bool\n",
      "kitchen_area            16767 non-null float64\n",
      "balcony                 16767 non-null int64\n",
      "locality_name           16767 non-null object\n",
      "airports_nearest        12630 non-null float64\n",
      "cityCenters_nearest     12600 non-null float64\n",
      "parks_around3000        16767 non-null int64\n",
      "parks_nearest           5105 non-null float64\n",
      "ponds_around3000        16767 non-null int64\n",
      "ponds_nearest           5923 non-null float64\n",
      "days_exposition         16767 non-null float64\n",
      "price_m                 16767 non-null float64\n",
      "month_fdes              16767 non-null int64\n",
      "year_fde                16767 non-null int64\n",
      "weekday                 16767 non-null int64\n",
      "living_share            16767 non-null float64\n",
      "kitchen_share           16767 non-null float64\n",
      "floor_type              16767 non-null object\n",
      "dtypes: bool(3), datetime64[ns](1), float64(13), int64(10), object(2)\n",
      "memory usage: 3.5+ MB\n"
     ]
    }
   ],
   "source": [
    "data.info()"
   ]
  },
  {
   "cell_type": "markdown",
   "metadata": {},
   "source": [
    "В результате проведенной чистки данных мы отбросили 6932 строки или 29,3% значений. Преемленый результат корректировки, основная часть значений пригодна для анализа."
   ]
  },
  {
   "cell_type": "code",
   "execution_count": 71,
   "metadata": {},
   "outputs": [
    {
     "name": "stdout",
     "output_type": "stream",
     "text": [
      "-0.2524393885588339\n"
     ]
    },
    {
     "data": {
      "image/png": "[encoded data removed]",
      "text/plain": [
       "<Figure size 432x288 with 1 Axes>"
      ]
     },
     "metadata": {
      "needs_background": "light"
     },
     "output_type": "display_data"
    }
   ],
   "source": [
    "data.plot(x='rooms', y='price_m', kind='scatter', grid=True)\n",
    "print(data['rooms'].corr(data['price_m']))"
   ]
  },
  {
   "cell_type": "markdown",
   "metadata": {},
   "source": [
    "Рассчитаем коэффициент корреляции между переменными \"цена м2\" и \"количество комнат в квартире\", а также построим график.  \n",
    "Связь между ценой м2 и количеством комнат очень слабая и обратная, т.е. чем больше комнат, тем ниже цена.\n",
    "С другой стороны, график показывает, что чем больше в квартире комнат, тем меньше разброс цен."
   ]
  },
  {
   "cell_type": "code",
   "execution_count": 72,
   "metadata": {},
   "outputs": [
    {
     "name": "stdout",
     "output_type": "stream",
     "text": [
      "-0.39367961972524995\n"
     ]
    },
    {
     "data": {
      "image/png": "[encoded data removed]",
      "text/plain": [
       "<Figure size 432x288 with 1 Axes>"
      ]
     },
     "metadata": {
      "needs_background": "light"
     },
     "output_type": "display_data"
    }
   ],
   "source": [
    "data.plot(x='cityCenters_nearest', y='price_m', kind='scatter', grid=True)\n",
    "print(data['cityCenters_nearest'].corr(data['price_m']))"
   ]
  },
  {
   "cell_type": "markdown",
   "metadata": {},
   "source": [
    "Рассчитаем коэффициент корреляции между переменными \"цена м2\" и \"удаленность от центра\", а также построим график. \n",
    "Тут вывод очевиден: связь между ценой м2 и удаленностью от центра средняя (ближе к слабой) и обратная, т.е. чем дальше от центра, тем ниже цена."
   ]
  },
  {
   "cell_type": "code",
   "execution_count": 202,
   "metadata": {},
   "outputs": [
    {
     "name": "stdout",
     "output_type": "stream",
     "text": [
      "                 price_m\n",
      "floor_type              \n",
      "другой      95323.117365\n",
      "первый      78312.886681\n",
      "последний   82414.008414\n"
     ]
    }
   ],
   "source": [
    "ft_price = data.pivot_table(index='floor_type', values='price_m', aggfunc='mean')\n",
    "print(ft_price)"
   ]
  },
  {
   "cell_type": "markdown",
   "metadata": {},
   "source": [
    "Определим зависимость цены м2 от типа этажа. Построим сводную таблицу с разбивкой квартир по цене м2 в зависимости от типа этажа. Вывод: самая низкая средняя цена у квартир на 1-м этаже, чуть выше у квартир на последнем этаже. Квартиры на остальных этажах существенно дороже, чем квартиры на первом и последнем этажах. "
   ]
  },
  {
   "cell_type": "code",
   "execution_count": 76,
   "metadata": {},
   "outputs": [
    {
     "data": {
      "text/html": [
       "<div>\n",
       "<style scoped>\n",
       "    .dataframe tbody tr th:only-of-type {\n",
       "        vertical-align: middle;\n",
       "    }\n",
       "\n",
       "    .dataframe tbody tr th {\n",
       "        vertical-align: top;\n",
       "    }\n",
       "\n",
       "    .dataframe thead th {\n",
       "        text-align: right;\n",
       "    }\n",
       "</style>\n",
       "<table border=\"1\" class=\"dataframe\">\n",
       "  <thead>\n",
       "    <tr style=\"text-align: right;\">\n",
       "      <th></th>\n",
       "      <th>price_m</th>\n",
       "      <th>total_area</th>\n",
       "      <th>rooms</th>\n",
       "      <th>ceiling_height</th>\n",
       "      <th>cityCenters_nearest</th>\n",
       "      <th>floor</th>\n",
       "      <th>floors_total</th>\n",
       "      <th>balcony</th>\n",
       "      <th>days_exposition</th>\n",
       "    </tr>\n",
       "  </thead>\n",
       "  <tbody>\n",
       "    <tr>\n",
       "      <td>price_m</td>\n",
       "      <td>1.000000</td>\n",
       "      <td>-0.122802</td>\n",
       "      <td>-0.252439</td>\n",
       "      <td>0.182602</td>\n",
       "      <td>-0.393680</td>\n",
       "      <td>0.250367</td>\n",
       "      <td>0.341661</td>\n",
       "      <td>0.045080</td>\n",
       "      <td>-0.050376</td>\n",
       "    </tr>\n",
       "    <tr>\n",
       "      <td>total_area</td>\n",
       "      <td>-0.122802</td>\n",
       "      <td>1.000000</td>\n",
       "      <td>0.804308</td>\n",
       "      <td>0.238427</td>\n",
       "      <td>-0.105922</td>\n",
       "      <td>-0.036371</td>\n",
       "      <td>-0.028579</td>\n",
       "      <td>0.060709</td>\n",
       "      <td>0.088461</td>\n",
       "    </tr>\n",
       "    <tr>\n",
       "      <td>rooms</td>\n",
       "      <td>-0.252439</td>\n",
       "      <td>0.804308</td>\n",
       "      <td>1.000000</td>\n",
       "      <td>0.087272</td>\n",
       "      <td>-0.067971</td>\n",
       "      <td>-0.182508</td>\n",
       "      <td>-0.234295</td>\n",
       "      <td>0.002568</td>\n",
       "      <td>0.069174</td>\n",
       "    </tr>\n",
       "    <tr>\n",
       "      <td>ceiling_height</td>\n",
       "      <td>0.182602</td>\n",
       "      <td>0.238427</td>\n",
       "      <td>0.087272</td>\n",
       "      <td>1.000000</td>\n",
       "      <td>-0.222268</td>\n",
       "      <td>-0.008737</td>\n",
       "      <td>-0.009602</td>\n",
       "      <td>-0.024301</td>\n",
       "      <td>0.045025</td>\n",
       "    </tr>\n",
       "    <tr>\n",
       "      <td>cityCenters_nearest</td>\n",
       "      <td>-0.393680</td>\n",
       "      <td>-0.105922</td>\n",
       "      <td>-0.067971</td>\n",
       "      <td>-0.222268</td>\n",
       "      <td>1.000000</td>\n",
       "      <td>-0.014369</td>\n",
       "      <td>-0.033276</td>\n",
       "      <td>0.046650</td>\n",
       "      <td>0.010977</td>\n",
       "    </tr>\n",
       "    <tr>\n",
       "      <td>floor</td>\n",
       "      <td>0.250367</td>\n",
       "      <td>-0.036371</td>\n",
       "      <td>-0.182508</td>\n",
       "      <td>-0.008737</td>\n",
       "      <td>-0.014369</td>\n",
       "      <td>1.000000</td>\n",
       "      <td>0.676960</td>\n",
       "      <td>0.157039</td>\n",
       "      <td>-0.040448</td>\n",
       "    </tr>\n",
       "    <tr>\n",
       "      <td>floors_total</td>\n",
       "      <td>0.341661</td>\n",
       "      <td>-0.028579</td>\n",
       "      <td>-0.234295</td>\n",
       "      <td>-0.009602</td>\n",
       "      <td>-0.033276</td>\n",
       "      <td>0.676960</td>\n",
       "      <td>1.000000</td>\n",
       "      <td>0.166078</td>\n",
       "      <td>-0.046340</td>\n",
       "    </tr>\n",
       "    <tr>\n",
       "      <td>balcony</td>\n",
       "      <td>0.045080</td>\n",
       "      <td>0.060709</td>\n",
       "      <td>0.002568</td>\n",
       "      <td>-0.024301</td>\n",
       "      <td>0.046650</td>\n",
       "      <td>0.157039</td>\n",
       "      <td>0.166078</td>\n",
       "      <td>1.000000</td>\n",
       "      <td>-0.021321</td>\n",
       "    </tr>\n",
       "    <tr>\n",
       "      <td>days_exposition</td>\n",
       "      <td>-0.050376</td>\n",
       "      <td>0.088461</td>\n",
       "      <td>0.069174</td>\n",
       "      <td>0.045025</td>\n",
       "      <td>0.010977</td>\n",
       "      <td>-0.040448</td>\n",
       "      <td>-0.046340</td>\n",
       "      <td>-0.021321</td>\n",
       "      <td>1.000000</td>\n",
       "    </tr>\n",
       "  </tbody>\n",
       "</table>\n",
       "</div>"
      ],
      "text/plain": [
       "                      price_m  total_area     rooms  ceiling_height  \\\n",
       "price_m              1.000000   -0.122802 -0.252439        0.182602   \n",
       "total_area          -0.122802    1.000000  0.804308        0.238427   \n",
       "rooms               -0.252439    0.804308  1.000000        0.087272   \n",
       "ceiling_height       0.182602    0.238427  0.087272        1.000000   \n",
       "cityCenters_nearest -0.393680   -0.105922 -0.067971       -0.222268   \n",
       "floor                0.250367   -0.036371 -0.182508       -0.008737   \n",
       "floors_total         0.341661   -0.028579 -0.234295       -0.009602   \n",
       "balcony              0.045080    0.060709  0.002568       -0.024301   \n",
       "days_exposition     -0.050376    0.088461  0.069174        0.045025   \n",
       "\n",
       "                     cityCenters_nearest     floor  floors_total   balcony  \\\n",
       "price_m                        -0.393680  0.250367      0.341661  0.045080   \n",
       "total_area                     -0.105922 -0.036371     -0.028579  0.060709   \n",
       "rooms                          -0.067971 -0.182508     -0.234295  0.002568   \n",
       "ceiling_height                 -0.222268 -0.008737     -0.009602 -0.024301   \n",
       "cityCenters_nearest             1.000000 -0.014369     -0.033276  0.046650   \n",
       "floor                          -0.014369  1.000000      0.676960  0.157039   \n",
       "floors_total                   -0.033276  0.676960      1.000000  0.166078   \n",
       "balcony                         0.046650  0.157039      0.166078  1.000000   \n",
       "days_exposition                 0.010977 -0.040448     -0.046340 -0.021321   \n",
       "\n",
       "                     days_exposition  \n",
       "price_m                    -0.050376  \n",
       "total_area                  0.088461  \n",
       "rooms                       0.069174  \n",
       "ceiling_height              0.045025  \n",
       "cityCenters_nearest         0.010977  \n",
       "floor                      -0.040448  \n",
       "floors_total               -0.046340  \n",
       "balcony                    -0.021321  \n",
       "days_exposition             1.000000  "
      ]
     },
     "execution_count": 76,
     "metadata": {},
     "output_type": "execute_result"
    }
   ],
   "source": [
    "data[['price_m','total_area', 'rooms', 'ceiling_height', 'cityCenters_nearest', 'floor', 'floors_total', 'balcony','days_exposition']].corr()"
   ]
  },
  {
   "cell_type": "markdown",
   "metadata": {},
   "source": [
    "Построим матрицу корреляции по ряду параметров. Как показала матрица цена квадратного метра достаточно слабо зависит от указанных показателей. Наиболее сильная зависимость наблюдается у цены м2 от удаленности дома от центра (-0,394) и этажности дома (0,342). На самом деле, указанные коэффициенты корреляции указывают на достаточно слабую зависимость. "
   ]
  },
  {
   "cell_type": "code",
   "execution_count": 203,
   "metadata": {},
   "outputs": [
    {
     "name": "stdout",
     "output_type": "stream",
     "text": [
      "-0.012276465974741298\n"
     ]
    },
    {
     "data": {
      "image/png": "[encoded data removed]",
      "text/plain": [
       "<Figure size 432x288 with 1 Axes>"
      ]
     },
     "metadata": {
      "needs_background": "light"
     },
     "output_type": "display_data"
    }
   ],
   "source": [
    "data.plot(x='weekday', y='price_m', kind='scatter', grid=True)\n",
    "print(data['weekday'].corr(data['price_m']))"
   ]
  },
  {
   "cell_type": "markdown",
   "metadata": {},
   "source": [
    "Определим зависимость цены м2 от дня недели размещения объявления. Коэффициент корреляции показывает отсутствие связи.  Отдельные точки, соответствующие вторнику, среде, пятнице и субботе, - это выбросы, которые случаются очень редко."
   ]
  },
  {
   "cell_type": "code",
   "execution_count": 204,
   "metadata": {},
   "outputs": [
    {
     "name": "stdout",
     "output_type": "stream",
     "text": [
      "-0.006331016009967069\n"
     ]
    },
    {
     "data": {
      "image/png": "[encoded data removed]",
      "text/plain": [
       "<Figure size 432x288 with 1 Axes>"
      ]
     },
     "metadata": {
      "needs_background": "light"
     },
     "output_type": "display_data"
    }
   ],
   "source": [
    "data.plot(x='month_fdes', y='price_m', kind='scatter', grid=True)\n",
    "print(data['month_fdes'].corr(data['price_m']))"
   ]
  },
  {
   "cell_type": "markdown",
   "metadata": {},
   "source": [
    "Определим зависимость цены м2 от месяца размещения объявления. Коэффициент корреляции показывает отсутствие связи. Как и в случае с днями недели, имеем на графике равномерное распределение средней цены по дням недели с редкими выбросами."
   ]
  },
  {
   "cell_type": "code",
   "execution_count": 206,
   "metadata": {},
   "outputs": [
    {
     "name": "stdout",
     "output_type": "stream",
     "text": [
      "0.08565757330897515\n"
     ]
    },
    {
     "data": {
      "image/png": "[encoded data removed]",
      "text/plain": [
       "<Figure size 432x288 with 1 Axes>"
      ]
     },
     "metadata": {
      "needs_background": "light"
     },
     "output_type": "display_data"
    }
   ],
   "source": [
    "data.plot(x='year_fde', y='price_m', kind='scatter', grid=True)\n",
    "print(data['year_fde'].corr(data['price_m']))"
   ]
  },
  {
   "cell_type": "markdown",
   "metadata": {},
   "source": [
    "Определим зависимость цены м2 от года размещения объявления. Коэффициент корреляции показывает отсутствие связи. Однако, как видно из графика в период с 2015 по 2018 гг. цены на квартиры росли, в 2019 г. - наблюдалось падение цен, вызванное экономическим кризисом."
   ]
  },
  {
   "cell_type": "code",
   "execution_count": 79,
   "metadata": {},
   "outputs": [
    {
     "data": {
      "text/plain": [
       "<matplotlib.axes._subplots.AxesSubplot at 0x7f8a12fd70d0>"
      ]
     },
     "execution_count": 79,
     "metadata": {},
     "output_type": "execute_result"
    },
    {
     "data": {
      "image/png": "[encoded data removed]",
      "text/plain": [
       "<Figure size 864x504 with 1 Axes>"
      ]
     },
     "metadata": {
      "needs_background": "light"
     },
     "output_type": "display_data"
    }
   ],
   "source": [
    "price_mean = data.pivot_table(index='weekday', values='price_m', aggfunc=['mean'])# расчет средней цены по дням недели\n",
    "price_mean.columns = ['mean_price']\n",
    "price_mean.plot(y='mean_price', kind='line', grid=True, figsize=[12,7])"
   ]
  },
  {
   "cell_type": "markdown",
   "metadata": {},
   "source": [
    "Проанализируем среднюю цену м2 в зависимости от дня недели размещения объявления. Исходя из построенного графика видно, что наиболее высокая средняя цена м2 наблюдается в объявлениях, размещенных в среду, наиболее низкая - в объявлениях, размещенных в воскресенье. Зависимость цены м2 от дня недели есть, но она не существенная, учитывая диапазон колебания цены (1,5 т.р.)."
   ]
  },
  {
   "cell_type": "code",
   "execution_count": 80,
   "metadata": {},
   "outputs": [
    {
     "data": {
      "text/plain": [
       "<matplotlib.axes._subplots.AxesSubplot at 0x7f8a137752d0>"
      ]
     },
     "execution_count": 80,
     "metadata": {},
     "output_type": "execute_result"
    },
    {
     "data": {
      "image/png": "[encoded data removed]",
      "text/plain": [
       "<Figure size 864x504 with 1 Axes>"
      ]
     },
     "metadata": {
      "needs_background": "light"
     },
     "output_type": "display_data"
    }
   ],
   "source": [
    "price_mean = data.pivot_table(index='month_fdes', values='price_m', aggfunc=['mean'])# расчет средней цены по месяцам\n",
    "price_mean.columns = ['mean_price']\n",
    "price_mean.plot(y='mean_price', kind='line', grid=True, figsize=[12,7])"
   ]
  },
  {
   "cell_type": "markdown",
   "metadata": {},
   "source": [
    "Проанализируем среднюю цену м2 в зависимости от месяца размещения объявления. Исходя из построенного графика видно, что наиболее высокая средняя цена м2 наблюдается в объявлениях, размещенных в августе, наиболее низкая - в объявлениях, размещенных в июне. Видимо, низкая цена в июне обусловлена начинающимся периодом отпусков и желанием привлечь клиентов низкой ценой, а в августе продавцы поднимают цены в надежде на спрос, который возникнет по окончании периода отпусков в сентябре. Зависимость цены м2 от месяца есть."
   ]
  },
  {
   "cell_type": "code",
   "execution_count": 81,
   "metadata": {},
   "outputs": [
    {
     "data": {
      "text/plain": [
       "<matplotlib.axes._subplots.AxesSubplot at 0x7f8a134f2c50>"
      ]
     },
     "execution_count": 81,
     "metadata": {},
     "output_type": "execute_result"
    },
    {
     "data": {
      "image/png": "[encoded data removed]",
      "text/plain": [
       "<Figure size 864x504 with 1 Axes>"
      ]
     },
     "metadata": {
      "needs_background": "light"
     },
     "output_type": "display_data"
    }
   ],
   "source": [
    "price_mean = data.pivot_table(index='year_fde', values='price_m', aggfunc=['mean'])# расчет средней цены по годам\n",
    "price_mean.columns = ['mean_price']\n",
    "price_mean.plot(y='mean_price', kind='line', grid=True, figsize=[12,7])"
   ]
  },
  {
   "cell_type": "markdown",
   "metadata": {},
   "source": [
    "Проанализируем среднюю цену м2 в зависимости от года размещения объявления. Исходя из построенного графика видна тенденция роста средней цены м2. При этом скорость роста цены нарастает, что говорит о растущем спросе на жилую недвижимость.  Зависимость цены м2 от года есть."
   ]
  },
  {
   "cell_type": "markdown",
   "metadata": {},
   "source": [
    "<font color='green'>Отличный и очень наглядный анализ!"
   ]
  },
  {
   "cell_type": "code",
   "execution_count": 87,
   "metadata": {},
   "outputs": [
    {
     "name": "stdout",
     "output_type": "stream",
     "text": [
      "Санкт-Петербург      10666\n",
      "посёлок Мурино         473\n",
      "посёлок Шушары         376\n",
      "Всеволожск             298\n",
      "Колпино                285\n",
      "посёлок Парголово      281\n",
      "деревня Кудрово        263\n",
      "Пушкин                 254\n",
      "Гатчина                237\n",
      "Выборг                 184\n",
      "Name: locality_name, dtype: int64\n"
     ]
    },
    {
     "data": {
      "text/html": [
       "<div>\n",
       "<style scoped>\n",
       "    .dataframe tbody tr th:only-of-type {\n",
       "        vertical-align: middle;\n",
       "    }\n",
       "\n",
       "    .dataframe tbody tr th {\n",
       "        vertical-align: top;\n",
       "    }\n",
       "\n",
       "    .dataframe thead th {\n",
       "        text-align: right;\n",
       "    }\n",
       "</style>\n",
       "<table border=\"1\" class=\"dataframe\">\n",
       "  <thead>\n",
       "    <tr style=\"text-align: right;\">\n",
       "      <th></th>\n",
       "      <th>total_images</th>\n",
       "      <th>last_price</th>\n",
       "      <th>total_area</th>\n",
       "      <th>first_day_exposition</th>\n",
       "      <th>rooms</th>\n",
       "      <th>ceiling_height</th>\n",
       "      <th>floors_total</th>\n",
       "      <th>living_area</th>\n",
       "      <th>floor</th>\n",
       "      <th>is_apartment</th>\n",
       "      <th>...</th>\n",
       "      <th>ponds_around3000</th>\n",
       "      <th>ponds_nearest</th>\n",
       "      <th>days_exposition</th>\n",
       "      <th>price_m</th>\n",
       "      <th>month_fdes</th>\n",
       "      <th>year_fde</th>\n",
       "      <th>weekday</th>\n",
       "      <th>living_share</th>\n",
       "      <th>kitchen_share</th>\n",
       "      <th>floor_type</th>\n",
       "    </tr>\n",
       "  </thead>\n",
       "  <tbody>\n",
       "    <tr>\n",
       "      <td>1</td>\n",
       "      <td>7</td>\n",
       "      <td>3350000.0</td>\n",
       "      <td>40.40</td>\n",
       "      <td>2018-12-04</td>\n",
       "      <td>1</td>\n",
       "      <td>2.64</td>\n",
       "      <td>11</td>\n",
       "      <td>18.60</td>\n",
       "      <td>1</td>\n",
       "      <td>False</td>\n",
       "      <td>...</td>\n",
       "      <td>0</td>\n",
       "      <td>NaN</td>\n",
       "      <td>81.0</td>\n",
       "      <td>82920.792079</td>\n",
       "      <td>12</td>\n",
       "      <td>2018</td>\n",
       "      <td>1</td>\n",
       "      <td>0.460396</td>\n",
       "      <td>0.272277</td>\n",
       "      <td>первый</td>\n",
       "    </tr>\n",
       "    <tr>\n",
       "      <td>4</td>\n",
       "      <td>2</td>\n",
       "      <td>10000000.0</td>\n",
       "      <td>100.00</td>\n",
       "      <td>2018-06-19</td>\n",
       "      <td>2</td>\n",
       "      <td>3.03</td>\n",
       "      <td>14</td>\n",
       "      <td>32.00</td>\n",
       "      <td>13</td>\n",
       "      <td>False</td>\n",
       "      <td>...</td>\n",
       "      <td>1</td>\n",
       "      <td>48.0</td>\n",
       "      <td>121.0</td>\n",
       "      <td>100000.000000</td>\n",
       "      <td>6</td>\n",
       "      <td>2018</td>\n",
       "      <td>1</td>\n",
       "      <td>0.320000</td>\n",
       "      <td>0.410000</td>\n",
       "      <td>другой</td>\n",
       "    </tr>\n",
       "    <tr>\n",
       "      <td>6</td>\n",
       "      <td>6</td>\n",
       "      <td>3700000.0</td>\n",
       "      <td>37.30</td>\n",
       "      <td>2017-11-02</td>\n",
       "      <td>1</td>\n",
       "      <td>2.64</td>\n",
       "      <td>26</td>\n",
       "      <td>10.60</td>\n",
       "      <td>6</td>\n",
       "      <td>False</td>\n",
       "      <td>...</td>\n",
       "      <td>0</td>\n",
       "      <td>NaN</td>\n",
       "      <td>155.0</td>\n",
       "      <td>99195.710456</td>\n",
       "      <td>11</td>\n",
       "      <td>2017</td>\n",
       "      <td>3</td>\n",
       "      <td>0.284182</td>\n",
       "      <td>0.386059</td>\n",
       "      <td>другой</td>\n",
       "    </tr>\n",
       "    <tr>\n",
       "      <td>8</td>\n",
       "      <td>20</td>\n",
       "      <td>2900000.0</td>\n",
       "      <td>33.16</td>\n",
       "      <td>2018-05-23</td>\n",
       "      <td>1</td>\n",
       "      <td>2.64</td>\n",
       "      <td>27</td>\n",
       "      <td>15.43</td>\n",
       "      <td>26</td>\n",
       "      <td>False</td>\n",
       "      <td>...</td>\n",
       "      <td>0</td>\n",
       "      <td>NaN</td>\n",
       "      <td>189.0</td>\n",
       "      <td>87454.764777</td>\n",
       "      <td>5</td>\n",
       "      <td>2018</td>\n",
       "      <td>2</td>\n",
       "      <td>0.465320</td>\n",
       "      <td>0.265682</td>\n",
       "      <td>другой</td>\n",
       "    </tr>\n",
       "    <tr>\n",
       "      <td>9</td>\n",
       "      <td>18</td>\n",
       "      <td>5400000.0</td>\n",
       "      <td>61.00</td>\n",
       "      <td>2017-02-26</td>\n",
       "      <td>3</td>\n",
       "      <td>2.50</td>\n",
       "      <td>9</td>\n",
       "      <td>43.60</td>\n",
       "      <td>7</td>\n",
       "      <td>False</td>\n",
       "      <td>...</td>\n",
       "      <td>0</td>\n",
       "      <td>NaN</td>\n",
       "      <td>289.0</td>\n",
       "      <td>88524.590164</td>\n",
       "      <td>2</td>\n",
       "      <td>2017</td>\n",
       "      <td>6</td>\n",
       "      <td>0.714754</td>\n",
       "      <td>0.106557</td>\n",
       "      <td>другой</td>\n",
       "    </tr>\n",
       "  </tbody>\n",
       "</table>\n",
       "<p>5 rows × 29 columns</p>\n",
       "</div>"
      ],
      "text/plain": [
       "   total_images  last_price  total_area first_day_exposition  rooms  \\\n",
       "1             7   3350000.0       40.40           2018-12-04      1   \n",
       "4             2  10000000.0      100.00           2018-06-19      2   \n",
       "6             6   3700000.0       37.30           2017-11-02      1   \n",
       "8            20   2900000.0       33.16           2018-05-23      1   \n",
       "9            18   5400000.0       61.00           2017-02-26      3   \n",
       "\n",
       "   ceiling_height  floors_total  living_area  floor  is_apartment  ...  \\\n",
       "1            2.64            11        18.60      1         False  ...   \n",
       "4            3.03            14        32.00     13         False  ...   \n",
       "6            2.64            26        10.60      6         False  ...   \n",
       "8            2.64            27        15.43     26         False  ...   \n",
       "9            2.50             9        43.60      7         False  ...   \n",
       "\n",
       "   ponds_around3000  ponds_nearest  days_exposition        price_m month_fdes  \\\n",
       "1                 0            NaN             81.0   82920.792079         12   \n",
       "4                 1           48.0            121.0  100000.000000          6   \n",
       "6                 0            NaN            155.0   99195.710456         11   \n",
       "8                 0            NaN            189.0   87454.764777          5   \n",
       "9                 0            NaN            289.0   88524.590164          2   \n",
       "\n",
       "   year_fde  weekday  living_share  kitchen_share  floor_type  \n",
       "1      2018        1      0.460396       0.272277      первый  \n",
       "4      2018        1      0.320000       0.410000      другой  \n",
       "6      2017        3      0.284182       0.386059      другой  \n",
       "8      2018        2      0.465320       0.265682      другой  \n",
       "9      2017        6      0.714754       0.106557      другой  \n",
       "\n",
       "[5 rows x 29 columns]"
      ]
     },
     "execution_count": 87,
     "metadata": {},
     "output_type": "execute_result"
    }
   ],
   "source": [
    "top_towns = data['locality_name'].value_counts().head(10)# выбор 10 населенных пунктов с наибольшим числом объявлений\n",
    "print(top_towns)\n",
    "data_top_towns = data.query('locality_name in @top_towns.index') # срез общей таблицы по указанным 10 населенным пунктам\n",
    "data_top_towns.head()"
   ]
  },
  {
   "cell_type": "markdown",
   "metadata": {},
   "source": [
    "Выделяем 10 населенных пунктов с наибольшим количеством объявлений методом value_counts. Делаем срез общей таблицы по указанным 10 населенным пунктам. Проверяем результат."
   ]
  },
  {
   "cell_type": "code",
   "execution_count": 84,
   "metadata": {},
   "outputs": [
    {
     "name": "stdout",
     "output_type": "stream",
     "text": [
      "                      mean_price\n",
      "locality_name                   \n",
      "Выборг              57296.692593\n",
      "Всеволожск          66712.075330\n",
      "Гатчина             68340.187115\n",
      "Колпино             74582.000392\n",
      "посёлок Шушары      77814.248774\n",
      "посёлок Мурино      85977.210979\n",
      "посёлок Парголово   89265.788181\n",
      "деревня Кудрово     92602.833271\n",
      "Пушкин              99201.656424\n",
      "Санкт-Петербург    103858.549114\n"
     ]
    }
   ],
   "source": [
    "tt_price = data_top_towns.pivot_table(index='locality_name', values='price_m', aggfunc=['mean'])# расчет средней цены по населенным пунктам\n",
    "tt_price.columns = ['mean_price']\n",
    "tt_price = tt_price.sort_values(by = 'mean_price')# сортировка\n",
    "print(tt_price)"
   ]
  },
  {
   "cell_type": "markdown",
   "metadata": {},
   "source": [
    "Рассчитаем среднюю цену квадратного метра по 10 выделенным населенным пунктам с помощью сводной таблицы. Минимальная цена наблюдается в г. Выборг (58,3 т.р.), максимальная цена в г. Санкт-Петербург (105 т.р.)."
   ]
  },
  {
   "cell_type": "markdown",
   "metadata": {},
   "source": [
    "<font color=green>Здесь все верно."
   ]
  },
  {
   "cell_type": "code",
   "execution_count": 90,
   "metadata": {},
   "outputs": [
    {
     "name": "stderr",
     "output_type": "stream",
     "text": [
      "/opt/conda/lib/python3.7/site-packages/ipykernel_launcher.py:2: SettingWithCopyWarning: \n",
      "A value is trying to be set on a copy of a slice from a DataFrame.\n",
      "Try using .loc[row_indexer,col_indexer] = value instead\n",
      "\n",
      "See the caveats in the documentation: http://pandas.pydata.org/pandas-docs/stable/user_guide/indexing.html#returning-a-view-versus-a-copy\n",
      "  \n",
      "/opt/conda/lib/python3.7/site-packages/pandas/core/indexing.py:494: SettingWithCopyWarning: \n",
      "A value is trying to be set on a copy of a slice from a DataFrame.\n",
      "Try using .loc[row_indexer,col_indexer] = value instead\n",
      "\n",
      "See the caveats in the documentation: http://pandas.pydata.org/pandas-docs/stable/user_guide/indexing.html#returning-a-view-versus-a-copy\n",
      "  self.obj[item] = s\n"
     ]
    },
    {
     "data": {
      "text/html": [
       "<div>\n",
       "<style scoped>\n",
       "    .dataframe tbody tr th:only-of-type {\n",
       "        vertical-align: middle;\n",
       "    }\n",
       "\n",
       "    .dataframe tbody tr th {\n",
       "        vertical-align: top;\n",
       "    }\n",
       "\n",
       "    .dataframe thead th {\n",
       "        text-align: right;\n",
       "    }\n",
       "</style>\n",
       "<table border=\"1\" class=\"dataframe\">\n",
       "  <thead>\n",
       "    <tr style=\"text-align: right;\">\n",
       "      <th></th>\n",
       "      <th>locality_name</th>\n",
       "      <th>cc_km</th>\n",
       "    </tr>\n",
       "  </thead>\n",
       "  <tbody>\n",
       "    <tr>\n",
       "      <td>4</td>\n",
       "      <td>Санкт-Петербург</td>\n",
       "      <td>8.0</td>\n",
       "    </tr>\n",
       "    <tr>\n",
       "      <td>9</td>\n",
       "      <td>Санкт-Петербург</td>\n",
       "      <td>15.0</td>\n",
       "    </tr>\n",
       "    <tr>\n",
       "      <td>10</td>\n",
       "      <td>Санкт-Петербург</td>\n",
       "      <td>13.0</td>\n",
       "    </tr>\n",
       "    <tr>\n",
       "      <td>15</td>\n",
       "      <td>Санкт-Петербург</td>\n",
       "      <td>14.0</td>\n",
       "    </tr>\n",
       "    <tr>\n",
       "      <td>16</td>\n",
       "      <td>Санкт-Петербург</td>\n",
       "      <td>10.0</td>\n",
       "    </tr>\n",
       "  </tbody>\n",
       "</table>\n",
       "</div>"
      ],
      "text/plain": [
       "      locality_name  cc_km\n",
       "4   Санкт-Петербург    8.0\n",
       "9   Санкт-Петербург   15.0\n",
       "10  Санкт-Петербург   13.0\n",
       "15  Санкт-Петербург   14.0\n",
       "16  Санкт-Петербург   10.0"
      ]
     },
     "execution_count": 90,
     "metadata": {},
     "output_type": "execute_result"
    }
   ],
   "source": [
    "data_spb = data.query('locality_name == \"Санкт-Петербург\"')# выделяем квартиры в г. Санкт-Петербург\n",
    "data_spb['cc_km'] = data_spb['cityCenters_nearest']/1000 # расчет расстояния до центра в км\n",
    "data_spb.loc[data_spb['cc_km'].notnull(), 'cc_km'] = data_spb.loc[data_spb['cc_km'].notnull(), 'cc_km'].astype('int')# перевод переменной в целочисленную\n",
    "data_spb.loc[:,('locality_name', 'cc_km')].head()"
   ]
  },
  {
   "cell_type": "markdown",
   "metadata": {},
   "source": [
    "Выделяем объявления по г. Санкт-Петербург. Переводим расстояния квартиры от центра в километры в переменной cc_km. Делаем ее целочисленной. Проверяем."
   ]
  },
  {
   "cell_type": "code",
   "execution_count": 91,
   "metadata": {},
   "outputs": [
    {
     "data": {
      "text/plain": [
       "<matplotlib.axes._subplots.AxesSubplot at 0x7f8a12ec92d0>"
      ]
     },
     "execution_count": 91,
     "metadata": {},
     "output_type": "execute_result"
    },
    {
     "data": {
      "image/png": "[encoded data removed]",
      "text/plain": [
       "<Figure size 864x504 with 1 Axes>"
      ]
     },
     "metadata": {
      "needs_background": "light"
     },
     "output_type": "display_data"
    }
   ],
   "source": [
    "km_price = data_spb.pivot_table(index='cc_km', values='last_price', aggfunc=['mean'])# расчет средней цены по каждому км\n",
    "km_price.columns = ['km_mean_price']\n",
    "km_price.plot(y='km_mean_price', kind='bar', grid=True, figsize=[12,7])"
   ]
  },
  {
   "cell_type": "markdown",
   "metadata": {},
   "source": [
    "Рассчитаем среднюю цену квартиры по каждому километру. Построим график цен. Из графика видно, что наибольшее изменение цены наблюдается между 8 и 9 километрами от центра. Т.е центральная зона города ограничена 8 км от центра."
   ]
  },
  {
   "cell_type": "code",
   "execution_count": 92,
   "metadata": {},
   "outputs": [
    {
     "data": {
      "text/html": [
       "<div>\n",
       "<style scoped>\n",
       "    .dataframe tbody tr th:only-of-type {\n",
       "        vertical-align: middle;\n",
       "    }\n",
       "\n",
       "    .dataframe tbody tr th {\n",
       "        vertical-align: top;\n",
       "    }\n",
       "\n",
       "    .dataframe thead th {\n",
       "        text-align: right;\n",
       "    }\n",
       "</style>\n",
       "<table border=\"1\" class=\"dataframe\">\n",
       "  <thead>\n",
       "    <tr style=\"text-align: right;\">\n",
       "      <th></th>\n",
       "      <th>total_images</th>\n",
       "      <th>last_price</th>\n",
       "      <th>total_area</th>\n",
       "      <th>first_day_exposition</th>\n",
       "      <th>rooms</th>\n",
       "      <th>ceiling_height</th>\n",
       "      <th>floors_total</th>\n",
       "      <th>living_area</th>\n",
       "      <th>floor</th>\n",
       "      <th>is_apartment</th>\n",
       "      <th>...</th>\n",
       "      <th>ponds_nearest</th>\n",
       "      <th>days_exposition</th>\n",
       "      <th>price_m</th>\n",
       "      <th>month_fdes</th>\n",
       "      <th>year_fde</th>\n",
       "      <th>weekday</th>\n",
       "      <th>living_share</th>\n",
       "      <th>kitchen_share</th>\n",
       "      <th>floor_type</th>\n",
       "      <th>cc_km</th>\n",
       "    </tr>\n",
       "  </thead>\n",
       "  <tbody>\n",
       "    <tr>\n",
       "      <td>4</td>\n",
       "      <td>2</td>\n",
       "      <td>10000000.0</td>\n",
       "      <td>100.0</td>\n",
       "      <td>2018-06-19</td>\n",
       "      <td>2</td>\n",
       "      <td>3.03</td>\n",
       "      <td>14</td>\n",
       "      <td>32.0</td>\n",
       "      <td>13</td>\n",
       "      <td>False</td>\n",
       "      <td>...</td>\n",
       "      <td>48.0</td>\n",
       "      <td>121.0</td>\n",
       "      <td>100000.000000</td>\n",
       "      <td>6</td>\n",
       "      <td>2018</td>\n",
       "      <td>1</td>\n",
       "      <td>0.320000</td>\n",
       "      <td>0.410000</td>\n",
       "      <td>другой</td>\n",
       "      <td>8.0</td>\n",
       "    </tr>\n",
       "    <tr>\n",
       "      <td>24</td>\n",
       "      <td>8</td>\n",
       "      <td>6500000.0</td>\n",
       "      <td>97.2</td>\n",
       "      <td>2015-10-31</td>\n",
       "      <td>2</td>\n",
       "      <td>2.60</td>\n",
       "      <td>3</td>\n",
       "      <td>46.5</td>\n",
       "      <td>1</td>\n",
       "      <td>False</td>\n",
       "      <td>...</td>\n",
       "      <td>124.0</td>\n",
       "      <td>265.0</td>\n",
       "      <td>66872.427984</td>\n",
       "      <td>10</td>\n",
       "      <td>2015</td>\n",
       "      <td>5</td>\n",
       "      <td>0.478395</td>\n",
       "      <td>0.201646</td>\n",
       "      <td>первый</td>\n",
       "      <td>2.0</td>\n",
       "    </tr>\n",
       "    <tr>\n",
       "      <td>70</td>\n",
       "      <td>9</td>\n",
       "      <td>3400000.0</td>\n",
       "      <td>30.0</td>\n",
       "      <td>2018-09-05</td>\n",
       "      <td>1</td>\n",
       "      <td>2.64</td>\n",
       "      <td>5</td>\n",
       "      <td>16.0</td>\n",
       "      <td>1</td>\n",
       "      <td>False</td>\n",
       "      <td>...</td>\n",
       "      <td>NaN</td>\n",
       "      <td>14.0</td>\n",
       "      <td>113333.333333</td>\n",
       "      <td>9</td>\n",
       "      <td>2018</td>\n",
       "      <td>2</td>\n",
       "      <td>0.533333</td>\n",
       "      <td>0.233333</td>\n",
       "      <td>первый</td>\n",
       "      <td>8.0</td>\n",
       "    </tr>\n",
       "    <tr>\n",
       "      <td>94</td>\n",
       "      <td>3</td>\n",
       "      <td>3500000.0</td>\n",
       "      <td>29.5</td>\n",
       "      <td>2019-04-26</td>\n",
       "      <td>1</td>\n",
       "      <td>2.50</td>\n",
       "      <td>5</td>\n",
       "      <td>15.6</td>\n",
       "      <td>2</td>\n",
       "      <td>False</td>\n",
       "      <td>...</td>\n",
       "      <td>NaN</td>\n",
       "      <td>4.0</td>\n",
       "      <td>118644.067797</td>\n",
       "      <td>4</td>\n",
       "      <td>2019</td>\n",
       "      <td>4</td>\n",
       "      <td>0.528814</td>\n",
       "      <td>0.186441</td>\n",
       "      <td>другой</td>\n",
       "      <td>7.0</td>\n",
       "    </tr>\n",
       "    <tr>\n",
       "      <td>99</td>\n",
       "      <td>32</td>\n",
       "      <td>9600000.0</td>\n",
       "      <td>90.0</td>\n",
       "      <td>2017-09-26</td>\n",
       "      <td>4</td>\n",
       "      <td>2.80</td>\n",
       "      <td>5</td>\n",
       "      <td>67.0</td>\n",
       "      <td>2</td>\n",
       "      <td>False</td>\n",
       "      <td>...</td>\n",
       "      <td>NaN</td>\n",
       "      <td>104.0</td>\n",
       "      <td>106666.666667</td>\n",
       "      <td>9</td>\n",
       "      <td>2017</td>\n",
       "      <td>1</td>\n",
       "      <td>0.744444</td>\n",
       "      <td>0.088889</td>\n",
       "      <td>другой</td>\n",
       "      <td>2.0</td>\n",
       "    </tr>\n",
       "  </tbody>\n",
       "</table>\n",
       "<p>5 rows × 30 columns</p>\n",
       "</div>"
      ],
      "text/plain": [
       "    total_images  last_price  total_area first_day_exposition  rooms  \\\n",
       "4              2  10000000.0       100.0           2018-06-19      2   \n",
       "24             8   6500000.0        97.2           2015-10-31      2   \n",
       "70             9   3400000.0        30.0           2018-09-05      1   \n",
       "94             3   3500000.0        29.5           2019-04-26      1   \n",
       "99            32   9600000.0        90.0           2017-09-26      4   \n",
       "\n",
       "    ceiling_height  floors_total  living_area  floor  is_apartment  ...  \\\n",
       "4             3.03            14         32.0     13         False  ...   \n",
       "24            2.60             3         46.5      1         False  ...   \n",
       "70            2.64             5         16.0      1         False  ...   \n",
       "94            2.50             5         15.6      2         False  ...   \n",
       "99            2.80             5         67.0      2         False  ...   \n",
       "\n",
       "    ponds_nearest  days_exposition        price_m  month_fdes year_fde  \\\n",
       "4            48.0            121.0  100000.000000           6     2018   \n",
       "24          124.0            265.0   66872.427984          10     2015   \n",
       "70            NaN             14.0  113333.333333           9     2018   \n",
       "94            NaN              4.0  118644.067797           4     2019   \n",
       "99            NaN            104.0  106666.666667           9     2017   \n",
       "\n",
       "    weekday  living_share  kitchen_share  floor_type  cc_km  \n",
       "4         1      0.320000       0.410000      другой    8.0  \n",
       "24        5      0.478395       0.201646      первый    2.0  \n",
       "70        2      0.533333       0.233333      первый    8.0  \n",
       "94        4      0.528814       0.186441      другой    7.0  \n",
       "99        1      0.744444       0.088889      другой    2.0  \n",
       "\n",
       "[5 rows x 30 columns]"
      ]
     },
     "execution_count": 92,
     "metadata": {},
     "output_type": "execute_result"
    }
   ],
   "source": [
    "data_centr_spb = data_spb.query('cc_km <= 8')# выделяем квартиры в центе г. Санкт-Петербург\n",
    "data_centr_spb.head()"
   ]
  },
  {
   "cell_type": "markdown",
   "metadata": {},
   "source": [
    "Выделяем данные по центру г. Санкт-Петербург. Проверяем. "
   ]
  },
  {
   "cell_type": "code",
   "execution_count": 93,
   "metadata": {},
   "outputs": [
    {
     "name": "stdout",
     "output_type": "stream",
     "text": [
      "Данные по квартирам центра Санкт-Петербурга\n"
     ]
    },
    {
     "data": {
      "text/html": [
       "<div>\n",
       "<style scoped>\n",
       "    .dataframe tbody tr th:only-of-type {\n",
       "        vertical-align: middle;\n",
       "    }\n",
       "\n",
       "    .dataframe tbody tr th {\n",
       "        vertical-align: top;\n",
       "    }\n",
       "\n",
       "    .dataframe thead th {\n",
       "        text-align: right;\n",
       "    }\n",
       "</style>\n",
       "<table border=\"1\" class=\"dataframe\">\n",
       "  <thead>\n",
       "    <tr style=\"text-align: right;\">\n",
       "      <th></th>\n",
       "      <th>total_area</th>\n",
       "      <th>rooms</th>\n",
       "      <th>price_m</th>\n",
       "      <th>ceiling_height</th>\n",
       "    </tr>\n",
       "  </thead>\n",
       "  <tbody>\n",
       "    <tr>\n",
       "      <td>count</td>\n",
       "      <td>2065.000000</td>\n",
       "      <td>2065.000000</td>\n",
       "      <td>2065.000000</td>\n",
       "      <td>2065.000000</td>\n",
       "    </tr>\n",
       "    <tr>\n",
       "      <td>mean</td>\n",
       "      <td>59.832785</td>\n",
       "      <td>2.143826</td>\n",
       "      <td>114719.483901</td>\n",
       "      <td>2.821772</td>\n",
       "    </tr>\n",
       "    <tr>\n",
       "      <td>std</td>\n",
       "      <td>19.897786</td>\n",
       "      <td>0.911353</td>\n",
       "      <td>27741.552315</td>\n",
       "      <td>0.296534</td>\n",
       "    </tr>\n",
       "    <tr>\n",
       "      <td>min</td>\n",
       "      <td>12.000000</td>\n",
       "      <td>1.000000</td>\n",
       "      <td>17391.304348</td>\n",
       "      <td>2.400000</td>\n",
       "    </tr>\n",
       "    <tr>\n",
       "      <td>25%</td>\n",
       "      <td>44.500000</td>\n",
       "      <td>1.000000</td>\n",
       "      <td>94794.344473</td>\n",
       "      <td>2.600000</td>\n",
       "    </tr>\n",
       "    <tr>\n",
       "      <td>50%</td>\n",
       "      <td>57.800000</td>\n",
       "      <td>2.000000</td>\n",
       "      <td>109714.285714</td>\n",
       "      <td>2.680000</td>\n",
       "    </tr>\n",
       "    <tr>\n",
       "      <td>75%</td>\n",
       "      <td>74.000000</td>\n",
       "      <td>3.000000</td>\n",
       "      <td>131175.468484</td>\n",
       "      <td>3.000000</td>\n",
       "    </tr>\n",
       "    <tr>\n",
       "      <td>max</td>\n",
       "      <td>114.200000</td>\n",
       "      <td>6.000000</td>\n",
       "      <td>292307.692308</td>\n",
       "      <td>4.370000</td>\n",
       "    </tr>\n",
       "  </tbody>\n",
       "</table>\n",
       "</div>"
      ],
      "text/plain": [
       "        total_area        rooms        price_m  ceiling_height\n",
       "count  2065.000000  2065.000000    2065.000000     2065.000000\n",
       "mean     59.832785     2.143826  114719.483901        2.821772\n",
       "std      19.897786     0.911353   27741.552315        0.296534\n",
       "min      12.000000     1.000000   17391.304348        2.400000\n",
       "25%      44.500000     1.000000   94794.344473        2.600000\n",
       "50%      57.800000     2.000000  109714.285714        2.680000\n",
       "75%      74.000000     3.000000  131175.468484        3.000000\n",
       "max     114.200000     6.000000  292307.692308        4.370000"
      ]
     },
     "execution_count": 93,
     "metadata": {},
     "output_type": "execute_result"
    }
   ],
   "source": [
    "print('Данные по квартирам центра Санкт-Петербурга')\n",
    "data_centr_spb[['total_area', 'rooms', 'price_m', 'ceiling_height']].describe()\n"
   ]
  },
  {
   "cell_type": "code",
   "execution_count": 94,
   "metadata": {},
   "outputs": [
    {
     "name": "stdout",
     "output_type": "stream",
     "text": [
      "Данные по квартирам Санкт-Петербурга\n"
     ]
    },
    {
     "data": {
      "text/html": [
       "<div>\n",
       "<style scoped>\n",
       "    .dataframe tbody tr th:only-of-type {\n",
       "        vertical-align: middle;\n",
       "    }\n",
       "\n",
       "    .dataframe tbody tr th {\n",
       "        vertical-align: top;\n",
       "    }\n",
       "\n",
       "    .dataframe thead th {\n",
       "        text-align: right;\n",
       "    }\n",
       "</style>\n",
       "<table border=\"1\" class=\"dataframe\">\n",
       "  <thead>\n",
       "    <tr style=\"text-align: right;\">\n",
       "      <th></th>\n",
       "      <th>total_area</th>\n",
       "      <th>rooms</th>\n",
       "      <th>price_m</th>\n",
       "      <th>ceiling_height</th>\n",
       "    </tr>\n",
       "  </thead>\n",
       "  <tbody>\n",
       "    <tr>\n",
       "      <td>count</td>\n",
       "      <td>10666.000000</td>\n",
       "      <td>10666.000000</td>\n",
       "      <td>10666.000000</td>\n",
       "      <td>10666.000000</td>\n",
       "    </tr>\n",
       "    <tr>\n",
       "      <td>mean</td>\n",
       "      <td>52.360652</td>\n",
       "      <td>1.906994</td>\n",
       "      <td>103858.549114</td>\n",
       "      <td>2.672259</td>\n",
       "    </tr>\n",
       "    <tr>\n",
       "      <td>std</td>\n",
       "      <td>17.286606</td>\n",
       "      <td>0.872443</td>\n",
       "      <td>22031.934369</td>\n",
       "      <td>0.185894</td>\n",
       "    </tr>\n",
       "    <tr>\n",
       "      <td>min</td>\n",
       "      <td>12.000000</td>\n",
       "      <td>1.000000</td>\n",
       "      <td>111.834862</td>\n",
       "      <td>2.000000</td>\n",
       "    </tr>\n",
       "    <tr>\n",
       "      <td>25%</td>\n",
       "      <td>39.100000</td>\n",
       "      <td>1.000000</td>\n",
       "      <td>88888.888889</td>\n",
       "      <td>2.600000</td>\n",
       "    </tr>\n",
       "    <tr>\n",
       "      <td>50%</td>\n",
       "      <td>48.500000</td>\n",
       "      <td>2.000000</td>\n",
       "      <td>100728.599867</td>\n",
       "      <td>2.640000</td>\n",
       "    </tr>\n",
       "    <tr>\n",
       "      <td>75%</td>\n",
       "      <td>62.700000</td>\n",
       "      <td>3.000000</td>\n",
       "      <td>115384.615385</td>\n",
       "      <td>2.700000</td>\n",
       "    </tr>\n",
       "    <tr>\n",
       "      <td>max</td>\n",
       "      <td>114.200000</td>\n",
       "      <td>6.000000</td>\n",
       "      <td>312240.000000</td>\n",
       "      <td>4.700000</td>\n",
       "    </tr>\n",
       "  </tbody>\n",
       "</table>\n",
       "</div>"
      ],
      "text/plain": [
       "         total_area         rooms        price_m  ceiling_height\n",
       "count  10666.000000  10666.000000   10666.000000    10666.000000\n",
       "mean      52.360652      1.906994  103858.549114        2.672259\n",
       "std       17.286606      0.872443   22031.934369        0.185894\n",
       "min       12.000000      1.000000     111.834862        2.000000\n",
       "25%       39.100000      1.000000   88888.888889        2.600000\n",
       "50%       48.500000      2.000000  100728.599867        2.640000\n",
       "75%       62.700000      3.000000  115384.615385        2.700000\n",
       "max      114.200000      6.000000  312240.000000        4.700000"
      ]
     },
     "execution_count": 94,
     "metadata": {},
     "output_type": "execute_result"
    }
   ],
   "source": [
    "print('Данные по квартирам Санкт-Петербурга')\n",
    "data_spb[['total_area', 'rooms', 'price_m', 'ceiling_height']].describe()"
   ]
  },
  {
   "cell_type": "markdown",
   "metadata": {},
   "source": [
    "Сравним показатели квартир центра Санкт-Петербурга с показателями квартир всего Санкт-Петербурга. По всем средним показателям центр превосходит город: в центре больше средняя площадь квартир, больше комнат в квартирах, выше цена за квадратный метр, потолки также выше. Квантильные показатели из описательных статистик также выше у центра. Только по количеству комнат центр и город равны."
   ]
  },
  {
   "cell_type": "code",
   "execution_count": 95,
   "metadata": {},
   "outputs": [
    {
     "name": "stdout",
     "output_type": "stream",
     "text": [
      "Зависимость цены м2 от количества комнат в центре Санкт-Петербурга\n",
      "-0.5053592241157587\n"
     ]
    },
    {
     "data": {
      "image/png": "[encoded data removed]",
      "text/plain": [
       "<Figure size 432x288 with 1 Axes>"
      ]
     },
     "metadata": {
      "needs_background": "light"
     },
     "output_type": "display_data"
    }
   ],
   "source": [
    "print('Зависимость цены м2 от количества комнат в центре Санкт-Петербурга')\n",
    "data_centr_spb.plot(x='rooms', y='price_m', kind='scatter', grid=True)\n",
    "print(data_centr_spb['rooms'].corr(data['price_m']))"
   ]
  },
  {
   "cell_type": "code",
   "execution_count": 96,
   "metadata": {},
   "outputs": [
    {
     "name": "stdout",
     "output_type": "stream",
     "text": [
      "Зависимость цены м2 от количества комнат в Санкт-Петербурге\n",
      "-0.3947610399789981\n"
     ]
    },
    {
     "data": {
      "image/png": "[encoded data removed]",
      "text/plain": [
       "<Figure size 432x288 with 1 Axes>"
      ]
     },
     "metadata": {
      "needs_background": "light"
     },
     "output_type": "display_data"
    }
   ],
   "source": [
    "print('Зависимость цены м2 от количества комнат в Санкт-Петербурге')\n",
    "data_spb.plot(x='rooms', y='price_m', kind='scatter', grid=True)\n",
    "print(data_spb['rooms'].corr(data['price_m']))"
   ]
  },
  {
   "cell_type": "markdown",
   "metadata": {},
   "source": [
    "Сравним зависимость цены м2 от количества комнат в центре города с аналогичным показателем по всему городу. Для центра города характерна средняя обратная связь между ценой м2 и количеством комнат. Т.е. чем меньше комнат, тем выше цена м2. Для всего города связь также обратная, но существенно слабее, что, скорее всего обусловлено более разнородным качеством отделки квартир в городе по сравнению с центром. Как правило, в центре городов в России живут более богатые люди, чем на окраинах. Они могут себе позволить более дорогой ремонт, чем жители окраин."
   ]
  },
  {
   "cell_type": "code",
   "execution_count": 97,
   "metadata": {},
   "outputs": [
    {
     "name": "stdout",
     "output_type": "stream",
     "text": [
      "Зависимость цены м2 от типа этажа в центре Санкт-Петербурга\n"
     ]
    },
    {
     "data": {
      "text/plain": [
       "<matplotlib.axes._subplots.AxesSubplot at 0x7f8a13ac4d10>"
      ]
     },
     "execution_count": 97,
     "metadata": {},
     "output_type": "execute_result"
    },
    {
     "data": {
      "image/png": "[encoded data removed]",
      "text/plain": [
       "<Figure size 576x360 with 1 Axes>"
      ]
     },
     "metadata": {
      "needs_background": "light"
     },
     "output_type": "display_data"
    }
   ],
   "source": [
    "print('Зависимость цены м2 от типа этажа в центре Санкт-Петербурга')\n",
    "ft_price = data_centr_spb.pivot_table(index='floor_type', values='price_m', aggfunc='mean')\n",
    "ft_price.columns = ['fl_mean_price']\n",
    "ft_price.plot(y='fl_mean_price', kind='bar', grid=True, figsize=[8,5])"
   ]
  },
  {
   "cell_type": "code",
   "execution_count": 98,
   "metadata": {},
   "outputs": [
    {
     "name": "stdout",
     "output_type": "stream",
     "text": [
      "Зависимость цены м2 от типа этажа в Санкт-Петербурге\n"
     ]
    },
    {
     "data": {
      "text/plain": [
       "<matplotlib.axes._subplots.AxesSubplot at 0x7f8a12cdb350>"
      ]
     },
     "execution_count": 98,
     "metadata": {},
     "output_type": "execute_result"
    },
    {
     "data": {
      "image/png": "[encoded data removed]",
      "text/plain": [
       "<Figure size 576x360 with 1 Axes>"
      ]
     },
     "metadata": {
      "needs_background": "light"
     },
     "output_type": "display_data"
    }
   ],
   "source": [
    "print('Зависимость цены м2 от типа этажа в Санкт-Петербурге')\n",
    "ft_price = data_spb.pivot_table(index='floor_type', values='price_m', aggfunc='mean')\n",
    "ft_price.columns = ['fl_mean_price']\n",
    "ft_price.plot(y='fl_mean_price', kind='bar', grid=True, figsize=[8,5])"
   ]
  },
  {
   "cell_type": "markdown",
   "metadata": {},
   "source": [
    "Сравним зависимость цены м2 от типа этажа т в центре города с аналогичным показателем по всему городу. Для центра, как и для всего города характерна минимальная цена м2 квартиры первого этажа, увеличенная (по сравнению с 1-м этажом) цена м2 квартиры последнего этажа и максимальная цена м2 квартиры этажей со 2-го по предпоследний. Однако в центре города цены м2 квартир, находящихся на 1-м и последнем этажах, почти равны, а в городе - между ними есть разница. Скорее всего, в центре более благополучная криминогенная ситуация, чем на окраинах, поэтому выбор между первым и посленим этажами в центре равнозначен. На окраинах покупатели получают скидку за риск быть ограбленным, покупая квартиру на 1-м этаже."
   ]
  },
  {
   "cell_type": "code",
   "execution_count": 99,
   "metadata": {},
   "outputs": [
    {
     "name": "stdout",
     "output_type": "stream",
     "text": [
      "Зависимость цены м2 от удаленности от центра в центре Санкт-Петербурга\n",
      "-0.042517585803182115\n"
     ]
    },
    {
     "data": {
      "text/plain": [
       "<matplotlib.axes._subplots.AxesSubplot at 0x7f8a1396f110>"
      ]
     },
     "execution_count": 99,
     "metadata": {},
     "output_type": "execute_result"
    },
    {
     "data": {
      "image/png": "[encoded data removed]",
      "text/plain": [
       "<Figure size 864x504 with 1 Axes>"
      ]
     },
     "metadata": {
      "needs_background": "light"
     },
     "output_type": "display_data"
    }
   ],
   "source": [
    "print('Зависимость цены м2 от удаленности от центра в центре Санкт-Петербурга')\n",
    "print(data_centr_spb['cc_km'].corr(data['price_m']))\n",
    "km_price = data_centr_spb.pivot_table(index='cc_km', values='price_m', aggfunc=['mean'])# расчет средней цены по каждому км\n",
    "km_price.columns = ['km_mean_price']\n",
    "km_price.plot(y='km_mean_price', kind='bar', grid=True, figsize=[12,7])"
   ]
  },
  {
   "cell_type": "code",
   "execution_count": 100,
   "metadata": {},
   "outputs": [
    {
     "name": "stdout",
     "output_type": "stream",
     "text": [
      "Зависимость цены м2 от удаленности от центра в Санкт-Петербурге\n",
      "-0.2855968628537327\n"
     ]
    },
    {
     "data": {
      "text/plain": [
       "<matplotlib.axes._subplots.AxesSubplot at 0x7f8a13081190>"
      ]
     },
     "execution_count": 100,
     "metadata": {},
     "output_type": "execute_result"
    },
    {
     "data": {
      "image/png": "[encoded data removed]",
      "text/plain": [
       "<Figure size 864x504 with 1 Axes>"
      ]
     },
     "metadata": {
      "needs_background": "light"
     },
     "output_type": "display_data"
    }
   ],
   "source": [
    "print('Зависимость цены м2 от удаленности от центра в Санкт-Петербурге')\n",
    "print(data_spb['cc_km'].corr(data['price_m']))\n",
    "km_price = data_spb.pivot_table(index='cc_km', values='price_m', aggfunc=['mean'])# расчет средней цены по каждому км\n",
    "km_price.columns = ['km_mean_price']\n",
    "km_price.plot(y='km_mean_price', kind='bar', grid=True, figsize=[12,7])"
   ]
  },
  {
   "cell_type": "markdown",
   "metadata": {},
   "source": [
    "Сравним зависимость цены м2 от удаленности от центра в центре города с аналогичным показателем по всему городу. Для центра города характерно отсутствие связи между этими показателями, тогда как для всего города наблюдается слабая обратная связь, т.е. чем дальше от центра, тем ниже цена. Данная ситуация обусловлена тем, что для людей, живущих в центре, удаленность от центра не имеет такого значения, как для людей, живущих на окраинах, где каждый километр приближения к центру означает существенную прибавку к стоимости квартиры."
   ]
  },
  {
   "cell_type": "code",
   "execution_count": 103,
   "metadata": {},
   "outputs": [
    {
     "name": "stdout",
     "output_type": "stream",
     "text": [
      "Зависимость цены м2 от дня недели размещения объявления в центре Санкт-Петербурга\n"
     ]
    },
    {
     "data": {
      "text/plain": [
       "<matplotlib.axes._subplots.AxesSubplot at 0x7f8a13463490>"
      ]
     },
     "execution_count": 103,
     "metadata": {},
     "output_type": "execute_result"
    },
    {
     "data": {
      "image/png": "[encoded data removed]",
      "text/plain": [
       "<Figure size 864x504 with 1 Axes>"
      ]
     },
     "metadata": {
      "needs_background": "light"
     },
     "output_type": "display_data"
    }
   ],
   "source": [
    "print('Зависимость цены м2 от дня недели размещения объявления в центре Санкт-Петербурга')\n",
    "price_mean = data_centr_spb.pivot_table(index='weekday', values='price_m', aggfunc=['mean'])# расчет средней цены по дням недели\n",
    "price_mean.columns = ['mean_price']\n",
    "price_mean.plot(y='mean_price', kind='line', grid=True, figsize=[12,7])"
   ]
  },
  {
   "cell_type": "code",
   "execution_count": 104,
   "metadata": {},
   "outputs": [
    {
     "name": "stdout",
     "output_type": "stream",
     "text": [
      "Зависимость цены м2 от дня недели размещения объявления в Санкт-Петербурге\n"
     ]
    },
    {
     "data": {
      "text/plain": [
       "<matplotlib.axes._subplots.AxesSubplot at 0x7f8a126d4150>"
      ]
     },
     "execution_count": 104,
     "metadata": {},
     "output_type": "execute_result"
    },
    {
     "data": {
      "image/png": "[encoded data removed]",
      "text/plain": [
       "<Figure size 864x504 with 1 Axes>"
      ]
     },
     "metadata": {
      "needs_background": "light"
     },
     "output_type": "display_data"
    }
   ],
   "source": [
    "print('Зависимость цены м2 от дня недели размещения объявления в Санкт-Петербурге')\n",
    "price_mean = data_spb.pivot_table(index='weekday', values='price_m', aggfunc=['mean'])# расчет средней цены по дням недели\n",
    "price_mean.columns = ['mean_price']\n",
    "price_mean.plot(y='mean_price', kind='line', grid=True, figsize=[12,7])"
   ]
  },
  {
   "cell_type": "markdown",
   "metadata": {},
   "source": [
    "Сравним зависимость средней цены м2 от дня недели размещения объявления о продаже квартиры в центре города с аналогичным показателем по всему городу. Для центра города и для всего города характерно максимальное значение средней цены в объявлениях, размещенных в субботу. Минимальное значение средней цены м2 в центре наблюдается во вторник и пятницу, в городе - только во вторник."
   ]
  },
  {
   "cell_type": "code",
   "execution_count": 106,
   "metadata": {},
   "outputs": [
    {
     "name": "stdout",
     "output_type": "stream",
     "text": [
      "Зависимость цены м2 от месяца размещения объявления в центре Санкт-Петербурга\n"
     ]
    },
    {
     "data": {
      "text/plain": [
       "<matplotlib.axes._subplots.AxesSubplot at 0x7f8a13646c50>"
      ]
     },
     "execution_count": 106,
     "metadata": {},
     "output_type": "execute_result"
    },
    {
     "data": {
      "image/png": "[encoded data removed]",
      "text/plain": [
       "<Figure size 864x504 with 1 Axes>"
      ]
     },
     "metadata": {
      "needs_background": "light"
     },
     "output_type": "display_data"
    }
   ],
   "source": [
    "print('Зависимость цены м2 от месяца размещения объявления в центре Санкт-Петербурга')\n",
    "price_mean = data_centr_spb.pivot_table(index='month_fdes', values='price_m', aggfunc=['mean'])# расчет средней цены по дням недели\n",
    "price_mean.columns = ['mean_price']\n",
    "price_mean.plot(y='mean_price', kind='line', grid=True, figsize=[12,7])"
   ]
  },
  {
   "cell_type": "code",
   "execution_count": 105,
   "metadata": {},
   "outputs": [
    {
     "name": "stdout",
     "output_type": "stream",
     "text": [
      "Зависимость цены м2 от месяца размещения объявления в Санкт-Петербурге\n"
     ]
    },
    {
     "data": {
      "text/plain": [
       "<matplotlib.axes._subplots.AxesSubplot at 0x7f8a13584b50>"
      ]
     },
     "execution_count": 105,
     "metadata": {},
     "output_type": "execute_result"
    },
    {
     "data": {
      "image/png": "[encoded data removed]",
      "text/plain": [
       "<Figure size 864x504 with 1 Axes>"
      ]
     },
     "metadata": {
      "needs_background": "light"
     },
     "output_type": "display_data"
    }
   ],
   "source": [
    "print('Зависимость цены м2 от месяца размещения объявления в Санкт-Петербурге')\n",
    "price_mean = data_spb.pivot_table(index='month_fdes', values='price_m', aggfunc=['mean'])# расчет средней цены по дням недели\n",
    "price_mean.columns = ['mean_price']\n",
    "price_mean.plot(y='mean_price', kind='line', grid=True, figsize=[12,7])"
   ]
  },
  {
   "cell_type": "markdown",
   "metadata": {},
   "source": [
    "Сравним зависимость средней цены м2 от месяца размещения объявления о продаже квартиры в центре города с аналогичным показателем по всему городу. Для центра города характерна тенденция снижения цены по ходу года. Максимальная средняя цена наблюдается в марте, минимальная - в июне. \n",
    "Для всего города характерно отсутствие выраженной тенденции. Максимальное значение средней цены наблюдается в январе, минимальное значение - в октябре.\n",
    "Вместе с тем, следует отметить, что колебания цены м2 происходят в достаточно узких диапазонах (10 т.р. для центра города и 3-4 т.р. для всего города)."
   ]
  },
  {
   "cell_type": "code",
   "execution_count": 107,
   "metadata": {},
   "outputs": [
    {
     "name": "stdout",
     "output_type": "stream",
     "text": [
      "Зависимость цены м2 от года размещения объявления в центре Санкт-Петербурга\n"
     ]
    },
    {
     "data": {
      "text/plain": [
       "<matplotlib.axes._subplots.AxesSubplot at 0x7f8a13d52410>"
      ]
     },
     "execution_count": 107,
     "metadata": {},
     "output_type": "execute_result"
    },
    {
     "data": {
      "image/png": "[encoded data removed]",
      "text/plain": [
       "<Figure size 864x504 with 1 Axes>"
      ]
     },
     "metadata": {
      "needs_background": "light"
     },
     "output_type": "display_data"
    }
   ],
   "source": [
    "print('Зависимость цены м2 от года размещения объявления в центре Санкт-Петербурга')\n",
    "price_mean = data_centr_spb.pivot_table(index='year_fde', values='price_m', aggfunc=['mean'])# расчет средней цены по дням недели\n",
    "price_mean.columns = ['mean_price']\n",
    "price_mean.plot(y='mean_price', kind='line', grid=True, figsize=[12,7])"
   ]
  },
  {
   "cell_type": "code",
   "execution_count": 108,
   "metadata": {},
   "outputs": [
    {
     "name": "stdout",
     "output_type": "stream",
     "text": [
      "Зависимость цены м2 от года размещения объявления в Санкт-Петербурге\n"
     ]
    },
    {
     "data": {
      "text/plain": [
       "<matplotlib.axes._subplots.AxesSubplot at 0x7f8a48168d50>"
      ]
     },
     "execution_count": 108,
     "metadata": {},
     "output_type": "execute_result"
    },
    {
     "data": {
      "image/png": "[encoded data removed]",
      "text/plain": [
       "<Figure size 864x504 with 1 Axes>"
      ]
     },
     "metadata": {
      "needs_background": "light"
     },
     "output_type": "display_data"
    }
   ],
   "source": [
    "print('Зависимость цены м2 от года размещения объявления в Санкт-Петербурге')\n",
    "price_mean = data_spb.pivot_table(index='year_fde', values='price_m', aggfunc=['mean'])# расчет средней цены по дням недели\n",
    "price_mean.columns = ['mean_price']\n",
    "price_mean.plot(y='mean_price', kind='line', grid=True, figsize=[12,7])"
   ]
  },
  {
   "cell_type": "markdown",
   "metadata": {},
   "source": [
    "Сравним зависимость средней цены м2 от года размещения объявления о продаже квартиры в центре города с аналогичным показателем по всему городу. Для центра города и для всего города характерна устойчивая тенденция роста цены м2 от года к году, что свидетельствует о том, что для населения жилая недвижимость не только место, где можно жить, но и один из самых привлекательных объектов для инвестиций. Зависимость цены м2 от года размещения объявления четко прослеживается."
   ]
  },
  {
   "cell_type": "markdown",
   "metadata": {},
   "source": [
    "### 5. Общий вывод"
   ]
  },
  {
   "cell_type": "markdown",
   "metadata": {},
   "source": [
    "На основе проведенного исследования можно сказать, что на цену квадратного метра в г. Санкт-Петербурге влияет количество комнат, удаленность от центра, этаж квартиры, а также год размещения объявления (месяц и день недели в существенно меньшей степени). Видимо, для полноты исследования не хватает данных, таких как состояние квартиры, качество отделки, состояние подъездов, криминогенная ситуация в районе, качество и стоимость коммунальных услуг и т.п. Т.е не учтена куча факторов, которые могут оказывать влияние на цену квартиры.  "
   ]
  }
 ],
 "metadata": {
  "kernelspec": {
   "display_name": "Python 3",
   "language": "python",
   "name": "python3"
  },
  "language_info": {
   "codemirror_mode": {
    "name": "ipython",
    "version": 3
   },
   "file_extension": ".py",
   "mimetype": "text/x-python",
   "name": "python",
   "nbconvert_exporter": "python",
   "pygments_lexer": "ipython3",
   "version": "3.8.3"
  }
 },
 "nbformat": 4,
 "nbformat_minor": 2
}
